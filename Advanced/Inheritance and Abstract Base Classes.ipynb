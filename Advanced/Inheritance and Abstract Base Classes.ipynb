{
 "cells": [
  {
   "cell_type": "markdown",
   "metadata": {},
   "source": [
    "# Inheritance and Abstract Base Classes\n",
    "\n",
    "## Overview\n",
    "\n",
    "### What You'll Learn\n",
    "In this section, you'll learn\n",
    "1. How to use Inheritance to make subclasses and save code\n",
    "2. Something about ABC's @Colin ############################################\n",
    "\n",
    "### Prerequisites\n",
    "Before starting this section, you should have an understanding of\n",
    "1. Basic OOP\n",
    "\n",
    "### Introduction\n",
    "Inheritance allows one class to take on another class's characteristics, while implementing its own behavior.\n",
    "\n",
    "@Colin something about ABCs ###########################################\n",
    "\n",
    "\n",
    "## Inheritance\n",
    "\n",
    "\n",
    "Let's say that `Animals` have `health` and `hunger` properties, and can `idle` and `eat`. Let's also add a method that prints out their current stats. Here's an example `Animal` class that one might implement:"
   ]
  },
  {
   "cell_type": "code",
   "execution_count": null,
   "metadata": {},
   "outputs": [],
   "source": [
    "class Animal:\n",
    "    def __init__(self, name, mass):\n",
    "        self.name = name\n",
    "        self.mass = mass\n",
    "        self.health = 100\n",
    "        self.hunger = 0\n",
    "    \n",
    "    def idle(self):\n",
    "        \"\"\"\n",
    "        When this animal stands around, it gets more hungry.\n",
    "        If it gets too hungry, it starts losing health.\n",
    "        \"\"\"\n",
    "        self.hunger += 1\n",
    "        if self.hunger >= 100:\n",
    "            self.health -= 1\n",
    "    \n",
    "    def eat(self, food):\n",
    "        \"\"\"\n",
    "        This animal loses hunger based on its food's mass\n",
    "        \"\"\"\n",
    "        self.hunger -= food.mass\n",
    "    \n",
    "    def stats(self):\n",
    "        print(\"Name:\", self.name)\n",
    "        print(\"Health:\", self.health)\n",
    "        print(\"Hunger:\", self.hunger)"
   ]
  },
  {
   "cell_type": "markdown",
   "metadata": {},
   "source": [
    "I can say I've never seen an `Animal` walking around. An `Animal` is abstract -- you never see a pure `Animal` in the wild, only things that _are_ `Animal`s. \n",
    "\n",
    "I've seen `Human` and `Deer`, though! Inheritance allows us to design `Human` and `Deer` as *sub-*classes of `Animal`, so that `Human` and `Deer` share common properties and behaviors of `Animals`.\n",
    "\n",
    "Everything that animals have in common should be implemented by `Animal`, while characteristics and behavior specific to humans and deer should be implemented in the `Human` and `Deer` classes, respectively.\n",
    "\n",
    "Here's the general layout of how to make a subclass inherit from a superclass:\n",
    "\n",
    "```python\n",
    "class <subclass>(<superclass>):\n",
    "    def __init__(self, <args>):\n",
    "        super().__init__(self, <super_args>)\n",
    "        # whatever code you'd like...\n",
    "    \n",
    "    # more methods, code, etc.\n",
    "```\n",
    "\n",
    "Let's make a `Human` with what we know now:"
   ]
  },
  {
   "cell_type": "code",
   "execution_count": null,
   "metadata": {},
   "outputs": [],
   "source": [
    "class Human(Animal):\n",
    "    def __init__(self, name, job):\n",
    "        super().__init__(name, 150) # We pass 150 as the default mass for Humans\n",
    "        self.job = job"
   ]
  },
  {
   "cell_type": "markdown",
   "metadata": {},
   "source": [
    "Cool! We've added a `job` property to the `Human`s that `Animals` don't have.\n",
    "\n",
    "Not all `Animals` can talk, but `Human`s can! Let's give our `Human` a `talk` method:"
   ]
  },
  {
   "cell_type": "code",
   "execution_count": null,
   "metadata": {},
   "outputs": [],
   "source": [
    "class Human(Animal):\n",
    "    def __init__(self, name, job):\n",
    "        super().__init__(name, 150) # We pass 150 as the default mass for Humans\n",
    "        self.job = job\n",
    "        \n",
    "    def talk(self):\n",
    "        print(self.name, \"says: Hello I'm a\", self.job)"
   ]
  },
  {
   "cell_type": "markdown",
   "metadata": {},
   "source": [
    "Currently, our `Human` does the vague default things that `Animal`s do while `idle`ing and `eat`ing. Let's make our `Human`'s `idle` behavior a bit more _human:_"
   ]
  },
  {
   "cell_type": "code",
   "execution_count": null,
   "metadata": {},
   "outputs": [],
   "source": [
    "class Human(Animal):\n",
    "    def __init__(self, name, job):\n",
    "        super().__init__(name, 150)  # We pass 150 as the default mass for Humans\n",
    "        self.job = job\n",
    "    \n",
    "    def talk(self):\n",
    "        print(self.name, \"says: Hello I'm a\", self.job)\n",
    "    \n",
    "    def idle(self):\n",
    "        print(\"Woohoo I'm doing\", self.job, \"things yay\")\n",
    "        self.hunger += 1\n",
    "        if self.hunger >= 100:\n",
    "            print(\"Ow my bones hurt ow oof ouch\")  # +1 points if you get the reference\n",
    "            self.health -= 1"
   ]
  },
  {
   "cell_type": "markdown",
   "metadata": {},
   "source": [
    "This process of overwriting a superclass method in a subclass is known as *overriding* a method.\n",
    "\n",
    "Let's create a `Human` and test him out against the `Animal` superclass:"
   ]
  },
  {
   "cell_type": "code",
   "execution_count": null,
   "metadata": {},
   "outputs": [],
   "source": [
    "tobias = Human(\"Tobias\", \"Cyberspace Operator\")\n",
    "tobias.stats()\n",
    "tobias.talk()\n",
    "tobias.idle()\n",
    "tobias.stats()\n",
    "print(\"\\n\")\n",
    "\n",
    "generic = Animal(\"Generic Animal Name\", 124)\n",
    "generic.stats()\n",
    "generic.idle()\n",
    "generic.stats()\n",
    "generic.eat(tobias)\n",
    "generic.stats()"
   ]
  },
  {
   "cell_type": "markdown",
   "metadata": {},
   "source": [
    "We've created a `Human` class, now lets create a `Deer` class.\n",
    "\n",
    "Because `Deer` are herbivores, we'll make it so that they can't eat anything that is a subclass of `Animal`! How can we check if an object is an instance of a given class? We can use the built-in `isinstance()` function. Here's the `isinstance()` function in action:"
   ]
  },
  {
   "cell_type": "code",
   "execution_count": null,
   "metadata": {},
   "outputs": [],
   "source": [
    "if isinstance(tobias, Animal):\n",
    "    print(tobias.name, \"is in fact an Animal\")\n",
    "    if isinstance(tobias, Human):\n",
    "        print(tobias.name, \"is actually a Human, too! How surprising.\")\n",
    "else:\n",
    "    print(\"idk what 'tobias' is but it's definitely not an animal\")"
   ]
  },
  {
   "cell_type": "markdown",
   "metadata": {},
   "source": [
    "Let's use this to write a `Deer` class with a custom `.eat()` method!"
   ]
  },
  {
   "cell_type": "code",
   "execution_count": null,
   "metadata": {},
   "outputs": [],
   "source": [
    "class Deer(Animal):\n",
    "    def __init__(self, name):\n",
    "        super().__init__(name, 200)\n",
    "    \n",
    "    def eat(self, food):\n",
    "        if isinstance(food, Animal):\n",
    "            print(self.name, \"says: Nah, that's not my thing.\")\n",
    "        else:\n",
    "            self.hunger -= food.mass"
   ]
  },
  {
   "cell_type": "markdown",
   "metadata": {},
   "source": [
    "### Exercises:\n",
    "\n",
    "Now that you know how to make subclasses, override methods, and check instance types, make a `TRex` class that can only eat `Animals`:"
   ]
  },
  {
   "cell_type": "code",
   "execution_count": null,
   "metadata": {},
   "outputs": [],
   "source": [
    "### YOUR CLASS HERE ###\n",
    "\n",
    "\n",
    "### Testing code below ###\n",
    "trex = TRex(\"Kron\")\n",
    "deer = Deer(\"Not Bambi\")\n",
    "trex.stats()\n",
    "before = trex.hunger\n",
    "trex.eat(deer)\n",
    "after = trex.hunger\n",
    "trex.stats()\n",
    "\n",
    "assert after - before >= 0, \"Test failed! Your TRex is still hungry!\"\n",
    "print(\"Yay! Ya did it.\")"
   ]
  },
  {
   "cell_type": "markdown",
   "metadata": {},
   "source": [
    "Write a `Plant` class so that we can make some food for the deer -- _remember,_ your `Plant` has to have a `mass` for an `Animal` to eat it! Make `mass` an input for your constructor. Also, I'm pretty sure plants don't have `name`s, so don't worry about that:"
   ]
  },
  {
   "cell_type": "code",
   "execution_count": null,
   "metadata": {},
   "outputs": [],
   "source": [
    "### YOUR CLASS HERE ###\n",
    "\n",
    "\n",
    "### Testing code below ###\n",
    "deer = Deer(\"Yet again not bambi\")\n",
    "plant = Plant(125)\n",
    "deer.stats()\n",
    "before = deer.hunger\n",
    "deer.eat(plant)\n",
    "deer.stats()\n",
    "after = deer.hunger\n",
    "assert after - before >= 0, \"Test failed! Your Plant didn't feed the deer!\"\n",
    "print(\"Yay! Nice plant\")"
   ]
  },
  {
   "cell_type": "markdown",
   "metadata": {},
   "source": [
    "Now, since we don't see `Plant`s in real life, make a `Lettuce` subclass:"
   ]
  },
  {
   "cell_type": "code",
   "execution_count": null,
   "metadata": {},
   "outputs": [],
   "source": [
    "### YOUR CLASS HERE ###\n",
    "\n",
    "\n",
    "### Testing code below ###\n",
    "deer = Deer(\"Also not Bambi but I'm gonna eat some lettuce\")\n",
    "lettuce = Lettuce()\n",
    "deer.stats()\n",
    "before = deer.hunger\n",
    "deer.eat(plant)\n",
    "deer.stats()\n",
    "after = deer.hunger\n",
    "\n",
    "assert after - before >= 0, \"Test failed! Your Lettuce didn't feed the deer!\"\n",
    "print(\"Yay! Nice plant\")"
   ]
  }
 ],
 "metadata": {
  "kernelspec": {
   "display_name": "Python 3",
   "language": "python",
   "name": "python3"
  },
  "language_info": {
   "codemirror_mode": {
    "name": "ipython",
    "version": 3
   },
   "file_extension": ".py",
   "mimetype": "text/x-python",
   "name": "python",
   "nbconvert_exporter": "python",
   "pygments_lexer": "ipython3",
   "version": "3.5.3"
  }
 },
 "nbformat": 4,
 "nbformat_minor": 2
}
