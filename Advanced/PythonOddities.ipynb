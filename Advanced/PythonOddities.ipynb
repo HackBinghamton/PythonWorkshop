{
 "cells": [
  {
   "cell_type": "markdown",
   "metadata": {},
   "source": [
    "# Python Oddities\n",
    "## is vs. ==\n",
    "When comparing two objects for truth, you should be careful when if you are deciding between using `is` and `==`. While both operators check for equality, the `==` checks for value equality, whereas `is` checks that they point to the same object. For example:\n",
    "\n"
   ]
  },
  {
   "cell_type": "code",
   "execution_count": null,
   "metadata": {},
   "outputs": [],
   "source": [
    "list_a = [1,2,3]\n",
    "list_b = [1,2,3]\n",
    "\n",
    "# list_a and list_b have equivalent values\n",
    "\n",
    "if list_a == list_b:\n",
    "    print(\"Using list_a == list_b, returns True\")\n",
    "\n",
    "if list_a is list_b:\n",
    "    print(\"Using list_a is list_b, returns False\") # This will not print"
   ]
  },
  {
   "cell_type": "markdown",
   "metadata": {},
   "source": [
    "Even though the two lists have equivalent values, only the `==` operator returns true because the `is` operator checks the memory location of the object. This can also cause problems when we compare things of different types. If you were comparing two different types, you might not expect an equality operator to return True. However, the `==` operator checks for *value* equality. For example,"
   ]
  },
  {
   "cell_type": "code",
   "execution_count": null,
   "metadata": {},
   "outputs": [],
   "source": [
    "val = 1\n",
    "\n",
    "if val == True:\n",
    "    print(\"This shouldn't print (using ==)\") \n",
    "    # But in terms of \"value equality\" 1 means True in Python\n",
    "    # And 0 means False\n",
    "\n",
    "if val is True:\n",
    "    print(\"This shouldn't print, either (using is)\")"
   ]
  },
  {
   "cell_type": "markdown",
   "metadata": {},
   "source": [
    "## Default arguments are static\n",
    "Be careful about modifying the default value of a function's argument. Although one might not expect such behavior, a default argument is a static value, meaning only one exists in memory. Thus, any change to the value is observed by all future function calls.\n",
    "\n",
    "Special thanks to [Thomas from Stackoverflow](https://stackoverflow.com/a/3228034) for the below examples:"
   ]
  },
  {
   "cell_type": "code",
   "execution_count": null,
   "metadata": {},
   "outputs": [],
   "source": [
    "def foo(bar = []):\n",
    "  bar.append(1)\n",
    "  print(bar)\n",
    "\n",
    "foo()\n",
    "foo()"
   ]
  },
  {
   "cell_type": "markdown",
   "metadata": {},
   "source": [
    "## Argument Passing\n",
    "Python uses pass-by-assignment as its object passing model. This means that each time we declare a variable, we bind the variable's name to the object it is assigned to. \n",
    "\n",
    "This causes some interesting behavior, especially if you're coming from a Java or C/C++ background.\n",
    "\n",
    "Let's see what happens when we run the following code:"
   ]
  },
  {
   "cell_type": "code",
   "execution_count": null,
   "metadata": {},
   "outputs": [],
   "source": [
    "def append_to_str(string, num):\n",
    "    string += str(num)\n",
    "    \n",
    "s = \"123\"\n",
    "append_to_str(s, \"4\")\n",
    "print(s)"
   ]
  },
  {
   "cell_type": "markdown",
   "metadata": {},
   "source": [
    "While you might have expected the function to append the parameter to the string, it returns the unmodified version. Since strings are *immutable*, they can't be directly modified when passed as arguments. The code above does the equivalent as the following code:"
   ]
  },
  {
   "cell_type": "code",
   "execution_count": null,
   "metadata": {},
   "outputs": [],
   "source": [
    "s = \"123\"\n",
    "s1 = s\n",
    "s1 += \"4\"\n",
    "print(s)"
   ]
  },
  {
   "cell_type": "markdown",
   "metadata": {},
   "source": [
    "If we want to use the \"changed\" value, we'd want to *return* it from the function like below:"
   ]
  },
  {
   "cell_type": "code",
   "execution_count": null,
   "metadata": {},
   "outputs": [],
   "source": [
    "def append_to_str(string, num):\n",
    "    string += str(num)\n",
    "    return string\n",
    "    \n",
    "s = \"123\"\n",
    "s = append_to_str(s, \"4\")\n",
    "print(s)"
   ]
  },
  {
   "cell_type": "markdown",
   "metadata": {},
   "source": [
    "On the otherhand, lists are *mutable*, so we can modify them through parameter passing. The following code appends an element to a list"
   ]
  },
  {
   "cell_type": "code",
   "execution_count": null,
   "metadata": {},
   "outputs": [],
   "source": [
    "def append_to_list(array, num):\n",
    "    array.append(num)\n",
    "    \n",
    "a = [1, 2, 3]\n",
    "append_to_list(a, 4)\n",
    "print(a)"
   ]
  },
  {
   "cell_type": "markdown",
   "metadata": {},
   "source": [
    "Dictionaries are also mutable!"
   ]
  },
  {
   "cell_type": "code",
   "execution_count": null,
   "metadata": {},
   "outputs": [],
   "source": [
    "def append_to_dict(dictionary, key, val):\n",
    "    dictionary[key] = val\n",
    "    \n",
    "d = {\"1\": 1, \"2\": 2, \"3\": 3}\n",
    "append_to_dict(d, \"4\", 4)\n",
    "print(d)"
   ]
  }
 ],
 "metadata": {
  "kernelspec": {
   "display_name": "Python 3",
   "language": "python",
   "name": "python3"
  },
  "language_info": {
   "codemirror_mode": {
    "name": "ipython",
    "version": 3
   },
   "file_extension": ".py",
   "mimetype": "text/x-python",
   "name": "python",
   "nbconvert_exporter": "python",
   "pygments_lexer": "ipython3",
   "version": "3.8.5"
  }
 },
 "nbformat": 4,
 "nbformat_minor": 2
}
