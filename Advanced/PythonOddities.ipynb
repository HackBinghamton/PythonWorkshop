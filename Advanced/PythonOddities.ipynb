{
 "cells": [
  {
   "cell_type": "markdown",
   "metadata": {},
   "source": [
    "# Python Oddities to be Mindful Of\n",
    "## is vs. ==\n",
    "When comparing two objects for truth, one should use `is` as opposed to `==`. This is because `==` only checks that the values are equivalent, whereas `is` checks that the values and their types are equivalent. For example:"
   ]
  },
  {
   "cell_type": "code",
   "execution_count": 1,
   "metadata": {},
   "outputs": [
    {
     "name": "stdout",
     "output_type": "stream",
     "text": [
      "This shouldn't print\n"
     ]
    }
   ],
   "source": [
    "val = 1.0\n",
    "\n",
    "if val == True:\n",
    "    print(\"This shouldn't print\")\n",
    "\n",
    "if val is True:\n",
    "    print(\"This shouldn't print, either\")"
   ]
  },
  {
   "cell_type": "markdown",
   "metadata": {},
   "source": [
    "## Default arguments are static\n",
    "Be careful about modifying the default value of a function's argument. Although one might not expect such behavior, a default argument is a static value, meaning only one exists in memory. Thus, any change to the value is observed by all future function calls.\n",
    "\n",
    "Special thanks to [Thomas from Stackoverflow](https://stackoverflow.com/a/3228034) for  "
   ]
  },
  {
   "cell_type": "code",
   "execution_count": 2,
   "metadata": {},
   "outputs": [
    {
     "name": "stdout",
     "output_type": "stream",
     "text": [
      "[1]\n",
      "[1, 1]\n"
     ]
    }
   ],
   "source": [
    "def foo(bar = []):\n",
    "  bar.append(1)\n",
    "  print(bar)\n",
    "\n",
    "foo()\n",
    "foo()"
   ]
  },
  {
   "cell_type": "code",
   "execution_count": null,
   "metadata": {},
   "outputs": [],
   "source": []
  }
 ],
 "metadata": {
  "kernelspec": {
   "display_name": "Python 3",
   "language": "python",
   "name": "python3"
  },
  "language_info": {
   "codemirror_mode": {
    "name": "ipython",
    "version": 3
   },
   "file_extension": ".py",
   "mimetype": "text/x-python",
   "name": "python",
   "nbconvert_exporter": "python",
   "pygments_lexer": "ipython3",
   "version": "3.6.8"
  }
 },
 "nbformat": 4,
 "nbformat_minor": 2
}
