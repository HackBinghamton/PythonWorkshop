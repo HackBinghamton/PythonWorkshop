{
 "cells": [
  {
   "cell_type": "markdown",
   "metadata": {},
   "source": [
    "# Python Oddities to be Mindful Of\n",
    "## is vs. ==\n",
    "When comparing two objects for truth, one should use `is` as opposed to `==`. This is because `==` only checks that the values are equivalent, whereas `is` checks that the values and their types are equivalent. For example:"
   ]
  },
  {
   "cell_type": "code",
   "execution_count": null,
   "metadata": {},
   "outputs": [],
   "source": [
    "val = 1.0\n",
    "\n",
    "if val == True:\n",
    "    print(\"This shouldn't print\")\n",
    "\n",
    "if val is True:\n",
    "    print(\"This shouldn't print, either\")"
   ]
  },
  {
   "cell_type": "markdown",
   "metadata": {},
   "source": [
    "## Default arguments are static\n",
    "Be careful about modifying the default value of a function's argument. Although one might not expect such behavior, a default argument is a static value, meaning only one exists in memory. Thus, any change to the value is observed by all future function calls.\n",
    "\n",
    "Special thanks to [Thomas from Stackoverflow](https://stackoverflow.com/a/3228034) for the below examples:"
   ]
  },
  {
   "cell_type": "code",
   "execution_count": null,
   "metadata": {},
   "outputs": [],
   "source": [
    "def foo(bar = []):\n",
    "  bar.append(1)\n",
    "  print(bar)\n",
    "\n",
    "foo()\n",
    "foo()"
   ]
  },
  {
   "cell_type": "markdown",
   "metadata": {},
   "source": [
    "## Argument Passing\n",
    "Python uses pass-by-assignment as its object passing model. This means that each time we declare a variable, we bind the variable's name to the object it is assigned to. \n",
    "\n",
    "This causes some interesting behavior, especially if you're coming from a Java or C/C++ background.\n",
    "\n",
    "Let's see what happens when we run the following code:"
   ]
  },
  {
   "cell_type": "code",
   "execution_count": 8,
   "metadata": {},
   "outputs": [
    {
     "name": "stdout",
     "output_type": "stream",
     "text": [
      "123\n"
     ]
    }
   ],
   "source": [
    "def append_to_str(string, num):\n",
    "    string += str(num)\n",
    "    \n",
    "s = \"123\"\n",
    "append_to_str(s, 4)\n",
    "print(s)"
   ]
  },
  {
   "cell_type": "code",
   "execution_count": null,
   "metadata": {},
   "outputs": [],
   "source": []
  },
  {
   "cell_type": "code",
   "execution_count": null,
   "metadata": {},
   "outputs": [],
   "source": [
    "x = [[1], 2, 3]\n",
    "y = x\n",
    "\n",
    "x.append(4)\n",
    "y.append(5)\n",
    "\n",
    "x[0].append(6)\n",
    "\n",
    "print(x)\n",
    "print(y)"
   ]
  },
  {
   "cell_type": "markdown",
   "metadata": {},
   "source": [
    "\n"
   ]
  },
  {
   "cell_type": "code",
   "execution_count": null,
   "metadata": {},
   "outputs": [],
   "source": [
    "def append_to_list(array, num):\n",
    "    array.append(num)\n",
    "    \n",
    "a = [1, 2, 3]\n",
    "append_to_list(a, 4)\n",
    "print(a)\n",
    "\n",
    "\n",
    "\n",
    "def append_to_dict(dictionary, key, val):\n",
    "    dictionary[key] = val\n",
    "    \n",
    "d = {\"1\": 1, \"2\": 2, \"3\": 3}\n",
    "append_to_dict(d, \"4\", 4)\n",
    "print(d)\n",
    "\n",
    "def update_class(obj):\n",
    "    obj.a = \"b\"\n",
    "\n",
    "class A:\n",
    "    def __init__(self, a):\n",
    "        self.a = a\n",
    "        \n",
    "obj = A(\"a\")\n",
    "print(obj.a)\n",
    "update_class(obj)\n",
    "print(obj.a)"
   ]
  },
  {
   "cell_type": "markdown",
   "metadata": {},
   "source": []
  },
  {
   "cell_type": "code",
   "execution_count": null,
   "metadata": {},
   "outputs": [],
   "source": []
  }
 ],
 "metadata": {
  "kernelspec": {
   "display_name": "Python 3",
   "language": "python",
   "name": "python3"
  },
  "language_info": {
   "codemirror_mode": {
    "name": "ipython",
    "version": 3
   },
   "file_extension": ".py",
   "mimetype": "text/x-python",
   "name": "python",
   "nbconvert_exporter": "python",
   "pygments_lexer": "ipython3",
   "version": "3.6.4rc1"
  }
 },
 "nbformat": 4,
 "nbformat_minor": 2
}
