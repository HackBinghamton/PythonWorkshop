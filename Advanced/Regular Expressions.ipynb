{
 "cells": [
  {
   "cell_type": "markdown",
   "metadata": {
    "id": "MDt1vjgY-gVt"
   },
   "source": [
    "# Regular Expressions (Regex Equations)\n",
    "\n",
    "## Overview\n",
    "\n",
    "### What you'll learn\n",
    "1. How to utilize regex to identify substrings inside strings\n",
    "\n",
    "### Prerequisites\n",
    "1. [Importing libraries](https://colab.research.google.com/github/HackBinghamton/PythonWorkshop/blob/master/Intro/Imports.ipynb#scrollTo=7sMuOgCmE5w4)\n",
    "2. [String manipulation](https://colab.research.google.com/github/HackBinghamton/PythonWorkshop/blob/master/Intermediate/StringManipulation.ipynb#scrollTo=o6gjn0TQHN6D)"
   ]
  },
  {
   "cell_type": "markdown",
   "metadata": {
    "id": "BLTcGJar-gVy"
   },
   "source": [
    "### Common Metacharacters\n",
    "\n",
    "`[]` holds characters you wish to match or complement.\n",
    "\n",
    "\n",
    "`^` indicates complement when the first character inside [].\n",
    "\n",
    "\n",
    "`.` will match anything except newline character.\n",
    "\n",
    "\n",
    "`*` - will match previous spec as many times as possible.\n",
    "\n",
    "\n",
    "`\\` dereferences metacharacters or invokes a set pattern, some of which follow."
   ]
  },
  {
   "cell_type": "markdown",
   "metadata": {
    "id": "R2LizMDf-gVy"
   },
   "source": [
    "\n",
    "### Set Patterns:\n",
    "\n",
    "`\\d` Matches any decimal digit; this is equivalent to the class [0-9].\n",
    "    \n",
    "    \n",
    "`\\D` Matches any non-digit character; this is equivalent to the class [^0-9].\n",
    "    \n",
    "    \n",
    "`\\s` Matches any whitespace character; this is equivalent to the class [ \\t\\n\\r\\f\\v].\n",
    "    \n",
    "    \n",
    "`\\S` Matches any non-whitespace character; this is equivalent to the class [^ \\t\\n\\r\\f\\v].\n",
    "    \n",
    "    \n",
    "`\\w` Matches any alphanumeric character; this is equivalent to the class [a-zA-Z0-9_].\n",
    "    \n",
    "    \n",
    "`\\W` Matches any non-alphanumeric character; this is equivalent to the class [^a-zA-Z0-9_]."
   ]
  },
  {
   "cell_type": "markdown",
   "metadata": {
    "id": "ifG3lGg_-gVz"
   },
   "source": [
    "### Important Regex Functions:\n",
    "\n",
    "After importing `re`, we set `rule` to `re.compile(‘re_here’)`, where `re_here` is a regex pattern.\n",
    "\n",
    "This should be set equal to a variable that will then hold the pattern.\n",
    "\n",
    "`my_pattern.match(string)` - will return the `match` object `my_pattern` matches or `None` if it is not at the beginning of the string\n",
    "\n",
    "`my_pattern.search(string)` - will return the `match` object `my_pattern` matches or `None` if it is not in the string\n",
    "\n",
    "`my_pattern.findall(string)` - will return all `match` objects `my_pattern` matches in a list"
   ]
  },
  {
   "cell_type": "markdown",
   "metadata": {
    "id": "AXXPw6tm-gVz"
   },
   "source": [
    "A `match` object is an object type that contains information about the match. `Match` objects always have a value `True`.\n",
    "On `match` objects we can call the functions `group()`, `start()`, and `end()`, to return the substring, and its starting and ending indexes respectively. An example is shown below:"
   ]
  },
  {
   "cell_type": "code",
   "execution_count": null,
   "metadata": {
    "id": "VQ5e8bTo-gVz"
   },
   "outputs": [],
   "source": [
    "import re\n",
    "rule = re.compile('[a-z]*')\n",
    "match = rule.match('kittens')\n",
    "print(match)\n",
    "print(match.group())"
   ]
  },
  {
   "cell_type": "markdown",
   "metadata": {
    "id": "xBtU3o0Z-gV0"
   },
   "source": [
    "### Exercises\n",
    "Now try to find if the string stored in `variable` has any substrings that contain a vowel followed by a number using a regex expression"
   ]
  },
  {
   "cell_type": "code",
   "execution_count": null,
   "metadata": {
    "id": "2uE9aWZP-gV1"
   },
   "outputs": [],
   "source": [
    "import re\n",
    "variable = \"gjfh8ohjewoiryu83hjfyh6uhjb7\"\n",
    "# Complete the code here."
   ]
  }
 ],
 "metadata": {
  "colab": {
   "name": "Regular Expressions.ipynb",
   "provenance": []
  },
  "kernelspec": {
   "display_name": "Python 3",
   "language": "python",
   "name": "python3"
  },
  "language_info": {
   "codemirror_mode": {
    "name": "ipython",
    "version": 3
   },
   "file_extension": ".py",
   "mimetype": "text/x-python",
   "name": "python",
   "nbconvert_exporter": "python",
   "pygments_lexer": "ipython3",
   "version": "3.8.5"
  }
 },
 "nbformat": 4,
 "nbformat_minor": 1
}
