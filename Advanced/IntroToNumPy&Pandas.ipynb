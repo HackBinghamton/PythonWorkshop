{
  "nbformat": 4,
  "nbformat_minor": 0,
  "metadata": {
    "colab": {
      "name": "IntroToNumPy&Pandas.ipynb",
      "version": "0.3.2",
      "provenance": []
    },
    "kernelspec": {
      "display_name": "Python 3",
      "language": "python",
      "name": "python3"
    },
    "language_info": {
      "codemirror_mode": {
        "name": "ipython",
        "version": 3
      },
      "file_extension": ".py",
      "mimetype": "text/x-python",
      "name": "python",
      "nbconvert_exporter": "python",
      "pygments_lexer": "ipython3",
      "version": "3.6.2"
    }
  },
  "cells": [
    {
      "cell_type": "markdown",
      "metadata": {
        "colab_type": "text",
        "id": "YZN1_U7NF_lg"
      },
      "source": [
        "# Intro To NumPy / Pandas"
      ]
    },
    {
      "cell_type": "markdown",
      "metadata": {
        "colab_type": "text",
        "id": "OqSPMxD4F_li"
      },
      "source": [
        "# What are NumPy and Pandas?\n",
        "\n",
        "**NumPy** and **Pandas** are Python libraries which provide computation and data analysis tools. In fact, NumPy and Pandas are some of the most widely used python libraries in data science.\n",
        "\n",
        "\n",
        "## Why are they useful?\n",
        "\n",
        "NumPy and Pandas have are considered to be essential Python libraries for any scientific computation, including model development for machine learning.\n",
        "\n",
        "**Machine learning** is the application of giving systems the ability to  learn and improve from experience, without being explicitly programmed. This allows programs to improve on how it handles a task by changing its process every time it runs, and moving towards changes that move them closer to a goal.\n",
        "\n",
        "Machine learning is useful for any applications that improve over time. This includes virtual personal assistants (Siri, Alexa, etc.), facial recognition, social media services, and search engine preferences."
      ]
    },
    {
      "cell_type": "markdown",
      "metadata": {
        "id": "INVLYLBIDB91",
        "colab_type": "text"
      },
      "source": [
        "# NumPy"
      ]
    },
    {
      "cell_type": "markdown",
      "metadata": {
        "colab_type": "text",
        "id": "pM4ePItyF_lj"
      },
      "source": [
        "## Further Look at NumPy\n",
        "\n",
        "**Numerical Python (NumPy)** is an open source module of Python which provides fast mathematical computation on arrays and matrices, which are an essential part of the machine learning."
      ]
    },
    {
      "cell_type": "markdown",
      "metadata": {
        "id": "qAhdXMoyDS2K",
        "colab_type": "text"
      },
      "source": [
        "## Importing\n",
        "We can import NumPy by typing:"
      ]
    },
    {
      "cell_type": "code",
      "metadata": {
        "id": "lWH4ajPLDKeh",
        "colab_type": "code",
        "colab": {}
      },
      "source": [
        "import numpy as np"
      ],
      "execution_count": 0,
      "outputs": []
    },
    {
      "cell_type": "markdown",
      "metadata": {
        "colab_type": "text",
        "id": "YG2hKdGppRIZ"
      },
      "source": [
        "## NumPy Arrays (ndarray)\n",
        "\n",
        "NumPy’s main object is a homogeneous multidimensional array, also called a **ndarray**. It is a table with same type elements, usually integers.\n",
        "\n",
        "In NumPy, dimensions are called ***axes***. The number of axes is called the ***rank***. There are multiple ways to create NumPy arrays, seen below:\n",
        "\n"
      ]
    },
    {
      "cell_type": "code",
      "metadata": {
        "id": "C2v_OLXJdEM6",
        "colab_type": "code",
        "colab": {
          "base_uri": "https://localhost:8080/",
          "height": 34
        },
        "outputId": "982c1d8a-9a10-4f8d-fa7e-ac4208e8c283"
      },
      "source": [
        "import numpy as np\n",
        "\n",
        "''' np.array '''\n",
        "\n",
        "a = np.array([1, 2, 3])\n",
        "type(a)"
      ],
      "execution_count": 12,
      "outputs": [
        {
          "output_type": "execute_result",
          "data": {
            "text/plain": [
              "numpy.ndarray"
            ]
          },
          "metadata": {
            "tags": []
          },
          "execution_count": 12
        }
      ]
    },
    {
      "cell_type": "code",
      "metadata": {
        "id": "n-pUq0WbR39K",
        "colab_type": "code",
        "colab": {
          "base_uri": "https://localhost:8080/",
          "height": 68
        },
        "outputId": "dcc2366f-9ea0-4a78-9bd0-87f09b642e3d"
      },
      "source": [
        "import numpy as np\n",
        "\n",
        "''' np.ones\t'''\n",
        "\n",
        "np.ones( (3,4), dtype=np.int16 )  "
      ],
      "execution_count": 4,
      "outputs": [
        {
          "output_type": "execute_result",
          "data": {
            "text/plain": [
              "array([[1, 1, 1, 1],\n",
              "       [1, 1, 1, 1],\n",
              "       [1, 1, 1, 1]], dtype=int16)"
            ]
          },
          "metadata": {
            "tags": []
          },
          "execution_count": 4
        }
      ]
    },
    {
      "cell_type": "code",
      "metadata": {
        "id": "dtjn7_aIR5RS",
        "colab_type": "code",
        "colab": {
          "base_uri": "https://localhost:8080/",
          "height": 68
        },
        "outputId": "2a0ed7a0-2d08-4080-f4ee-ca3aedb2b54c"
      },
      "source": [
        "import numpy as np\n",
        "\n",
        "''' np.full\t'''\n",
        "\n",
        "np.full( (3,4), 0.11 )  "
      ],
      "execution_count": 14,
      "outputs": [
        {
          "output_type": "execute_result",
          "data": {
            "text/plain": [
              "array([[0.11, 0.11, 0.11, 0.11],\n",
              "       [0.11, 0.11, 0.11, 0.11],\n",
              "       [0.11, 0.11, 0.11, 0.11]])"
            ]
          },
          "metadata": {
            "tags": []
          },
          "execution_count": 14
        }
      ]
    },
    {
      "cell_type": "code",
      "metadata": {
        "id": "X9wRzmhkR5fM",
        "colab_type": "code",
        "colab": {
          "base_uri": "https://localhost:8080/",
          "height": 34
        },
        "outputId": "358919e8-78b2-4c18-dbf8-3dfcf754a06a"
      },
      "source": [
        "import numpy as np\n",
        "\n",
        "''' np.arange\t'''\n",
        "\n",
        "np.arange( 10, 30, 5 )\n",
        "# array([10, 15, 20, 25])\n",
        " \n",
        "# un-comment this statement to see a floating point example\n",
        "# np.arange( 0, 2, 0.3 )             \n"
      ],
      "execution_count": 10,
      "outputs": [
        {
          "output_type": "execute_result",
          "data": {
            "text/plain": [
              "array([10, 15, 20, 25])"
            ]
          },
          "metadata": {
            "tags": []
          },
          "execution_count": 10
        }
      ]
    },
    {
      "cell_type": "code",
      "metadata": {
        "id": "1IrRfknoR5pb",
        "colab_type": "code",
        "colab": {
          "base_uri": "https://localhost:8080/",
          "height": 51
        },
        "outputId": "f86fa1f2-ac96-4496-9f75-028a7409551f"
      },
      "source": [
        "import numpy as np\n",
        "\n",
        "''' np.linspace\t'''\n",
        "\n",
        "np.linspace(0, 5/3, 6)"
      ],
      "execution_count": 7,
      "outputs": [
        {
          "output_type": "execute_result",
          "data": {
            "text/plain": [
              "array([0.        , 0.33333333, 0.66666667, 1.        , 1.33333333,\n",
              "       1.66666667])"
            ]
          },
          "metadata": {
            "tags": []
          },
          "execution_count": 7
        }
      ]
    },
    {
      "cell_type": "code",
      "metadata": {
        "id": "81-3d3uJSZ5r",
        "colab_type": "code",
        "colab": {
          "base_uri": "https://localhost:8080/",
          "height": 51
        },
        "outputId": "dff26cd9-5b92-435a-c804-bad481f3076f"
      },
      "source": [
        "import numpy as np\n",
        "\n",
        "''' np.random.rand(2,3) '''\n",
        "\n",
        "np.random.rand(2,3)"
      ],
      "execution_count": 8,
      "outputs": [
        {
          "output_type": "execute_result",
          "data": {
            "text/plain": [
              "array([[0.31506932, 0.819253  , 0.09879741],\n",
              "       [0.57947711, 0.8896572 , 0.63779976]])"
            ]
          },
          "metadata": {
            "tags": []
          },
          "execution_count": 8
        }
      ]
    },
    {
      "cell_type": "code",
      "metadata": {
        "id": "fzGOh6bASxwL",
        "colab_type": "code",
        "colab": {
          "base_uri": "https://localhost:8080/",
          "height": 51
        },
        "outputId": "84c2fbaf-11f7-4098-93f8-b5477a9bc1ea"
      },
      "source": [
        "import numpy as np\n",
        "\n",
        "''' np.empty((2,3))\t'''\n",
        "\n",
        "np.empty((2,3))"
      ],
      "execution_count": 9,
      "outputs": [
        {
          "output_type": "execute_result",
          "data": {
            "text/plain": [
              "array([[0.31506932, 0.819253  , 0.09879741],\n",
              "       [0.57947711, 0.8896572 , 0.63779976]])"
            ]
          },
          "metadata": {
            "tags": []
          },
          "execution_count": 9
        }
      ]
    },
    {
      "cell_type": "markdown",
      "metadata": {
        "id": "sJ5MKD6BNWJL",
        "colab_type": "text"
      },
      "source": [
        "### Array Attributes\n",
        "\n",
        "These are attributes of NumPy's array object that we can use:\n",
        "\n",
        "#### ndim\n",
        "\n",
        "displays the dimension of the array\n",
        " \n",
        "#### shape\n",
        "\n",
        "returns a tuple of integers indicating the size of the array\n",
        "\n",
        "#### size\n",
        "\n",
        "returns the total number of elements in the NumPy array\n",
        "\n",
        "#### dtype\n",
        "returns the type of elements in the array, i.e., int64, character\n",
        "\n",
        "#### itemsize\n",
        "\n",
        "returns the size in bytes of each item\n",
        "\n",
        "#### arange\n",
        "\n",
        "returns an ndarray of evenly spaced values\n",
        "\n",
        "#### reshape\n",
        "\n",
        "reshapes the NumPy array"
      ]
    },
    {
      "cell_type": "markdown",
      "metadata": {
        "id": "U5vKHdJ6Qv38",
        "colab_type": "text"
      },
      "source": [
        "### Array Differences\n",
        "\n",
        "Some ways in which NumPy arrays are different from normal Python arrays are:"
      ]
    },
    {
      "cell_type": "markdown",
      "metadata": {
        "id": "Rkbg11A9NP0D",
        "colab_type": "text"
      },
      "source": [
        "1. If you assign a single value to a ndarray slice, it is copied across the whole slice. This makes it easier to assign values because a regular array would need a loop to assign all of them."
      ]
    },
    {
      "cell_type": "code",
      "metadata": {
        "id": "ylemFxhRRoT0",
        "colab_type": "code",
        "colab": {
          "base_uri": "https://localhost:8080/",
          "height": 34
        },
        "outputId": "50dd795e-14fc-4287-9054-3d59efbf935c"
      },
      "source": [
        "import numpy as np\n",
        "\n",
        "a = np.array([1, 2, 5, 7, 8])\n",
        "a[1:3] = -1\n",
        "a"
      ],
      "execution_count": 15,
      "outputs": [
        {
          "output_type": "execute_result",
          "data": {
            "text/plain": [
              "array([ 1, -1, -1,  7,  8])"
            ]
          },
          "metadata": {
            "tags": []
          },
          "execution_count": 15
        }
      ]
    },
    {
      "cell_type": "markdown",
      "metadata": {
        "id": "qgupJr5QUD51",
        "colab_type": "text"
      },
      "source": [
        "2. ndarray slices are actually views on the same array the slice was taken from. If you modify the slice, you modify the original ndarray as well.\n"
      ]
    },
    {
      "cell_type": "code",
      "metadata": {
        "id": "einPaTVJUKFL",
        "colab_type": "code",
        "colab": {
          "base_uri": "https://localhost:8080/",
          "height": 34
        },
        "outputId": "fec43ca2-19e5-4f08-8bbc-717ba7888784"
      },
      "source": [
        "a = np.array([1, 2, 5, 7, 8])\n",
        "a_slice = a[1:5]\n",
        "a_slice[1] = 1000\n",
        "a\n",
        "# Original array was modified"
      ],
      "execution_count": 16,
      "outputs": [
        {
          "output_type": "execute_result",
          "data": {
            "text/plain": [
              "array([   1,    2, 1000,    7,    8])"
            ]
          },
          "metadata": {
            "tags": []
          },
          "execution_count": 16
        }
      ]
    },
    {
      "cell_type": "markdown",
      "metadata": {
        "id": "PIX3jeMzVREj",
        "colab_type": "text"
      },
      "source": [
        "> If we need a copy of the NumPy array, we need to use the copy method: another_slice = a[1:5].copy(). If we modify another_slice, 'a' remains same.\n",
        "\n"
      ]
    },
    {
      "cell_type": "code",
      "metadata": {
        "id": "3rl78c8bVZvm",
        "colab_type": "code",
        "colab": {
          "base_uri": "https://localhost:8080/",
          "height": 34
        },
        "outputId": "c2dd2514-1ba8-4717-af8b-ec4f2bda811a"
      },
      "source": [
        "import numpy as np\n",
        "\n",
        "a = np.array([1, 2, 5, 7, 8])\n",
        "another_slice = a[1:5].copy()\n",
        "another_slice[1] = 1000\n",
        "a\n",
        "# Original array was modified"
      ],
      "execution_count": 18,
      "outputs": [
        {
          "output_type": "execute_result",
          "data": {
            "text/plain": [
              "array([1, 2, 5, 7, 8])"
            ]
          },
          "metadata": {
            "tags": []
          },
          "execution_count": 18
        }
      ]
    },
    {
      "cell_type": "markdown",
      "metadata": {
        "id": "ymvAvUdCV5z9",
        "colab_type": "text"
      },
      "source": [
        "3. The way multidimensional arrays are accessed using NumPy is different from how they are accessed in normal python arrays. The generic format in NumPy multi-dimensional arrays is:\n",
        "\n",
        "```\n",
        "Array[row_start_index:row_end_index, column_start_index: column_end_index]\n",
        "```\n",
        "\n",
        "> NumPy arrays can also be accessed using boolean indexing:"
      ]
    },
    {
      "cell_type": "code",
      "metadata": {
        "colab_type": "code",
        "id": "ngeNmIgqpT82",
        "colab": {
          "base_uri": "https://localhost:8080/",
          "height": 68
        },
        "outputId": "766e8e09-477b-4095-fced-96af12f26768"
      },
      "source": [
        "import numpy as np\n",
        "\n",
        "a = np.arange(12).reshape(3, 4)\n",
        "print(a)"
      ],
      "execution_count": 25,
      "outputs": [
        {
          "output_type": "stream",
          "text": [
            "[[ 0  1  2  3]\n",
            " [ 4  5  6  7]\n",
            " [ 8  9 10 11]]\n"
          ],
          "name": "stdout"
        }
      ]
    },
    {
      "cell_type": "code",
      "metadata": {
        "id": "9BdI0xh1ZN3a",
        "colab_type": "code",
        "colab": {
          "base_uri": "https://localhost:8080/",
          "height": 51
        },
        "outputId": "68640007-9548-46aa-f1cd-64b023703144"
      },
      "source": [
        "import numpy as np\n",
        "\n",
        "a = np.arange(12).reshape(3, 4)\n",
        "\n",
        "rows_on = np.array([True, False, True])\n",
        "a[rows_on , : ]      # Rows 0 and 2, all columns"
      ],
      "execution_count": 21,
      "outputs": [
        {
          "output_type": "execute_result",
          "data": {
            "text/plain": [
              "array([[ 0,  1,  2,  3],\n",
              "       [ 8,  9, 10, 11]])"
            ]
          },
          "metadata": {
            "tags": []
          },
          "execution_count": 21
        }
      ]
    },
    {
      "cell_type": "markdown",
      "metadata": {
        "id": "cIF4WDQ-Znyy",
        "colab_type": "text"
      },
      "source": [
        "### Broadcasting\n",
        "\n",
        "In general, when NumPy expects arrays of the same shape but finds that this is not the case, it applies the **broadcasting** rules.\n",
        "\n",
        "[Here](https://cloudxlab.com/blog/wp-content/uploads/2017/12/Screen-Shot-2017-12-13-at-5.57.21-PM.png) are some examples of these broadcasting rules applied.\n",
        "\n",
        "There are 2 rules of Broadcasting to remember:\n",
        "\n",
        "1. For the arrays that do not have the same rank, then a 1 will be added to the beginning of the smaller ranking arrays until their ranks match.\n",
        "\n",
        ">>  Example: When adding arrays A and B of sizes (3,3) and (,3) [rank 2 and rank 1], 1 will be added to the beginning of array B to make it (1,3) [rank=2]. The two sets are compatible when their dimensions are equal or either one of the dimension is 1. \n",
        "\n",
        "2. When either of the dimensions compared is one, the other is used. In other words, dimensions with size 1 are stretched or “copied” to match the other.\n",
        "\n",
        ">>  Example: when adding a 2D array A of shape (3,3) to a 2D ndarray B of shape (1, 3). NumPy will apply the above rule of broadcasting. It shall stretch the array B and replicate the first row 3 times to make array B of dimensions (3,3) and perform the operation.\n",
        "\n"
      ]
    },
    {
      "cell_type": "markdown",
      "metadata": {
        "id": "D3KZ0lmqeSJv",
        "colab_type": "text"
      },
      "source": [
        "### Math with NumPy\n",
        "\n",
        "NumPy provides a layout for using math with the NumPy arrays.\n",
        "\n",
        "NumPy provides ***basic mathematical and statistical functions*** like mean, min, max, sum, prod, std, var, summation across different axes, transposing of a matrix, etc, while NumPy arrays themselves are capable of performing ***basic operations*** such as addition, subtraction, product, matrix dot product, division, modulo, exponents and conditional operations."
      ]
    },
    {
      "cell_type": "markdown",
      "metadata": {
        "id": "i5bRh0Ghf3zv",
        "colab_type": "text"
      },
      "source": [
        "NumPy is even able to solve linear equations. If we want to sofind the coefficients of:\n",
        "\n",
        "```\n",
        "2x + 6y = 6\n",
        "5x + 3y = -9\n",
        "```\n",
        "\n",
        "We can use ndarrays and built-in NumPy linear algebra functionality, like so:"
      ]
    },
    {
      "cell_type": "code",
      "metadata": {
        "id": "ETkP5tcJgV-a",
        "colab_type": "code",
        "colab": {
          "base_uri": "https://localhost:8080/",
          "height": 34
        },
        "outputId": "4f245124-6c75-4225-e950-7eea1d15a999"
      },
      "source": [
        "import numpy as np\n",
        "\n",
        "coeffs  = np.array([[2, 6], [5, 3]])\n",
        "depvars = np.array([6, -9])\n",
        "solution = np.linalg.solve(coeffs, depvars)\n",
        "solution"
      ],
      "execution_count": 29,
      "outputs": [
        {
          "output_type": "execute_result",
          "data": {
            "text/plain": [
              "array([-3.,  2.])"
            ]
          },
          "metadata": {
            "tags": []
          },
          "execution_count": 29
        }
      ]
    },
    {
      "cell_type": "markdown",
      "metadata": {
        "colab_type": "text",
        "id": "XDyEBLliF_ll"
      },
      "source": [
        "## Pandas\n",
        "\n",
        "### Further Look at Pandas\n",
        "\n",
        "**Pandas** provides high-performance, easy to use structures and data analysis tools. \n",
        "\n",
        "Pandas provides a 2D table object called **DataFrame**, which is like a spreadsheet with column names and row labels.\n",
        "\n",
        "With these 2D tables, Pandas is capable of functionality like creating pivot tables, computing columns based on other columns, and plotting graphs.\n",
        "\n",
        "\n"
      ]
    },
    {
      "cell_type": "markdown",
      "metadata": {
        "id": "ifE6QK9bj-uQ",
        "colab_type": "text"
      },
      "source": [
        "## Importing \n",
        "\n",
        "Pandas can be imported into Python using:"
      ]
    },
    {
      "cell_type": "code",
      "metadata": {
        "colab_type": "code",
        "id": "WYfo8AYFF_lm",
        "colab": {}
      },
      "source": [
        "import pandas as pd"
      ],
      "execution_count": 0,
      "outputs": []
    },
    {
      "cell_type": "markdown",
      "metadata": {
        "id": "FGWM1zpNkFwd",
        "colab_type": "text"
      },
      "source": [
        "## Objects\n",
        "\n",
        "#### ***Series*** objects\n",
        "* 1D array, similar to a column in a spreadsheet\n",
        "\n",
        "Pandas Series object is created with the *pd.Series* function. Each row is provided with an index and are assigned numerical values starting from 0. Like NumPy, Pandas also provide the basic mathematical functionalities like addition, subtraction and conditional operations and broadcasting.\n"
      ]
    },
    {
      "cell_type": "code",
      "metadata": {
        "id": "YynWXZzArdMT",
        "colab_type": "code",
        "colab": {
          "base_uri": "https://localhost:8080/",
          "height": 85
        },
        "outputId": "087a629a-ba6e-4df4-d9c7-a27f75b78673"
      },
      "source": [
        "import pandas as pd\n",
        "\n",
        "year_series = pd.Series([1984, 1985, 1992],\n",
        "                   index=[\"barbara\", \"alice\", \"charles\"],\n",
        "                   name=\"year\")\n",
        "year_series"
      ],
      "execution_count": 44,
      "outputs": [
        {
          "output_type": "execute_result",
          "data": {
            "text/plain": [
              "barbara    1984\n",
              "alice      1985\n",
              "charles    1992\n",
              "Name: year, dtype: int64"
            ]
          },
          "metadata": {
            "tags": []
          },
          "execution_count": 44
        }
      ]
    },
    {
      "cell_type": "markdown",
      "metadata": {
        "id": "fRJYWw2Vne_r",
        "colab_type": "text"
      },
      "source": [
        "#### ***DataFrame*** objects\n",
        "* 2D table, similar to a spreadsheet\n",
        "\n",
        "Pandas DataFrame object represents a spreadsheet with cell values, column names, and row index labels. DataFrame can be visualized as dictionaries of Series. Pandas also provide SQL-like functionality to filter, sort rows based on conditions."
      ]
    },
    {
      "cell_type": "markdown",
      "metadata": {
        "id": "Ql9VMGmsohZO",
        "colab_type": "text"
      },
      "source": [
        "Here is an example of a dictionary of Series objects used to create a DataFrame object and display as a spreadsheet:"
      ]
    },
    {
      "cell_type": "code",
      "metadata": {
        "id": "mVoaszO5nqaZ",
        "colab_type": "code",
        "colab": {
          "base_uri": "https://localhost:8080/",
          "height": 142
        },
        "outputId": "72e9c4c6-731a-43bf-96bd-a5d33211e1b2"
      },
      "source": [
        "import pandas as pd\n",
        "\n",
        "people_dict = { \"weight\": pd.Series([68, 83, 112],\n",
        "                                    index=[\"alice\", \"barbara\", \"charles\"]),\n",
        "               \"birthyear\": pd.Series([1984, 1985, 1992],\n",
        "                                      index=[\"barbara\", \"alice\", \"charles\"],\n",
        "                                      name=\"year\"),\n",
        "               \"children\": pd.Series([0, 3],\n",
        "                                     index=[\"charles\", \"barbara\"]),\n",
        "               \"hobby\": pd.Series([\"Biking\", \"Dancing\"],\n",
        "                                  index=[\"alice\", \"barbara\"]),}\n",
        "\n",
        "\n",
        "people = pd.DataFrame(people_dict)\n",
        "people\n",
        "\n",
        "\n",
        "# we can un-comment this line to filter the DataFrame to only display people\n",
        "# who were born before 1990\n",
        "\n",
        "# people[people[\"birthyear\"] < 1990]"
      ],
      "execution_count": 40,
      "outputs": [
        {
          "output_type": "execute_result",
          "data": {
            "text/html": [
              "<div>\n",
              "<style scoped>\n",
              "    .dataframe tbody tr th:only-of-type {\n",
              "        vertical-align: middle;\n",
              "    }\n",
              "\n",
              "    .dataframe tbody tr th {\n",
              "        vertical-align: top;\n",
              "    }\n",
              "\n",
              "    .dataframe thead th {\n",
              "        text-align: right;\n",
              "    }\n",
              "</style>\n",
              "<table border=\"1\" class=\"dataframe\">\n",
              "  <thead>\n",
              "    <tr style=\"text-align: right;\">\n",
              "      <th></th>\n",
              "      <th>weight</th>\n",
              "      <th>birthyear</th>\n",
              "      <th>children</th>\n",
              "      <th>hobby</th>\n",
              "    </tr>\n",
              "  </thead>\n",
              "  <tbody>\n",
              "    <tr>\n",
              "      <th>alice</th>\n",
              "      <td>68</td>\n",
              "      <td>1985</td>\n",
              "      <td>NaN</td>\n",
              "      <td>Biking</td>\n",
              "    </tr>\n",
              "    <tr>\n",
              "      <th>barbara</th>\n",
              "      <td>83</td>\n",
              "      <td>1984</td>\n",
              "      <td>3.0</td>\n",
              "      <td>Dancing</td>\n",
              "    </tr>\n",
              "    <tr>\n",
              "      <th>charles</th>\n",
              "      <td>112</td>\n",
              "      <td>1992</td>\n",
              "      <td>0.0</td>\n",
              "      <td>NaN</td>\n",
              "    </tr>\n",
              "  </tbody>\n",
              "</table>\n",
              "</div>"
            ],
            "text/plain": [
              "         weight  birthyear  children    hobby\n",
              "alice        68       1985       NaN   Biking\n",
              "barbara      83       1984       3.0  Dancing\n",
              "charles     112       1992       0.0      NaN"
            ]
          },
          "metadata": {
            "tags": []
          },
          "execution_count": 40
        }
      ]
    },
    {
      "cell_type": "markdown",
      "metadata": {
        "id": "1npjYQncni9C",
        "colab_type": "text"
      },
      "source": [
        "DataFrames can be sorted by a particular column and have new rows and columns added to it.\n",
        "Dataframes can also be easily exported and imported from CSV, Excel, JSON, HTML and SQL database.\n",
        "\n",
        "Some other essential methods that are present in dataframes are:\n",
        "\n",
        "* ***head()***: returns the top 5 rows in the dataframe object\n",
        "* ***tail()***: returns the bottom 5 rows in the dataframe\n",
        "* ***info()***: prints the summary of the dataframe\n",
        "* ***describe()***: gives a nice overview of the main aggregated values over each column"
      ]
    },
    {
      "cell_type": "markdown",
      "metadata": {
        "id": "wp2HyWbdudNb",
        "colab_type": "text"
      },
      "source": [
        "## Afterward\n",
        "\n",
        "NumPy and Pandas make matrix manipulation easy, which makes them very useful in machine learning model development. Other libraries often used with NumPy and Pandas, like **TensorFlow**, **Matplotlib**, and **Scikit-learn**, can help present these models created from the NumPy arrays and Pandas DataFrames."
      ]
    },
    {
      "cell_type": "markdown",
      "metadata": {
        "id": "9mVHL8Ekw1fl",
        "colab_type": "text"
      },
      "source": [
        "# Other Machine Learning Libraries\n",
        "\n",
        "## TensorFlow\n",
        "\n",
        "**TensorFlow** is a Python library for dataflow and differentiable programming using data flow graphs to build models, and is used for machine learning applications such as neural networks.\n",
        "\n",
        "https://www.tensorflow.org\n",
        "\n",
        "## Matplotlib\n",
        "\n",
        "**Matplotlib** is a plotting library for NumPy.\n",
        "The library provides an API for embedding plots into applications using general-purpose GUI toolkits like Tkinter.\n",
        "\n",
        "https://matplotlib.org\n",
        "\n",
        "## Scikit-learn\n",
        "\n",
        "**Scikit-learn** contains efficient tools for machine learning and statistical modeling through classification, regression, clustering and dimensionality reduction.\n",
        "\n",
        "https://scikit-learn.org/"
      ]
    }
  ]
}