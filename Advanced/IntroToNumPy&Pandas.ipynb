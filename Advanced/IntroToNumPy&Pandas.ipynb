{
  "nbformat": 4,
  "nbformat_minor": 0,
  "metadata": {
    "colab": {
      "name": "IntroToNumPy&Pandas.ipynb",
      "version": "0.3.2",
      "provenance": []
    },
    "kernelspec": {
      "display_name": "Python 3",
      "language": "python",
      "name": "python3"
    },
    "language_info": {
      "codemirror_mode": {
        "name": "ipython",
        "version": 3
      },
      "file_extension": ".py",
      "mimetype": "text/x-python",
      "name": "python",
      "nbconvert_exporter": "python",
      "pygments_lexer": "ipython3",
      "version": "3.6.2"
    }
  },
  "cells": [
    {
      "cell_type": "markdown",
      "metadata": {
        "colab_type": "text",
        "id": "YZN1_U7NF_lg"
      },
      "source": [
        "# Intro To NumPy / Pandas\n",
        "\n",
        "### What You'll Learn\n",
        "In this section, you'll learn\n",
        "1. ===TODO==="
      ]
    },
    {
      "cell_type": "markdown",
      "metadata": {
        "colab_type": "text",
        "id": "OqSPMxD4F_li"
      },
      "source": [
        "# What are NumPy and Pandas?\n",
        "\n",
        "**NumPy** and **Pandas** are Python libraries which provide computation and data analysis tools. In fact, NumPy and Pandas are some of the most widely used python libraries in data science.\n",
        "\n",
        "\n",
        "## Why are they useful?\n",
        "\n",
        "NumPy and Pandas have are considered to be essential Python libraries for any scientific computation, including machine learning.\n",
        "\n",
        "**Machine learning** is the application of giving systems the ability to  learn and improve from experience, without being explicitly programmed. This allows programs to improve on how it handles a task by changing its process every time it runs, and moving towards changes that move them closer to a goal.\n",
        "\n",
        "Machine learning is useful for any applications that improve over time. This includes virtual personal assistants (Siri, Alexa, etc.), facial recognition, social media services, and search engine preferences."
      ]
    },
    {
      "cell_type": "markdown",
      "metadata": {
        "colab_type": "text",
        "id": "pM4ePItyF_lj"
      },
      "source": [
        "## NumPy\n",
        "\n",
        "### Further Look at NumPy\n",
        "\n",
        "===TODO===\n",
        "\n",
        "### Title\n",
        "\n",
        "===TODO===\n",
        "\n"
      ]
    },
    {
      "cell_type": "markdown",
      "metadata": {
        "colab_type": "text",
        "id": "YG2hKdGppRIZ"
      },
      "source": [
        "### Code Example\n",
        "\n"
      ]
    },
    {
      "cell_type": "code",
      "metadata": {
        "colab_type": "code",
        "id": "ngeNmIgqpT82",
        "colab": {}
      },
      "source": [
        "===TODO==="
      ],
      "execution_count": 0,
      "outputs": []
    },
    {
      "cell_type": "markdown",
      "metadata": {
        "colab_type": "text",
        "id": "mNQTg_nlpSo_"
      },
      "source": [
        "### Code Example"
      ]
    },
    {
      "cell_type": "code",
      "metadata": {
        "colab_type": "code",
        "id": "B8RWMdExH0jw",
        "colab": {}
      },
      "source": [
        "===TODO==="
      ],
      "execution_count": 0,
      "outputs": []
    },
    {
      "cell_type": "markdown",
      "metadata": {
        "colab_type": "text",
        "id": "YrEkJKemF_lx"
      },
      "source": [
        "## Pandas"
      ]
    },
    {
      "cell_type": "code",
      "metadata": {
        "colab_type": "code",
        "id": "EL2N3t00F_ly",
        "colab": {}
      },
      "source": [
        "===TODO==="
      ],
      "execution_count": 0,
      "outputs": []
    },
    {
      "cell_type": "markdown",
      "metadata": {
        "colab_type": "text",
        "id": "XDyEBLliF_ll"
      },
      "source": [
        "## Pandas\n",
        "\n",
        "### Further Look at Pandas\n",
        "\n",
        "===TODO===\n",
        "\n",
        "### Title\n",
        "\n",
        "===TODO===\n",
        "\n",
        "\n"
      ]
    },
    {
      "cell_type": "code",
      "metadata": {
        "colab_type": "code",
        "id": "WYfo8AYFF_lm",
        "colab": {}
      },
      "source": [
        "===TODO===\n"
      ],
      "execution_count": 0,
      "outputs": []
    },
    {
      "cell_type": "markdown",
      "metadata": {
        "id": "9mVHL8Ekw1fl",
        "colab_type": "text"
      },
      "source": [
        "# Other Machine Learning Libraries\n",
        "\n",
        "## TensorFlow\n",
        "\n",
        "**Tensorflow** is a Python library for dataflow and differentiable programming using data flow graphs to build models, and is used for machine learning applications such as neural networks.\n",
        "\n",
        "https://www.tensorflow.org\n",
        "\n",
        "## Matplotlib\n",
        "\n",
        "**Matplotlib** is a plotting library for NumPy.\n",
        "The library provides an API for embedding plots into applications using general-purpose GUI toolkits like Tkinter.\n",
        "\n",
        "https://matplotlib.org\n",
        "\n",
        "## Scikit-learn\n",
        "\n",
        "**Scikit-learn** contains efficient tools for machine learning and statistical modeling through classification, regression, clustering and dimensionality reduction.\n",
        "\n",
        "https://scikit-learn.org/"
      ]
    }
  ]
}