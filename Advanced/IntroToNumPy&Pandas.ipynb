{
  "nbformat": 4,
  "nbformat_minor": 0,
  "metadata": {
    "colab": {
      "name": "IntroToNumPy&Pandas.ipynb",
      "provenance": []
    },
    "kernelspec": {
      "display_name": "Python 3",
      "language": "python",
      "name": "python3"
    },
    "language_info": {
      "codemirror_mode": {
        "name": "ipython",
        "version": 3
      },
      "file_extension": ".py",
      "mimetype": "text/x-python",
      "name": "python",
      "nbconvert_exporter": "python",
      "pygments_lexer": "ipython3",
      "version": "3.8.2"
    }
  },
  "cells": [
    {
      "cell_type": "markdown",
      "metadata": {
        "id": "YZN1_U7NF_lg"
      },
      "source": [
        "# Intro To NumPy / Pandas\n",
        "\n",
        "##Overview\n",
        "\n",
        "###What you'll learn\n",
        "1. The basics of using NumPy and Pandas for data analysis and computation.\n",
        "\n",
        "\n",
        "###Prerequisites\n",
        "1. Importing libraries\n",
        "2. Collections\n",
        "\n"
      ]
    },
    {
      "cell_type": "markdown",
      "metadata": {
        "id": "OqSPMxD4F_li"
      },
      "source": [
        "# What are NumPy and Pandas?\n",
        "\n",
        "**NumPy** and **Pandas** are Python libraries which provide computation and data analysis tools. In fact, NumPy and Pandas are some of the most widely used python libraries in data science.\n",
        "\n",
        "\n",
        "## Why are they useful?\n",
        "\n",
        "NumPy and Pandas are considered to be essential Python libraries for any scientific computation, including model development for machine learning.\n",
        "\n",
        "**Machine learning** is the application of giving systems the ability to  learn and improve from experience, without being explicitly programmed. This allows programs to improve on how it handles a task by changing its process every time it runs, and moving towards changes that move them closer to a goal.\n",
        "\n",
        "Machine learning is useful for any applications that improve over time. This includes virtual personal assistants (Siri, Alexa, etc.), facial recognition, social media services, and search engine preferences. If you're interested in learning more about machine learning or Alexa skills, check out the end of this section for links to some of our workshops!"
      ]
    },
    {
      "cell_type": "markdown",
      "metadata": {
        "id": "INVLYLBIDB91"
      },
      "source": [
        "# NumPy"
      ]
    },
    {
      "cell_type": "markdown",
      "metadata": {
        "id": "pM4ePItyF_lj"
      },
      "source": [
        "## Further Look at NumPy\n",
        "\n",
        "**Numerical Python (NumPy)** is an open source module of Python which provides fast mathematical computation on arrays and matrices, which are an essential part of the machine learning."
      ]
    },
    {
      "cell_type": "markdown",
      "metadata": {
        "id": "qAhdXMoyDS2K"
      },
      "source": [
        "## Importing\n",
        "We can import NumPy by typing:"
      ]
    },
    {
      "cell_type": "code",
      "metadata": {
        "id": "lWH4ajPLDKeh"
      },
      "source": [
        "import numpy as np"
      ],
      "execution_count": null,
      "outputs": []
    },
    {
      "cell_type": "markdown",
      "metadata": {
        "id": "YG2hKdGppRIZ"
      },
      "source": [
        "## NumPy Arrays (ndarray)\n",
        "\n",
        "NumPy’s main object is a homogeneous multidimensional array, also called a **ndarray**. It is a table with same type elements, usually integers.\n",
        "\n",
        "In NumPy, dimensions are called ***axes***. The number of axes is called the ***rank***. There are multiple ways to create NumPy arrays, seen below:\n",
        "\n"
      ]
    },
    {
      "cell_type": "code",
      "metadata": {
        "id": "C2v_OLXJdEM6"
      },
      "source": [
        "import numpy as np\n",
        "\n",
        "''' np.array creates a new array with the given values'''\n",
        "\n",
        "a = np.array([1, 2, 3])\n",
        "type(a)"
      ],
      "execution_count": null,
      "outputs": []
    },
    {
      "cell_type": "code",
      "metadata": {
        "id": "n-pUq0WbR39K"
      },
      "source": [
        "import numpy as np\n",
        "\n",
        "''' np.ones creates an array with all values set to 1'''\n",
        "\n",
        "np.ones( (3,4), dtype=np.int16 )  "
      ],
      "execution_count": null,
      "outputs": []
    },
    {
      "cell_type": "code",
      "metadata": {
        "id": "dtjn7_aIR5RS"
      },
      "source": [
        "import numpy as np\n",
        "\n",
        "''' np.full creates an array in the given shape with all values set to the given value'''\n",
        "\n",
        "np.full( (3,4), 0.11 )  "
      ],
      "execution_count": null,
      "outputs": []
    },
    {
      "cell_type": "code",
      "metadata": {
        "id": "X9wRzmhkR5fM"
      },
      "source": [
        "import numpy as np\n",
        "\n",
        "''' np.arange creates an array of evenly spaced values within a given interval'''\n",
        "\n",
        "np.arange( 10, 30, 5 )\n",
        "# array([10, 15, 20, 25])\n",
        " \n",
        "# uncomment the following line to see a floating point example\n",
        "# np.arange( 0, 2, 0.3 )             \n"
      ],
      "execution_count": null,
      "outputs": []
    },
    {
      "cell_type": "code",
      "metadata": {
        "id": "1IrRfknoR5pb"
      },
      "source": [
        "import numpy as np\n",
        "\n",
        "''' np.linspace creates an array of evenly spaced numbers over a specified interval with careful handling of endpoints'''\n",
        "\n",
        "np.linspace(0, 5/3, 6)"
      ],
      "execution_count": null,
      "outputs": []
    },
    {
      "cell_type": "code",
      "metadata": {
        "id": "81-3d3uJSZ5r"
      },
      "source": [
        "import numpy as np\n",
        "\n",
        "''' np.random.rand(2,3) creates a new array of the given shape with values between [0,1)'''\n",
        "\n",
        "np.random.rand(2,3)"
      ],
      "execution_count": null,
      "outputs": []
    },
    {
      "cell_type": "code",
      "metadata": {
        "id": "fzGOh6bASxwL"
      },
      "source": [
        "import numpy as np\n",
        "\n",
        "''' np.empty((2,3)) creates a new uninitialized array'''\n",
        "\n",
        "np.empty((2,3))"
      ],
      "execution_count": null,
      "outputs": []
    },
    {
      "cell_type": "markdown",
      "metadata": {
        "id": "sJ5MKD6BNWJL"
      },
      "source": [
        "### Array Attributes\n",
        "\n",
        "These are attributes of NumPy's array object that we can use:\n",
        "\n",
        "#### `ndim`\n",
        "\n",
        "displays the dimension of the array"
      ]
    },
    {
      "cell_type": "code",
      "metadata": {
        "colab": {
          "base_uri": "https://localhost:8080/"
        },
        "id": "z62lSN2uvFi9",
        "outputId": "ca185701-a981-4e47-c48c-4a451f739c90"
      },
      "source": [
        "import numpy as np\n",
        "\n",
        "a = np.array([1, 2, 3])\n",
        "np.ndim(a)\n"
      ],
      "execution_count": null,
      "outputs": [
        {
          "output_type": "execute_result",
          "data": {
            "text/plain": [
              "1"
            ]
          },
          "metadata": {
            "tags": []
          },
          "execution_count": 2
        }
      ]
    },
    {
      "cell_type": "code",
      "metadata": {
        "colab": {
          "base_uri": "https://localhost:8080/"
        },
        "id": "7o4bOGZ1w3ku",
        "outputId": "1255b730-d7f1-4c29-eee6-eec1112e440b"
      },
      "source": [
        "import numpy as np\n",
        "\n",
        "b = np.array([[1,2,3],[4,5,6],[7,8,9]])\n",
        "np.ndim(b)"
      ],
      "execution_count": null,
      "outputs": [
        {
          "output_type": "execute_result",
          "data": {
            "text/plain": [
              "2"
            ]
          },
          "metadata": {
            "tags": []
          },
          "execution_count": 3
        }
      ]
    },
    {
      "cell_type": "markdown",
      "metadata": {
        "id": "xgahRhp5vFi-"
      },
      "source": [
        "#### `shape`\n",
        "\n",
        "returns a tuple of integers indicating the size of the array"
      ]
    },
    {
      "cell_type": "code",
      "metadata": {
        "id": "iWK-1zBzvFi-",
        "outputId": "d6d22651-f6a6-4dca-dd21-6f3f747a4b0f"
      },
      "source": [
        "import numpy as np\n",
        "\n",
        "a = np.array([1, 2, 3])\n",
        "np.shape(a)"
      ],
      "execution_count": null,
      "outputs": [
        {
          "output_type": "execute_result",
          "data": {
            "text/plain": [
              "(3,)"
            ]
          },
          "metadata": {
            "tags": []
          },
          "execution_count": 4
        }
      ]
    },
    {
      "cell_type": "code",
      "metadata": {
        "colab": {
          "base_uri": "https://localhost:8080/"
        },
        "id": "FWm6nzoiw_xX",
        "outputId": "bc4f0d6d-05c6-4f93-c4ed-4708cc74f774"
      },
      "source": [
        "import numpy as np\n",
        "\n",
        "b = np.array([[1,2,3],[4,5,6],[7,8,9]])\n",
        "np.shape(b)"
      ],
      "execution_count": null,
      "outputs": [
        {
          "output_type": "execute_result",
          "data": {
            "text/plain": [
              "(3, 3)"
            ]
          },
          "metadata": {
            "tags": []
          },
          "execution_count": 4
        }
      ]
    },
    {
      "cell_type": "markdown",
      "metadata": {
        "id": "4vKUm-nsvFi-"
      },
      "source": [
        "#### `size`\n",
        "\n",
        "returns the total number of elements in the NumPy array"
      ]
    },
    {
      "cell_type": "code",
      "metadata": {
        "id": "GdzsDMKKvFi-",
        "outputId": "fab9d9c0-a9a1-4a81-b9ab-f9d8b1e60ee7"
      },
      "source": [
        "import numpy as np\n",
        "\n",
        "a = np.array([1, 2, 3])\n",
        "np.size(a)"
      ],
      "execution_count": null,
      "outputs": [
        {
          "output_type": "execute_result",
          "data": {
            "text/plain": [
              "3"
            ]
          },
          "metadata": {
            "tags": []
          },
          "execution_count": 6
        }
      ]
    },
    {
      "cell_type": "code",
      "metadata": {
        "colab": {
          "base_uri": "https://localhost:8080/"
        },
        "id": "a7HNuJH0xGJG",
        "outputId": "784048a9-3816-44f3-e5a5-d8e8a4351b99"
      },
      "source": [
        "import numpy as np\n",
        "\n",
        "b = np.array([[1,2,3],[4,5,6],[7,8,9]])\n",
        "np.size(b)"
      ],
      "execution_count": null,
      "outputs": [
        {
          "output_type": "execute_result",
          "data": {
            "text/plain": [
              "9"
            ]
          },
          "metadata": {
            "tags": []
          },
          "execution_count": 5
        }
      ]
    },
    {
      "cell_type": "markdown",
      "metadata": {
        "id": "oglliWllvFi-"
      },
      "source": [
        "#### `itemsize`\n",
        "\n",
        "returns the size in bytes of each item"
      ]
    },
    {
      "cell_type": "code",
      "metadata": {
        "id": "-YNp_HZ-vFi-",
        "outputId": "df9e7fef-a824-479a-a753-890b9d18bc90"
      },
      "source": [
        "import numpy as np\n",
        "\n",
        "a = np.array([1, 2, 3])\n",
        "a.itemsize"
      ],
      "execution_count": null,
      "outputs": [
        {
          "output_type": "execute_result",
          "data": {
            "text/plain": [
              "8"
            ]
          },
          "metadata": {
            "tags": []
          },
          "execution_count": 11
        }
      ]
    },
    {
      "cell_type": "code",
      "metadata": {
        "colab": {
          "base_uri": "https://localhost:8080/"
        },
        "id": "Dw9HmPKDxLNG",
        "outputId": "392b54d9-31ed-4b44-f242-8b4acb3f50b5"
      },
      "source": [
        "import numpy as np \n",
        "\n",
        "b = np.array([\"a\",\"b\",\"c\"])\n",
        "b.itemsize"
      ],
      "execution_count": null,
      "outputs": [
        {
          "output_type": "execute_result",
          "data": {
            "text/plain": [
              "4"
            ]
          },
          "metadata": {
            "tags": []
          },
          "execution_count": 9
        }
      ]
    },
    {
      "cell_type": "markdown",
      "metadata": {
        "id": "sRTH75sevFi_"
      },
      "source": [
        "#### `arange`\n",
        "\n",
        "returns an ndarray of evenly spaced values"
      ]
    },
    {
      "cell_type": "code",
      "metadata": {
        "colab": {
          "base_uri": "https://localhost:8080/"
        },
        "id": "OC_SldDPvFi_",
        "outputId": "770d8aeb-975e-4be6-859d-d683e5cdd0d6"
      },
      "source": [
        "import numpy as np\n",
        "\n",
        "np.arange(10)"
      ],
      "execution_count": null,
      "outputs": [
        {
          "output_type": "execute_result",
          "data": {
            "text/plain": [
              "array([0, 1, 2, 3, 4, 5, 6, 7, 8, 9])"
            ]
          },
          "metadata": {
            "tags": []
          },
          "execution_count": 10
        }
      ]
    },
    {
      "cell_type": "markdown",
      "metadata": {
        "id": "5aC9f7vdvFi_"
      },
      "source": [
        "#### `reshape`\n",
        "\n",
        "reshapes the NumPy array"
      ]
    },
    {
      "cell_type": "code",
      "metadata": {
        "colab": {
          "base_uri": "https://localhost:8080/"
        },
        "id": "zcZWUUTyvFi_",
        "outputId": "3baf3411-6ac7-4dd8-83cb-6c27f95eca53"
      },
      "source": [
        "import numpy as np\n",
        "\n",
        "a = np.array([[0, 1, 2],\n",
        "       [3, 4, 5]])\n",
        "print(\"before reshaping:\")\n",
        "print(a)\n",
        "print(\"after reshaping:\")\n",
        "a.reshape(3, 2)"
      ],
      "execution_count": null,
      "outputs": [
        {
          "output_type": "stream",
          "text": [
            "before reshaping:\n",
            "[[0 1 2]\n",
            " [3 4 5]]\n",
            "after reshaping:\n"
          ],
          "name": "stdout"
        },
        {
          "output_type": "execute_result",
          "data": {
            "text/plain": [
              "array([[0, 1],\n",
              "       [2, 3],\n",
              "       [4, 5]])"
            ]
          },
          "metadata": {
            "tags": []
          },
          "execution_count": 11
        }
      ]
    },
    {
      "cell_type": "markdown",
      "metadata": {
        "id": "U5vKHdJ6Qv38"
      },
      "source": [
        "### Array Differences\n",
        "\n",
        "Some ways in which NumPy arrays are different from normal Python arrays are:"
      ]
    },
    {
      "cell_type": "markdown",
      "metadata": {
        "id": "Rkbg11A9NP0D"
      },
      "source": [
        "1. If you assign a single value to a ndarray slice, it is copied across the whole slice. This makes it easier to assign values because a regular array would need a loop to assign all of them."
      ]
    },
    {
      "cell_type": "code",
      "metadata": {
        "colab": {
          "base_uri": "https://localhost:8080/"
        },
        "id": "ylemFxhRRoT0",
        "outputId": "5d8228e4-7741-42c9-8f87-e9940ba90b0f"
      },
      "source": [
        "import numpy as np\n",
        "\n",
        "a = np.array([1, 2, 5, 7, 8])\n",
        "a[1:3] = -1\n",
        "a"
      ],
      "execution_count": null,
      "outputs": [
        {
          "output_type": "execute_result",
          "data": {
            "text/plain": [
              "array([ 1, -1, -1,  7,  8])"
            ]
          },
          "metadata": {
            "tags": []
          },
          "execution_count": 12
        }
      ]
    },
    {
      "cell_type": "markdown",
      "metadata": {
        "id": "qgupJr5QUD51"
      },
      "source": [
        "2. ndarray slices are actually views on the same array the slice was taken from. If you modify the slice, you modify the original ndarray as well. So if we need a copy of the NumPy array, we need to use the copy method: `another_slice = a[1:5].copy()`. If we modify `another_slice`, `a` remains same.\n"
      ]
    },
    {
      "cell_type": "code",
      "metadata": {
        "id": "einPaTVJUKFL"
      },
      "source": [
        "import numpy as np\n",
        "\n",
        "a = np.array([1, 2, 5, 7, 8])\n",
        "a_slice = a[1:5]\n",
        "a_slice[1] = 1000\n",
        "# Original array was modified\n",
        "a # Holds [1, 2, 1000, 7, 8]\n"
      ],
      "execution_count": null,
      "outputs": []
    },
    {
      "cell_type": "code",
      "metadata": {
        "id": "3rl78c8bVZvm"
      },
      "source": [
        "import numpy as np\n",
        "\n",
        "a = np.array([1, 2, 5, 7, 8])\n",
        "another_slice = a[1:5].copy()\n",
        "another_slice[1] = 1000\n",
        "# Original array will not be modified\n",
        "a # Holds [1, 2, 5, 7, 8]\n"
      ],
      "execution_count": null,
      "outputs": []
    },
    {
      "cell_type": "markdown",
      "metadata": {
        "id": "ymvAvUdCV5z9"
      },
      "source": [
        "3. The way multidimensional arrays are accessed using NumPy is different from how they are accessed in normal Python arrays. The generic format in NumPy multi-dimensional arrays is:\n",
        "\n",
        "```\n",
        "Array[row_start_index:row_end_index, column_start_index: column_end_index]\n",
        "```\n",
        "\n",
        "NumPy arrays can also be accessed using boolean indexing:"
      ]
    },
    {
      "cell_type": "code",
      "metadata": {
        "colab": {
          "base_uri": "https://localhost:8080/"
        },
        "id": "ngeNmIgqpT82",
        "outputId": "4cb8a7b7-2a33-4fbf-f912-0368b9a880cb"
      },
      "source": [
        "import numpy as np\n",
        "\n",
        "a = np.arange(12).reshape(3, 4)\n",
        "print(a)\n",
        "\n",
        "rows_on = np.array([True, False, True])\n",
        "a[rows_on , : ]      # Only has rows 0 and 2, all columns"
      ],
      "execution_count": null,
      "outputs": [
        {
          "output_type": "stream",
          "text": [
            "[[ 0  1  2  3]\n",
            " [ 4  5  6  7]\n",
            " [ 8  9 10 11]]\n"
          ],
          "name": "stdout"
        },
        {
          "output_type": "execute_result",
          "data": {
            "text/plain": [
              "array([[ 0,  1,  2,  3],\n",
              "       [ 8,  9, 10, 11]])"
            ]
          },
          "metadata": {
            "tags": []
          },
          "execution_count": 13
        }
      ]
    },
    {
      "cell_type": "markdown",
      "metadata": {
        "id": "cIF4WDQ-Znyy"
      },
      "source": [
        "### Broadcasting\n",
        "\n",
        "In general, when NumPy expects arrays of the same shape but finds that this is not the case, it applies the **broadcasting** rules.\n",
        "\n",
        "Here are some examples of these broadcasting rules applied ([source](https://cloudxlab.com/blog/wp-content/uploads/2017/12/Screen-Shot-2017-12-13-at-5.57.21-PM.png)):\n",
        "\n",
        "![Screen-Shot-2017-12-13-at-5.57.21-PM.png](data:image/png;base64,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)\n",
        "\n",
        "There are 2 rules of Broadcasting to remember:\n",
        "\n",
        "1. For the arrays that do not have the same rank, then a 1 will be added to the beginning of the smaller ranking arrays until their ranks match.\n",
        "\n",
        ">  Example: When adding arrays A and B of sizes (3,3) and (,3) [rank 2 and rank 1], 1 will be added to the beginning of array B to make it (1,3) [rank=2]. The two sets are compatible when their dimensions are equal or either one of the dimension is 1. \n",
        "\n",
        "2. When either of the dimensions compared is one, the other is used. In other words, dimensions with size 1 are stretched or “copied” to match the other.\n",
        "\n",
        ">  Example: when adding a 2D array A of shape (3,3) to a 2D ndarray B of shape (1, 3). NumPy will apply the above rule of broadcasting. It shall stretch the array B and replicate the first row 3 times to make array B of dimensions (3,3) and perform the operation.\n",
        "\n"
      ]
    },
    {
      "cell_type": "markdown",
      "metadata": {
        "id": "D3KZ0lmqeSJv"
      },
      "source": [
        "### Math with NumPy\n",
        "\n",
        "NumPy provides a layout for using math with the NumPy arrays.\n",
        "\n",
        "NumPy provides **basic mathematical and statistical functions** (i.e. mean, min, max, sum, prod, std, var, summation) across different axes as well as transposing matrices, while NumPy arrays themselves are capable of performing **basic operations** such as addition, subtraction, product, matrix dot product, division, modulo, exponents and conditional operations."
      ]
    },
    {
      "cell_type": "markdown",
      "metadata": {
        "id": "i5bRh0Ghf3zv"
      },
      "source": [
        "NumPy is even able to solve linear equations. If we want to find the coefficients of:\n",
        "\n",
        "```\n",
        "2x + 6y = 6\n",
        "5x + 3y = -9\n",
        "```\n",
        "\n",
        "We can use ndarrays and built-in NumPy linear algebra functionality, like so:"
      ]
    },
    {
      "cell_type": "code",
      "metadata": {
        "id": "ETkP5tcJgV-a"
      },
      "source": [
        "import numpy as np\n",
        "\n",
        "coeffs  = np.array([[2, 6], [5, 3]])\n",
        "depvars = np.array([6, -9])\n",
        "solution = np.linalg.solve(coeffs, depvars)\n",
        "solution"
      ],
      "execution_count": null,
      "outputs": []
    },
    {
      "cell_type": "markdown",
      "metadata": {
        "id": "XDyEBLliF_ll"
      },
      "source": [
        "## Pandas\n",
        "\n",
        "### Further Look at Pandas\n",
        "\n",
        "**Pandas** provides high-performance, easy-to-use structures and data analysis tools. \n",
        "\n",
        "Pandas provides a 2D table object called **DataFrame**, which is like a spreadsheet with column names and row labels.\n",
        "\n",
        "With these 2D tables, Pandas is capable of functionality like creating pivot tables, computing columns based on other columns, and plotting graphs.\n",
        "\n",
        "\n"
      ]
    },
    {
      "cell_type": "markdown",
      "metadata": {
        "id": "ifE6QK9bj-uQ"
      },
      "source": [
        "## Importing \n",
        "\n",
        "Pandas can be imported into Python using:"
      ]
    },
    {
      "cell_type": "code",
      "metadata": {
        "id": "WYfo8AYFF_lm"
      },
      "source": [
        "import pandas as pd"
      ],
      "execution_count": null,
      "outputs": []
    },
    {
      "cell_type": "markdown",
      "metadata": {
        "id": "FGWM1zpNkFwd"
      },
      "source": [
        "## Objects\n",
        "\n",
        "**Series** objects are 1D arrays that are similar to columns in a spreadsheet.\n",
        "\n",
        "A Pandas `Series` object is created with the `pd.Series` function. Each row is provided with an index and is assigned a numerical value starting from 0. Like NumPy, Pandas also provides basic mathematical functionalities like addition and subtraction as well as conditional operations and broadcasting.\n"
      ]
    },
    {
      "cell_type": "code",
      "metadata": {
        "id": "YynWXZzArdMT"
      },
      "source": [
        "import pandas as pd\n",
        "\n",
        "year_series = pd.Series([1984, 1985, 1992],\n",
        "                   index=[\"barbara\", \"alice\", \"charles\"],\n",
        "                   name=\"year\")\n",
        "year_series"
      ],
      "execution_count": null,
      "outputs": []
    },
    {
      "cell_type": "markdown",
      "metadata": {
        "id": "fRJYWw2Vne_r"
      },
      "source": [
        "**DataFrame** objects are 2D tables that are similar to spreadsheets.\n",
        "\n",
        "Pandas `DataFrame` object represents a spreadsheet with cell values, column names, and row index labels. A `DataFrame` can be visualized as a dictionary of `Series` objects. Pandas also provides SQL-like functionality to filter and sort rows based on conditions."
      ]
    },
    {
      "cell_type": "markdown",
      "metadata": {
        "id": "Ql9VMGmsohZO"
      },
      "source": [
        "Here is an example of a dictionary of `Series` objects used to create a `DataFrame` object and display as a spreadsheet:"
      ]
    },
    {
      "cell_type": "code",
      "metadata": {
        "id": "mVoaszO5nqaZ"
      },
      "source": [
        "import pandas as pd\n",
        "\n",
        "people_dict = { \"weight\": pd.Series([68, 83, 112],\n",
        "                                    index=[\"alice\", \"barbara\", \"charles\"]),\n",
        "               \"birthyear\": pd.Series([1984, 1985, 1992],\n",
        "                                      index=[\"barbara\", \"alice\", \"charles\"],\n",
        "                                      name=\"year\"),\n",
        "               \"children\": pd.Series([0, 3],\n",
        "                                     index=[\"charles\", \"barbara\"]),\n",
        "               \"hobby\": pd.Series([\"Biking\", \"Dancing\"],\n",
        "                                  index=[\"alice\", \"barbara\"]),}\n",
        "\n",
        "\n",
        "people = pd.DataFrame(people_dict)\n",
        "people\n",
        "\n",
        "\n",
        "# we can uncomment the next line to filter the DataFrame to only display people who were born before 1990\n",
        "# people[people[\"birthyear\"] < 1990]"
      ],
      "execution_count": null,
      "outputs": []
    },
    {
      "cell_type": "markdown",
      "metadata": {
        "id": "1npjYQncni9C"
      },
      "source": [
        "`DataFrames` can be sorted by a particular column and have new rows and columns added to it.\n",
        "`Dataframes` can also be easily exported and imported from CSV, Excel, JSON, HTML and SQL database.\n",
        "\n",
        "Some other essential methods that are present in dataframes are:\n",
        "\n",
        "* `head()`: returns the top 5 rows in the `DataFrame` object\n",
        "* `tail()`: returns the bottom 5 rows in the `DataFrame`\n",
        "* `info()`: prints the summary of the `DataFrame`\n",
        "* `describe()`: gives a nice overview of the main aggregated values over each column"
      ]
    },
    {
      "cell_type": "markdown",
      "metadata": {
        "id": "wp2HyWbdudNb"
      },
      "source": [
        "## Afterward\n",
        "\n",
        "NumPy and Pandas make matrix manipulation easy, which makes them very useful in machine learning model development. Other libraries often used with NumPy and Pandas, like **TensorFlow**, **Matplotlib**, and **Scikit-learn**, can help present these models created from the NumPy arrays and Pandas DataFrames.\n",
        "\n",
        "For more information about data science and machine learning, check out our previous workshops! The Data Science & Data Engineering workshop can be found [here](https://github.com/HackBinghamton/DataScienceWorkshop). The Machine Learning workshop part one can be found [here](https://github.com/HackBinghamton/MachineLearningWorkshopWeek1), and part two can be found [here](https://github.com/HackBinghamton/MachineLearningWorkshopWeek2).\n",
        "\n",
        "As mentioned, machine learning is relevant to virtual personal assistants like Alexa. However, you don't need to understand machine learning to write your own Alexa skill. If you're interested in making one, check out our [Cloud Computing workshop](https://github.com/HackBinghamton/CloudComputingWorkshop), which has a section for Alexa skills!"
      ]
    },
    {
      "cell_type": "markdown",
      "metadata": {
        "id": "9mVHL8Ekw1fl"
      },
      "source": [
        "# Other Machine Learning Libraries\n",
        "\n",
        "## TensorFlow\n",
        "\n",
        "**TensorFlow** is a Python library for dataflow and differentiable programming using data flow graphs to build models, and is used for machine learning applications such as neural networks.\n",
        "\n",
        "https://www.tensorflow.org\n",
        "\n",
        "## Matplotlib\n",
        "\n",
        "**Matplotlib** is a plotting library for NumPy.\n",
        "The library provides an API for embedding plots into applications using general-purpose GUI toolkits like Tkinter.\n",
        "\n",
        "https://matplotlib.org\n",
        "\n",
        "## Scikit-learn\n",
        "\n",
        "**Scikit-learn** contains efficient tools for machine learning and statistical modeling through classification, regression, clustering and dimensionality reduction.\n",
        "\n",
        "https://scikit-learn.org/"
      ]
    }
  ]
}