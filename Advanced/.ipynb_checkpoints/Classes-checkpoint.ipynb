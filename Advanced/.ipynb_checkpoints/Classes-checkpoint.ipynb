{
 "cells": [
  {
   "cell_type": "markdown",
   "metadata": {},
   "source": [
    "# Classes\n",
    "\n",
    "Based on material from https://docs.python.org/3/tutorial/classes.html\n",
    "\n",
    "First, we'll need some definitions so you can understand the literature about classes and inheritance in any programming language.\n",
    "\n",
    "## Class\n",
    "What is a CLASS? Classes are simply a way to bundle data and functionality together. Creating a new class creates a new TYPE of object, allowing new INSTANCES of that type to be made. Each class instance can have attributes attached to it for maintaining its state. Each class instance can also have methods attached to it for modifying state.\n",
    "\n",
    "Multiple names (in multiple scopes) can be bound to the same object. This is often known as aliasing. Since aliases behave like pointers in some respects, passing objects is cheap. This also means that if a function modifies an object passed as an argument, the caller will see the change. Consider the example below:"
   ]
  },
  {
   "cell_type": "code",
   "execution_count": null,
   "metadata": {},
   "outputs": [],
   "source": [
    "class Room:\n",
    "    def __init__(self, color, windows, doors):\n",
    "        self.color = color\n",
    "        self.windows = windows\n",
    "        self.doors = doors\n",
    "\n",
    "def paintRoom(room, color):\n",
    "    room.color = color\n",
    "\n",
    "my_room = Room(\"purple\", 2, 1)\n",
    "print(my_room.color)\n",
    "paintRoom(my_room, \"green\")\n",
    "print(my_room.color)"
   ]
  },
  {
   "cell_type": "markdown",
   "metadata": {},
   "source": [
    "Don't worry too much about the specific syntax of the class. You should observe, however, how passing the object my_room into the function paintRoom() changes its color from purple to green and that this change persists outside of the paintRoom() function.\n",
    "\n",
    "## Namespace\n",
    "\n",
    "You'll also need to consider the notion of a NAMESPACE. A NAMESPACE is a mapping from names to objects. Examples include: the set of built-in names (like abs()), global names in a module, and local names in a function invocation. There is no relation between names in different namespaces. Consider the following:"
   ]
  },
  {
   "cell_type": "code",
   "execution_count": null,
   "metadata": {},
   "outputs": [],
   "source": [
    "import example1\n",
    "import example2\n",
    "\n",
    "print(example1.maximize([5,6,2,7]))\n",
    "print(example2.maximize([5,6,2,7]))"
   ]
  },
  {
   "cell_type": "markdown",
   "metadata": {},
   "source": [
    "The name maximize is used to refer to two different functions (one in the module example1 and the other in module example2 - you can check these files out!), but neither has anything to do with the other.\n",
    "\n",
    "## Attribute \n",
    "\n",
    "The name maximize also goes by another term: ATTRIBUTE. An ATTRIBUTE is any name following a dot. For example, in the expression z.real, real is an attribute of the object z. Attributes can be read-only or writable. Writable attributes can be modified or deleted."
   ]
  },
  {
   "cell_type": "code",
   "execution_count": null,
   "metadata": {},
   "outputs": [],
   "source": [
    "example1.hello = \"Hello, World!\"\n",
    "print(example1.hello)\n",
    "del example1.hello\n",
    "try:\n",
    "    print(example1.hello)\n",
    "except AttributeError as e:\n",
    "    print(e)"
   ]
  },
  {
   "cell_type": "markdown",
   "metadata": {},
   "source": [
    "## Scope\n",
    "\n",
    "Finally, the concept of SCOPE is important to understand. A SCOPE is a textual region of a Python program where a namespace is directly accessible. \"Directly accessible\" means an unqualified reference to the name attempts to find the name in the namespace. For example, example1.maximize is the full qualified name, whereas maximize is the unqualified name. When a program is trying to resolve a name, it searched in the following order: innermost scope (local names) -> scopes of enclosing functions (non-local, but non-global names) -> next-to-last scope (current module's global names) -> outermost scope (built-in names).\n",
    "\n",
    "In the example below, the x declared within the function my_fun() is local to that function and its scope does not extend outside of my_fun(). It has nothing to do with the x declared within my_enclosing(), thus the statement prints 5 (outer x), then 4 (inner x), then 5 (outer x, after my_fun() returns)."
   ]
  },
  {
   "cell_type": "code",
   "execution_count": null,
   "metadata": {},
   "outputs": [],
   "source": [
    "def my_enclosing():\n",
    "    def my_fun():\n",
    "        # Local x\n",
    "        x = 4\n",
    "        print(x)\n",
    "    \n",
    "    x = 5\n",
    "    print(x)\n",
    "    my_fun()\n",
    "    print(x)\n",
    "\n",
    "my_enclosing()"
   ]
  },
  {
   "cell_type": "markdown",
   "metadata": {},
   "source": [
    "## Defining a class\n",
    "\n",
    "Before we can use a class, we must know how to define it. The below syntax describes the most basic class definition."
   ]
  },
  {
   "cell_type": "code",
   "execution_count": null,
   "metadata": {},
   "outputs": [],
   "source": [
    "class MyClass:\n",
    "    # Data and methods go here"
   ]
  },
  {
   "cell_type": "markdown",
   "metadata": {},
   "source": [
    "When a class definition is entered, a new namespace is created and used as the local scope. When a class definition is exited, a CLASS OBJECT is created. We return to the original scope and the class object is now bound to the class name (e.g. MyClass). We can do two things with this class object, attribute references and instantiation.\n",
    "\n",
    "## Attribute references\n",
    "\n",
    "Attribute references use the same syntax used for all attribute references in Python."
   ]
  },
  {
   "cell_type": "code",
   "execution_count": null,
   "metadata": {},
   "outputs": [],
   "source": [
    "class SimpleExample:\n",
    "    '''This is a docstring'''\n",
    "    my_data = 42\n",
    "\n",
    "    def get_my_data(self):\n",
    "        return my_data\n",
    "\n",
    "print(SimpleExample.my_data)\n",
    "print(SimpleExample.get_my_data)"
   ]
  },
  {
   "cell_type": "markdown",
   "metadata": {},
   "source": [
    "## Class instantiation\n",
    "\n",
    "Class instantiation uses function notation. Pretend the class object is a parameterless function that returns a new INSTANCE of the class. In other words, the class object is like the blueprint and the class instance is like the actual house."
   ]
  },
  {
   "cell_type": "code",
   "execution_count": null,
   "metadata": {},
   "outputs": [],
   "source": [
    "my_simple_example = SimpleExample()"
   ]
  },
  {
   "cell_type": "markdown",
   "metadata": {},
   "source": [
    "Let's keep going with the blueprint-house analogy. What if we want all the houses to share some common features? When a class defines the __init__() method, class instantiation automatically invokes __init__()."
   ]
  },
  {
   "cell_type": "code",
   "execution_count": 2,
   "metadata": {},
   "outputs": [],
   "source": [
    "class House:\n",
    "    street = \"Leroy Avenue\"\n",
    "\n",
    "    def __init__(self, color, rooms):\n",
    "        self.color = color\n",
    "        self.rooms = rooms\n",
    "        self.levels = 2"
   ]
  },
  {
   "cell_type": "markdown",
   "metadata": {},
   "source": [
    "Every house starts out with two levels, plus the color and number of rooms that a homeowner chooses. These instance variables contain the state.\n",
    "\n",
    "Say the homeowner later renovates and adds another room."
   ]
  },
  {
   "cell_type": "code",
   "execution_count": null,
   "metadata": {},
   "outputs": [],
   "source": [
    "def setNumRooms(self, numRooms):\n",
    "    self.rooms = numRooms"
   ]
  },
  {
   "cell_type": "markdown",
   "metadata": {},
   "source": [
    "This class method modifies the state.\n",
    "\n",
    "## Getters and setters\n",
    "\n",
    "It is common for programmers to define getters and setters for their instance variables. This helps encapsulate code (gives programmers access to an object's state without exposing all its internal implementation details)."
   ]
  },
  {
   "cell_type": "code",
   "execution_count": null,
   "metadata": {},
   "outputs": [],
   "source": [
    "def getNumRooms(self):\n",
    "    return self.rooms\n",
    "\n",
    "def setColor(self, color):\n",
    "    self.color = color\n",
    "\n",
    "def getColor(self):\n",
    "    return self.color\n",
    "\n",
    "def setLevels(self, levels):\n",
    "    self.levels = levels\n",
    "\n",
    "def getLevels(self):\n",
    "    return self.levels"
   ]
  },
  {
   "cell_type": "markdown",
   "metadata": {},
   "source": [
    "## Using instance objects\n",
    "\n",
    "What can we do with instance objects? We can reference their attributes (data attributes and methods)!\n",
    "\n",
    "First, let's initialize the class instance using the __init__() method (called a constructor in some languages)."
   ]
  },
  {
   "cell_type": "code",
   "execution_count": 3,
   "metadata": {},
   "outputs": [],
   "source": [
    "my_house = House(\"gray\", 4)"
   ]
  },
  {
   "cell_type": "markdown",
   "metadata": {},
   "source": [
    "Now, let's reference a data attribute."
   ]
  },
  {
   "cell_type": "code",
   "execution_count": null,
   "metadata": {},
   "outputs": [],
   "source": [
    "print(my_house.rooms)"
   ]
  },
  {
   "cell_type": "markdown",
   "metadata": {},
   "source": [
    "Or, let's reference a method."
   ]
  },
  {
   "cell_type": "code",
   "execution_count": null,
   "metadata": {},
   "outputs": [],
   "source": [
    "print(my_house.getColor())"
   ]
  },
  {
   "cell_type": "markdown",
   "metadata": {},
   "source": [
    "What is the difference between House.getColor() and my_house.getColor()? Technically House.getColor() is a function object and my_house.getColor() is a method object. But, an easier way to think about it is that my_house.getColor() is equivalent to MyHouse.getColor(my_house). Basically, \"self\" refers to that particular instance object.\n",
    "\n",
    "Let's see an example."
   ]
  },
  {
   "cell_type": "code",
   "execution_count": null,
   "metadata": {},
   "outputs": [],
   "source": [
    "class Dog:\n",
    "    kind = \"canine\"\n",
    "\n",
    "    def __init__(self, name):\n",
    "        self.name = name\n",
    "\n",
    "d = Dog(\"Fido\")\n",
    "e = Dog(\"Buddy\")\n",
    "\n",
    "print(Dog.kind)\n",
    "print(Dog.__init__)\n",
    "print(d.kind)\n",
    "print(d.name)\n",
    "print(e.kind)\n",
    "print(e.name)"
   ]
  },
  {
   "cell_type": "markdown",
   "metadata": {},
   "source": [
    "## Instance vs. Class Variables\n",
    "\n",
    "In this example, the kind variable is a class variable. Its state is shared by all instances of the Dog class. The name variable is an instance variable. It is tied to one particular instance.\n",
    "\n",
    "What's wrong with this example?"
   ]
  },
  {
   "cell_type": "code",
   "execution_count": null,
   "metadata": {},
   "outputs": [],
   "source": [
    "class Dog:\n",
    "    tricks = []\n",
    "\n",
    "    def __init__(self, name):\n",
    "        self.name = name\n",
    "\n",
    "    def add_trick(self, trick):\n",
    "        self.tricks.append(trick)\n",
    "\n",
    "d = Dog('Fido')\n",
    "e = Dog('Buddy')\n",
    "d.add_trick('roll over')\n",
    "e.add_trick('play dead')\n",
    "print(d.tricks)"
   ]
  },
  {
   "cell_type": "markdown",
   "metadata": {},
   "source": [
    "The tricks variable is a class variable, which means every instance of Dog shares its state. This is like a static variable in Java. If Fido learns a new trick, Buddy should not also gain this skill! This variable is better suited as an instance variable.\n",
    "\n",
    "## Miscellaneous\n",
    "More on self: The first argument of a method is conventionally called self, but there is nothing special about this word. We could use \"me\" instead, for example. \n",
    "\n",
    "We already know how to reference data attributes and methods from outside the class, but what about within it? Simple prefix the call with self."
   ]
  },
  {
   "cell_type": "code",
   "execution_count": null,
   "metadata": {},
   "outputs": [],
   "source": [
    "class Dog:\n",
    "    def __init__(self, name):\n",
    "        self.name = name\n",
    "        self.tricks = []\n",
    "\n",
    "    def add_trick(self, trick):\n",
    "        self.tricks.append(trick)\n",
    "\n",
    "    def add_many_tricks(self, listOfTricks):\n",
    "        for trick in listOfTricks:\n",
    "            self.add_trick(trick)"
   ]
  }
 ],
 "metadata": {
  "kernelspec": {
   "display_name": "Python 3",
   "language": "python",
   "name": "python3"
  },
  "language_info": {
   "codemirror_mode": {
    "name": "ipython",
    "version": 3
   },
   "file_extension": ".py",
   "mimetype": "text/x-python",
   "name": "python",
   "nbconvert_exporter": "python",
   "pygments_lexer": "ipython3",
   "version": "3.6.8"
  }
 },
 "nbformat": 4,
 "nbformat_minor": 2
}
