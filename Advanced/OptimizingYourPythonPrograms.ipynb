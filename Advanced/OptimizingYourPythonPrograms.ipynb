{
 "cells": [
  {
   "cell_type": "markdown",
   "metadata": {},
   "source": [
    "# Optimizing Your Python Programs"
   ]
  },
  {
   "cell_type": "markdown",
   "metadata": {},
   "source": [
    "## Overview\n",
    "### What You'll Learn\n",
    "In this section, you'll learn\n",
    "1. The LRU cache decorator to easily implement dynamic programming/memoization for your recursive programs.\n",
    "2. Optimizing performance with built-in functionality\n",
    "\n",
    "### Prerequisites\n",
    "Before starting this section, you should have an understanding of\n",
    "1. [Recursion](https://colab.research.google.com/github/HackBinghamton/PythonWorkshop/blob/master/Intermediate/Recursion.ipynb)\n",
    "2. Decorators (not covered in this workshop -- handy to have prior knowledge of but you'll be fine if you don't know them)\n",
    "\n",
    "### Introduction\n",
    "This section will essentially be a compilation of interesting tips and tricks for making your Python programs run faster."
   ]
  },
  {
   "cell_type": "markdown",
   "metadata": {},
   "source": [
    "## LRU Cache for Function Calls\n",
    "### Intro to Memoization\n",
    "**Memoization** is the caching of function calls for recursive programs. Caching function calls significantly speeds up a program because accessing a value in a cache is significantly less expensive than recomputing it.\n",
    "\n",
    "### What is an LRU Cache?\n",
    "A **L**east **R**ecently **U**sed cache of size `n` stores values for speedy retrieval until it reaches capacity. When the user tries to insert an uncached value to a full LRU cache, the cache selects the least recently accessed value and replaces it with the new value.\n",
    "\n",
    "### Caching Our Recursive Functions in Python\n",
    "Consider the following example that computes the N-th number in the fibonacci sequence:"
   ]
  },
  {
   "cell_type": "code",
   "execution_count": null,
   "metadata": {},
   "outputs": [],
   "source": [
    "# RUN ME!\n",
    "import time\n",
    "\n",
    "def fibonacci(num):\n",
    "    if num < 2:\n",
    "        return num\n",
    "\n",
    "    else:\n",
    "        return fibonacci(num - 1) + fibonacci(num - 2)\n",
    "\n",
    "\n",
    "no_lru_start_time = time.time()\n",
    "result = fibonacci(36)\n",
    "print(\"Without LRU, took\", time.time() - no_lru_start_time, \"seconds to compute\")"
   ]
  },
  {
   "cell_type": "markdown",
   "metadata": {},
   "source": [
    "By importing the `functions.lru_cache` decorator from the functools library, we can have Python handle all the memoization logic for us. "
   ]
  },
  {
   "cell_type": "code",
   "execution_count": null,
   "metadata": {},
   "outputs": [],
   "source": [
    "# RUN ME!\n",
    "import functools\n",
    "import time\n",
    "\n",
    "@functools.lru_cache(maxsize=128)\n",
    "def fibonacci_lru(num):\n",
    "    if num < 2:\n",
    "        return num\n",
    "\n",
    "    else:\n",
    "        return fibonacci_lru(num - 1) + fibonacci_lru(num - 2)\n",
    "    \n",
    "\n",
    "lru_start_time = time.time()\n",
    "result = fibonacci_lru(36)\n",
    "print(\"With LRU, took\", time.time() - lru_start_time, \"seconds to compute\")"
   ]
  },
  {
   "cell_type": "markdown",
   "metadata": {},
   "source": [
    "As you can see, using the LRU cache takes this function's runtime from ~6 seconds to 1/1000th of a second. "
   ]
  },
  {
   "cell_type": "markdown",
   "metadata": {},
   "source": [
    "## Don't Reinvent the Wheel"
   ]
  },
  {
   "cell_type": "code",
   "execution_count": null,
   "metadata": {},
   "outputs": [],
   "source": [
    "import time\n",
    "import random\n",
    "\n",
    "\n",
    "\"\"\"\n",
    "Tip 1 - Use list comprehensions, if possible.\n",
    "\"\"\"\n",
    "# Creating a list with a for loop\n",
    "t = time.time()\n",
    "arr1 = []\n",
    "\n",
    "for i in range(1000000):\n",
    "    arr1.append(random.randrange(2 ** 32))\n",
    "\n",
    "print(\"List with for loop took\", time.time() - t, \"seconds\")\n",
    "\n",
    "# Using a comprehension for the same functionality\n",
    "t = time.time()\n",
    "arr2 = [random.randrange(2 ** 32) for i in range(1000000)]\n",
    "\n",
    "print(\"List comprehension took\", time.time() - t, \"seconds\")\n",
    "print()\n",
    "\n",
    "\n",
    "\"\"\"\n",
    "Tip 2 - Use iterators instead of accessing by index.\n",
    "\"\"\"\n",
    "# Iterating by index\n",
    "accum1 = 0\n",
    "t = time.time()\n",
    "for i in range(len(arr1)):\n",
    "    accum1 += arr1[i]\n",
    "    \n",
    "print(\"Iterating over list with index took\", time.time() - t, \"seconds\")\n",
    "\n",
    "# Iterating with an iterator\n",
    "accum2 = 0\n",
    "t = time.time()\n",
    "for i in arr2:\n",
    "    accum2 += i\n",
    "\n",
    "print(\"Iterating over list with iterator took\", time.time() - t, \"seconds\")\n",
    "print()\n",
    "\n",
    "\"\"\"\n",
    "Tip 3 - Use the in keyword instead of searching the list yourself\n",
    "\"\"\"\n",
    "# Manual search\n",
    "one_in_arr2 = False\n",
    "t = time.time()\n",
    "\n",
    "for i in arr2:\n",
    "    if i == 1:\n",
    "        one_in_arr2 = True\n",
    "        break\n",
    "        \n",
    "print(\"Search with iteration took\", time.time() - t, \"seconds\")\n",
    "\n",
    "# Using in\n",
    "t = time.time()\n",
    "one_in_arr1 = 1 in arr1\n",
    "\n",
    "print(\"Search with in took\", time.time() - t, \"seconds\")\n"
   ]
  },
  {
   "cell_type": "code",
   "execution_count": null,
   "metadata": {},
   "outputs": [],
   "source": []
  }
 ],
 "metadata": {
  "kernelspec": {
   "display_name": "Python 3",
   "language": "python",
   "name": "python3"
  },
  "language_info": {
   "codemirror_mode": {
    "name": "ipython",
    "version": 3
   },
   "file_extension": ".py",
   "mimetype": "text/x-python",
   "name": "python",
   "nbconvert_exporter": "python",
   "pygments_lexer": "ipython3",
   "version": "3.8.5"
  }
 },
 "nbformat": 4,
 "nbformat_minor": 2
}
