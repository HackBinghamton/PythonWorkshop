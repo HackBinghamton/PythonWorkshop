{
 "cells": [
  {
   "cell_type": "markdown",
   "metadata": {},
   "source": [
    "# Optimizing Your Python Programs"
   ]
  },
  {
   "cell_type": "markdown",
   "metadata": {},
   "source": [
    "## Overview\n",
    "### What You'll Learn\n",
    "In this section, you'll learn\n",
    "1. The LRU cache decorator to easily implement dynamic programming/memoization for your recursive programs.\n",
    "2. Optimizing performance with built-in functionality\n",
    "\n",
    "### Prerequisites\n",
    "Before starting this section, you should have an understanding of\n",
    "1. Recursion\n",
    "2. Decorators\n",
    "\n",
    "### Introduction\n",
    "This section will essentially be a compilation of interesting tips and tricks for making your Python programs run faster."
   ]
  },
  {
   "cell_type": "markdown",
   "metadata": {},
   "source": [
    "## LRU Cache for Function Calls\n",
    "### Intro to Memoization\n",
    "**Memoization** is the caching of function calls for recursive programs. Caching function calls significantly speeds up a program because accessing a value in a cache is significantly less expensive than recomputing it.\n",
    "\n",
    "### What is an LRU Cache?\n",
    "A **L**east **R**ecently **U**sed cache of size `n` stores values for speedy retrieval until it reaches capacity. When the user tries to insert an uncached value to a full LRU cache, the cache selects the least recently accessed value and replaces it with the new value.\n",
    "\n",
    "### Caching Our Recursive Functions in Python\n",
    "Consider the following example that computes the N-th number in the fibonacci sequence:"
   ]
  },
  {
   "cell_type": "code",
   "execution_count": 1,
   "metadata": {},
   "outputs": [
    {
     "name": "stdout",
     "output_type": "stream",
     "text": [
      "Without LRU, took 9.541884899139404 seconds to compute\n"
     ]
    }
   ],
   "source": [
    "# RUN ME!\n",
    "import time\n",
    "\n",
    "def fibonacci(num):\n",
    "    if num < 2:\n",
    "        return num\n",
    "\n",
    "    else:\n",
    "        return fibonacci(num - 1) + fibonacci(num - 2)\n",
    "\n",
    "\n",
    "no_lru_start_time = time.time()\n",
    "result = fibonacci(36)\n",
    "print(\"Without LRU, took\", time.time() - no_lru_start_time, \"seconds to compute\")"
   ]
  },
  {
   "cell_type": "markdown",
   "metadata": {},
   "source": [
    "By importing the `functions.lru_cache` decorator from the functools library, we can have Python handle all the memoization logic for us. "
   ]
  },
  {
   "cell_type": "code",
   "execution_count": 2,
   "metadata": {},
   "outputs": [
    {
     "name": "stdout",
     "output_type": "stream",
     "text": [
      "With LRU, took 0.0002560615539550781 seconds to compute\n"
     ]
    }
   ],
   "source": [
    "# RUN ME!\n",
    "import functools\n",
    "import time\n",
    "\n",
    "@functools.lru_cache(maxsize=128)\n",
    "def fibonacci_lru(num):\n",
    "    if num < 2:\n",
    "        return num\n",
    "\n",
    "    else:\n",
    "        return fibonacci_lru(num - 1) + fibonacci_lru(num - 2)\n",
    "    \n",
    "\n",
    "lru_start_time = time.time()\n",
    "result = fibonacci_lru(36)\n",
    "print(\"With LRU, took\", time.time() - lru_start_time, \"seconds to compute\")"
   ]
  },
  {
   "cell_type": "markdown",
   "metadata": {},
   "source": [
    "As you can see, using the LRU cache takes this function's runtime from ~6 seconds to 1/1000th of a second. "
   ]
  },
  {
   "cell_type": "markdown",
   "metadata": {},
   "source": [
    "## Don't Reinvent the Wheel"
   ]
  },
  {
   "cell_type": "code",
   "execution_count": 3,
   "metadata": {},
   "outputs": [
    {
     "name": "stdout",
     "output_type": "stream",
     "text": [
      "List with for loop took 1.8565120697021484 seconds\n",
      "List comprehension took 1.651449203491211 seconds\n",
      "\n",
      "Iterating over list with index took 0.22744297981262207 seconds\n",
      "Iterating over list with iterator took 0.18736982345581055 seconds\n",
      "\n",
      "Search with iteration took -0.1152350902557373 seconds\n",
      "Search with in took -0.03242325782775879 seconds\n"
     ]
    }
   ],
   "source": [
    "import time\n",
    "import random\n",
    "\n",
    "\n",
    "\"\"\"\n",
    "Tip 1 - Use list comprehensions, if possible.\n",
    "\"\"\"\n",
    "# Creating a list with a for loop\n",
    "t = time.time()\n",
    "arr1 = []\n",
    "\n",
    "for i in range(1000000):\n",
    "    arr1.append(random.randrange(2 ** 32))\n",
    "\n",
    "print(\"List with for loop took\", time.time() - t, \"seconds\")\n",
    "\n",
    "# Using a comprehension for the same functionality\n",
    "t = time.time()\n",
    "arr2 = [random.randrange(2 ** 32) for i in range(1000000)]\n",
    "\n",
    "print(\"List comprehension took\", time.time() - t, \"seconds\")\n",
    "print()\n",
    "\n",
    "\n",
    "\"\"\"\n",
    "Tip 2 - Use iterators instead of accessing by index.\n",
    "\"\"\"\n",
    "# Iterating by index\n",
    "accum1 = 0\n",
    "t = time.time()\n",
    "for i in range(len(arr1)):\n",
    "    accum1 += arr1[i]\n",
    "    \n",
    "print(\"Iterating over list with index took\", time.time() - t, \"seconds\")\n",
    "\n",
    "# Iterating with an iterator\n",
    "accum2 = 0\n",
    "t = time.time()\n",
    "for i in arr2:\n",
    "    accum2 += i\n",
    "\n",
    "print(\"Iterating over list with iterator took\", time.time() - t, \"seconds\")\n",
    "print()\n",
    "\n",
    "\"\"\"\n",
    "Tip 3 - Use the in keyword instead of searching the list yourself\n",
    "\"\"\"\n",
    "# Manual search\n",
    "one_in_arr2 = False\n",
    "t = time.time()\n",
    "\n",
    "for i in arr2:\n",
    "    if i == 1:\n",
    "        one_in_arr2 = True\n",
    "        break\n",
    "        \n",
    "print(\"Search with iteration took\", t - time.time(), \"seconds\")\n",
    "\n",
    "# Using in\n",
    "t = time.time()\n",
    "one_in_arr1 = 1 in arr1\n",
    "\n",
    "print(\"Search with in took\", t - time.time(), \"seconds\")\n"
   ]
  },
  {
   "cell_type": "code",
   "execution_count": null,
   "metadata": {},
   "outputs": [],
   "source": []
  }
 ],
 "metadata": {
  "kernelspec": {
   "display_name": "Python 3",
   "language": "python",
   "name": "python3"
  },
  "language_info": {
   "codemirror_mode": {
    "name": "ipython",
    "version": 3
   },
   "file_extension": ".py",
   "mimetype": "text/x-python",
   "name": "python",
   "nbconvert_exporter": "python",
   "pygments_lexer": "ipython3",
   "version": "3.7.6"
  }
 },
 "nbformat": 4,
 "nbformat_minor": 2
}
