{
 "cells": [
  {
   "cell_type": "markdown",
   "metadata": {},
   "source": [
    "# Intro to Cython\n",
    "\n",
    "\n",
    "## Overview\n",
    "\n",
    "### What You'll Learn\n",
    "1. How to use Cython to integrate Python and C code!\n",
    "\n",
    "\n",
    "### Prerequisites\n",
    "None, besides a decent understanding of C and Python.\n"
   ]
  },
  {
   "cell_type": "markdown",
   "metadata": {},
   "source": [
    "## Background"
   ]
  },
  {
   "cell_type": "markdown",
   "metadata": {},
   "source": [
    "### What is Cython?"
   ]
  },
  {
   "cell_type": "markdown",
   "metadata": {},
   "source": [
    "As you probably guessed, Cython is basically Python with some C code.\n",
    "\n",
    "Cython allows us to use several aspects of C coding within python code, including\n",
    " - Data types\n",
    " - Functions\n",
    " - Modules\n",
    " \n",
    "Most Python code is compatible with Cython, with the exception of a few cases which will be covered later."
   ]
  },
  {
   "cell_type": "markdown",
   "metadata": {},
   "source": [
    "### How does Cython work?"
   ]
  },
  {
   "cell_type": "markdown",
   "metadata": {},
   "source": [
    "1. Code written in Python gets translated to C code\n",
    "2. This code gets compiled\n",
    "3. This compiled code gets bundled into Python extensions\n",
    "4. These Python extensions can be imported into and used in your existing Python Code"
   ]
  },
  {
   "cell_type": "markdown",
   "metadata": {},
   "source": [
    "### How does Cython help optimize Python code?"
   ]
  },
  {
   "cell_type": "markdown",
   "metadata": {},
   "source": [
    "Python is, by default, an extremely slow language for 3 main reasons:\n",
    "\n",
    "1. Global Interpreter Lock (GIL)\n",
    "\n",
    "Simply, this is \"a mutex (or a lock) that allows only one thread to hold the control of the Python interpreter.\"\n",
    "\n",
    "2. Python is interpreted and not compiled\n",
    "\n",
    "Python converts code directly to bytecode, which is a low-level set of instructions that can be directly executed by the interpreter. Unfortunately, this requires a lot of extra work to have it translated into a form that is easy for the machine to execute. An analogy:\n",
    "\n",
    "> \"If you can talk in your native language to someone, that would generally work faster than having an interpreter having to translate your language into some other language for the listener to understand.\"\n",
    "\n",
    "3. It's a dynamically typed language\n",
    "\n",
    "In short, this means that the concept of object \"types\" exists, but a variables type can change. "
   ]
  },
  {
   "cell_type": "code",
   "execution_count": null,
   "metadata": {},
   "outputs": [],
   "source": [
    "a = 1\n",
    "print(type(a))\n",
    "a = \"foo\"\n",
    "print(type(a))"
   ]
  },
  {
   "cell_type": "markdown",
   "metadata": {},
   "source": [
    "This is costly becauase Python has to compare and possibly convert types every time a variable is read, written to, or referenced. Since Python is so flexible, it's difficult to optimize. While most languages, for example, Java and C/C++, are built around optimizing performance, Python emphasises flexibility, sacrificing some level of performance in the process. \n",
    "\n",
    "Cython addresses two of these three aspects of python. It combines C-typing and the compiled nature of C with Python, making it capable of improving your code's performance in certain situations by up to __84x__ if the Cython is optimized. (Source: https://notes-on-cython.readthedocs.io/en/latest/std_dev.html)\n",
    "\n",
    "These are abridged explanations of the concepts. More information isn't necessary to effectively use Cython, but if you are curious to hear the in-depth explanations, there are sources at the bottom of the page!"
   ]
  },
  {
   "cell_type": "markdown",
   "metadata": {},
   "source": [
    "## Using Cython"
   ]
  },
  {
   "cell_type": "markdown",
   "metadata": {},
   "source": [
    "### First Program On Your Own PC"
   ]
  },
  {
   "cell_type": "markdown",
   "metadata": {},
   "source": [
    "(If you just want to know how Cython works in Jupyter and don't care to try it on your own PC, this part can be skipped. The next section also shows how to implement Cython directly in your code.)\n",
    "\n",
    "The first step is to create a virtual environment to run your code in and then activate it.\n",
    "\n",
    "On Linux command line:"
   ]
  },
  {
   "cell_type": "code",
   "execution_count": null,
   "metadata": {
    "scrolled": true
   },
   "outputs": [],
   "source": [
    "##### WARNING #####\n",
    "# THIS SECTION SHOULD NOT RUN IN JUPYTER! These need to be used in the command line.\n",
    "###################\n",
    "python 3 -m venv cython_env\n",
    "\n",
    "source cython_env/bin/activate\n",
    "\n",
    "ls\n",
    "\n",
    "mkdir my_first_cython\n",
    "\n",
    "ls\n",
    "\n",
    "# this might need to be \"pip3 install Cython\"\n",
    "pip install Cython"
   ]
  },
  {
   "cell_type": "markdown",
   "metadata": {},
   "source": [
    "Create a file using \".pyx\" after it.\n",
    "\n",
    "Write a print statement, this can be anything you want! \n",
    "\n",
    "Create another file called \"setup.py\"\n",
    "\n",
    "Write the following code:"
   ]
  },
  {
   "cell_type": "code",
   "execution_count": null,
   "metadata": {},
   "outputs": [],
   "source": [
    "from setuptools import setup\n",
    "from Cython.Build import cythonize\n",
    "\n",
    "setup( ext_modules = cythonize(\"[your_file_name].pyx\"))"
   ]
  },
  {
   "cell_type": "markdown",
   "metadata": {},
   "source": [
    "Compile your code with:"
   ]
  },
  {
   "cell_type": "code",
   "execution_count": null,
   "metadata": {},
   "outputs": [],
   "source": [
    "python setup.py build_ext --inplace"
   ]
  },
  {
   "cell_type": "markdown",
   "metadata": {},
   "source": [
    "You should be able to see a new file that you didn't create yourself in the directory, called \"[your_file_name].c\""
   ]
  },
  {
   "cell_type": "markdown",
   "metadata": {},
   "source": [
    "Run python by typing \"python\" into the compiler. Then import your code with \"import [your_file_name]\"\n",
    "\n",
    "You should see your print statement!"
   ]
  },
  {
   "cell_type": "markdown",
   "metadata": {},
   "source": [
    "This is a very basic example of how to use Cython! Although, for a simple print statement, the difference in time will barely be noticeable, when this is used for more time-consuming and/or complex code, the difference will be much bigger."
   ]
  },
  {
   "cell_type": "markdown",
   "metadata": {},
   "source": [
    "### Time Comparison (In Jupyter!)"
   ]
  },
  {
   "cell_type": "markdown",
   "metadata": {},
   "source": [
    "#### Regular Python Code"
   ]
  },
  {
   "cell_type": "markdown",
   "metadata": {},
   "source": [
    "Factorials are a great example of time differences. Here we have regular Python code to compute a factorial:"
   ]
  },
  {
   "cell_type": "code",
   "execution_count": null,
   "metadata": {},
   "outputs": [],
   "source": [
    "def factorial(n):\n",
    "    fact = 1\n",
    "    for x in range(2, n+1):\n",
    "        fact = fact * x\n",
    "    return fact"
   ]
  },
  {
   "cell_type": "code",
   "execution_count": null,
   "metadata": {},
   "outputs": [],
   "source": [
    "factorial(5)"
   ]
  },
  {
   "cell_type": "code",
   "execution_count": null,
   "metadata": {},
   "outputs": [],
   "source": [
    "%timeit factorial(100000)"
   ]
  },
  {
   "cell_type": "markdown",
   "metadata": {},
   "source": [
    "#### Regular Python Code but in Cython"
   ]
  },
  {
   "cell_type": "markdown",
   "metadata": {},
   "source": [
    "Here is the exact same code, except loaded in Cython:"
   ]
  },
  {
   "cell_type": "code",
   "execution_count": null,
   "metadata": {},
   "outputs": [],
   "source": [
    "%load_ext Cython"
   ]
  },
  {
   "cell_type": "code",
   "execution_count": null,
   "metadata": {},
   "outputs": [],
   "source": [
    "%%cython\n",
    "def factorial_cy(n):\n",
    "    fact = 1\n",
    "    for x in range(2, n+1):\n",
    "        fact = fact * x\n",
    "    return fact"
   ]
  },
  {
   "cell_type": "code",
   "execution_count": null,
   "metadata": {},
   "outputs": [],
   "source": [
    "%timeit factorial_cy(100000)"
   ]
  },
  {
   "cell_type": "markdown",
   "metadata": {},
   "source": [
    "More than likely, there was an extremely small time difference."
   ]
  },
  {
   "cell_type": "markdown",
   "metadata": {},
   "source": [
    "#### Python Code with C Data Types"
   ]
  },
  {
   "cell_type": "markdown",
   "metadata": {},
   "source": [
    "Here is the same code again, only this time, we have given the variables data-types, something used in C but not Python:"
   ]
  },
  {
   "cell_type": "code",
   "execution_count": null,
   "metadata": {},
   "outputs": [],
   "source": [
    "%%cython\n",
    "def factorial_cy2(n):\n",
    "    cdef int fact = 1\n",
    "    cdef int x\n",
    "    for x in range(2, n+1):\n",
    "        fact = fact * x\n",
    "    return fact"
   ]
  },
  {
   "cell_type": "code",
   "execution_count": null,
   "metadata": {},
   "outputs": [],
   "source": [
    "%timeit factorial_cy2(100000)"
   ]
  },
  {
   "cell_type": "markdown",
   "metadata": {},
   "source": [
    "In this example, you should see a *drastically* different amount of time. Hopefully your output reads something like \"90.7 µs,\" which is 90.7 microseconds. As you can see, simply using c data types in your Python code makes a massive amount of difference for time.\n",
    "\n",
    "Data types are always implemented with this format in Cython. Print statements are formatted more closely to how they are in C, as shown below:"
   ]
  },
  {
   "cell_type": "code",
   "execution_count": null,
   "metadata": {},
   "outputs": [],
   "source": [
    "%%cython\n",
    "\n",
    "# To declare a string\n",
    "cdef str my_word = \"word\"\n",
    "\n",
    "# To declare numbers\n",
    "cdef int num1 = 1\n",
    "cdef double num2 = 2.22\n",
    "cdef float num3 = 3.03\n",
    "\n",
    "print(\"Num1 is {}, Num2 is {}, and Num3 is {}. My string is '{}'.\"\n",
    "      .format(num1, num2, num3, my_word))"
   ]
  },
  {
   "cell_type": "markdown",
   "metadata": {},
   "source": [
    "Note that Cython variables don't keep their types outside of their cells. Outside of Jupyter notebook, this means that statically typed variables in Cython are not available directly in Python scope."
   ]
  },
  {
   "cell_type": "markdown",
   "metadata": {},
   "source": [
    "### Cython and C Functions"
   ]
  },
  {
   "cell_type": "markdown",
   "metadata": {
    "collapsed": true
   },
   "source": [
    "There are 3 different types of Cython functions:\n",
    "\n",
    " - def: Regular Python functions (these can still be used with Cython)\n",
    " - cdef: Pure C functions\n",
    " - cpdef: Hybrid C and Python functions\n",
    " \n",
    "Even using Cython, everything about regular Python functions (def) still applies, but the rules for the other two types of functions vary slightly."
   ]
  },
  {
   "cell_type": "markdown",
   "metadata": {},
   "source": [
    "#### Cdef functions"
   ]
  },
  {
   "cell_type": "markdown",
   "metadata": {},
   "source": [
    " - Can be called from both Cython and C\n",
    " - These cannot be defined inside other functions\n",
    " - Only C types can be used inside these functions\n",
    " - Variables/Functions declared using cdef are __not__ accessible by the Python scope\n",
    " - Cython optimizes the code automatically within these functions\n",
    " \n",
    "Cdef function example:"
   ]
  },
  {
   "cell_type": "code",
   "execution_count": null,
   "metadata": {},
   "outputs": [],
   "source": [
    "%%cython\n",
    "\n",
    "cdef my_function(x, y, z):\n",
    "    return x + y - z\n",
    "\n",
    "print(my_function(50, 30, 10)) # should give 70\n",
    "print(my_function(50.3, 30.9, 10.5)) # should give a large decimal"
   ]
  },
  {
   "cell_type": "code",
   "execution_count": null,
   "metadata": {},
   "outputs": [],
   "source": [
    "%%cython\n",
    "\n",
    "cdef int my_new_function(x, y, z):\n",
    "    return x + y - z\n",
    "\n",
    "print(my_new_function(50, 30, 10)) # should give 70\n",
    "print(my_new_function(50.3, 30.9, 10.5)) # should give 70 still"
   ]
  },
  {
   "cell_type": "markdown",
   "metadata": {},
   "source": [
    "As you can see, with cython you are able to declare the function such that it returns a specific data type. The code itself it identical with the exception of the return type declaration, and as you can see, the return values are different solely because of this.\n",
    "\n",
    "You are also able to declare data types for input values in the function:"
   ]
  },
  {
   "cell_type": "code",
   "execution_count": null,
   "metadata": {},
   "outputs": [],
   "source": [
    "%%cython\n",
    "\n",
    "cdef int my_other_function(int x, int y):\n",
    "    return x + y\n",
    "\n",
    "print(my_other_function(10, 20)) # should give 30"
   ]
  },
  {
   "cell_type": "markdown",
   "metadata": {},
   "source": [
    "As you can see, this runs without an error."
   ]
  },
  {
   "cell_type": "markdown",
   "metadata": {},
   "source": [
    "#### Cpdef functions (hybrid)"
   ]
  },
  {
   "cell_type": "markdown",
   "metadata": {},
   "source": [
    " - Internally, both a cdef and a def function get greated\n",
    " - The def functions acts as a wrapper in python, calling the cdef function \n",
    " - It is best to use these when Cython functions are called inside Python\n",
    " \n",
    "(More information on wrappers is linked at the bottom)\n",
    "\n",
    "(Note that you cannot access the cdef function from a different Jupyter cell, but the below functions can be accessed from other cells, since they are hybrid.)\n",
    "\n",
    "Here is a cpdef function example:"
   ]
  },
  {
   "cell_type": "code",
   "execution_count": null,
   "metadata": {},
   "outputs": [],
   "source": [
    "%%cython\n",
    "\n",
    "cpdef my_cp_function(x, y, z):\n",
    "    return x + y - z\n",
    "\n",
    "print(my_cp_function(50, 30, 10))"
   ]
  },
  {
   "cell_type": "code",
   "execution_count": null,
   "metadata": {},
   "outputs": [],
   "source": [
    "# as you can see, this can be accessed externally\n",
    "print(my_cp_function(60, 30, 10)) "
   ]
  },
  {
   "cell_type": "markdown",
   "metadata": {},
   "source": [
    "### That's an Intro to Cython!"
   ]
  },
  {
   "cell_type": "markdown",
   "metadata": {},
   "source": [
    "If you would like to learn more about Cython or the other topics mentioned, here are some good resources:\n",
    "\n",
    "__Why Python is Slow:__\n",
    "\n",
    " - GIL: https://realpython.com/python-gil/\n",
    "\n",
    " - Interpreted vs compiled: https://towardsdatascience.com/how-does-python-work-6f21fd197888#:~:text=For%20the%20most%20part%2C%20Python,pyc%20or%20.\n",
    "\n",
    " - Dynamically vs. Statically typed languages: https://pythonconquerstheuniverse.wordpress.com/2009/10/03/static-vs-dynamic-typing-of-programming-languages/#:~:text=Python%20is%20a%20dynamically%2Dtyped,an%20explicit%20conversion%20is%20required.\n",
    "\n",
    "__Wrappers:__\n",
    "\n",
    " - https://wiki.python.org/moin/FunctionWrappers#:~:text=FunctionWrapper%20is%20a%20design%20pattern,result%20of%20a%20slow%20computation \n",
    "\n",
    "__Advanced Cython:__\n",
    " - https://share.cocalc.com/share/c4cb4a9830136f7bdc07b11c803665cc99b3d899/advanced-cython.html?viewer=share\n",
    " - http://www.discoversdk.com/blog/cython-advanced-topics\n",
    " \n",
    "__Similar to Cython:__\n",
    "\n",
    " - Numba: https://numba.pydata.org/\n",
    "\n",
    " - Numba vs. Cython: http://stephanhoyer.com/2015/04/09/numba-vs-cython-how-to-choose/"
   ]
  }
 ],
 "metadata": {
  "kernelspec": {
   "display_name": "Python 3",
   "language": "python",
   "name": "python3"
  },
  "language_info": {
   "codemirror_mode": {
    "name": "ipython",
    "version": 3
   },
   "file_extension": ".py",
   "mimetype": "text/x-python",
   "name": "python",
   "nbconvert_exporter": "python",
   "pygments_lexer": "ipython3",
   "version": "3.8.5"
  }
 },
 "nbformat": 4,
 "nbformat_minor": 2
}
