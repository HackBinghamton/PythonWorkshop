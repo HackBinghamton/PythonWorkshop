{
 "cells": [
  {
   "cell_type": "markdown",
   "metadata": {},
   "source": [
    "# Iterators and Generators \n"
   ]
  },
  {
   "cell_type": "markdown",
   "metadata": {},
   "source": [
    "## Overview\n",
    "\n",
    "### What You'll Learn\n",
    "In this section, you'll learn\n",
    "1. Generators vs. Iterators\n",
    "2. \n",
    "\n",
    "### Prerequisites\n",
    "Before starting this section, you should have an understanding of basic Python but especially\n",
    "1. [Loops](https://colab.research.google.com/github/HackBinghamton/PythonWorkshop/blob/master/Intermediate/Loops.ipynb)\n",
    "2. [Functions](https://colab.research.google.com/github/HackBinghamton/PythonWorkshop/blob/master/Intro/Functions.ipynb)\n",
    "\n",
    "### Introduction\n",
    "A python iterator is an object that implements the `__next__` and `__iter__` methods. \n",
    "\n",
    "A python generator is a special type of iterator. Every generator is an iterator. Generators are built by using the `yield` expression in a function.\n",
    "\n",
    "lends us a sequence of values to python iterate on. The following is an example of generators in python."
   ]
  },
  {
   "cell_type": "code",
   "execution_count": 6,
   "metadata": {},
   "outputs": [
    {
     "name": "stdout",
     "output_type": "stream",
     "text": [
      "8\n",
      "6\n",
      "4\n",
      "2\n"
     ]
    }
   ],
   "source": [
    "# Produces the even values starting from the given number to 0\n",
    "def even(x):\n",
    "    # Checks that number is positive\n",
    "    if (x < 0):\n",
    "        return\n",
    "    while(x!=0):\n",
    "        if x%2==0:\n",
    "            yield x\n",
    "        x-=1\n",
    "\n",
    "for i in even(8):\n",
    "    print(i)\n"
   ]
  },
  {
   "cell_type": "code",
   "execution_count": null,
   "metadata": {},
   "outputs": [],
   "source": []
  },
  {
   "cell_type": "code",
   "execution_count": null,
   "metadata": {},
   "outputs": [],
   "source": []
  }
 ],
 "metadata": {
  "kernelspec": {
   "display_name": "Python 3",
   "language": "python",
   "name": "python3"
  },
  "language_info": {
   "codemirror_mode": {
    "name": "ipython",
    "version": 3
   },
   "file_extension": ".py",
   "mimetype": "text/x-python",
   "name": "python",
   "nbconvert_exporter": "python",
   "pygments_lexer": "ipython3",
   "version": "3.6.2"
  }
 },
 "nbformat": 4,
 "nbformat_minor": 2
}
