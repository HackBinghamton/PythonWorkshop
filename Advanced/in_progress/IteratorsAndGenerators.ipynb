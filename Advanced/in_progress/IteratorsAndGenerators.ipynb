{
 "cells": [
  {
   "cell_type": "markdown",
   "metadata": {},
   "source": [
    "# Iterators and Generators \n"
   ]
  },
  {
   "cell_type": "markdown",
   "metadata": {},
   "source": [
    "## Overview\n",
    "\n",
    "### What You'll Learn\n",
    "In this section, you'll learn\n",
    "1. Iterators\n",
    "2. Generators\n",
    "3. Generators vs. Iterators\n",
    "\n",
    "### Prerequisites\n",
    "Before starting this section, you should have an understanding of basic Python but especially\n",
    "1. [Loops](https://colab.research.google.com/github/HackBinghamton/PythonWorkshop/blob/master/Intermediate/Loops.ipynb)\n",
    "2. [Functions](https://colab.research.google.com/github/HackBinghamton/PythonWorkshop/blob/master/Intro/Functions.ipynb)"
   ]
  },
  {
   "cell_type": "markdown",
   "metadata": {},
   "source": [
    "## Iterators\n",
    "An iterator is an object that contains a countable number of values. You can iterate upon an iterator, which means you can traverse through the values. In python, the iterator object implements the `__next__` and `__iter__` methods. \n",
    "\n",
    "Some examples of iterable objects are lists, tuples, dictionaries, and sets. You can get iterators from each of these containers. "
   ]
  },
  {
   "cell_type": "code",
   "execution_count": 11,
   "metadata": {},
   "outputs": [
    {
     "name": "stdout",
     "output_type": "stream",
     "text": [
      "Iterate through the following tuple: ('apple', 'banana', 'cherry')\n",
      "apple\n",
      "banana\n",
      "cherry\n",
      "Iterate through the following list: ('kiwi', 'orange', 'pinapple')\n",
      "kiwi\n",
      "orange\n",
      "pinapple\n"
     ]
    }
   ],
   "source": [
    "mytuple = (\"apple\", \"banana\", \"cherry\")\n",
    "print(\"Iterate through the following tuple:\", mytuple)\n",
    "myit = iter(mytuple)\n",
    "print(next(myit)) # Prints the first element of the tuple\n",
    "print(next(myit)) # Prints the second element of the list\n",
    "print(next(myit)) # Prints the third element of the list\n",
    "\n",
    "mylist = (\"kiwi\", \"orange\", \"pinapple\")\n",
    "myit = iter(mylist)\n",
    "\n",
    "print(\"Iterate through the following list:\", mylist)\n",
    "print(next(myit)) # Prints the first element of the list\n",
    "print(next(myit)) # Prints the second element of the list\n",
    "print(next(myit)) # Prints the third element of the list"
   ]
  },
  {
   "cell_type": "markdown",
   "metadata": {},
   "source": [
    "### Creating your own iterator\n"
   ]
  },
  {
   "cell_type": "markdown",
   "metadata": {},
   "source": [
    "### Looping through an iterator\n",
    "We can also loop through iterable objects! When we create a for loop with an iteratable object, it creates the iterator object and executes next on each loop."
   ]
  },
  {
   "cell_type": "code",
   "execution_count": null,
   "metadata": {},
   "outputs": [],
   "source": [
    "mylist = (\"kiwi\", \"orange\", \"pinapple\")\n",
    "for i in mylist:\n",
    "    print(i)"
   ]
  },
  {
   "cell_type": "code",
   "execution_count": null,
   "metadata": {},
   "outputs": [],
   "source": [
    "If we write it so that we loop through the iterable object directly, it "
   ]
  },
  {
   "cell_type": "markdown",
   "metadata": {},
   "source": [
    "Python has a built-in iterator function, `range()` that we should be familiar with. "
   ]
  },
  {
   "cell_type": "code",
   "execution_count": null,
   "metadata": {},
   "outputs": [],
   "source": []
  },
  {
   "cell_type": "markdown",
   "metadata": {},
   "source": [
    "# Generators\n",
    "\n",
    "A generator function uses `yield` statement instead of a `return`. If a function contains at least one `yield` it will become a generator function (it can also have a return). The `return` statement terminates a function, while a yeild pauses the function and saves the current state for future call."
   ]
  },
  {
   "cell_type": "markdown",
   "metadata": {},
   "source": [
    "## Differences between a Generator function and a normal function\n",
    "An iterator  an object that contains a countable number of values. You can iterate upon an iterator, which means you can traverse through the values. In python, the iterator object implements the `__next__` and `__iter__` methods. \n",
    "\n",
    "Some examples of iterable objects \n",
    "A python generator is a special type of iterator. Every generator is an iterator. Generators are built by using the `yield` expression in a function.\n",
    "\n",
    "lends us a sequence of values to python iterate on. The following is an example of generators in python."
   ]
  },
  {
   "cell_type": "code",
   "execution_count": null,
   "metadata": {},
   "outputs": [],
   "source": [
    "# A simple generator function\n",
    "def my_gen():\n",
    "    n = 1\n",
    "    print('This is printed first')\n",
    "    # Generator function contains yield statements\n",
    "    yield n\n",
    "\n",
    "    n += 1\n",
    "    print('This is printed second')\n",
    "    yield n\n",
    "\n",
    "    n += 1\n",
    "    print('This is printed at last')\n",
    "    yield n\n",
    "    \n",
    "a = my_gen()\n",
    "print(next(a))\n",
    "next(a)\n",
    "next(a)\n"
   ]
  },
  {
   "cell_type": "code",
   "execution_count": null,
   "metadata": {},
   "outputs": [],
   "source": []
  },
  {
   "cell_type": "code",
   "execution_count": null,
   "metadata": {},
   "outputs": [],
   "source": []
  },
  {
   "cell_type": "code",
   "execution_count": 6,
   "metadata": {},
   "outputs": [
    {
     "name": "stdout",
     "output_type": "stream",
     "text": [
      "8\n",
      "6\n",
      "4\n",
      "2\n"
     ]
    }
   ],
   "source": [
    "# Produces the even values starting from the given number to 0\n",
    "def even(x):\n",
    "    # Checks that number is positive\n",
    "    if (x < 0):\n",
    "        return\n",
    "    while(x!=0):\n",
    "        if x%2==0:\n",
    "            yield x\n",
    "        x-=1\n",
    "\n",
    "for i in even(8):\n",
    "    print(i)\n"
   ]
  },
  {
   "cell_type": "code",
   "execution_count": null,
   "metadata": {},
   "outputs": [],
   "source": []
  },
  {
   "cell_type": "code",
   "execution_count": null,
   "metadata": {},
   "outputs": [],
   "source": []
  },
  {
   "cell_type": "code",
   "execution_count": null,
   "metadata": {},
   "outputs": [],
   "source": [
    "A generator expression"
   ]
  },
  {
   "cell_type": "markdown",
   "metadata": {},
   "source": [
    "# Exercises\n",
    "\n",
    "1. Create a generator that produces a list of square numbers for a given range \n",
    "     - To challenge yourself, try creating the equivalent iterator!"
   ]
  },
  {
   "cell_type": "code",
   "execution_count": null,
   "metadata": {},
   "outputs": [],
   "source": []
  }
 ],
 "metadata": {
  "kernelspec": {
   "display_name": "Python 3",
   "language": "python",
   "name": "python3"
  },
  "language_info": {
   "codemirror_mode": {
    "name": "ipython",
    "version": 3
   },
   "file_extension": ".py",
   "mimetype": "text/x-python",
   "name": "python",
   "nbconvert_exporter": "python",
   "pygments_lexer": "ipython3",
   "version": "3.6.2"
  }
 },
 "nbformat": 4,
 "nbformat_minor": 2
}
