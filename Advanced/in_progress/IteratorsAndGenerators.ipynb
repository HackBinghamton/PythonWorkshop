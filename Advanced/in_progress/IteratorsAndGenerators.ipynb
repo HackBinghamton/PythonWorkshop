{
 "cells": [
  {
   "cell_type": "markdown",
   "metadata": {},
   "source": [
    "# Iterators and Generators \n"
   ]
  },
  {
   "cell_type": "markdown",
   "metadata": {},
   "source": [
    "## Overview\n",
    "\n",
    "### What You'll Learn\n",
    "In this section, you'll learn\n",
    "1. Iterators\n",
    "2. Generators\n",
    "3. Generators vs. Iterators\n",
    "\n",
    "### Prerequisites\n",
    "Before starting this section, you should have an understanding of basic Python and especially the content from the following sections\n",
    "1. [Loops](https://colab.research.google.com/github/HackBinghamton/PythonWorkshop/blob/master/Intermediate/Loops.ipynb)\n",
    "2. [Functions](https://colab.research.google.com/github/HackBinghamton/PythonWorkshop/blob/master/Intro/Functions.ipynb)"
   ]
  },
  {
   "cell_type": "markdown",
   "metadata": {},
   "source": [
    "## Iterators\n",
    "An iterator is an object that contains a countable number of values. You can iterate upon an iterator, which means you can traverse through the values. In python, the iterator object implements the `__next__` and `__iter__` methods. \n",
    "\n",
    "Some examples of *iterable* objects are lists, tuples, dictionaries, and sets. You can get iterators from each of these containers. \n",
    "\n",
    "You can create an iterator from any iterable by calling the built-in function, `iter`"
   ]
  },
  {
   "cell_type": "code",
   "execution_count": null,
   "metadata": {},
   "outputs": [],
   "source": [
    "mytuple = (\"apple\", \"banana\", \"cherry\")\n",
    "print(\"Iterate through the following tuple:\", mytuple)\n",
    "myit = iter(mytuple)\n",
    "print(next(myit)) # Prints the first element of the tuple\n",
    "print(next(myit)) # Prints the second element of the list\n",
    "print(next(myit)) # Prints the third element of the list\n",
    "\n",
    "print(\"Type of myit:\", type(myit))"
   ]
  },
  {
   "cell_type": "markdown",
   "metadata": {},
   "source": [
    "When you run through all the elements in the list, you get a StopIteration exception. "
   ]
  },
  {
   "cell_type": "code",
   "execution_count": null,
   "metadata": {},
   "outputs": [],
   "source": [
    "mylist = (\"kiwi\", \"orange\", \"pinapple\")\n",
    "myit = iter(mylist)\n",
    "\n",
    "print(\"Iterate through the following list:\", mylist)\n",
    "print(next(myit)) # Prints the first element of the list\n",
    "print(next(myit)) # Prints the second element of the list\n",
    "print(next(myit)) # Prints the third element of the list\n",
    "print(next(myit)) # Raises a StopIteration exception\n"
   ]
  },
  {
   "cell_type": "code",
   "execution_count": null,
   "metadata": {},
   "outputs": [],
   "source": []
  },
  {
   "cell_type": "code",
   "execution_count": null,
   "metadata": {},
   "outputs": [],
   "source": []
  },
  {
   "cell_type": "markdown",
   "metadata": {},
   "source": [
    "### Why use an iterator?\n",
    "Iterators save **memory** and **time**. They don't determine the next value until asked or it. "
   ]
  },
  {
   "cell_type": "markdown",
   "metadata": {},
   "source": [
    "### Creating your own iterator \n",
    "To create an iterator, you can define an object with the `__init__`, `__iter__`, and `__next__` functions.\n"
   ]
  },
  {
   "cell_type": "code",
   "execution_count": null,
   "metadata": {},
   "outputs": [],
   "source": [
    "\"\"\"\n",
    "An iterator that counts upwards forever\n",
    "\"\"\"\n",
    "\n",
    "class Count:\n",
    "    def __init__(self, start):\n",
    "        self.count = start\n",
    "        \n",
    "    def __iter__(self):\n",
    "        return self\n",
    "    \n",
    "    def __next__(self):\n",
    "        count = self.count\n",
    "        self.count += 1\n",
    "        return count\n",
    "    \n",
    "c = Count(0)\n",
    "print(next(c)) # prints 0\n",
    "print(next(c)) # prints 1"
   ]
  },
  {
   "cell_type": "markdown",
   "metadata": {},
   "source": [
    "This iterator doesn't end, but if we wanted to end an iterator at a certain point the next function would look something like the following"
   ]
  },
  {
   "cell_type": "code",
   "execution_count": null,
   "metadata": {},
   "outputs": [],
   "source": [
    "def __next__(self):\n",
    "    # Check if a value can be generated\n",
    "    if self.value1 < self.value2:\n",
    "        i = self.value1\n",
    "        self.value1 += 1\n",
    "        return i\n",
    "    else: \n",
    "        # If not, raise StopIteration()\n",
    "        raise StopIteration()"
   ]
  },
  {
   "cell_type": "markdown",
   "metadata": {},
   "source": [
    "### Looping through an iterator\n",
    "We can also loop through iterable objects! When we create a for loop with an iteratable object, it creates the iterator object and executes next on each loop."
   ]
  },
  {
   "cell_type": "code",
   "execution_count": null,
   "metadata": {},
   "outputs": [],
   "source": [
    "mylist = (\"kiwi\", \"orange\", \"pinapple\")\n",
    "for i in mylist:\n",
    "    print(i)"
   ]
  },
  {
   "cell_type": "markdown",
   "metadata": {},
   "source": [
    "We can also see the for loop through the list as if it was calling the `next()` function on the iter object repeatedly"
   ]
  },
  {
   "cell_type": "code",
   "execution_count": null,
   "metadata": {},
   "outputs": [],
   "source": [
    "# Equivalent to the for loop above, but instead stops at the StopIteration exception\n",
    "iterator = iter(mylist)\n",
    "while True:\n",
    "    item = iterator.__next__()\n",
    "    print(item)"
   ]
  },
  {
   "cell_type": "markdown",
   "metadata": {},
   "source": [
    "## Generators\n",
    "\n",
    "Generators are a simplified version of an iterator. \n",
    "\n",
    "Generators are built by using the `yield` expression in a function."
   ]
  },
  {
   "cell_type": "code",
   "execution_count": null,
   "metadata": {},
   "outputs": [],
   "source": [
    "\"\"\"\n",
    "Produces the values up to n\n",
    "\"\"\"\n",
    "def n_range(n):\n",
    "    i = 0\n",
    "    while (i < n):\n",
    "        yield i \n",
    "        i += 1\n",
    "        \n",
    "y = n_range(3)\n",
    "print(next(y)) # Prints 0\n",
    "print(next(y)) # Prints 1\n",
    "print(next(y)) # Prints 2\n",
    "print(next(y)) # Raises StopIteration "
   ]
  },
  {
   "cell_type": "markdown",
   "metadata": {},
   "source": [
    "### Differences between a Generator function and a normal function\n",
    "\n",
    "A generator function uses `yield` statement instead of a `return`. If a function contains at least one `yield` it will become a generator function (it can also have a return). The `return` statement terminates a function, while a yeild pauses the function and saves the current state for future call."
   ]
  },
  {
   "cell_type": "markdown",
   "metadata": {},
   "source": [
    "## Generators vs. Iterators\n",
    "\n",
    "A python generator is a special type of iterator. Every generator is an iterator. Generators simplify the creation of iterators. \n"
   ]
  },
  {
   "cell_type": "code",
   "execution_count": null,
   "metadata": {},
   "outputs": [],
   "source": [
    "# A simple generator function\n",
    "def my_gen():\n",
    "    n = 1\n",
    "    print('This is printed first')\n",
    "    # Generator function contains yield statements\n",
    "    yield n\n",
    "\n",
    "    n += 1\n",
    "    print('This is printed second')\n",
    "    yield n\n",
    "\n",
    "    n += 1\n",
    "    print('This is printed at last')\n",
    "    yield n\n",
    "    \n",
    "a = my_gen()\n",
    "print(next(a))\n",
    "next(a)\n",
    "next(a)"
   ]
  },
  {
   "cell_type": "markdown",
   "metadata": {},
   "source": [
    "## Generator expressions\n",
    "\n",
    "If you want to explore more, check out generator expressions. Generator expressions are the generator version of list comprehension."
   ]
  },
  {
   "cell_type": "markdown",
   "metadata": {},
   "source": [
    "# Exercises\n",
    "\n",
    "1. Create an iterator object that produces a list of square numbers for a given range \n",
    "     - To challenge yourself, try creating the equivalent generator! (or use a generator expression)"
   ]
  },
  {
   "cell_type": "code",
   "execution_count": null,
   "metadata": {},
   "outputs": [],
   "source": [
    "# Your code here!"
   ]
  }
 ],
 "metadata": {
  "kernelspec": {
   "display_name": "Python 3",
   "language": "python",
   "name": "python3"
  },
  "language_info": {
   "codemirror_mode": {
    "name": "ipython",
    "version": 3
   },
   "file_extension": ".py",
   "mimetype": "text/x-python",
   "name": "python",
   "nbconvert_exporter": "python",
   "pygments_lexer": "ipython3",
   "version": "3.6.2"
  }
 },
 "nbformat": 4,
 "nbformat_minor": 2
}
