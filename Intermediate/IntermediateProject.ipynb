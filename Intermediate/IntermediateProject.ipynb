{
 "cells": [
  {
   "cell_type": "markdown",
   "metadata": {
    "colab_type": "text",
    "id": "7smjkOZYmC3F"
   },
   "source": [
    "# Intermediate Project: Contact Book\n",
    "\n",
    "Using your knowledge of these difference topics, it is now up to you to design a digital contact book.\n",
    "\n",
    "## Requirements\n",
    "\n",
    "To create a fully-functioning contact book, you must meet the following requirements.\n",
    "\n",
    "1. Each contact in your contact book should have a designated name, address, phone number, and email address. \n",
    "2. Users must be able to\n",
    "    * View contacts\n",
    "    * Create a new contact\n",
    "    * Delete a contact\n",
    "    \n",
    "## Where to Start\n",
    "\n",
    "There are many moving parts to consider in an application like this. Choosing where to start can be overwhelming, so consider these different features of the application:\n",
    "\n",
    "* How would you like users to interact with your application?\n",
    "    * Via the command line with `input()`?\n",
    "    * Do you want users to pass your program commands that it interprets and executes?\n",
    "* How would you like to represent contact data?\n",
    "    * With a Class or a dictionary?\n",
    "    * If using a Class, what behavior would you need?\n",
    "* Would you like to save contact data to the disk? If so, how?\n",
    "    * Using `open()` to interact with files?\n",
    "    * How will you read and write the data?\n",
    "\n",
    "These are all questions worth considering, but those three lowest-level bullets are three almost entirely independent questions you could solve. By figuring out how you'd like to handle all three, you'll be well on your way to building a solid application!\n",
    "\n",
    "## Some Pointers\n",
    "To apply what you've learned from the [Basic OOP](BasicOOP.ipynb) section, start thinking about the classes you could create, what data members they have, and what functions would be useful. \n",
    "\n",
    "You can also refer to the [File Input and Output](FileIO.ipynb) when creating test files to try your program on. Try and use [String Manipulation](StringManipulation.ipynb) for input validation.\n",
    "\n",
    "Make sure to implement think about which [Collections](Collections.ipynb) would be helpful in storing data and when a repetitive task could be easier with [Loops](Loops.ipynb)! If you want to challenge yourself, see if you can shrink your code down by using [Comprehensions and Ternary Operations](ComprehensionsAndTernaryOperators.ipynb) or find a way to implement a function with [Recursion](Recursion.ipynb). \n",
    "\n",
    "Good luck!"
   ]
  },
  {
   "cell_type": "code",
   "execution_count": 0,
   "metadata": {
    "colab": {},
    "colab_type": "code",
    "id": "ZaCMw31ovnbx"
   },
   "outputs": [],
   "source": [
    "# Your code here!"
   ]
  }
 ],
 "metadata": {
  "colab": {
   "name": "Intermediate_exercise.ipynb",
   "provenance": [],
   "version": "0.3.2"
  },
  "kernelspec": {
   "display_name": "Python 3",
   "language": "python",
   "name": "python3"
  },
  "language_info": {
   "codemirror_mode": {
    "name": "ipython",
    "version": 3
   },
   "file_extension": ".py",
   "mimetype": "text/x-python",
   "name": "python",
   "nbconvert_exporter": "python",
   "pygments_lexer": "ipython3",
   "version": "3.8.2"
  }
 },
 "nbformat": 4,
 "nbformat_minor": 1
}
