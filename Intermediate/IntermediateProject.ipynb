{
 "cells": [
  {
   "cell_type": "markdown",
   "metadata": {
    "colab_type": "text",
    "id": "eGrFkyU4k0JL"
   },
   "source": [
    "# Intermediate Project\n",
    "## What we've covered\n",
    "- [Basic OOP](BasicOOP.ipynb)\n",
    "- [Collections](Collections.ipynb)\n",
    "- [Comprehensions and Ternary Operations](ComprehensionsAndTernaryOperators.ipynb)\n",
    "- [File input and output](FileIO.ipynb)\n",
    "- [Loops](Loops.ipynb)\n",
    "- [Collections](Collections.ipynb)\n",
    "- [Recursion](Recursion.ipynb)\n",
    "- [String Manipulation](StringManipulation.ipynb)"
   ]
  },
  {
   "cell_type": "markdown",
   "metadata": {
    "colab_type": "text",
    "id": "7smjkOZYmC3F"
   },
   "source": [
    "## Final Exercise\n",
    "\n",
    "Using your knowledge of these difference topics, it is now up to you to design a digital contact book. Each contact in your contact book should have a designated name, address, phone number, and email address. \n",
    "\n",
    "**Hint**: Try using what you've learned from Basic OOP and File Input and Output. Good luck!"
   ]
  },
  {
   "cell_type": "code",
   "execution_count": null,
   "metadata": {},
   "outputs": [],
   "source": []
  }
 ],
 "metadata": {
  "colab": {
   "name": "Intermediate_exercise.ipynb",
   "provenance": [],
   "version": "0.3.2"
  },
  "kernelspec": {
   "display_name": "Python 3",
   "language": "python",
   "name": "python3"
  },
  "language_info": {
   "codemirror_mode": {
    "name": "ipython",
    "version": 3
   },
   "file_extension": ".py",
   "mimetype": "text/x-python",
   "name": "python",
   "nbconvert_exporter": "python",
   "pygments_lexer": "ipython3",
   "version": "3.6.2"
  }
 },
 "nbformat": 4,
 "nbformat_minor": 1
}
