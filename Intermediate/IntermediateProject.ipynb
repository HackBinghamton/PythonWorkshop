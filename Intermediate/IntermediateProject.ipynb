{
 "cells": [
  {
   "cell_type": "markdown",
   "metadata": {
    "colab_type": "text",
    "id": "7smjkOZYmC3F"
   },
   "source": [
    "# Intermediate Project\n",
    "\n",
    "Using your knowledge of these difference topics, it is now up to you to design a digital contact book. Each contact in your contact book should have a designated name, address, phone number, and email address. \n",
    "\n",
    "To apply what you've learned from the [Basic OOP](BasicOOP.ipynb) section, start thinking about the classes you could create, what data members they have, and what functions would be useful. \n",
    "\n",
    "You can also refer to the [File Input and Output](FileIO.ipynb) when creating test files to try your program on. Try and use [String Manipulation](StringManipulation.ipynb) for input validation.\n",
    "\n",
    "Make sure to implement think about which [Collections](Collections.ipynb) would be helpful in storing data and when a repetitive task could be easier with [Loops](Loops.ipynb)! If you want to challenge yourself, see if you can shrink your code down by using [Comprehensions and Ternary Operations](ComprehensionsAndTernaryOperators.ipynb) or find a way to implement a function with [Recursion](Recursion.ipynb). \n",
    "\n",
    "Good luck!"
   ]
  },
  {
   "cell_type": "code",
   "execution_count": null,
   "metadata": {},
   "outputs": [],
   "source": [
    "# Your code here!"
   ]
  }
 ],
 "metadata": {
  "colab": {
   "name": "Intermediate_exercise.ipynb",
   "provenance": [],
   "version": "0.3.2"
  },
  "kernelspec": {
   "display_name": "Python 3",
   "language": "python",
   "name": "python3"
  },
  "language_info": {
   "codemirror_mode": {
    "name": "ipython",
    "version": 3
   },
   "file_extension": ".py",
   "mimetype": "text/x-python",
   "name": "python",
   "nbconvert_exporter": "python",
   "pygments_lexer": "ipython3",
   "version": "3.6.2"
  }
 },
 "nbformat": 4,
 "nbformat_minor": 1
}
