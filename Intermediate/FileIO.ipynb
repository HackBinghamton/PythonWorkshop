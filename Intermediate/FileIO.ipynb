{
  "nbformat": 4,
  "nbformat_minor": 0,
  "metadata": {
    "kernelspec": {
      "display_name": "Python 3",
      "language": "python",
      "name": "python3"
    },
    "language_info": {
      "codemirror_mode": {
        "name": "ipython",
        "version": 3
      },
      "file_extension": ".py",
      "mimetype": "text/x-python",
      "name": "python",
      "nbconvert_exporter": "python",
      "pygments_lexer": "ipython3",
      "version": "3.8.2"
    },
    "colab": {
      "name": "Copy of FileIO.ipynb",
      "provenance": []
    }
  },
  "cells": [
    {
      "cell_type": "markdown",
      "metadata": {
        "id": "0yMOQ6xbcX83"
      },
      "source": [
        "# File Input and Output\n",
        "\n",
        "There are a lot of situations where being able to write to or read from a file can be useful for a Python program. Let's look at how you can interact with these files both as inputs and outputs."
      ]
    },
    {
      "cell_type": "markdown",
      "metadata": {
        "id": "dkILZAv_cX8-"
      },
      "source": [
        "## Setup\n",
        "\n",
        "**Run the below cell to set up the environment** -- this will create the files that we work with."
      ]
    },
    {
      "cell_type": "code",
      "metadata": {
        "id": "1CxyDSAmcX8_"
      },
      "source": [
        "!ls\n",
        "!echo \"This is a test file!\" > test.txt\n",
        "!echo \"You now have a file called 'test.txt' with contents:\"\n",
        "!cat test.txt\n",
        "with open(\"bytes\", \"wb\") as bytes_file:\n",
        "    bytes_file.write(\"\\x5a\\x0c\\xb7\\x88\\x6a\\x9e\".encode())\n",
        "!echo \"You also have a file called 'bytes' with contents:\"\n",
        "!cat bytes"
      ],
      "execution_count": null,
      "outputs": []
    },
    {
      "cell_type": "markdown",
      "metadata": {
        "id": "6_k7Txt7cX8_"
      },
      "source": [
        "## Getting Started\n",
        "\n",
        "Here's the general structure of how you can open a file, whether for input or for output:"
      ]
    },
    {
      "cell_type": "markdown",
      "metadata": {
        "id": "Qxv7mgyLcX9A"
      },
      "source": [
        "```python\n",
        "file_obj = open(<filename here>, <access specifier>)\n",
        "```"
      ]
    },
    {
      "cell_type": "markdown",
      "metadata": {
        "id": "Ri2WjSUPcX9A"
      },
      "source": [
        "The filename is a path to a filename, whether an absolute path (e.g. `/home/username/some_text.txt`) or a relative path (e.g. `./folder/text_file.txt`). If you are trying to open a file in the same directory as the code opening it, it would just be `filename.txt`. When the file is in a different folder, that is when you have to specify the path.\n",
        "\n",
        "The access specifier defines how our program interacts with the file. It can specify modes like reading, writing, appending, and more. In the following sections, we'll show how you can use each of these modes in your programs."
      ]
    },
    {
      "cell_type": "markdown",
      "metadata": {
        "id": "Xq_I93NGcX9A"
      },
      "source": [
        "## Input\n",
        "\n",
        "The `\"r\"` access specifier opens a file for reading. The following line opens a file called `test.txt` for reading, and puts the file object in a variable called `my_file`. "
      ]
    },
    {
      "cell_type": "code",
      "metadata": {
        "id": "D8pzf7iLcX9A"
      },
      "source": [
        "my_file = open(\"test.txt\", \"r\")"
      ],
      "execution_count": 2,
      "outputs": []
    },
    {
      "cell_type": "markdown",
      "metadata": {
        "id": "o5ey0PWHcX9B"
      },
      "source": [
        "`my_file` lets you interface with `test.txt`. To store the contents of `test.txt` in a variable, you can use `.read()` on `my_file`, like so:"
      ]
    },
    {
      "cell_type": "code",
      "metadata": {
        "id": "29nyrFmucX9B"
      },
      "source": [
        "file_text = my_file.read()"
      ],
      "execution_count": 3,
      "outputs": []
    },
    {
      "cell_type": "markdown",
      "metadata": {
        "id": "BMVHbCp0cX9B"
      },
      "source": [
        "This copies the contents of `my_file` to `file_text`. Let's print out what our file says!"
      ]
    },
    {
      "cell_type": "code",
      "metadata": {
        "id": "AHyVgbwwcX9B"
      },
      "source": [
        "print(file_text)"
      ],
      "execution_count": null,
      "outputs": []
    },
    {
      "cell_type": "markdown",
      "metadata": {
        "id": "2ugw9lEbcX9C"
      },
      "source": [
        "There are other ways you can read from file objects as well. Calling `.read()` with an integer parameter tells it how many characters to read starting from the beginning of the file. For example, `my_file.read(10)` will return a string of the first 10 characters from the file.\n",
        "\n",
        "Calling `.readline()` on a file object will return a string of all characters until the next occurrence of the newline character (`\\n`).\n",
        "\n",
        "## Output\n",
        "There are two main access specifiers to open a file for writing: writing (`\"w\"`) and appending (`\"a\"`).\n",
        "\n",
        "#### Writing\n",
        "\n",
        "Writing creates a brand new file with the name that you give, and **if a file by that name already exists it will be overwritten, so be careful**."
      ]
    },
    {
      "cell_type": "code",
      "metadata": {
        "id": "M8SVFI9pcX9C"
      },
      "source": [
        "my_file = open(\"test.txt\", \"w\")"
      ],
      "execution_count": null,
      "outputs": []
    },
    {
      "cell_type": "markdown",
      "metadata": {
        "id": "ocsBq-NbcX9C"
      },
      "source": [
        "Now that we've opened the file, we can write into it:"
      ]
    },
    {
      "cell_type": "code",
      "metadata": {
        "scrolled": false,
        "id": "U0R0DJrjcX9C"
      },
      "source": [
        "my_file.write(\"Hey look I wrote a file.\")"
      ],
      "execution_count": null,
      "outputs": []
    },
    {
      "cell_type": "markdown",
      "metadata": {
        "id": "ppRgum4EcX9D"
      },
      "source": [
        "If we write to it again, the file will be overwritten, and only \"Hey look I wrote it again\" will be there:"
      ]
    },
    {
      "cell_type": "code",
      "metadata": {
        "id": "9JS6phnacX9D"
      },
      "source": [
        "my_file.write(\"Hey look I wrote it again.\")"
      ],
      "execution_count": null,
      "outputs": []
    },
    {
      "cell_type": "markdown",
      "metadata": {
        "id": "7CJuWZ1ccX9D"
      },
      "source": [
        "#### Appending\n",
        "\n",
        "If you **don't** want to overwrite the file and just want to add to the end of it, you can open it for appending."
      ]
    },
    {
      "cell_type": "code",
      "metadata": {
        "id": "7YAIPIupcX9D"
      },
      "source": [
        "my_file = open(\"test.txt\", \"a\")"
      ],
      "execution_count": null,
      "outputs": []
    },
    {
      "cell_type": "markdown",
      "metadata": {
        "id": "R3ADrUtpcX9D"
      },
      "source": [
        "When you `.write()` to a file opened in append mode, whatever you write is placed at the end of the file. Let's append a message to our `test.txt` file."
      ]
    },
    {
      "cell_type": "code",
      "metadata": {
        "id": "0tJEH4K7cX9D"
      },
      "source": [
        "my_file.write(\"Hey look I'm going to be after the first line!\")"
      ],
      "execution_count": null,
      "outputs": []
    },
    {
      "cell_type": "markdown",
      "metadata": {
        "id": "7tjp-ShscX9E"
      },
      "source": [
        "## Closing Files and `with` Statements\n",
        "\n",
        "It's important to remember that any time you're done using a file, you should **always** make sure to close it using the close() function:"
      ]
    },
    {
      "cell_type": "code",
      "metadata": {
        "id": "PjsOF5CjcX9E"
      },
      "source": [
        "my_file = open(\"filename.txt\", \"w\")\n",
        "my_file.write(\"Here's some lovely text.\")\n",
        "my_file.close()"
      ],
      "execution_count": null,
      "outputs": []
    },
    {
      "cell_type": "markdown",
      "metadata": {
        "id": "Nrl_b6IlcX9E"
      },
      "source": [
        "Usually it's not a big deal, but there are ways that people could steal private information if you don't remember to close your files! Also, you may run into issues if you leave a file open, then try to open it again!\n",
        "\n",
        "While doing the above code _works_ for most purposes, what if your program crashes between opening and closing? Your file might get messed up or bad people might access it. To prevent anything bad from happening to our files, there's a handy statement in Python that will handle closing for us automicatically! The `with` statement allows you to use a file, and automatically closes it when you're done using it.\n",
        "\n",
        "Here's the same code as the above sample, but written with a `with` statement:"
      ]
    },
    {
      "cell_type": "code",
      "metadata": {
        "id": "mh3h1borcX9E"
      },
      "source": [
        "with open(\"filename.txt\", \"w\") as my_file:\n",
        "    my_file.write(\"Here's some lovely text.\")"
      ],
      "execution_count": null,
      "outputs": []
    },
    {
      "cell_type": "markdown",
      "metadata": {
        "id": "_JvKjJU3cX9E"
      },
      "source": [
        "This sets `my_file` to the result of `open(\"filename.txt\", \"w\")`, writes to it, and then automatically closes it.\n",
        "\n",
        "Any variables you declare in a `with` block are accessible after the block! For example, we can print out the contents of a file with the following code:"
      ]
    },
    {
      "cell_type": "code",
      "metadata": {
        "id": "WAE7vIgncX9F"
      },
      "source": [
        "with open(\"filename.txt\", \"r\") as my_file:\n",
        "    contents = my_file.read()\n",
        "print(contents)"
      ],
      "execution_count": null,
      "outputs": []
    },
    {
      "cell_type": "markdown",
      "metadata": {
        "id": "sGUL2KV-cX9F"
      },
      "source": [
        "## Reading and Writing with Bytes\n",
        "\n",
        "Sometimes you want to write data besides text to a file. For example, you may want to read and write image data or executable binaries. In these cases, you can add a `b` to the access specifier, for example `\"rb\"` or `\"rw\"`. Keep in mind that when you read from files opened in byte mode, you need to write to them with objects of the type `bytes`.\n",
        "\n",
        "Here, we read from a file in bytes mode:"
      ]
    },
    {
      "cell_type": "code",
      "metadata": {
        "id": "3bY-m1vFcX9F"
      },
      "source": [
        "with open(\"bytes\", \"rb\") as my_file:\n",
        "    contents = my_file.read().decode()\n",
        "print(\"Printing this out doesn't actually make much sense -- image data or other non-text data looks horrible as text. This is purely an example.\")\n",
        "print(contents)"
      ],
      "execution_count": null,
      "outputs": []
    },
    {
      "cell_type": "markdown",
      "metadata": {
        "id": "rNw7kaLvcX9F"
      },
      "source": [
        "## Error Checking\n",
        "\n",
        "When opening a file for reading, you will receive an error (`FileNotFoundError`) if the file does not exist within the same folder as your Python program. For example, try this code out:"
      ]
    },
    {
      "cell_type": "code",
      "metadata": {
        "id": "tyR0gQXZcX9F"
      },
      "source": [
        "with open(\"thisfiledoesntexist.pdf.jpeg.json.tar.gz.zip.dmg.mp4.mp3.xml\", \"r\") as my_file:\n",
        "    print(my_file.read())"
      ],
      "execution_count": null,
      "outputs": []
    },
    {
      "cell_type": "markdown",
      "metadata": {
        "id": "7gS1f0aUcX9G"
      },
      "source": [
        "Similarly, if you attempt to open a file that you don't have the privileges to open, you'll get an `IOError`.\n",
        "\n",
        "We can handle this with `try` and `except` statements. `try` statements let the program try to run some code, and `except` statements are executed when an error occurs. Here's how we can handle a `FileNotFound` error:"
      ]
    },
    {
      "cell_type": "code",
      "metadata": {
        "id": "oHP1mGwtcX9G",
        "colab": {
          "base_uri": "https://localhost:8080/"
        },
        "outputId": "3213d7e3-c524-41db-e6d2-02a641126095"
      },
      "source": [
        "try:\n",
        "    with open(\"thisfiledoesntexist.pdf.jpeg.json.tar.gz.zip.dmg.mp4.mp3.xml\", \"r\") as my_file:\n",
        "        print(my_file.read())\n",
        "except FileNotFoundError:\n",
        "    print(\"Error: Couldn't find the file. Don't worry, I'm not gonna crash the program :)\")\n",
        "\n",
        "print(\"Oh look if there was an error it got handled and this line of code doesn't know the difference!\")"
      ],
      "execution_count": 6,
      "outputs": [
        {
          "output_type": "stream",
          "text": [
            "Error: Couldn't find the file. Don't worry, I'm not gonna crash the program :)\n",
            "Oh look if there was an error it got handled and this line of code doesn't know the difference!\n"
          ],
          "name": "stdout"
        }
      ]
    },
    {
      "cell_type": "markdown",
      "metadata": {
        "id": "Oq7kXi3fcX9G"
      },
      "source": [
        "In the `try` block, the program attempts to open a file that doesn't exist. When the error gets thrown, our program intercepts it, and lets us address it however we'd like  to in the `except` block.\n",
        "\n",
        "## Exercise\n",
        "\n",
        "Create a new file, `ex1.txt`, and write a message of your choice into it. _Make sure to close the file when you're done!_"
      ]
    },
    {
      "cell_type": "code",
      "metadata": {
        "id": "wpODh7YDcX9H"
      },
      "source": [
        "#Your code here!"
      ],
      "execution_count": null,
      "outputs": []
    },
    {
      "cell_type": "markdown",
      "metadata": {
        "id": "z6Kt-kbVcX9H"
      },
      "source": [
        "Now, open the file and read out its contents into a variable, and print them out."
      ]
    },
    {
      "cell_type": "code",
      "metadata": {
        "id": "nGKYrls2cX9H"
      },
      "source": [
        "#Your code here!"
      ],
      "execution_count": null,
      "outputs": []
    },
    {
      "cell_type": "markdown",
      "metadata": {
        "id": "t95h5kKVnbAx"
      },
      "source": [
        "## Next section (recommended): [Basic OOP](https://colab.research.google.com/github/HackBinghamton/PythonWorkshop/blob/master/Intermediate/BasicOOP.ipynb)"
      ]
    }
  ]
}