{
 "cells": [
  {
   "cell_type": "markdown",
   "metadata": {},
   "source": [
    "# Intermediate Python\n",
    "\n",
    "Welcome to intermediate python! Whether you've had experience with Python before or you just completed the beginner section, it's time to level up your game by tackling loops, basic OOP, and more. You can take a look at any section that interests you, but we suggest you explore the repository in this order:\n",
    "\n",
    "## 1. Getting started\n",
    " - [Loops](Loops.ipynb)\n",
    " - [Collections](Collections.ipynb)\n",
    " - [String Manipulation](StringManipulation.ipynb)\n",
    " - [File input and output](FileIO.ipynb)\n",
    " - [Basic OOP](BasicOOP.ipynb)\n",
    " \n",
    "## 2. Building on the basics\n",
    " - [Comprehensions and Ternary Operations](ComprehensionsAndTernaryOperators.ipynb)\n",
    " - [Recursion](Recursion.ipynb)\n",
    "\n",
    "## 3. Putting it in practice\n",
    " - [Intermediate Project](IntermediateProject.ipynb) "
   ]
  }
 ],
 "metadata": {
  "kernelspec": {
   "display_name": "Python 3",
   "language": "python",
   "name": "python3"
  },
  "language_info": {
   "codemirror_mode": {
    "name": "ipython",
    "version": 3
   },
   "file_extension": ".py",
   "mimetype": "text/x-python",
   "name": "python",
   "nbconvert_exporter": "python",
   "pygments_lexer": "ipython3",
   "version": "3.6.2"
  }
 },
 "nbformat": 4,
 "nbformat_minor": 2
}
