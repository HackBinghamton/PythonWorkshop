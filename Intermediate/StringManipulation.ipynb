{
  "nbformat": 4,
  "nbformat_minor": 0,
  "metadata": {
    "kernelspec": {
      "display_name": "Python 3",
      "language": "python",
      "name": "python3"
    },
    "language_info": {
      "codemirror_mode": {
        "name": "ipython",
        "version": 3
      },
      "file_extension": ".py",
      "mimetype": "text/x-python",
      "name": "python",
      "nbconvert_exporter": "python",
      "pygments_lexer": "ipython3",
      "version": "3.6.2"
    },
    "colab": {
      "name": "StringManipulation.ipynb",
      "provenance": []
    }
  },
  "cells": [
    {
      "cell_type": "markdown",
      "metadata": {
        "id": "A3i8OcpXHJwl",
        "colab_type": "text"
      },
      "source": [
        "# String Manipulation\n",
        "\n",
        "Now that we know about Lists, we can revisit strings and take a closer look at ways to use them.\n",
        "\n",
        "Strings are really just a list of characters. For instance, the string \"Hello World\" is a list of 11 characters. Just like any other list, we can access elements of it by using their index. The following code should print the character at index 0 in \"Hello World\", which is \"H\":"
      ]
    },
    {
      "cell_type": "code",
      "metadata": {
        "id": "Ane7yS81HJwo",
        "colab_type": "code",
        "colab": {}
      },
      "source": [
        "my_string = \"Hello World\"\n",
        "print(my_string[0])"
      ],
      "execution_count": 0,
      "outputs": []
    },
    {
      "cell_type": "markdown",
      "metadata": {
        "id": "Ib8-cN6LHJw0",
        "colab_type": "text"
      },
      "source": [
        "### Concatenation\n",
        "\n",
        "Strings can be added together just like lists. For example, if we take the string \"Hello\" and add it to the string \"World\":"
      ]
    },
    {
      "cell_type": "code",
      "metadata": {
        "id": "PMdGeiBmHJw3",
        "colab_type": "code",
        "colab": {}
      },
      "source": [
        "my_string = \"Hello\" + \"World\"\n",
        "print(my_string)"
      ],
      "execution_count": 0,
      "outputs": []
    },
    {
      "cell_type": "markdown",
      "metadata": {
        "id": "yEEYDnkeHJw_",
        "colab_type": "text"
      },
      "source": [
        "Notice that this doesn't add a space in between the two strings. You must include this yourself either at the end of the first string or at the beginning of the second string.\n",
        "\n",
        "\n",
        "Strings also have a lot of built in functions in Python that make using them much easier:\n",
        "\n",
        "### Count\n",
        "\n",
        "count() will return the number of occurrences of a given string within your string. Let's say you need to count the number of times that \"g\" shows up in a string that the user inputs. The syntax for this is `string_name.count(\"g\")`.\n",
        "\n",
        "### Slicing\n",
        "\n",
        "Slicing lets you take a small chunk of characters out of a string and store it in a new string. Syntactically, slicing is similar to indexing. The basic form is **[start : end]** where start and end are indexes in the string. For example, `my_string[0:3]` will give you a string of the first three characters in my_string. The following code should print \"Doct\":"
      ]
    },
    {
      "cell_type": "code",
      "metadata": {
        "id": "XAYfOyovHJxC",
        "colab_type": "code",
        "colab": {}
      },
      "source": [
        "my_string = \"Doctor\"\n",
        "new_string = my_string[0:4]\n",
        "print(new_string)"
      ],
      "execution_count": 0,
      "outputs": []
    },
    {
      "cell_type": "markdown",
      "metadata": {
        "id": "u1H7s36rHJxJ",
        "colab_type": "text"
      },
      "source": [
        "Notice that the string that is returned will include the character at the start index, but will only include up to the character at one less than the end index. Not passing in a value for start will automatically make it 0, and not passing in a value for end will automatically make it the last index in the string + 1.\n",
        "\n",
        "The indexes can also be negative, so `my_string[-3:]` will return the last three characters of the string and `my_string[:-3]` will give you all but the last three characters of the string.\n",
        "\n",
        "### Split\n",
        "\n",
        "`split()` allows you to turn a string into a list of strings. The original string will be split apart at every occurrence of the string that is passed into split(). For example, the following code will print [\"My\", \"dog\", \"is\", \"great\"]"
      ]
    },
    {
      "cell_type": "code",
      "metadata": {
        "id": "tXgDrVLcHJxM",
        "colab_type": "code",
        "colab": {}
      },
      "source": [
        "my_string = \"My dog is great\"\n",
        "split_string = my_string.split(\" \")\n",
        "print(split_string)"
      ],
      "execution_count": 0,
      "outputs": []
    },
    {
      "cell_type": "markdown",
      "metadata": {
        "id": "c8hMHbjtHJxW",
        "colab_type": "text"
      },
      "source": [
        "### Capitalization\n",
        "You can also play around with upper and lower case strings. Using the functions\n",
        "* `upper()`\n",
        "* `lower()`\n",
        "* `title()`\n",
        "* `capitalize()`\n",
        "* `swapcase()`\n",
        "\n",
        "You can try changing the string below to see how the function applies to difference strings."
      ]
    },
    {
      "cell_type": "code",
      "metadata": {
        "id": "oSWpUXsMHJxY",
        "colab_type": "code",
        "colab": {}
      },
      "source": [
        "string = \"Hello World\"\n",
        "print(string.upper()) # \"HELLO WORLD\"\n",
        "print(string.lower()) # \"hello world\"\n",
        "print(string.title()) # \"Hello World\"\n",
        "print(string.capitalize()) # \"Hello world\"\n",
        "print(string.swapcase()) # \"hELLO wORLD\""
      ],
      "execution_count": 0,
      "outputs": []
    },
    {
      "cell_type": "markdown",
      "metadata": {
        "id": "Ual5Zi7THJxl",
        "colab_type": "text"
      },
      "source": [
        "### Input Validation\n",
        "You can also use functions to check for specific types of characters in a string. Here are some example functions:\n",
        "* `isalnum()`\n",
        "* `isalpha()`\n",
        "* `isdigit()`\n",
        "* `istitle()`\n",
        "* `isupper()`\n",
        "* `islower()`\n",
        "* `isspace()`\n",
        "* `endswith()`\n",
        "* `startswith()`"
      ]
    },
    {
      "cell_type": "markdown",
      "metadata": {
        "id": "o6gjn0TQHN6D",
        "colab_type": "text"
      },
      "source": [
        "## Exercise\n",
        "Complete the function below. If the string passed in starts with an uppercase letter, return the whole string as uppercase. Otherwise, if the letter 'p' occurs 2 or more times in the string, return the first 2 characters of the string. Else, return the string concatenated with \"HackBU is cool\""
      ]
    },
    {
      "cell_type": "code",
      "metadata": {
        "id": "cKYX5SSMJYKs",
        "colab_type": "code",
        "outputId": "cd409666-3c50-48a7-c0a4-28585159d410",
        "colab": {
          "base_uri": "https://localhost:8080/",
          "height": 34
        }
      },
      "source": [
        "def stringsAreFun(string):\n",
        "  #Implement me!\n",
        "  \n",
        "  \n",
        "  \n",
        "assert(stringsAreFun(\"Pickles\") == \"PICKLES\")\n",
        "assert(stringsAreFun(\"apples\") == \"ap\")\n",
        "assert(stringsAreFun(\"It's true that\"))\n",
        "print(\"Good Job, you completed this exercise!\")"
      ],
      "execution_count": 0,
      "outputs": [
        {
          "output_type": "stream",
          "text": [
            "Good Job, you completed this exercise!\n"
          ],
          "name": "stdout"
        }
      ]
    },
    {
      "cell_type": "markdown",
      "metadata": {
        "id": "uMmeNVLaHJxo",
        "colab_type": "text"
      },
      "source": [
        "### More String Functions \n",
        "You can find more abiout Python's built-in string methods by [here](https://www.w3schools.com/python/python_ref_string.asp)"
      ]
    },
    {
      "cell_type": "code",
      "metadata": {
        "id": "SQzz9CTQHJxq",
        "colab_type": "code",
        "colab": {}
      },
      "source": [
        "# Try manipulating some strings here!"
      ],
      "execution_count": 0,
      "outputs": []
    }
  ]
}