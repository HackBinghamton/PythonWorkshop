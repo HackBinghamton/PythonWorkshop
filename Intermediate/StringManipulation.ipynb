{
 "cells": [
  {
   "cell_type": "markdown",
   "metadata": {
    "colab_type": "text",
    "id": "A3i8OcpXHJwl"
   },
   "source": [
    "# String Manipulation\n",
    "\n",
    "## Overview\n",
    "\n",
    "### What You'll Learn\n",
    "\n",
    "1. How to concatenate, slice, split, and capitalize strings!\n",
    "\n",
    "### Prerequisites\n",
    "Before you start this section, you should have an understanding of\n",
    "1. [Collections](https://colab.research.google.com/github/HackBinghamton/PythonWorkshop/blob/master/Intermediate/Collections.ipynb)\n",
    "\n",
    "Now that we know about Lists, we can revisit strings and take a closer look at ways we can use them.\n",
    "\n",
    "Strings are really just a list of characters. For instance, the string \"Hello World\" is a list of 11 characters. Just like any other list, we can access elements of it by using their index. The following code should print the character at index 0 in \"Hello World\", which is \"H\":"
   ]
  },
  {
   "cell_type": "code",
   "execution_count": null,
   "metadata": {
    "colab": {},
    "colab_type": "code",
    "id": "Ane7yS81HJwo"
   },
   "outputs": [],
   "source": [
    "my_string = \"Hello World\"\n",
    "print(my_string[0])"
   ]
  },
  {
   "cell_type": "markdown",
   "metadata": {
    "colab_type": "text",
    "id": "Ib8-cN6LHJw0"
   },
   "source": [
    "### Concatenation\n",
    "\n",
    "Strings can be added together just like lists. For example, if we take the string \"Hello\" and add it to the string \"World\":"
   ]
  },
  {
   "cell_type": "code",
   "execution_count": null,
   "metadata": {
    "colab": {},
    "colab_type": "code",
    "id": "PMdGeiBmHJw3"
   },
   "outputs": [],
   "source": [
    "my_string = \"Hello\" + \"World\"\n",
    "print(my_string)"
   ]
  },
  {
   "cell_type": "markdown",
   "metadata": {
    "colab_type": "text",
    "id": "yEEYDnkeHJw_"
   },
   "source": [
    "Notice that this doesn't add a space in between the two strings. You must include this yourself either at the end of the first string or at the beginning of the second string.\n",
    "\n",
    "You can also add a space on it's own in between the two words, since spaces are characters as well and function the same way:"
   ]
  },
  {
   "cell_type": "code",
   "execution_count": null,
   "metadata": {},
   "outputs": [],
   "source": [
    "my_string = \"Hello\" + \" \" + \"World\"\n",
    "print(my_string)"
   ]
  },
  {
   "cell_type": "markdown",
   "metadata": {},
   "source": [
    "#### Exercise\n",
    "\n",
    "Create a string `first` with your first name and a string `last` with you last name.\n",
    "Create a `name` string that concatenates the two strings together with a space between them."
   ]
  },
  {
   "cell_type": "code",
   "execution_count": null,
   "metadata": {},
   "outputs": [],
   "source": [
    "# Your code here"
   ]
  },
  {
   "cell_type": "markdown",
   "metadata": {
    "colab_type": "text",
    "id": "yEEYDnkeHJw_"
   },
   "source": [
    "Strings also have a lot of built in functions in Python that make using them much easier:\n",
    "\n",
    "### Count\n",
    "\n",
    "count() will return the number of occurrences of a given string within your string. Let's say you need to count the number of times that \"g\" shows up in a string that the user inputs. The syntax for this is `string_name.count(\"g\")`.\n",
    "An example of this is shown below."
   ]
  },
  {
   "cell_type": "code",
   "execution_count": null,
   "metadata": {},
   "outputs": [],
   "source": [
    "phrase = \"How much wood would a wood chuck chuck if a wood chuck could chuck wood.\"\n",
    "print(phrase.count(\"w\"))\n",
    "print(phrase.count(\"chuck\"))"
   ]
  },
  {
   "cell_type": "markdown",
   "metadata": {
    "colab_type": "text",
    "id": "yEEYDnkeHJw_"
   },
   "source": [
    "### Slicing\n",
    "\n",
    "Slicing lets you take a small chunk of characters out of a string and store it in a new string. Syntactically, slicing is similar to indexing. The basic form is **[start : end]** where start and end are indexes in the string. For example, `my_string[0:3]` will give you a string of the first three characters in my_string. The following code should print \"Doct\":"
   ]
  },
  {
   "cell_type": "code",
   "execution_count": null,
   "metadata": {
    "colab": {},
    "colab_type": "code",
    "id": "XAYfOyovHJxC"
   },
   "outputs": [],
   "source": [
    "my_string = \"Doctor\"\n",
    "new_string = my_string[0:4]\n",
    "print(new_string)"
   ]
  },
  {
   "cell_type": "markdown",
   "metadata": {
    "colab_type": "text",
    "id": "u1H7s36rHJxJ"
   },
   "source": [
    "Notice that the string that is returned will include the character at the start index, but will only include up to the character at one less than the end index. Not passing in a value for start will automatically make it 0, and not passing in a value for end will automatically make it the last index in the string + 1.\n",
    "\n",
    "The indexes can also be negative, so `my_string[-3:]` will return the last three characters of the string and `my_string[:-3]` will give you all but the last three characters of the string.\n",
    "\n",
    "#### Exercise\n",
    "\n",
    "Create a string `lunch` containing the name of the food you had for lunch, and then slice the string to only contain the last 5 characters."
   ]
  },
  {
   "cell_type": "code",
   "execution_count": null,
   "metadata": {},
   "outputs": [],
   "source": [
    "# Your code here"
   ]
  },
  {
   "cell_type": "markdown",
   "metadata": {
    "colab_type": "text",
    "id": "u1H7s36rHJxJ"
   },
   "source": [
    "### Split\n",
    "\n",
    "`split()` allows you to turn a string into a list of strings. The original string will be split apart at every occurrence of the string that is passed into `split()`. For example, the following code will print [\"My\", \"dog\", \"is\", \"great\"]"
   ]
  },
  {
   "cell_type": "code",
   "execution_count": null,
   "metadata": {
    "colab": {},
    "colab_type": "code",
    "id": "tXgDrVLcHJxM"
   },
   "outputs": [],
   "source": [
    "my_string = \"My dog is great\"\n",
    "split_string = my_string.split(\" \")\n",
    "print(split_string)"
   ]
  },
  {
   "cell_type": "markdown",
   "metadata": {
    "colab_type": "text",
    "id": "c8hMHbjtHJxW"
   },
   "source": [
    "### Capitalization\n",
    "You can also play around with upper and lower case strings. Using the functions\n",
    "* `upper()`\n",
    "* `lower()`\n",
    "* `title()`\n",
    "* `capitalize()`\n",
    "* `swapcase()`\n",
    "\n",
    "You can try changing the string below to see how the function applies to difference strings."
   ]
  },
  {
   "cell_type": "code",
   "execution_count": null,
   "metadata": {
    "colab": {},
    "colab_type": "code",
    "id": "oSWpUXsMHJxY"
   },
   "outputs": [],
   "source": [
    "string = \"Hello World\"\n",
    "print(string.upper()) # \"HELLO WORLD\"\n",
    "print(string.lower()) # \"hello world\"\n",
    "print(string.title()) # \"Hello World\"\n",
    "print(string.capitalize()) # \"Hello world\"\n",
    "print(string.swapcase()) # \"hELLO wORLD\""
   ]
  },
  {
   "cell_type": "markdown",
   "metadata": {
    "colab_type": "text",
    "id": "Ual5Zi7THJxl"
   },
   "source": [
    "### Input Validation\n",
    "You can also use functions to check for specific types of characters in a string. Here are some example functions:\n",
    "* `isalnum()`\n",
    "* `isalpha()`\n",
    "* `isdigit()`\n",
    "* `istitle()`\n",
    "* `isupper()`\n",
    "* `islower()`\n",
    "* `isspace()`\n",
    "* `endswith()`\n",
    "* `startswith()`"
   ]
  },
  {
   "cell_type": "markdown",
   "metadata": {
    "colab_type": "text",
    "id": "Ual5Zi7THJxl"
   },
   "source": [
    "### Adding Strings with Non-Strings\n",
    "\n",
    "If you want to combine a string with a variable of another type, an int for example, you will get an error, as python can only combine strings together. To deal with this issue we can ***cast*** a variable to a string. Casting allows the variable to \"switch\" types to a different type. Below is an example of how to combine a string and an int."
   ]
  },
  {
   "cell_type": "code",
   "execution_count": null,
   "metadata": {},
   "outputs": [],
   "source": [
    "x = 15 \n",
    "y = \"Your number is: \"\n",
    "print(y + str(x))"
   ]
  },
  {
   "cell_type": "markdown",
   "metadata": {
    "colab_type": "text",
    "id": "o6gjn0TQHN6D"
   },
   "source": [
    "## Section Challenge\n",
    "Complete the function below. If the string passed in starts with an uppercase letter, return the whole string as uppercase. Otherwise, if the letter 'p' occurs 2 or more times in the string, return the first 2 characters of the string. Else, return the string concatenated with \"HackBU is cool\""
   ]
  },
  {
   "cell_type": "code",
   "execution_count": null,
   "metadata": {
    "colab": {
     "base_uri": "https://localhost:8080/",
     "height": 34
    },
    "colab_type": "code",
    "id": "cKYX5SSMJYKs",
    "outputId": "cd409666-3c50-48a7-c0a4-28585159d410"
   },
   "outputs": [],
   "source": [
    "def stringsAreFun(string):\n",
    "  #Implement me!\n",
    "  \n",
    "  \n",
    "  \n",
    "assert(stringsAreFun(\"Pickles\") == \"PICKLES\")\n",
    "assert(stringsAreFun(\"apples\") == \"ap\")\n",
    "assert(stringsAreFun(\"It's true that\"))\n",
    "print(\"Good Job, you completed this exercise!\")"
   ]
  },
  {
   "cell_type": "markdown",
   "metadata": {
    "colab_type": "text",
    "id": "uMmeNVLaHJxo"
   },
   "source": [
    "### More String Functions \n",
    "You can find more abiout Python's built-in string methods by clicking [here](https://www.w3schools.com/python/python_ref_string.asp)\n",
    "\n",
    "You will also learn about a another way to manipulate strings, regex equations, by continuing on to our advanced section!"
   ]
  },
  {
   "cell_type": "code",
   "execution_count": null,
   "metadata": {
    "colab": {},
    "colab_type": "code",
    "id": "SQzz9CTQHJxq"
   },
   "outputs": [],
   "source": [
    "# Try manipulating some strings here!"
   ]
  }
 ],
 "metadata": {
  "colab": {
   "name": "StringManipulation.ipynb",
   "provenance": []
  },
  "kernelspec": {
   "display_name": "Python 3",
   "language": "python",
   "name": "python3"
  },
  "language_info": {
   "codemirror_mode": {
    "name": "ipython",
    "version": 3
   },
   "file_extension": ".py",
   "mimetype": "text/x-python",
   "name": "python",
   "nbconvert_exporter": "python",
   "pygments_lexer": "ipython3",
   "version": "3.8.5"
  }
 },
 "nbformat": 4,
 "nbformat_minor": 4
}
