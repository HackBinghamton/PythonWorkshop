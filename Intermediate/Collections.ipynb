{
 "cells": [
  {
   "cell_type": "markdown",
   "metadata": {
    "colab_type": "text",
    "id": "SrmmeOYbDWMr"
   },
   "source": [
    "# Collections\n",
    "\n",
    "Python has a few different ways that you can create collections. Collections make it easy to store large amounts of values into just one variable. The two most common types are **Lists** and **Dictionaries**.\n",
    "\n",
    "## Lists\n",
    "\n",
    "Lists are Python's equivalent of Arrays. They store multiple values of the same type, and those values can be accessed by their index in the list. Lists are very easy to instantiate:\n"
   ]
  },
  {
   "cell_type": "code",
   "execution_count": null,
   "metadata": {
    "colab": {},
    "colab_type": "code",
    "id": "IrbzBYKZDWMu"
   },
   "outputs": [],
   "source": [
    "mylist = []"
   ]
  },
  {
   "cell_type": "markdown",
   "metadata": {
    "colab_type": "text",
    "id": "EGc2EsDHDWMx"
   },
   "source": [
    "This will make an empty list with no elements. This doesn't really help us, so let's make a list with a few things in it:"
   ]
  },
  {
   "cell_type": "code",
   "execution_count": null,
   "metadata": {
    "colab": {},
    "colab_type": "code",
    "id": "wcgB75LZDWMy"
   },
   "outputs": [],
   "source": [
    "pets = [\"Dog\", \"Cat\", \"Fish\"]"
   ]
  },
  {
   "cell_type": "markdown",
   "metadata": {
    "colab_type": "text",
    "id": "-K4iCKWODWM1"
   },
   "source": [
    "Now, we have a list of three strings. We can access elements by using `pets[i]`, which will give us the item at index i of the list. Since indexs always start at 0, `pets[0]` will give us the first element of the list, which is \"Dog\". So the following code should print \"Dog\"."
   ]
  },
  {
   "cell_type": "code",
   "execution_count": null,
   "metadata": {
    "colab": {},
    "colab_type": "code",
    "id": "3N4PuJnIDWM2"
   },
   "outputs": [],
   "source": [
    "pets = [\"Dog\", \"Cat\", \"Fish\"]\n",
    "pet_dog = pets[0]\n",
    "print(pet_dog)"
   ]
  },
  {
   "cell_type": "markdown",
   "metadata": {
    "colab_type": "text",
    "id": "qBjdbo36DWM5"
   },
   "source": [
    "You can also use negative indexes to return the nth last element of the list. For example, the following code prints `pets[-1]` as Fish which is the last elemnt."
   ]
  },
  {
   "cell_type": "code",
   "execution_count": null,
   "metadata": {
    "colab": {},
    "colab_type": "code",
    "id": "Yvjyo3iTDWM5"
   },
   "outputs": [],
   "source": [
    "pets = [\"Dog\", \"Cat\", \"Fish\"]\n",
    "print(pets[-1])"
   ]
  },
  {
   "cell_type": "markdown",
   "metadata": {
    "colab_type": "text",
    "id": "xDO49_ElDWM8"
   },
   "source": [
    "You can also change elements of the list using the same syntax. The following code should now print \"Bird\""
   ]
  },
  {
   "cell_type": "code",
   "execution_count": null,
   "metadata": {
    "colab": {},
    "colab_type": "code",
    "id": "5hb9czyrDWM9"
   },
   "outputs": [],
   "source": [
    "pets = [\"Dog\", \"Cat\", \"Fish\"]\n",
    "pets[1] = \"Bird\"\n",
    "print(pets[1])"
   ]
  },
  {
   "cell_type": "markdown",
   "metadata": {
    "colab_type": "text",
    "id": "hiMTHcnSDWM_"
   },
   "source": [
    "If you want to add an element to a list without changing one that's currently in it, you can use the `append` function. This will add a value to the end of the list:"
   ]
  },
  {
   "cell_type": "code",
   "execution_count": null,
   "metadata": {
    "colab": {},
    "colab_type": "code",
    "id": "UYwkRKDBDWNA"
   },
   "outputs": [],
   "source": [
    "pets = [\"Dog\", \"Cat\", \"Fish\"]\n",
    "pets.append(\"Bird\")"
   ]
  },
  {
   "cell_type": "markdown",
   "metadata": {
    "colab_type": "text",
    "id": "GyNrQQNCDWNC"
   },
   "source": [
    "Removing an element from the list is just as easy:"
   ]
  },
  {
   "cell_type": "code",
   "execution_count": null,
   "metadata": {
    "colab": {},
    "colab_type": "code",
    "id": "CMpPbSycDWND"
   },
   "outputs": [],
   "source": [
    "pets = [\"Dog\", \"Cat\", \"Fish\"]\n",
    "pets.remove(\"Fish\")"
   ]
  },
  {
   "cell_type": "markdown",
   "metadata": {
    "colab_type": "text",
    "id": "eOVq_wcgDWNG"
   },
   "source": [
    "You can also add the contents of another list using `extend`"
   ]
  },
  {
   "cell_type": "code",
   "execution_count": null,
   "metadata": {
    "colab": {},
    "colab_type": "code",
    "id": "TLGZlVusDWNH"
   },
   "outputs": [],
   "source": [
    "pets = [\"Dog\", \"Cat\", \"Fish\"]\n",
    "animals = [\"Tiger\", \"Wolf\", \"Dolphin\"]\n",
    "\n",
    "print(\"Before extend: \" + str(pets))\n",
    "pets.extend(animals)\n",
    "print(\"After extend: \" + str(pets))\n"
   ]
  },
  {
   "cell_type": "markdown",
   "metadata": {
    "colab_type": "text",
    "id": "_mglJUlaDWNK"
   },
   "source": [
    "There are also some commonly used functions you can call on a list \n",
    "* `sum()`\n",
    "* `count()`\n",
    "* `index()`\n",
    "* `min()`\n",
    "* `max()`"
   ]
  },
  {
   "cell_type": "code",
   "execution_count": null,
   "metadata": {
    "colab": {},
    "colab_type": "code",
    "id": "MiHem0SUDWNL"
   },
   "outputs": [],
   "source": [
    "nums = [1, 2, 1, 4, 5] \n",
    "# Sums all the numbers in the list\n",
    "print(sum(nums)) \n",
    "# Counts the number of times '1' is in the list\n",
    "print(nums.count(1))\n",
    "# Calculates the length of the list\n",
    "print(len(nums))\n",
    "# Returns the index of the first occurence of '1'\n",
    "print(nums.index(1))\n",
    "# Calculates the minimum element in a list\n",
    "print(min(nums))\n",
    "# Calculates the maximum element in a list\n",
    "print(max(nums))\n"
   ]
  },
  {
   "cell_type": "markdown",
   "metadata": {
    "colab_type": "text",
    "id": "BYU8OCFgDWNN"
   },
   "source": [
    "## Dictionaries\n",
    "\n",
    "Sometimes you don't want to access elements of a collection by their index. Instead, you might want to associate keys with every value in your collection. This key-value pair is the idea behind dictionaries.\n",
    "\n",
    "A dictionary is very similar in syntax to lists, but uses {} instead of []. So making a new Dictionary looks like this:"
   ]
  },
  {
   "cell_type": "code",
   "execution_count": null,
   "metadata": {
    "colab": {},
    "colab_type": "code",
    "id": "3RXACgbfDWNO"
   },
   "outputs": [],
   "source": [
    "my_dict = {}"
   ]
  },
  {
   "cell_type": "markdown",
   "metadata": {
    "colab_type": "text",
    "id": "6iXKT9sgDWNQ"
   },
   "source": [
    "And making a dictionary with values in it looks like this:"
   ]
  },
  {
   "cell_type": "code",
   "execution_count": null,
   "metadata": {
    "colab": {},
    "colab_type": "code",
    "id": "hbJrh84sDWNR"
   },
   "outputs": [],
   "source": [
    "pets = {\"Dog\": \"Rufus\", \"Cat\": \"Ringo\", \"Fish\": \"Bubbles\"}"
   ]
  },
  {
   "cell_type": "markdown",
   "metadata": {
    "colab_type": "text",
    "id": "MZq8roCHDWNW"
   },
   "source": [
    "For every entry, the basic format is **Key: Value**. The keys must always be strings, but the values can be any data type.\n",
    "\n",
    "Now we have a dictionary of pets with the type of animal as the key and the name of that animal as the value. Instead of using indexes to access values, we can now just use the keys we've made:"
   ]
  },
  {
   "cell_type": "code",
   "execution_count": null,
   "metadata": {
    "colab": {},
    "colab_type": "code",
    "id": "Hr5OHkPpDWNY"
   },
   "outputs": [],
   "source": [
    "pets = {\"Dog\": \"Rufus\", \"Cat\": \"Ringo\", \"Fish\": \"Bubbles\"}\n",
    "my_dog = pets[\"Dog\"]"
   ]
  },
  {
   "cell_type": "markdown",
   "metadata": {
    "colab_type": "text",
    "id": "SLfzW5TGDWNf"
   },
   "source": [
    "This will store the value associated with the key \"Dog\" into the **my_dog** variable, which in this case will be \"Rufus\". It's important to note that even though we use {} around a dictionary itself, we still use [] to access elements of the dictionary.\n",
    "\n",
    "Adding elements to the dictionary or changing values associated with keys already in the dictionary is done very similarly:"
   ]
  },
  {
   "cell_type": "code",
   "execution_count": null,
   "metadata": {
    "colab": {},
    "colab_type": "code",
    "id": "ceW8nb0YDWNh"
   },
   "outputs": [],
   "source": [
    "pets = {\"Dog\": \"Rufus\", \"Cat\": \"Ringo\", \"Fish\": \"Bubbles\"}\n",
    "pets[\"Bird\"] = \"Polly\""
   ]
  },
  {
   "cell_type": "markdown",
   "metadata": {
    "colab_type": "text",
    "id": "i5D5IG92DWNq"
   },
   "source": [
    "Now the list will have a fourth element with key \"Bird\" and value \"Polly\".\n",
    "\n",
    "Removing an element from a dictionary is very similar to removing from a list, but the function is called pop() instead of remove(). This will remove both the key and the value from the dictionary:"
   ]
  },
  {
   "cell_type": "code",
   "execution_count": null,
   "metadata": {
    "colab": {},
    "colab_type": "code",
    "id": "bvxCzyFADWNs"
   },
   "outputs": [],
   "source": [
    "pets = {\"Dog\": \"Rufus\", \"Cat\": \"Ringo\", \"Fish\": \"Bubbles\"}\n",
    "pets.pop(\"Fish\")"
   ]
  },
  {
   "cell_type": "markdown",
   "metadata": {
    "colab_type": "text",
    "id": "pKpEb0ayDWNy"
   },
   "source": [
    "# Tuples\n",
    "\n",
    "Another collection type is a tuple, which are identical to lists except for two things:\n",
    "- Tuples are **immutable** (can't be modified after it's created)\n",
    "- To make a new tuple, use parentheses instead of brackets"
   ]
  },
  {
   "cell_type": "code",
   "execution_count": null,
   "metadata": {
    "colab": {},
    "colab_type": "code",
    "id": "94hMo2mVDWNz"
   },
   "outputs": [],
   "source": [
    "empty_tuple = ()"
   ]
  },
  {
   "cell_type": "markdown",
   "metadata": {
    "colab_type": "text",
    "id": "ZyEJi6B4DWN5"
   },
   "source": [
    "You initialized a tuple by providing comma separated values within parentheses. Similarly to a list you can index a tuple. "
   ]
  },
  {
   "cell_type": "code",
   "execution_count": null,
   "metadata": {
    "colab": {},
    "colab_type": "code",
    "id": "nzyfVhwsDWN7"
   },
   "outputs": [],
   "source": [
    "mytuple = (\"Dog\", \"Cat\", \"Fish\")\n",
    "print(mytuple)\n",
    "print(mytuple[0]) # \"Dog\"\n",
    "print(mytuple[-1]) # \"Fish\""
   ]
  },
  {
   "cell_type": "markdown",
   "metadata": {
    "colab_type": "text",
    "id": "puwdq6dGDWOF"
   },
   "source": [
    "However, as we said before, you can't modify the values in a tuple. For example, the following code will give an error:"
   ]
  },
  {
   "cell_type": "code",
   "execution_count": null,
   "metadata": {
    "colab": {},
    "colab_type": "code",
    "id": "UdHYpGVTDWOK"
   },
   "outputs": [],
   "source": [
    "mytuple = (\"Dog\", \"Cat\", \"Fish\")\n",
    "mytuple[0] = \"Rabbit\""
   ]
  },
  {
   "cell_type": "markdown",
   "metadata": {
    "colab_type": "text",
    "id": "gZf4DONRDyq6"
   },
   "source": [
    "## Exercises\n",
    "Try out the following exercises!\n",
    "\n",
    "Make a list `fruits` consisting of 5 different fruits and a list `veggies` of 5 different vegetables. Make a new list `healthyFoods` that consists of the first and third element of `fruits`, and the last element of `veggies`. If any element in `healthyFoods` is asparagus, print 'ew'.(Hint: To traverse the list, use a for loop with i(or whatever you name the iterator) to index into the array)\n"
   ]
  },
  {
   "cell_type": "code",
   "execution_count": null,
   "metadata": {
    "colab": {},
    "colab_type": "code",
    "id": "ztaHocHXGHyS"
   },
   "outputs": [],
   "source": [
    "#Your code here! "
   ]
  },
  {
   "cell_type": "markdown",
   "metadata": {
    "colab_type": "text",
    "id": "2GMlhneBDWOO"
   },
   "source": [
    "\n",
    "Implement the function to return the average of a provided list"
   ]
  },
  {
   "cell_type": "code",
   "execution_count": null,
   "metadata": {
    "colab": {},
    "colab_type": "code",
    "id": "InExKMkUDWOP"
   },
   "outputs": [],
   "source": [
    "l = [75, 97, 116, 101, 32, 83, 109, 101, 108, 108, 115]\n",
    "\n",
    "\n",
    "def average(l):\n",
    "    return \"IMPLEMENT ME\"\n",
    "\n",
    "\n",
    "assert average(l) == 95.0\n"
   ]
  }
 ],
 "metadata": {
  "colab": {
   "name": "Collections.ipynb",
   "provenance": []
  },
  "kernelspec": {
   "display_name": "Python 3",
   "language": "python",
   "name": "python3"
  },
  "language_info": {
   "codemirror_mode": {
    "name": "ipython",
    "version": 3
   },
   "file_extension": ".py",
   "mimetype": "text/x-python",
   "name": "python",
   "nbconvert_exporter": "python",
   "pygments_lexer": "ipython3",
   "version": "3.8.5"
  }
 },
 "nbformat": 4,
 "nbformat_minor": 4
}
