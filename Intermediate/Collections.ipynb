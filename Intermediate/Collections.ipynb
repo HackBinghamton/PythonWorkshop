{
  "nbformat": 4,
  "nbformat_minor": 0,
  "metadata": {
    "kernelspec": {
      "display_name": "Python 3",
      "language": "python",
      "name": "python3"
    },
    "language_info": {
      "codemirror_mode": {
        "name": "ipython",
        "version": 3
      },
      "file_extension": ".py",
      "mimetype": "text/x-python",
      "name": "python",
      "nbconvert_exporter": "python",
      "pygments_lexer": "ipython3",
      "version": "3.6.8"
    },
    "colab": {
      "name": "Collections.ipynb",
      "provenance": []
    }
  },
  "cells": [
    {
      "cell_type": "markdown",
      "metadata": {
        "id": "SrmmeOYbDWMr",
        "colab_type": "text"
      },
      "source": [
        "# Collections\n",
        "\n",
        "Python has a few different ways that you can create collections. Collections make it easy to store large amounts of values into just one variable. The two most common types are **Lists** and **Dictionaries**.\n",
        "\n",
        "## Lists\n",
        "\n",
        "Lists are Python's equivalent of Arrays. They store multiple values of the same type, and those values can be accessed by their index in the list. Lists are very easy to instantiate:\n"
      ]
    },
    {
      "cell_type": "code",
      "metadata": {
        "id": "IrbzBYKZDWMu",
        "colab_type": "code",
        "colab": {}
      },
      "source": [
        "mylist = []"
      ],
      "execution_count": 0,
      "outputs": []
    },
    {
      "cell_type": "markdown",
      "metadata": {
        "id": "EGc2EsDHDWMx",
        "colab_type": "text"
      },
      "source": [
        "This will make an empty list with no elements. This doesn't really help us, so let's make a list with a few things in it:"
      ]
    },
    {
      "cell_type": "code",
      "metadata": {
        "id": "wcgB75LZDWMy",
        "colab_type": "code",
        "colab": {}
      },
      "source": [
        "pets = [\"Dog\", \"Cat\", \"Fish\"]"
      ],
      "execution_count": 0,
      "outputs": []
    },
    {
      "cell_type": "markdown",
      "metadata": {
        "id": "-K4iCKWODWM1",
        "colab_type": "text"
      },
      "source": [
        "Now, we have a list of three strings. We can access elements by using `pets[i]`, which will give us the item at index i of the list. Since indexs always start at 0, `pets[0]` will give us the first element of the list, which is \"Dog\". So the following code should print \"Dog\"."
      ]
    },
    {
      "cell_type": "code",
      "metadata": {
        "id": "3N4PuJnIDWM2",
        "colab_type": "code",
        "colab": {}
      },
      "source": [
        "pets = [\"Dog\", \"Cat\", \"Fish\"]\n",
        "pet_dog = pets[0]\n",
        "print(pet_dog)"
      ],
      "execution_count": 0,
      "outputs": []
    },
    {
      "cell_type": "markdown",
      "metadata": {
        "id": "qBjdbo36DWM5",
        "colab_type": "text"
      },
      "source": [
        "You can also use negative indexes to return the nth last element of the list. For example, the following code prints `pets[-1]` as Fish which is the last elemnt."
      ]
    },
    {
      "cell_type": "code",
      "metadata": {
        "id": "Yvjyo3iTDWM5",
        "colab_type": "code",
        "colab": {}
      },
      "source": [
        "pets = [\"Dog\", \"Cat\", \"Fish\"]\n",
        "print(pets[-1])"
      ],
      "execution_count": 0,
      "outputs": []
    },
    {
      "cell_type": "markdown",
      "metadata": {
        "id": "xDO49_ElDWM8",
        "colab_type": "text"
      },
      "source": [
        "You can also change elements of the list using the same syntax. The following code should now print \"Bird\""
      ]
    },
    {
      "cell_type": "code",
      "metadata": {
        "id": "5hb9czyrDWM9",
        "colab_type": "code",
        "colab": {}
      },
      "source": [
        "pets = [\"Dog\", \"Cat\", \"Fish\"]\n",
        "pets[1] = \"Bird\"\n",
        "print(pets[1])"
      ],
      "execution_count": 0,
      "outputs": []
    },
    {
      "cell_type": "markdown",
      "metadata": {
        "id": "hiMTHcnSDWM_",
        "colab_type": "text"
      },
      "source": [
        "If you want to add an element to a list without changing one that's currently in it, you can use the `append` function. This will add a value to the end of the list:"
      ]
    },
    {
      "cell_type": "code",
      "metadata": {
        "id": "UYwkRKDBDWNA",
        "colab_type": "code",
        "colab": {}
      },
      "source": [
        "pets = [\"Dog\", \"Cat\", \"Fish\"]\n",
        "pets.append(\"Bird\")"
      ],
      "execution_count": 0,
      "outputs": []
    },
    {
      "cell_type": "markdown",
      "metadata": {
        "id": "GyNrQQNCDWNC",
        "colab_type": "text"
      },
      "source": [
        "Removing an element from the list is just as easy:"
      ]
    },
    {
      "cell_type": "code",
      "metadata": {
        "id": "CMpPbSycDWND",
        "colab_type": "code",
        "colab": {}
      },
      "source": [
        "pets = [\"Dog\", \"Cat\", \"Fish\"]\n",
        "pets.remove(\"Fish\")"
      ],
      "execution_count": 0,
      "outputs": []
    },
    {
      "cell_type": "markdown",
      "metadata": {
        "id": "eOVq_wcgDWNG",
        "colab_type": "text"
      },
      "source": [
        "You can also add the contents of another list using `extend`"
      ]
    },
    {
      "cell_type": "code",
      "metadata": {
        "id": "TLGZlVusDWNH",
        "colab_type": "code",
        "colab": {}
      },
      "source": [
        "pets = [\"Dog\", \"Cat\", \"Fish\"]\n",
        "animals = [\"Tiger\", \"Wolf\", \"Dolphin\"]\n",
        "\n",
        "print(\"Before extend: \" + str(pets))\n",
        "pets.extend(animals)\n",
        "print(\"After extend: \" + str(pets))\n"
      ],
      "execution_count": 0,
      "outputs": []
    },
    {
      "cell_type": "markdown",
      "metadata": {
        "id": "_mglJUlaDWNK",
        "colab_type": "text"
      },
      "source": [
        "There are also some commonly used functions you can call on a list \n",
        "* `sum()`\n",
        "* `count()`\n",
        "* `index()`\n",
        "* `min()`\n",
        "* `max()`"
      ]
    },
    {
      "cell_type": "code",
      "metadata": {
        "id": "MiHem0SUDWNL",
        "colab_type": "code",
        "colab": {}
      },
      "source": [
        "nums = [1, 2, 1, 4, 5] \n",
        "# Sums all the numbers in the list\n",
        "print(sum(nums)) \n",
        "# Counts the number of times '1' is in the list\n",
        "print(nums.count(1))\n",
        "# Calculates the length of the list\n",
        "print(len(nums))\n",
        "# Returns the index of the first occurence of '1'\n",
        "print(nums.index(1))\n",
        "# Calculates the minimum element in a list\n",
        "print(min(nums))\n",
        "# Calculates the maximum element in a list\n",
        "print(max(nums))\n"
      ],
      "execution_count": 0,
      "outputs": []
    },
    {
      "cell_type": "markdown",
      "metadata": {
        "id": "BYU8OCFgDWNN",
        "colab_type": "text"
      },
      "source": [
        "## Dictionaries\n",
        "\n",
        "Sometimes you don't want to access elements of a collection by their index. Instead, you might want to associate keys with every value in your collection. This key-value pair is the idea behind dictionaries.\n",
        "\n",
        "A dictionary is very similar in syntax to lists, but uses {} instead of []. So making a new Dictionary looks like this:"
      ]
    },
    {
      "cell_type": "code",
      "metadata": {
        "id": "3RXACgbfDWNO",
        "colab_type": "code",
        "colab": {}
      },
      "source": [
        "my_dict = {}"
      ],
      "execution_count": 0,
      "outputs": []
    },
    {
      "cell_type": "markdown",
      "metadata": {
        "id": "6iXKT9sgDWNQ",
        "colab_type": "text"
      },
      "source": [
        "And making a dictionary with values in it looks like this:"
      ]
    },
    {
      "cell_type": "code",
      "metadata": {
        "id": "hbJrh84sDWNR",
        "colab_type": "code",
        "colab": {}
      },
      "source": [
        "pets = {\"Dog\": \"Rufus\", \"Cat\": \"Ringo\", \"Fish\": \"Bubbles\"}"
      ],
      "execution_count": 0,
      "outputs": []
    },
    {
      "cell_type": "markdown",
      "metadata": {
        "id": "MZq8roCHDWNW",
        "colab_type": "text"
      },
      "source": [
        "For every entry, the basic format is **Key: Value**. The keys must always be strings, but the values can be any data type.\n",
        "\n",
        "Now we have a dictionary of pets with the type of animal as the key and the name of that animal as the value. Instead of using indexes to access values, we can now just use the keys we've made:"
      ]
    },
    {
      "cell_type": "code",
      "metadata": {
        "id": "Hr5OHkPpDWNY",
        "colab_type": "code",
        "colab": {}
      },
      "source": [
        "pets = {\"Dog\": \"Rufus\", \"Cat\": \"Ringo\", \"Fish\": \"Bubbles\"}\n",
        "my_dog = pets[\"Dog\"]"
      ],
      "execution_count": 0,
      "outputs": []
    },
    {
      "cell_type": "markdown",
      "metadata": {
        "id": "SLfzW5TGDWNf",
        "colab_type": "text"
      },
      "source": [
        "This will store the value associated with the key \"Dog\" into the **my_dog** variable, which in this case will be \"Rufus\". It's important to note that even though we use {} around a dictionary itself, we still use [] to access elements of the dictionary.\n",
        "\n",
        "Adding elements to the dictionary or changing values associated with keys already in the dictionary is done very similarly:"
      ]
    },
    {
      "cell_type": "code",
      "metadata": {
        "id": "ceW8nb0YDWNh",
        "colab_type": "code",
        "colab": {}
      },
      "source": [
        "pets = {\"Dog\": \"Rufus\", \"Cat\": \"Ringo\", \"Fish\": \"Bubbles\"}\n",
        "pets[\"Bird\"] = \"Polly\""
      ],
      "execution_count": 0,
      "outputs": []
    },
    {
      "cell_type": "markdown",
      "metadata": {
        "id": "i5D5IG92DWNq",
        "colab_type": "text"
      },
      "source": [
        "Now the list will have a fourth element with key \"Bird\" and value \"Polly\".\n",
        "\n",
        "Removing an element from a dictionary is very similar to removing from a list, but the function is called pop() instead of remove(). This will remove both the key and the value from the dictionary:"
      ]
    },
    {
      "cell_type": "code",
      "metadata": {
        "id": "bvxCzyFADWNs",
        "colab_type": "code",
        "colab": {}
      },
      "source": [
        "pets = {\"Dog\": \"Rufus\", \"Cat\": \"Ringo\", \"Fish\": \"Bubbles\"}\n",
        "pets.pop(\"Fish\")"
      ],
      "execution_count": 0,
      "outputs": []
    },
    {
      "cell_type": "markdown",
      "metadata": {
        "id": "pKpEb0ayDWNy",
        "colab_type": "text"
      },
      "source": [
        "# Tuples\n",
        "\n",
        "Another collection type is a tuple, which are identical to lists except for two things:\n",
        "- Tuples are **immutable** (can't be modified after it's created)\n",
        "- To make a new tuple, use parentheses instead of brackets"
      ]
    },
    {
      "cell_type": "code",
      "metadata": {
        "id": "94hMo2mVDWNz",
        "colab_type": "code",
        "colab": {}
      },
      "source": [
        "empty_tuple = ()"
      ],
      "execution_count": 0,
      "outputs": []
    },
    {
      "cell_type": "markdown",
      "metadata": {
        "id": "ZyEJi6B4DWN5",
        "colab_type": "text"
      },
      "source": [
        "You initialized a tuple by providing comma separated values within parentheses. Similarly to a list you can index a tuple. "
      ]
    },
    {
      "cell_type": "code",
      "metadata": {
        "id": "nzyfVhwsDWN7",
        "colab_type": "code",
        "colab": {}
      },
      "source": [
        "mytuple = (\"Dog\", \"Cat\", \"Fish\")\n",
        "print(mytuple)\n",
        "print(mytuple[0]) # \"Dog\"\n",
        "print(mytuple[-1]) # \"Fish\""
      ],
      "execution_count": 0,
      "outputs": []
    },
    {
      "cell_type": "markdown",
      "metadata": {
        "id": "puwdq6dGDWOF",
        "colab_type": "text"
      },
      "source": [
        "However, as we said before, you can't modify the values in a tuple. For example, the following code will give an error:"
      ]
    },
    {
      "cell_type": "code",
      "metadata": {
        "id": "UdHYpGVTDWOK",
        "colab_type": "code",
        "colab": {}
      },
      "source": [
        "mytuple = (\"Dog\", \"Cat\", \"Fish\")\n",
        "mytuple[0] = \"Rabbit\""
      ],
      "execution_count": 0,
      "outputs": []
    },
    {
      "cell_type": "markdown",
      "metadata": {
        "id": "gZf4DONRDyq6",
        "colab_type": "text"
      },
      "source": [
        "## Exercise\n",
        "Make a list `fruits` consisting of 5 different fruits and a list `veggies` of 5 different vegetables. Make a new list `healthyFoods` that consists of the first and third element of `fruits`, and the last element of `veggies`. If any element in `healthyFoods` is asparagus, print 'ew'.(Hint: To traverse the list, use a for loop with i(or whatever you name the iterator) to index into the array)\n"
      ]
    },
    {
      "cell_type": "code",
      "metadata": {
        "id": "ztaHocHXGHyS",
        "colab_type": "code",
        "colab": {}
      },
      "source": [
        "#Your code here! "
      ],
      "execution_count": 0,
      "outputs": []
    },
    {
      "cell_type": "markdown",
      "metadata": {
        "id": "2GMlhneBDWOO",
        "colab_type": "text"
      },
      "source": [
        "## Exercise\n",
        "Implement the function to return the average of a provided list"
      ]
    },
    {
      "cell_type": "code",
      "metadata": {
        "id": "InExKMkUDWOP",
        "colab_type": "code",
        "colab": {}
      },
      "source": [
        "l = [75, 97, 116, 101, 32, 83, 109, 101, 108, 108, 115]\n",
        "\n",
        "\n",
        "def average(l):\n",
        "    return \"IMPLEMENT ME\"\n",
        "\n",
        "\n",
        "assert average(l) == 95.0\n"
      ],
      "execution_count": 0,
      "outputs": []
    }
  ]
}