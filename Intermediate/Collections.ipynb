{
 "cells": [
  {
   "cell_type": "markdown",
   "metadata": {},
   "source": [
    "# Collections\n",
    "\n",
    "Python has a few different ways that you can create collections. Collections make it easy to store large amounts of values into just one variable. The two most common types are **Lists** and **Dictionaries**.\n",
    "\n",
    "## Lists\n",
    "\n",
    "Lists are Python's equivalent of Arrays. They store multiple values of the same type, and those values can be accessed by their index in the list. Lists are very easy to instantiate:\n"
   ]
  },
  {
   "cell_type": "code",
   "execution_count": null,
   "metadata": {},
   "outputs": [],
   "source": [
    "mylist = []"
   ]
  },
  {
   "cell_type": "markdown",
   "metadata": {},
   "source": [
    "This will make an empty list with no elements. This doesn't really help us, so let's make a list with a few things in it:"
   ]
  },
  {
   "cell_type": "code",
   "execution_count": null,
   "metadata": {},
   "outputs": [],
   "source": [
    "pets = [\"Dog\", \"Cat\", \"Fish\"]"
   ]
  },
  {
   "cell_type": "markdown",
   "metadata": {},
   "source": [
    "Now, we have a list of three strings. We can access elements by using `pets[i]`, which will give us the item at index i of the list. Since indexs always start at 0, `pets[0]` will give us the first element of the list, which is \"Dog\". So the following code should print \"Dog\"."
   ]
  },
  {
   "cell_type": "code",
   "execution_count": null,
   "metadata": {},
   "outputs": [],
   "source": [
    "pets = [\"Dog\", \"Cat\", \"Fish\"]\n",
    "pet_dog = pets[0]\n",
    "print(pet_dog)"
   ]
  },
  {
   "cell_type": "markdown",
   "metadata": {},
   "source": [
    "You can also use negative indexes to return the nth last element of the list. For example, the following code prints `pets[-1]` as Fish which is the last elemnt."
   ]
  },
  {
   "cell_type": "code",
   "execution_count": 1,
   "metadata": {},
   "outputs": [
    {
     "name": "stdout",
     "output_type": "stream",
     "text": [
      "Fish\n"
     ]
    }
   ],
   "source": [
    "pets = [\"Dog\", \"Cat\", \"Fish\"]\n",
    "print(pets[-1])"
   ]
  },
  {
   "cell_type": "markdown",
   "metadata": {},
   "source": [
    "You can also change elements of the list using the same syntax. The following code should now print \"Bird\""
   ]
  },
  {
   "cell_type": "code",
   "execution_count": null,
   "metadata": {},
   "outputs": [],
   "source": [
    "pets = [\"Dog\", \"Cat\", \"Fish\"]\n",
    "pets[1] = \"Bird\"\n",
    "print(pets[1])"
   ]
  },
  {
   "cell_type": "markdown",
   "metadata": {},
   "source": [
    "If you want to add an element to a list without changing one that's currently in it, you can use the`append` function. This will add a value to the end of the list:"
   ]
  },
  {
   "cell_type": "code",
   "execution_count": null,
   "metadata": {},
   "outputs": [],
   "source": [
    "pets = [\"Dog\", \"Cat\", \"Fish\"]\n",
    "pets.append(\"Bird\")"
   ]
  },
  {
   "cell_type": "markdown",
   "metadata": {},
   "source": [
    "Removing an element from the list is just as easy:"
   ]
  },
  {
   "cell_type": "code",
   "execution_count": 21,
   "metadata": {},
   "outputs": [],
   "source": [
    "pets = [\"Dog\", \"Cat\", \"Fish\"]\n",
    "pets.remove(\"Fish\")"
   ]
  },
  {
   "cell_type": "markdown",
   "metadata": {},
   "source": [
    "You can also add the contents of another list using `extend`"
   ]
  },
  {
   "cell_type": "code",
   "execution_count": 1,
   "metadata": {},
   "outputs": [
    {
     "name": "stdout",
     "output_type": "stream",
     "text": [
      "Before extend: ['Dog', 'Cat', 'Fish']\n",
      "After extend: ['Dog', 'Cat', 'Fish', 'Tiger', 'Wolf', 'Dolphin']\n"
     ]
    }
   ],
   "source": [
    "pets = [\"Dog\", \"Cat\", \"Fish\"]\n",
    "animals = [\"Tiger\", \"Wolf\", \"Dolphin\"]\n",
    "\n",
    "print(\"Before extend: \" + str(pets))\n",
    "pets.extend(animals)\n",
    "print(\"After extend: \" + str(pets))\n"
   ]
  },
  {
   "cell_type": "markdown",
   "metadata": {},
   "source": [
    "There are also some commonly used functions you can call on a list \n",
    "* `sum()`\n",
    "* `count()`\n",
    "* `index()`\n",
    "* `min()`\n",
    "* `max()`"
   ]
  },
  {
   "cell_type": "code",
   "execution_count": 1,
   "metadata": {},
   "outputs": [
    {
     "name": "stdout",
     "output_type": "stream",
     "text": [
      "13\n",
      "2\n",
      "5\n",
      "0\n",
      "1\n",
      "5\n"
     ]
    }
   ],
   "source": [
    "nums = [1, 2, 1, 4, 5] \n",
    "# Sums all the numbers in the list\n",
    "print(sum(nums)) \n",
    "# Counts the number of times '1' is in the list\n",
    "print(nums.count(1))\n",
    "# Calculates the length of the list\n",
    "print(len(nums))\n",
    "# Returns the index of the first occurence of '1'\n",
    "print(nums.index(1))\n",
    "# Calculates the minimum element in a list\n",
    "print(min(nums))\n",
    "# Calculates the maximum element in a list\n",
    "print(max(nums))\n"
   ]
  },
  {
   "cell_type": "markdown",
   "metadata": {},
   "source": [
    "## Dictionaries\n",
    "\n",
    "Sometimes you don't want to access elements of a collection by their index. Instead, you might want to associate keys with every value in your collection. This key-value pair is the idea behind dictionaries.\n",
    "\n",
    "A dictionary is very similar in syntax to lists, but uses {} instead of []. So making a new Dictionary looks like this:"
   ]
  },
  {
   "cell_type": "code",
   "execution_count": null,
   "metadata": {},
   "outputs": [],
   "source": [
    "my_dict = {}"
   ]
  },
  {
   "cell_type": "markdown",
   "metadata": {},
   "source": [
    "And making a dictionary with values in it looks like this:"
   ]
  },
  {
   "cell_type": "code",
   "execution_count": null,
   "metadata": {},
   "outputs": [],
   "source": [
    "pets = {\"Dog\": \"Rufus\", \"Cat\": \"Ringo\", \"Fish\": \"Bubbles\"}"
   ]
  },
  {
   "cell_type": "markdown",
   "metadata": {},
   "source": [
    "For every entry, the basic format is **Key: Value**. The keys must always be strings, but the values can be any data type.\n",
    "\n",
    "Now we have a dictionary of pets with the type of animal as the key and the name of that animal as the value. Instead of using indexes to access values, we can now just use the keys we've made:"
   ]
  },
  {
   "cell_type": "code",
   "execution_count": null,
   "metadata": {},
   "outputs": [],
   "source": [
    "pets = {\"Dog\": \"Rufus\", \"Cat\": \"Ringo\", \"Fish\": \"Bubbles\"}\n",
    "my_dog = pets[\"Dog\"]"
   ]
  },
  {
   "cell_type": "markdown",
   "metadata": {},
   "source": [
    "This will store the value associated with the key \"Dog\" into the **my_dog** variable, which in this case will be \"Rufus\". It's important to note that even though we use {} around a dictionary itself, we still use [] to access elements of the dictionary.\n",
    "\n",
    "Adding elements to the dictionary or changing values associated with keys already in the dictionary is done very similarly:"
   ]
  },
  {
   "cell_type": "code",
   "execution_count": null,
   "metadata": {},
   "outputs": [],
   "source": [
    "pets = {\"Dog\": \"Rufus\", \"Cat\": \"Ringo\", \"Fish\": \"Bubbles\"}\n",
    "pets[\"Bird\"] = \"Polly\""
   ]
  },
  {
   "cell_type": "markdown",
   "metadata": {},
   "source": [
    "Now the list will have a fourth element with key \"Bird\" and value \"Polly\".\n",
    "\n",
    "Removing an element from a dictionary is very similar to removing from a list, but the function is called pop() instead of remove(). This will remove both the key and the value from the dictionary:"
   ]
  },
  {
   "cell_type": "code",
   "execution_count": null,
   "metadata": {},
   "outputs": [],
   "source": [
    "pets = {\"Dog\": \"Rufus\", \"Cat\": \"Ringo\", \"Fish\": \"Bubbles\"}\n",
    "pets.pop(\"Fish\")"
   ]
  }
 ],
 "metadata": {
  "kernelspec": {
   "display_name": "Python 3",
   "language": "python",
   "name": "python3"
  },
  "language_info": {
   "codemirror_mode": {
    "name": "ipython",
    "version": 3
   },
   "file_extension": ".py",
   "mimetype": "text/x-python",
   "name": "python",
   "nbconvert_exporter": "python",
   "pygments_lexer": "ipython3",
   "version": "3.6.2"
  }
 },
 "nbformat": 4,
 "nbformat_minor": 2
}
