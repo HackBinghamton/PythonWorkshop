{
 "cells": [
  {
   "cell_type": "markdown",
   "metadata": {},
   "source": [
    "# List Comprehensions\n",
    "\n",
    "Now that you've learned about Lists, you may find yourself wanting to add multiple items to a list quickly. Normally you can do this with either of the loops that we've gone over. In this case, let's generate a list of squared numbers:"
   ]
  },
  {
   "cell_type": "code",
   "execution_count": 1,
   "metadata": {},
   "outputs": [
    {
     "name": "stdout",
     "output_type": "stream",
     "text": [
      "[0, 1, 4, 9, 16]\n"
     ]
    }
   ],
   "source": [
    "nums = []\n",
    "for i in range(5):\n",
    "    nums.append(i * i)\n",
    "print(nums)"
   ]
  },
  {
   "cell_type": "markdown",
   "metadata": {},
   "source": [
    "There's a more concise way to generate these, called List Comprehensions.\n",
    "\n",
    "List Comprehensions allow you to generate and fill lists with one line of code. Here's the general format for a list comprehension:\n",
    "\n",
    "```python\n",
    "[<expression> for <iterator> in <collection>]\n",
    "```\n",
    "\n",
    "Let's say you want to add the numbers 0 through 10 to a list. Instead of doing this with a loop like above, we can do the declaration and loop in one line:"
   ]
  },
  {
   "cell_type": "code",
   "execution_count": 4,
   "metadata": {},
   "outputs": [
    {
     "name": "stdout",
     "output_type": "stream",
     "text": [
      "[0, 1, 4, 9, 16]\n"
     ]
    }
   ],
   "source": [
    "nums = [i * i for i in range(5)]\n",
    "print(nums)"
   ]
  },
  {
   "cell_type": "markdown",
   "metadata": {},
   "source": [
    "This will automatically loop 10 times and add every element \"i\" just like the three lines of code above would."
   ]
  }
 ],
 "metadata": {
  "kernelspec": {
   "display_name": "Python 3",
   "language": "python",
   "name": "python3"
  },
  "language_info": {
   "codemirror_mode": {
    "name": "ipython",
    "version": 3
   },
   "file_extension": ".py",
   "mimetype": "text/x-python",
   "name": "python",
   "nbconvert_exporter": "python",
   "pygments_lexer": "ipython3",
   "version": "3.5.3"
  }
 },
 "nbformat": 4,
 "nbformat_minor": 2
}
