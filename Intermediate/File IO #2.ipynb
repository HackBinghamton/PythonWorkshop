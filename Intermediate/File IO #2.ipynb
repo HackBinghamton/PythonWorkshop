{
 "cells": [
  {
   "cell_type": "markdown",
   "metadata": {},
   "source": [
    "# File Input and Output\n",
    "\n",
    "There are a lot of situations where being able to write to or read from a file can be useful for a Python program. Let's look at how you can interact with these files both as inputs and outputs.\n",
    "\n"
   ]
  },
  {
   "cell_type": "markdown",
   "metadata": {},
   "source": [
    "## Setup\n",
    "\n",
    "Run the below cell to set up the environment -- this will create the files that we work with."
   ]
  },
  {
   "cell_type": "code",
   "execution_count": null,
   "metadata": {},
   "outputs": [],
   "source": [
    "!ls\n",
    "!echo \"This is a test file!\" > test.txt\n",
    "!echo \"You now have a file called 'test.txt' with contents:\"\n",
    "!cat test.txt"
   ]
  },
  {
   "cell_type": "markdown",
   "metadata": {},
   "source": [
    "## Getting Started\n",
    "\n",
    "Here's the general structure of how you can open a file, whether for input or for output:"
   ]
  },
  {
   "cell_type": "markdown",
   "metadata": {},
   "source": [
    "```python\n",
    "file_obj = open(<filename here>, <access specifier>)\n",
    "```"
   ]
  },
  {
   "cell_type": "markdown",
   "metadata": {},
   "source": [
    "The filename is a path to a filename, whether an absolute path (e.g. `/home/username/some_text.txt`) or a relative path (e.g. `./folder/text_file.txt`). //Save for advanced????\n",
    "\n",
    "The access specifier defines how our program interacts with the file. It can specify modes like reading, writing, appending, and more. In the following sections, we'll show how you can use each of these modes in your programs."
   ]
  },
  {
   "cell_type": "markdown",
   "metadata": {},
   "source": [
    "## Input\n",
    "\n",
    "The `\"r\"` access specifier opens a file for reading. The following line opens a file called `test.txt` for reading, and put the file object in a variable called `my_file`. "
   ]
  },
  {
   "cell_type": "code",
   "execution_count": null,
   "metadata": {},
   "outputs": [],
   "source": [
    "my_file = open(\"test.txt\", \"r\")"
   ]
  },
  {
   "cell_type": "markdown",
   "metadata": {},
   "source": [
    "`my_file` lets you interface with `test.txt`. To store the contents of `test.txt` in a variable, you can use `.read()` on `my_file`, like so:"
   ]
  },
  {
   "cell_type": "code",
   "execution_count": null,
   "metadata": {},
   "outputs": [],
   "source": [
    "file_text = my_file.read()"
   ]
  },
  {
   "cell_type": "markdown",
   "metadata": {},
   "source": [
    "This copies the contents of `my_file` to `file_text`. Let's print out what our file says!"
   ]
  },
  {
   "cell_type": "code",
   "execution_count": null,
   "metadata": {},
   "outputs": [],
   "source": [
    "print(file_text)"
   ]
  },
  {
   "cell_type": "markdown",
   "metadata": {},
   "source": [
    "There are other ways you can read from file objects as well. Calling `.read()` with an integer parameter tells it how many characters to read starting from the beginning of the file. For example, `my_file.read(10)` will return a string of the first 10 characters from the file.\n",
    "\n",
    "Calling `.readline()` on a file object will return a string of all characters until the next occurrence of the newline character (`\\n`).\n",
    "\n",
    "## Output\n",
    "There are two main access specifiers to open a file for writing: writing (`\"w\"`) and appending (`\"a\"`).\n",
    "\n",
    "#### Writing\n",
    "\n",
    "Writing creates a brand new file with the name that you give, and if a file by that name already exists **it will be overwritten, so be careful**."
   ]
  },
  {
   "cell_type": "code",
   "execution_count": null,
   "metadata": {},
   "outputs": [],
   "source": [
    "my_file = open(\"written.txt\", \"w\") # ADD MORE HERE"
   ]
  },
  {
   "cell_type": "markdown",
   "metadata": {},
   "source": [
    "Now that we've opened the file, we can write into it:"
   ]
  },
  {
   "cell_type": "code",
   "execution_count": null,
   "metadata": {},
   "outputs": [],
   "source": [
    "my_file.write(\"Hey look I wrote a file.\")"
   ]
  },
  {
   "cell_type": "markdown",
   "metadata": {},
   "source": [
    "Run the following code to print out the contents of the file, and then overwrite it, and print it again:"
   ]
  },
  {
   "cell_type": "code",
   "execution_count": null,
   "metadata": {},
   "outputs": [],
   "source": [
    "!cat written.txt # <-- This is just a Google Colab thing, it's not actually valid Python code\n",
    "my_file.write(\"Hey look I wrote it again.\")\n",
    "!cat written.txt"
   ]
  },
  {
   "cell_type": "markdown",
   "metadata": {},
   "source": [
    "#### Appending\n",
    "\n",
    "If you **don't** want to overwrite the file, you can open it for appending."
   ]
  },
  {
   "cell_type": "code",
   "execution_count": null,
   "metadata": {},
   "outputs": [],
   "source": [
    "my_file = open(\"filename.txt\", \"a\")"
   ]
  },
  {
   "cell_type": "markdown",
   "metadata": {},
   "source": [
    "When you `.write()` to a file opened in append mode, the \n",
    "\n",
    "Whether you open the file for writing or appending, the function used to write text into that file is very simple: write(). You can pass any string into this function and it will write it to the file. Including a newline character (\"\\n\") will force the next string written to the file to begin on a new line."
   ]
  },
  {
   "cell_type": "code",
   "execution_count": null,
   "metadata": {},
   "outputs": [],
   "source": [
    "my_file = open(\"filename.txt\", \"a\")\n",
    "my_file.write(\"Now this file has some text in it!\")"
   ]
  },
  {
   "cell_type": "markdown",
   "metadata": {},
   "source": [
    "It's important to remember that any time you're done using a file, you should **always** make sure to close it using the close() function:"
   ]
  },
  {
   "cell_type": "code",
   "execution_count": null,
   "metadata": {},
   "outputs": [],
   "source": [
    "my_file = open(\"filename.txt\", \"w\")\n",
    "#Your\n",
    "#Code\n",
    "#Here\n",
    "my_file.close()"
   ]
  },
  {
   "cell_type": "markdown",
   "metadata": {},
   "source": [
    "Usually it's not a big deal, but there are ways that people could steal private information if you don't remember to close your files!\n",
    "\n",
    "## Reading and Writing with Bytes\n",
    "\n",
    "Sometimes, you don't necessarily want to read and write text data to a file. For example, consider images or executable files.\n",
    "\n",
    "\n",
    "## Error Checking\n",
    "\n",
    "When opening a file for reading, you will receive an error if the file does not exist within the same folder as your Python program."
   ]
  }
 ],
 "metadata": {
  "kernelspec": {
   "display_name": "Python 3",
   "language": "python",
   "name": "python3"
  },
  "language_info": {
   "codemirror_mode": {
    "name": "ipython",
    "version": 3
   },
   "file_extension": ".py",
   "mimetype": "text/x-python",
   "name": "python",
   "nbconvert_exporter": "python",
   "pygments_lexer": "ipython3",
   "version": "3.5.3"
  }
 },
 "nbformat": 4,
 "nbformat_minor": 2
}
