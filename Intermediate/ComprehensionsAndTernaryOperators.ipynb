{
 "cells": [
  {
   "cell_type": "markdown",
   "metadata": {},
   "source": [
    "# Comprehensions and Ternary Operators\n",
    "\n",
    "\n",
    "\n",
    "## Overview\n",
    "\n",
    "### What You'll Learn\n",
    "In this section, you'll learn\n",
    "1. How to use List and Dictionary comprehensions to generate collections in one line\n",
    "2. How to use ternary operators to shorten if/else statemnets to one line\n",
    "3. How to combine the both of these\n",
    "\n",
    "### Prerequisites\n",
    "Before starting this section, you should have an understanding of\n",
    "1. Control Flow\n",
    "2. Collections\n",
    "\n",
    "### Introduction\n",
    "Now that you've learned about lists and dictionaries, you may find yourself wanting to add multiple items to a list without having to write bunches of `for` loops and accumulators. Comprehensions and ternary operators allow you to shrink these collection generations into one line which is helpful for [code golf](https://en.wikipedia.org/wiki/Code_golf).\n",
    "\n",
    "## List Comprehensions\n",
    "\n",
    "In this case, let's generate a list of squared numbers with a normal `for` loop and accumulator:"
   ]
  },
  {
   "cell_type": "code",
   "execution_count": null,
   "metadata": {
    "scrolled": false
   },
   "outputs": [],
   "source": [
    "nums = []\n",
    "for i in range(5):\n",
    "    nums.append(i * i)\n",
    "print(nums)"
   ]
  },
  {
   "cell_type": "markdown",
   "metadata": {},
   "source": [
    "There's a more concise way to generate these, called list comprehensions.\n",
    "\n",
    "List comprehensions allow you to generate and fill lists with one line of code. Here's the general format for a list comprehension:\n",
    "\n",
    "```python\n",
    "<list_variable> = [<expression> for <iterator> in <collection>]\n",
    "```\n",
    "\n",
    "With list comprehensions, we can do the declaration and loop from above in one line:"
   ]
  },
  {
   "cell_type": "code",
   "execution_count": null,
   "metadata": {
    "scrolled": false
   },
   "outputs": [],
   "source": [
    "nums = [i * i for i in range(5)]\n",
    "print(nums)"
   ]
  },
  {
   "cell_type": "markdown",
   "metadata": {},
   "source": [
    "This line iterates through every number from 0 to 5, places the square of each number into a list, and assigns this list to `nums`.\n",
    "\n",
    "## Dictionary Comprehensions\n",
    "\n",
    "Dictionary comprehensions work like list comprehensions, but create dictionaries instead. Here's the general format:\n",
    "\n",
    "```python\n",
    "<dict_variable> = {<key_expression> : <value_expression> for <iterator> in <collection>}\n",
    "```\n",
    "\n",
    "If we wanted to create a dictionary that paired numbers with their squares, here's one way we could do that with loops:"
   ]
  },
  {
   "cell_type": "code",
   "execution_count": null,
   "metadata": {
    "scrolled": false
   },
   "outputs": [],
   "source": [
    "nums_to_squares = {}\n",
    "for i in range(5):\n",
    "    nums_to_squares[i] = i * i\n",
    "print(nums_to_squares)"
   ]
  },
  {
   "cell_type": "markdown",
   "metadata": {},
   "source": [
    "...aaaand here's how we could do the same with a dictionary comprehension:"
   ]
  },
  {
   "cell_type": "code",
   "execution_count": null,
   "metadata": {
    "scrolled": false
   },
   "outputs": [],
   "source": [
    "nums_to_squares = {i : i * i for i in range(5)}\n",
    "print(nums_to_squares)"
   ]
  },
  {
   "cell_type": "markdown",
   "metadata": {},
   "source": [
    "## Ternary Operators\n",
    "\n",
    "### In Normal Code\n",
    "\n",
    "Ternary operators allow you to replace many `if`/`else` assignment blocks by combining them into one line. Let's say we want to declare one variable based on a condition:"
   ]
  },
  {
   "cell_type": "code",
   "execution_count": null,
   "metadata": {
    "scrolled": false
   },
   "outputs": [],
   "source": [
    "legs = 6\n",
    "animal = \"\"\n",
    "if legs == 4:\n",
    "    animal = \"probably a dog\"\n",
    "else:\n",
    "    animal = \"i don't know\"\n",
    "print(animal)"
   ]
  },
  {
   "cell_type": "markdown",
   "metadata": {},
   "source": [
    "In this case, we're assigning `animal` based on the value of `legs`.\n",
    "\n",
    "We can cut the assignment of `animal` to one line with a ternary operator. Ternary operators take the following form in Python:\n",
    "\n",
    "```python\n",
    "<variable_name> = <value_if_true> if <condition> else <value_if_false> \n",
    "```\n",
    "\n",
    "Let's use this to rewrite the example above in just three lines:"
   ]
  },
  {
   "cell_type": "code",
   "execution_count": null,
   "metadata": {
    "scrolled": false
   },
   "outputs": [],
   "source": [
    "legs = 6\n",
    "animal = \"probably a dog\" if legs == 4 else \"i don't know\"\n",
    "print(animal)"
   ]
  },
  {
   "cell_type": "markdown",
   "metadata": {},
   "source": [
    "Ternary operators can also let you conditionally execute functions in one line. Thus, we can shorten the above even further!"
   ]
  },
  {
   "cell_type": "code",
   "execution_count": null,
   "metadata": {
    "scrolled": false
   },
   "outputs": [],
   "source": [
    "legs = 6\n",
    "print(\"probably a dog\") if legs == 4 else print(\"i don't know\")"
   ]
  },
  {
   "cell_type": "markdown",
   "metadata": {},
   "source": [
    "### In List Comprehensions\n",
    "\n",
    "Let's say we wanted to add only some of the elements to a list. We can combine ternary operators and list comprehensions to save many lines of code. This generally happens in the following format:\n",
    "\n",
    "If you'd like to only include certain values...\n",
    "```python\n",
    "<list_variable> = [<value_if_true> for <iterator> in <collection> if <condition>]\n",
    "```\n",
    "...or if you'd like to switch between values depending on a condition...\n",
    "\n",
    "```python\n",
    "<list_variable> = [<value_if_true> if <condition> else <value_if_false> for <iterator> in <collection>]\n",
    "```\n",
    "\n",
    "For example, let's create a list of all numbers between 0 and 200 that are divisible by 37 with a normal loop:"
   ]
  },
  {
   "cell_type": "code",
   "execution_count": null,
   "metadata": {
    "scrolled": false
   },
   "outputs": [],
   "source": [
    "nums = []\n",
    "for i in range(200):\n",
    "    if i % 37 == 0:\n",
    "        nums.append(i)\n",
    "print(nums)"
   ]
  },
  {
   "cell_type": "markdown",
   "metadata": {},
   "source": [
    "We can cut this down to one line with a list comprehension and a ternary operator like so:"
   ]
  },
  {
   "cell_type": "code",
   "execution_count": null,
   "metadata": {
    "scrolled": false
   },
   "outputs": [],
   "source": [
    "nums = [i for i in range(200) if i % 37 == 0]\n",
    "print(nums)"
   ]
  },
  {
   "cell_type": "markdown",
   "metadata": {},
   "source": [
    "### *Aside*: How *Not* to Use Ternary Operators\n",
    "\n",
    "In practice, readability will always take priority over using fancy one-liners. If using a ternary operator makes your code more readable in a certain case, by all means use it. However, **do not use ternary operators in any case where it makes your code less readable**.\n",
    "\n",
    "For example, the *following code works*, but the Spirit of Colin Fiutak will provide you with non-positive feedback should you ever write anything like it:\n",
    "\n",
    "```python\n",
    "animal = \"unicycle\" if legs == 1 else \"bipod\" if legs == 2 else \"tripod\" if legs == 3 else \"probably some variety of canine\" if legs == 4 else \"no animal has 5 legs\" if legs == 5 else \"no it hurts me to write this\"\n",
    "```\n",
    "\n",
    "I'm not even going to make that monstrosity an executable code block, because you should know better.\n",
    "\n",
    "## Exercises\n",
    "\n",
    "Rewrite the following code using a list comprehension and ternary operator:"
   ]
  },
  {
   "cell_type": "code",
   "execution_count": null,
   "metadata": {
    "scrolled": false
   },
   "outputs": [],
   "source": [
    "animals = [\"cat\", \"dog\", \"megatherium\", \"lion\", \"moose\", \"camel\"]\n",
    "cool_animals = []\n",
    "for animal in animals:\n",
    "    if animal[0] == \"m\":\n",
    "        # Because only animals that start with the letter m are cool\n",
    "        cool_animals.append(animal)\n",
    "print(cool_animals)"
   ]
  },
  {
   "cell_type": "code",
   "execution_count": null,
   "metadata": {
    "scrolled": false
   },
   "outputs": [],
   "source": [
    "# Your more concise version here!"
   ]
  },
  {
   "cell_type": "markdown",
   "metadata": {},
   "source": [
    "Rewrite the following code using a dictionary comprehension:"
   ]
  },
  {
   "cell_type": "code",
   "execution_count": null,
   "metadata": {
    "scrolled": false
   },
   "outputs": [],
   "source": [
    "nums_dict = {}\n",
    "for i in range(100, 200):\n",
    "    nums_dict[i] = i + i % 2\n",
    "print(nums_dict)\n",
    "\n",
    "# Make your own version in one line:\n",
    "my_dict = {}\n",
    "\n",
    "### Testing code below ###\n",
    "assert my_dict == nums_dict, \"Your dictionary isn't quite the same!\"\n",
    "print(\"Congrats! You did it!\")"
   ]
  },
  {
   "cell_type": "markdown",
   "metadata": {},
   "source": [
    "Write a one-liner to create a dictionary of names to student IDs, given that the first name goes with the first student ID, the second name goes with the second student ID, and so on:"
   ]
  },
  {
   "cell_type": "code",
   "execution_count": null,
   "metadata": {},
   "outputs": [],
   "source": [
    "names = [\"Joel Armstrong\", \"Jim Bayer\", \"Tonisha Pouthier\", \"Teresita Bryden\", \"Georgina Britre\", \"Kimberlee Rawls\", \"Hans Chu\"]\n",
    "ids = [657462475, 5891375901, 853170918, 5893756365, 59818759043, 15875916359, 1579578144]\n",
    "\n",
    "# Combine them!\n",
    "data = {}\n",
    "\n",
    "### Testing code below ###\n",
    "assert data == {'Kimberlee Rawls': 15875916359, 'Jim Bayer': 5891375901, 'Hans Chu': 1579578144, 'Teresita Bryden': 5893756365, 'Georgina Britre': 59818759043, 'Tonisha Pouthier': 853170918, 'Joel Armstrong': 657462475}, \"Your dictionary doesn't quite match!\"\n",
    "print(\"Nice job! You got it.\")"
   ]
  },
  {
   "cell_type": "markdown",
   "metadata": {},
   "source": [
    "Write a one-liner that generates a list of the squares of every odd number from 5 to 20:"
   ]
  },
  {
   "cell_type": "code",
   "execution_count": null,
   "metadata": {},
   "outputs": [],
   "source": [
    "# Your code below!\n",
    "data = []\n",
    "\n",
    "### Testing  code below ###\n",
    "assert data == [25, 49, 81, 121, 169, 225, 289, 361], \"Not quite!\"\n",
    "print(\"Great job! Keep going!\")"
   ]
  },
  {
   "cell_type": "markdown",
   "metadata": {},
   "source": [
    "_Challenge:_ Rewrite the following code using a dictionary comprehension:"
   ]
  },
  {
   "cell_type": "code",
   "execution_count": null,
   "metadata": {
    "scrolled": false
   },
   "outputs": [],
   "source": [
    "age_data = {\"Jim\": 63, \"Mary\": 20, \"Eli\": 6, \"George\": 54, \"Paul\": 8, \"Bennet\": 10}\n",
    "passed_elementary = {}\n",
    "for name in age_data:\n",
    "    if age_data[name] > 11:\n",
    "        passed_elementary[name] = True\n",
    "    else:\n",
    "        passed_elementary[name] = False\n",
    "\n",
    "# Your more concise version here:\n",
    "my_passed_elementary = {}\n",
    "\n",
    "### Testing code below ###\n",
    "assert my_passed_elementary == {'Mary': True, 'Paul': False, 'Eli': False, 'Jim': True, 'George': True, 'Bennet': False}, \"Your solution doesn't quite match!\"\n",
    "print(\"Ayyy nice job!\")"
   ]
  }
 ],
 "metadata": {
  "kernelspec": {
   "display_name": "Python 3",
   "language": "python",
   "name": "python3"
  },
  "language_info": {
   "codemirror_mode": {
    "name": "ipython",
    "version": 3
   },
   "file_extension": ".py",
   "mimetype": "text/x-python",
   "name": "python",
   "nbconvert_exporter": "python",
   "pygments_lexer": "ipython3",
   "version": "3.5.3"
  }
 },
 "nbformat": 4,
 "nbformat_minor": 2
}
