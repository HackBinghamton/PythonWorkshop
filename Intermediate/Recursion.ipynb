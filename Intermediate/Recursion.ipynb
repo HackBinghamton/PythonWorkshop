{
 "cells": [
  {
   "cell_type": "markdown",
   "metadata": {
    "colab_type": "text",
    "id": "YZN1_U7NF_lg"
   },
   "source": [
    "# Recursion"
   ]
  },
  {
   "cell_type": "markdown",
   "metadata": {
    "colab_type": "text",
    "id": "KBIBXwtlF_lh"
   },
   "source": [
    "### What You'll Learn\n",
    "In this section, you'll learn\n",
    "1. How to create recursive functions\n",
    "2. How to traverse graphs using depth first search"
   ]
  },
  {
   "cell_type": "markdown",
   "metadata": {
    "colab_type": "text",
    "id": "OqSPMxD4F_li"
   },
   "source": [
    "# What is Recursion?\n",
    "\n",
    "Recursion is a technique where a function returns a function call to itself to create a loop.\n",
    "\n",
    "## Why is it useful?\n",
    "\n",
    "Recursion is a method of solving problems based on the \"divide and conquer\" mentality.\n",
    "\n",
    "You can use recursion to take the original problem and divide it into smaller (easier) instances of itself, solve those smaller instances (usually with same algorithm again) and then reassemble them into the final solution. Recursion works well with solving problems that are defined in terms of themselves."
   ]
  },
  {
   "cell_type": "markdown",
   "metadata": {
    "colab_type": "text",
    "id": "pM4ePItyF_lj"
   },
   "source": [
    "## Factorial from a Recursive Function\n",
    "\n",
    "### What is a factorial?\n",
    "\n",
    "A factorial is the product of an integer and all the integers below it.\n",
    "It looks like this: factorial of n = n!\n",
    "\n",
    "Examples:\n",
    "\n",
    "4! = 4 × 3 × 2 × 1 = 24\n",
    "\n",
    "7! = 7 × 6 × 5 × 4 × 3 × 2 × 1 = 5040\n",
    "\n",
    "1! = 1\n",
    "\n",
    "\n",
    "### How do we use recursion to find factorials?\n",
    "\n",
    "If we look at the mathematical definiton of a function, factorials can be defined recursively. The **factorial of n (n!)** can be defined as the following:\n",
    "\n",
    "if n ≥ 1, n! = n * (n-1)!\n",
    "\n",
    "if n = 0, n! = 1 \n",
    "\n",
    "For example:\n",
    "\n",
    "4! can be rewritten as 4 * 3!\n",
    "\n",
    "3! = 3 * 2!\n",
    "\n",
    "2! = 2 * 1!\n",
    "\n",
    "1! = 1 * 0!\n",
    "\n",
    "0! = 1\n",
    "\n",
    "***Note:*** Some definitions of  factorial also state that if n = 1, n! =1, but these are saying the equivalent thing as the definiton above\n",
    "\n"
   ]
  },
  {
   "cell_type": "markdown",
   "metadata": {
    "colab_type": "text",
    "id": "YG2hKdGppRIZ"
   },
   "source": [
    "### Base Case\n",
    "\n",
    "Recursive functions need a **base case**, which specifies the point where the recursion will end. Without a base case, recursive functions would be stuck in an infinite loop that leads to stack overflow. Base cases can be created using an if statement to check for a condition that says the last recursive call is made.\n",
    "\n",
    "Since a factorial is composed of the product of numbers, if we included 0 in the base case every factorial would be equal to 0.\n",
    "\n",
    "Based on the definition, we know the base case for factorials is n = 0, so we want to return that 0! = 1.\n"
   ]
  },
  {
   "cell_type": "code",
   "execution_count": null,
   "metadata": {
    "colab": {},
    "colab_type": "code",
    "id": "ngeNmIgqpT82"
   },
   "outputs": [],
   "source": [
    "def factorial(n):\n",
    "  # Base case: 0! = 1\n",
    "  if n == 0:\n",
    "    return 1\n",
    "\n",
    "  # Recursion happens down here...."
   ]
  },
  {
   "cell_type": "markdown",
   "metadata": {
    "colab_type": "text",
    "id": "mNQTg_nlpSo_"
   },
   "source": [
    "### General (Recursive) Case\n",
    "\n",
    "The **general (recursive) case** is what happens in our recursive function most of the time.\n",
    "\n",
    "Looking back at the definition, we can see that our recursive case is n * (n - 1)!.\n",
    "\n",
    "We can make a call within the function with the new parameter, n - 1, to create a recursive function call. The function will continually call itself until the base case is reached.\n",
    "\n",
    "At the base case, the function will return back to the function when n = 1, which will return 1 * 0!, which will return back to the function when n = 3, and keep going until the highest number called with the function.\n",
    "\n",
    "We have now made a recursive factorial function!"
   ]
  },
  {
   "cell_type": "code",
   "execution_count": null,
   "metadata": {
    "colab": {},
    "colab_type": "code",
    "id": "B8RWMdExH0jw"
   },
   "outputs": [],
   "source": [
    "def factorial(n):\n",
    "  # Base case: 1! = 1\n",
    "  if n == 1:\n",
    "    return 1\n",
    "\n",
    "  # General case: n! = n * (n-1)!\n",
    "  else:\n",
    "    return n * factorial(n-1)\n",
    "\n",
    "print(factorial(1))\n",
    "print(factorial(2))\n",
    "print(factorial(7))"
   ]
  },
  {
   "cell_type": "markdown",
   "metadata": {
    "colab_type": "text",
    "id": "YrEkJKemF_lx"
   },
   "source": [
    "## Recursion Exercise\n",
    "### Fibonacci Sequence\n",
    "Write a recursively function that returns the *n*th number of the Fibonnaci Sequence, when n >= 0.\n",
    "\n",
    "The Fibonacci Sequence is a number sequence starting at 0 where the next number is found by adding up the two numbers before it:\n",
    "\n",
    "0, 1, 1, 2, 3, 5, 8, 13, 21, 34, ...\n",
    "\n",
    "==HINT==\n",
    "\n",
    "F(n) = F(n-1)  +  F(n-2)\n",
    "\n",
    "There are two other Fibonacci numbers inside of a fibonacci number! This is different from the factorial example where there was only one other factorial inside of a factorial.\n",
    "\n",
    "How many times should the function be called inside itself? How many base cases should there be? 🤔🤔🤔"
   ]
  },
  {
   "cell_type": "code",
   "execution_count": null,
   "metadata": {
    "colab": {},
    "colab_type": "code",
    "id": "EL2N3t00F_ly"
   },
   "outputs": [],
   "source": [
    "def fibonacci(n):\n",
    "  # IMPLEMENT ME\n",
    "  # Create a function that recursively runs to find the Fibonnaci number of n.\n",
    "  # Return the base case(s) and the general case.\n",
    "\n",
    "  # Base Case(s)\n",
    "\n",
    "  # General (Recursive) Case\n",
    "\n",
    "  return\n",
    "\n",
    "\n",
    "assert(fibonacci(5) == 5)\n",
    "assert(fibonacci(0) == 0)\n",
    "assert(fibonacci(7) == 13)\n",
    "assert(fibonacci(9) == 34)"
   ]
  },
  {
   "cell_type": "markdown",
   "metadata": {
    "colab_type": "text",
    "id": "XDyEBLliF_ll"
   },
   "source": [
    "## Recursion in Practice: Graph Traversal\n",
    "\n",
    "Recursive functions are also used to traverse through graphs in different types of search. A graph is a data structure which describes nodes that are connected by edges in any way. If you're interested in reading more, you can check out this [introduction to graphs](https://medium.com/basecs/a-gentle-introduction-to-graph-theory-77969829ead8). \n",
    "\n",
    "The two most common graph traversal algorihms are Depth First Search and Breadth First Search. As the names imply, the difference between the two algorithms are the order in which the nodes are reached. This [animation](https://miro.medium.com/max/640/0*miG6xdyYzdvrB67S.gif) helps visually show the difference between the two algorithms.\n",
    "\n",
    "### Depth First Search (DFS)\n",
    "\n",
    "We're gonna take a closer look at **Depth First Search (DFS)** because the algorithm has a very natural recursive implemntation. In DFS,  the search starts at the first node and explores as far as possible along each branch.\n",
    "\n",
    "For each node that we run our DFS function on, we look at the neighbor nodes (the nodes that it can reach). If we have not visited a neighbor node, we start a new DFS from that node. After that DFS, we return a list of the nodes that we visited from this node, which is added to the larger list outside of this node, until all of the nodes have been explored.\n"
   ]
  },
  {
   "cell_type": "code",
   "execution_count": null,
   "metadata": {
    "colab": {},
    "colab_type": "code",
    "id": "WYfo8AYFF_lm"
   },
   "outputs": [],
   "source": [
    "# Function to print a DFS of graph \n",
    "def dfs(graph, vertex, path=[]):\n",
    "  path += [vertex]\n",
    "\n",
    "  for neighbor in graph[vertex]:\n",
    "    if neighbor not in path:\n",
    "        path = dfs(graph, neighbor, path)\n",
    "\n",
    "  return path\n",
    "\n",
    "# small graph with a starting node of 2\n",
    "graph1 = {\n",
    "  0: [1, 2],\n",
    "  1: [2],\n",
    "  2: [0, 3],\n",
    "  3: [3]\n",
    "}\n",
    "\n",
    "print(\"Depth First Traversal on Graph 1 (starting from node 2): \" + str(dfs(graph1, 2)) )\n",
    "\n",
    "# large graph with a starting node of 1\n",
    "graph2 = {\n",
    "  1: [2, 3],\n",
    "  2: [4, 5],\n",
    "  3: [5],\n",
    "  4: [6],\n",
    "  5: [6],\n",
    "  7: []\n",
    "}\n",
    "\n",
    "print(\"Depth First Traversal on Graph 2 (starting from node 1): \" + str(dfs(graph2, 1)) )\n"
   ]
  }
 ],
 "metadata": {
  "colab": {
   "name": "Recursion.ipynb",
   "provenance": [],
   "version": "0.3.2"
  },
  "kernelspec": {
   "display_name": "Python 3",
   "language": "python",
   "name": "python3"
  },
  "language_info": {
   "codemirror_mode": {
    "name": "ipython",
    "version": 3
   },
   "file_extension": ".py",
   "mimetype": "text/x-python",
   "name": "python",
   "nbconvert_exporter": "python",
   "pygments_lexer": "ipython3",
   "version": "3.6.2"
  }
 },
 "nbformat": 4,
 "nbformat_minor": 1
}
