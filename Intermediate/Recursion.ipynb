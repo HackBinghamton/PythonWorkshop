{
  "nbformat": 4,
  "nbformat_minor": 0,
  "metadata": {
    "kernelspec": {
      "display_name": "Python 3",
      "language": "python",
      "name": "python3"
    },
    "language_info": {
      "codemirror_mode": {
        "name": "ipython",
        "version": 3
      },
      "file_extension": ".py",
      "mimetype": "text/x-python",
      "name": "python",
      "nbconvert_exporter": "python",
      "pygments_lexer": "ipython3",
      "version": "3.6.8"
    },
    "colab": {
      "name": "Recursion.ipynb",
      "version": "0.3.2",
      "provenance": []
    }
  },
  "cells": [
    {
      "cell_type": "code",
      "metadata": {
        "id": "b_oojnKmF_lc",
        "colab_type": "code",
        "colab": {},
        "outputId": "7a39b973-28c1-4a70-a436-6c144f22979d"
      },
      "source": [
        "%%html\n",
        "<style>\n",
        "    /* Jupyter */\n",
        "    .rendered_html table,\n",
        "    /* Jupyter Lab*/\n",
        "    div[data-mime-type=\"text-markdown\"] table {\n",
        "        margin-left: 0\n",
        "    }\n",
        "</style>"
      ],
      "execution_count": 0,
      "outputs": [
        {
          "output_type": "display_data",
          "data": {
            "text/html": [
              "<style>\n",
              "    /* Jupyter */\n",
              "    .rendered_html table,\n",
              "    /* Jupyter Lab*/\n",
              "    div[data-mime-type=\"text-markdown\"] table {\n",
              "        margin-left: 0\n",
              "    }\n",
              "</style>\n"
            ],
            "text/plain": [
              "<IPython.core.display.HTML object>"
            ]
          },
          "metadata": {
            "tags": []
          }
        }
      ]
    },
    {
      "cell_type": "markdown",
      "metadata": {
        "id": "YZN1_U7NF_lg",
        "colab_type": "text"
      },
      "source": [
        "# Recursion"
      ]
    },
    {
      "cell_type": "markdown",
      "metadata": {
        "id": "KBIBXwtlF_lh",
        "colab_type": "text"
      },
      "source": [
        "### What You'll Learn\n",
        "In this section, you'll learn\n",
        "1. How to create recursive functions\n",
        "2. How to traverse graphs using depth first search"
      ]
    },
    {
      "cell_type": "markdown",
      "metadata": {
        "id": "OqSPMxD4F_li",
        "colab_type": "text"
      },
      "source": [
        "# What is Recursion?\n",
        "\n",
        "Recursion is a technique where a function returns a function call to itself to create a loop.\n",
        "\n",
        "## Why is it useful?\n",
        "\n",
        "Recursion is a method of solving problems based on the \"divide and conquer\" mentality.\n",
        "\n",
        "You can use recursion to take the original problem and divide it into smaller (easier) instances of itself, solve those smaller instances (usually with same algorithm again) and then reassemble them into the final solution. Recursion works well with solving problems that are defined in terms of themselves."
      ]
    },
    {
      "cell_type": "markdown",
      "metadata": {
        "id": "pM4ePItyF_lj",
        "colab_type": "text"
      },
      "source": [
        "## Factorial from a Recursive Function\n",
        "\n",
        "### What is a factorial?\n",
        "\n",
        "A factorial is the product of an integer and all the integers below it.\n",
        "It looks like this: factorial of n = n!\n",
        "\n",
        "Examples:\n",
        "\n",
        "4! = 4 × 3 × 2 × 1 = 24\n",
        "\n",
        "7! = 7 × 6 × 5 × 4 × 3 × 2 × 1 = 5040\n",
        "\n",
        "1! = 1\n",
        "\n",
        "\n",
        "### How do we use recursion to find factorials?\n",
        "\n",
        "Factorials can be defined in terms of themselves.\n",
        "\n",
        "For example:\n",
        "\n",
        "4! can be rewritten as 4 * 3!\n",
        "\n",
        "3! = 3 * 2!\n",
        "\n",
        "2! = 2 * 1!\n",
        "\n",
        "1! = 1\n",
        "\n",
        "This shows us that the factorial of n is n! = n * (n - 1)!, when n > 0. We can make this into a recursive function!"
      ]
    },
    {
      "cell_type": "markdown",
      "metadata": {
        "id": "YG2hKdGppRIZ",
        "colab_type": "text"
      },
      "source": [
        "### Base Case\n",
        "\n",
        "Recursive functions need a **base case**, which is a case where the recursion stops once a specified point is reached. Base cases can be made from an if statement to check when the last recursion is reached.\n",
        "\n",
        "Factorials only multiply down to a factorial of 1, so any number lower than 1 cannot have a factorial. This means our base case is at 1.\n",
        "\n",
        "The factorial of 1 is always zero, so for our base case we want to return that 1! = 1.\n",
        "\n"
      ]
    },
    {
      "cell_type": "code",
      "metadata": {
        "id": "ngeNmIgqpT82",
        "colab_type": "code",
        "colab": {}
      },
      "source": [
        "def factorial(n):\n",
        "  # Base case: 1! = 1\n",
        "  if n == 1:\n",
        "    return 1\n",
        "\n",
        "  # Recursion happens down here...."
      ],
      "execution_count": 0,
      "outputs": []
    },
    {
      "cell_type": "markdown",
      "metadata": {
        "id": "mNQTg_nlpSo_",
        "colab_type": "text"
      },
      "source": [
        "### General (Recursive) Case\n",
        "\n",
        "The **general (recursive) case** is what happens in our recursive function most of the time.\n",
        "\n",
        "We can define out general case to be n * (n - 1)!, because this is what happens other than during the base case.\n",
        "\n",
        "We can call our own function to find the factorial of n - 1! This creates a recursive loop where the function will continually call itself to find the factorial of n - 1 until the base case where n = 1.\n",
        "\n",
        "At the base case, the function will return back to the function when n = 2, which will return 2 * 1!, which will return back to the function when n = 3, and keep going until the highest number called with the function.\n",
        "\n",
        "We have now made a recursive factorial function!"
      ]
    },
    {
      "cell_type": "code",
      "metadata": {
        "id": "B8RWMdExH0jw",
        "colab_type": "code",
        "colab": {}
      },
      "source": [
        "def factorial(n):\n",
        "  # Base case: 1! = 1\n",
        "  if n == 1:\n",
        "    return 1\n",
        "\n",
        "  # General case: n! = n * (n-1)!\n",
        "  else:\n",
        "    return n * factorial(n-1)\n",
        "      \n",
        "assert(factorial(2) == 2)\n",
        "assert(factorial(5) == 120)\n",
        "assert(factorial(1) == 1)\n",
        "assert(factorial(7) == 5040)"
      ],
      "execution_count": 0,
      "outputs": []
    },
    {
      "cell_type": "markdown",
      "metadata": {
        "id": "XDyEBLliF_ll",
        "colab_type": "text"
      },
      "source": [
        "## Graph Traversal\n",
        "\n",
        "Recursive functions are also used to traverse through graphs in different types of search \n",
        "\n",
        "### Depth First Search (DFS)\n",
        "\n",
        "**Depth First Search (DFS)** is a basic type of graph traversal algorithm, where the search starts at the first node and explores as far as possible along each branch before backtracking.\n",
        "\n",
        "For each node that we run our DFS function on, we look at the neighbor nodes (the nodes that it can reach). If we have not visited a neighbor node, we start a new DFS from that node. After that DFS, we return a list of the nodes that we visited from this node, which is added to the larger list outside of this node, until all of the nodes have been explored."
      ]
    },
    {
      "cell_type": "code",
      "metadata": {
        "id": "WYfo8AYFF_lm",
        "colab_type": "code",
        "colab": {}
      },
      "source": [
        "\n",
        "# Function to print a BFS of graph \n",
        "def dfs(graph, vertex, path=[]):\n",
        "  path += [vertex]\n",
        "\n",
        "  for neighbor in graph[vertex]:\n",
        "    if neighbor not in path:\n",
        "        path = dfs(graph, neighbor, path)\n",
        "\n",
        "  return path\n",
        "\n",
        "def main():\n",
        "  # small graph with a starting node of 2\n",
        "  graph1 = {\n",
        "      0: [1, 2],\n",
        "      1: [2],\n",
        "      2: [0, 3],\n",
        "      3: [3]\n",
        "  }\n",
        "  \n",
        "  print(\"Depth First Traversal on Graph 1 (starting from node 2): \" + dfs(graph1, 2) )\n",
        "  \n",
        "  # large graph with a starting node of 1\n",
        "  graph2 = {\n",
        "      1: [2, 3],\n",
        "      2: [4, 5],\n",
        "      3: [5],\n",
        "      4: [6],\n",
        "      5: [6],\n",
        "      7: []\n",
        "  }\n",
        "\n",
        "  print(\"Depth First Traversal on Graph 2 (starting from node 1): \" + dfs(graph2, 1) )\n"
      ],
      "execution_count": 0,
      "outputs": []
    },
    {
      "cell_type": "markdown",
      "metadata": {
        "id": "YrEkJKemF_lx",
        "colab_type": "text"
      },
      "source": [
        "## Example Problem\n",
        "### Fibonacci Sequence\n",
        "Write a recursively function that returns the *n*th number of the Fibonnaci Sequence, when n >= 0.\n",
        "\n",
        "The Fibonacci Sequence is a number sequence starting at 0 where the next number is found by adding up the two numbers before it:\n",
        "\n",
        "0, 1, 1, 2, 3, 5, 8, 13, 21, 34, ...\n",
        "\n",
        "==HINT==\n",
        "\n",
        "F(n) = F(n-1)  +  F(n-2)\n",
        "\n",
        "There are two other Fibonacci numbers inside of a fibonacci number! This is different from the factorial example where there was only one other factorial inside of a factorial.\n",
        "\n",
        "How many times should the function be called inside itself? How many base cases should there be? 🤔🤔🤔"
      ]
    },
    {
      "cell_type": "code",
      "metadata": {
        "id": "EL2N3t00F_ly",
        "colab_type": "code",
        "colab": {}
      },
      "source": [
        "def fibonacci(n):\n",
        "  # IMPLEMENT ME\n",
        "  # Create a function that recursively runs to find the Fibonnaci number of n.\n",
        "  # Return the base case(s) and the general case.\n",
        "\n",
        "  # Base Case(s)\n",
        "\n",
        "  # General (Recursive) Case\n",
        "\n",
        "  return\n",
        "\n",
        "\n",
        "assert(fibonacci(5) == 5)\n",
        "assert(fibonacci(0) == 0)\n",
        "assert(fibonacci(7) == 13)\n",
        "assert(fibonacci(9) == 34)"
      ],
      "execution_count": 0,
      "outputs": []
    },
    {
      "cell_type": "markdown",
      "metadata": {
        "id": "5VkOkgDIF_l0",
        "colab_type": "text"
      },
      "source": [
        "---\n",
        "## Next section (recommended): String Manipulation"
      ]
    }
  ]
}