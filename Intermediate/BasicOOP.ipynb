{
 "cells": [
  {
   "cell_type": "markdown",
   "metadata": {},
   "source": [
    "# And I OOP! (Intro to Object-Oriented Programming with Python)"
   ]
  },
  {
   "cell_type": "markdown",
   "metadata": {},
   "source": [
    "## Overview\n",
    "\n",
    "### What You'll Learn\n",
    "\n",
    "1. How to make and use classes in Python\n",
    "2. Implementing basic OOP concepts in your code\n",
    "\n",
    "### Prerequisites\n",
    "Before you start this section, you should have an understanding of\n",
    "1. [Functions](https://colab.research.google.com/github/HackBinghamton/PythonWorkshop/blob/master/Intro/Functions.ipynb\n",
    ")"
   ]
  },
  {
   "cell_type": "markdown",
   "metadata": {},
   "source": [
    "## So, what is Object-Oriented Programming?\n",
    "\n",
    "Object-Oriented Programming (otherwise known as OOP) is a useful (and awesome!) programming paradigm \"which provides a means of structuring programs so that properties and behaviors are bundled into individual objects\" (quote from [here](https://realpython.com/python3-object-oriented-programming/)). These objects usually represent real-life objects which can be modeled with code. Some common examples are BankAccount, Animal, or Shape.\n",
    "\n",
    "## How does it work in Python?\n",
    "\n",
    "Objects are represented in Python by a handy-dandy feature called a *class*. Classes look something like this!"
   ]
  },
  {
   "cell_type": "code",
   "execution_count": null,
   "metadata": {
    "collapsed": true
   },
   "outputs": [],
   "source": [
    "class Dog:\n",
    "    #functions, variables, and other attributes"
   ]
  },
  {
   "cell_type": "markdown",
   "metadata": {},
   "source": [
    "## Let's add more information!\n",
    "\n",
    "We have our Dog class! Great! However, we don't know much about him yet."
   ]
  },
  {
   "cell_type": "code",
   "execution_count": null,
   "metadata": {
    "collapsed": true
   },
   "outputs": [],
   "source": [
    "class Dog:\n",
    "    species = \"mammal\"\n",
    "    is_good_boy = True"
   ]
  },
  {
   "cell_type": "markdown",
   "metadata": {},
   "source": [
    "Now, all instances of our class Dog will be mammals and will be very good pups. However, other attributes might change between instances. Let's make an Initializer function that we can use any time we want to create more Dog objects in our program."
   ]
  },
  {
   "cell_type": "code",
   "execution_count": null,
   "metadata": {
    "collapsed": true
   },
   "outputs": [],
   "source": [
    "class Dog:\n",
    "    species = \"mammal\"\n",
    "    is_good_boy = True\n",
    "    \n",
    "    def __init__(self, n, c):\n",
    "        self.name = n\n",
    "        self.color = c"
   ]
  },
  {
   "cell_type": "markdown",
   "metadata": {},
   "source": [
    "Okay, what's going on here? In this code snippet, we used a special function called the Initializer to define what happens whenever a new Dog object is created. This Initializer function is always called __init__, with two underlines on each side. This is so that Python can understand what you're trying to do!\n",
    "\n",
    "When you're coding, you never have to explicitly call the Initializer function. It's handled whenever you create a new Dog object. In this case, the Initializer sets Dog's **name** and **color** variables to what you, the programmer, want them to be. Let's try it out!"
   ]
  },
  {
   "cell_type": "code",
   "execution_count": null,
   "metadata": {
    "collapsed": true
   },
   "outputs": [],
   "source": [
    "class Dog:\n",
    "    species = \"mammal\"\n",
    "    is_good_dog = True\n",
    "    \n",
    "    def __init__(self, n, c):\n",
    "        self.name = n\n",
    "        self.color = c\n",
    "        \n",
    "george = Dog(\"George\", \"tricolor\")\n",
    "bella = Dog(\"Bella\", \"brown\")"
   ]
  },
  {
   "cell_type": "markdown",
   "metadata": {},
   "source": [
    "Nice! Now we have two Dog instances, george and bella. The __init__ function was called automatically by creating a new Dog object (that was when we wrote **Dog(\"George\", \"tricolor\")** and **Dog(\"Bella\", \"brown\")**).\n",
    "\n",
    "Let's see what attributes these different Dogs have."
   ]
  },
  {
   "cell_type": "code",
   "execution_count": null,
   "metadata": {
    "collapsed": true
   },
   "outputs": [],
   "source": [
    "class Dog:\n",
    "    species = \"mammal\"\n",
    "    is_good_dog = True\n",
    "    \n",
    "    def __init__(self, n, c):\n",
    "        self.name = n\n",
    "        self.color = c\n",
    "        \n",
    "george = Dog(\"George\", \"tricolor\")\n",
    "bella = Dog(\"Bella\", \"brown\")\n",
    "print(george.name, george.color, george.species, george.is_good_dog)\n",
    "print(bella.name, bella.color, bella.species, bella.is_good_dog)"
   ]
  },
  {
   "cell_type": "markdown",
   "metadata": {},
   "source": [
    "george and bella have different names and colors, just how we initialized them. And, since they belong to the Dog class, they are both mammals and are both good dogs."
   ]
  },
  {
   "cell_type": "markdown",
   "metadata": {},
   "source": [
    "## Adding functions\n",
    "\n",
    "Not only can classes have attributes, they can have functions too!"
   ]
  },
  {
   "cell_type": "code",
   "execution_count": null,
   "metadata": {
    "collapsed": true
   },
   "outputs": [],
   "source": [
    "class Dog:\n",
    "    species = \"mammal\"\n",
    "    is_good_dog = True\n",
    "    \n",
    "    def __init__(self, n, c):\n",
    "        self.name = n\n",
    "        self.color = c\n",
    "        self.tricks_known = []\n",
    "        \n",
    "    def bark(self):\n",
    "        print(\"Woof!\")\n",
    "        \n",
    "    def train(self, new_trick):\n",
    "        self.tricks_known.append(new_trick)\n",
    "        \n",
    "george = Dog(\"George\", \"tricolor\")\n",
    "bella = Dog(\"Bella\", \"brown\")\n",
    "\n",
    "george.bark()\n",
    "bella.bark()\n",
    "\n",
    "george.train(\"fetch\")\n",
    "george.train(\"sit\")\n",
    "\n",
    "bella.train(\"shake\")\n",
    "bella.train(\"roll over\")\n",
    "\n",
    "print(george.tricks_known)\n",
    "print(bella.tricks_known)"
   ]
  },
  {
   "cell_type": "markdown",
   "metadata": {},
   "source": [
    "## Okay, but why does this matter?\n",
    "\n",
    "If you've only learned how to code this decade, you've probably always been using Object Oriented Principles. It thus may seem like objects while useful are an arbitrary stylistic choice. This is not the case.\n",
    "\n",
    "When Alan Kay created Smalltalk in the 1970s, the language pushed forward the concept of object oriented programing to the extent that nearly every modern language can be considered to have been directly inspired by Smalltalk. \n",
    "\n",
    "### What was so revolutionary about Smalltalk/OOP?\n",
    "\n",
    "(i) Abstraction: all programming languages use abstraction from a machine programmers perspective -- the print function, for example, is really triggering an extremely complicated process involving hundreds of lines of code and a framebuffer. Smalltalk, however, like languages before it did with modules, allowed users the ability to create their own abstractions, in a more condensed way than modules had permitted. These class functions, in addition to making the code more comprehensible, prevent the need to repeat code (DRY).\n",
    "\n",
    "\n",
    "(ii) Inheritance and Polymorphism: using classes, we can create objects that have similar or exact functions and properties without rewriting those functions. Inheritence and Polymorphism are covered in the Advanced section of this workshop.\n",
    "\n",
    "\n",
    "(iii) Communications Protocol: while the concept of OOP has been slightly altered from this by modern languages such as C and Python, in its original form, OOP objects were not data structures, but groups of functions. Thus while you could communicate with the object by calling functions, you could not learn about its internal state. With Python, you can use and reference your class variables to see your objects internal state, but your main method of communication should still be functions."
   ]
  },
  {
   "cell_type": "markdown",
   "metadata": {},
   "source": [
    "## Try it out yourself!\n",
    "\n",
    "1. Create a class **Student** with attributes **name**, **year**, **major**, and **course_list**\n",
    "2. Give the class the method **add_course(course)** which adds the course to the student's course list\n",
    "3. Give the class the method **change_major(major)** which changes the student's major\n",
    "4. Test out your code by creating a few Student instances with different majors and courses"
   ]
  },
  {
   "cell_type": "code",
   "execution_count": 1,
   "metadata": {},
   "outputs": [
    {
     "ename": "SyntaxError",
     "evalue": "invalid syntax (<ipython-input-1-020c3038bda8>, line 1)",
     "output_type": "error",
     "traceback": [
      "\u001b[0;36m  File \u001b[0;32m\"<ipython-input-1-020c3038bda8>\"\u001b[0;36m, line \u001b[0;32m1\u001b[0m\n\u001b[0;31m    def Student:\u001b[0m\n\u001b[0m               ^\u001b[0m\n\u001b[0;31mSyntaxError\u001b[0m\u001b[0;31m:\u001b[0m invalid syntax\n"
     ]
    }
   ],
   "source": [
    "def Student:\n",
    "    # your code goes here!)."
   ]
  }
 ],
 "metadata": {
  "kernelspec": {
   "display_name": "Python 2",
   "language": "python",
   "name": "python2"
  },
  "language_info": {
   "codemirror_mode": {
    "name": "ipython",
    "version": 2
   },
   "file_extension": ".py",
   "mimetype": "text/x-python",
   "name": "python",
   "nbconvert_exporter": "python",
   "pygments_lexer": "ipython2",
   "version": "2.7.16"
  }
 },
 "nbformat": 4,
 "nbformat_minor": 2
}
