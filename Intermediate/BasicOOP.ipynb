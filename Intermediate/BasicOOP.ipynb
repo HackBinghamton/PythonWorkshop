{
 "cells": [
  {
   "cell_type": "markdown",
   "metadata": {},
   "source": [
    "# And I OOP! (Intro to Object-Oriented Programming with Python)"
   ]
  },
  {
   "cell_type": "markdown",
   "metadata": {},
   "source": [
    "## Overview\n",
    "\n",
    "### What You'll Learn\n",
    "\n",
    "1. How to make and use classes in Python\n",
    "2. Implementing basic OOP concepts in your code\n",
    "\n",
    "### Prerequisites\n",
    "Before you start this section, you should have an understanding of\n",
    "1. [Functions](https://colab.research.google.com/github/HackBinghamton/PythonWorkshop/blob/master/Intro/Functions.ipynb\n",
    ")"
   ]
  },
  {
   "cell_type": "markdown",
   "metadata": {},
   "source": [
    "## So, what is Object-Oriented Programming?\n",
    "\n",
    "Object-Oriented Programming (otherwise known as OOP) is a useful (and awesome!) programming paradigm \"which provides a means of structuring programs so that properties and behaviors are bundled into individual objects\" (quote from [here](https://realpython.com/python3-object-oriented-programming/)). These objects usually represent real-life objects which can be modeled with code. Some common examples of objects you might find in tutorials are `BankAccount`, `Animal`, or `Shape`.\n",
    "\n",
    "## How does it work in Python?\n",
    "\n",
    "Objects are represented in Python by a handy-dandy feature called a *class*. Classes look something like this!"
   ]
  },
  {
   "cell_type": "code",
   "execution_count": null,
   "metadata": {},
   "outputs": [],
   "source": [
    "class Dog:\n",
    "    #functions, variables, and other attributes"
   ]
  },
  {
   "cell_type": "markdown",
   "metadata": {},
   "source": [
    "## Let's add more information!\n",
    "\n",
    "We have our Dog class! Great!\n",
    "\n",
    "Now, let's make an \"initializer\" function that we can use any time we want to create Dog objects in our program.\n",
    "\n",
    "Note the difference -- a Class is a definition of a data type, and objects are instances of that data type. We only have one Dog class, but we can have many Dog objects."
   ]
  },
  {
   "cell_type": "code",
   "execution_count": null,
   "metadata": {},
   "outputs": [],
   "source": [
    "class Dog:\n",
    "    \n",
    "    def __init__(self, n, c):\n",
    "        self.name = n\n",
    "        self.color = c"
   ]
  },
  {
   "cell_type": "markdown",
   "metadata": {},
   "source": [
    "Okay, what's going on here? In this code snippet, we used a special function called the \"initializer\" to define what happens whenever a new Dog object is created. This initializer function is always called `__init__`, with two underscores on each side. This is so that Python can understand what you're trying to do!\n",
    "\n",
    "When you're coding, you never have to explicitly call the initializer function. It's handled whenever you create a new Dog object. In this case, the initializer sets Dog's `name` and `color` variables to what you, the programmer, want them to be. Let's try it out!"
   ]
  },
  {
   "cell_type": "code",
   "execution_count": null,
   "metadata": {},
   "outputs": [],
   "source": [
    "class Dog:\n",
    "    \n",
    "    def __init__(self, n, c):\n",
    "        self.name = n\n",
    "        self.color = c\n",
    "        \n",
    "george = Dog(\"George\", \"tricolor\")\n",
    "bella = Dog(\"Bella\", \"brown\")"
   ]
  },
  {
   "cell_type": "markdown",
   "metadata": {},
   "source": [
    "Nice! Now we have two Dog instances, `george` and `bella`. The `__init__` function was called automatically by creating a new Dog object (that was when we wrote `Dog(\"George\", \"tricolor\")` and `Dog(\"Bella\", \"brown\")`).\n",
    "\n",
    "Let's see what attributes these different Dogs have."
   ]
  },
  {
   "cell_type": "code",
   "execution_count": null,
   "metadata": {},
   "outputs": [],
   "source": [
    "class Dog:\n",
    "    \n",
    "    def __init__(self, n, c):\n",
    "        self.name = n\n",
    "        self.color = c\n",
    "        \n",
    "george = Dog(\"George\", \"tricolor\")\n",
    "bella = Dog(\"Bella\", \"brown\")\n",
    "print(george.name, george.color, george.species, george.is_good_dog)\n",
    "print(bella.name, bella.color, bella.species, bella.is_good_dog)"
   ]
  },
  {
   "cell_type": "markdown",
   "metadata": {},
   "source": [
    "George and Bella have different names and colors, just how we initialized them."
   ]
  },
  {
   "cell_type": "markdown",
   "metadata": {},
   "source": [
    "### Exercise\n",
    "\n",
    "Try creating a few Dogs of your own!"
   ]
  },
  {
   "cell_type": "code",
   "execution_count": null,
   "metadata": {},
   "outputs": [],
   "source": [
    "# Create your Dogs here!"
   ]
  },
  {
   "cell_type": "markdown",
   "metadata": {},
   "source": [
    "## Adding functions\n",
    "\n",
    "Classes can not only have attributes, but they can have functions, too!"
   ]
  },
  {
   "cell_type": "code",
   "execution_count": null,
   "metadata": {},
   "outputs": [],
   "source": [
    "class Dog:\n",
    "    \n",
    "    def __init__(self, n, c):\n",
    "        self.name = n\n",
    "        self.color = c\n",
    "        self.tricks_known = []\n",
    "        \n",
    "    def bark(self):\n",
    "        print(\"Woof!\")\n",
    "        \n",
    "    def train(self, new_trick):\n",
    "        self.tricks_known.append(new_trick)\n",
    "        \n",
    "    def getName(self):\n",
    "        return self.name\n",
    "    \n",
    "    def getColor(self):\n",
    "        return self.color\n",
    "    \n",
    "    def getTricksKnown(self):\n",
    "        return tricks_known\n",
    "\n",
    "# Create some Dogs\n",
    "george = Dog(\"George\", \"tricolor\")\n",
    "bella = Dog(\"Bella\", \"brown\")\n",
    "\n",
    "# Call their bark() methods\n",
    "george.bark()\n",
    "bella.bark()\n",
    "\n",
    "# Train george to fetch and sit\n",
    "george.train(\"fetch\")\n",
    "george.train(\"sit\")\n",
    "\n",
    "# Train bella to \n",
    "bella.train(\"shake\")\n",
    "bella.train(\"roll over\")\n",
    "\n",
    "print(george.getName() + \":\", george.getColor())\n",
    "print(bella.getName() + \":\", bella.getColor())\n",
    "print(george.getTricksKnown)\n",
    "print(bella.getTricksKnown)"
   ]
  },
  {
   "cell_type": "markdown",
   "metadata": {},
   "source": [
    "Here, we added 4 new functions, `bark()`, `train()`, `getName()`, and `getColor()`. \n",
    "`bark()` prints out \"Woof!\" when called, and `train(new_trick)` takes in a parameters that gets appended to a new instance variable, `tricks_known`. Now, when our dog gets trained, we can remember all his new tricks!  \n",
    "\n",
    "`getName()` and `getColor()` return our dog's name and color, so that we can access them anywhere outside of our class. Accessing instance variables with \"getters\" and \"setters\" is generally good practice as opposed to accessing them directly."
   ]
  },
  {
   "cell_type": "markdown",
   "metadata": {},
   "source": [
    "### Exercise\n",
    "\n",
    "Now, try making your own Dog, and making it bark. Then, train it to \"lay down\" and print out the tricks it now knows."
   ]
  },
  {
   "cell_type": "code",
   "execution_count": null,
   "metadata": {},
   "outputs": [],
   "source": [
    "# Your Dog code here!"
   ]
  },
  {
   "cell_type": "markdown",
   "metadata": {},
   "source": [
    "## Okay, but why does this matter?\n",
    "\n",
    "If you've only learned how to code this decade, you've probably always been using object-oriented principles. It thus may seem like objects, while useful, are an arbitrary stylistic choice. This is not the case.\n",
    "\n",
    "When Alan Kay created Smalltalk in the 1970s, the language pushed forward the concept of object oriented programing to the extent that nearly every modern language can be considered to have been directly inspired by Smalltalk. \n",
    "\n",
    "### What was so revolutionary about Smalltalk/OOP?\n",
    "\n",
    "1. **Abstraction:** All programming languages use abstraction from a machine programmers perspective -- the print function, for example, is really triggering an extremely complicated process involving hundreds of lines of code and a framebuffer. Smalltalk, however, like languages before it did with modules, allowed users the ability to create their own abstractions, in a more condensed way than modules had permitted. These class functions, in addition to making the code more comprehensible, prevent the need to repeat code.\n",
    "\n",
    "2. **Inheritance and Polymorphism:** Using classes, we can create objects that have similar or exact functions and properties without rewriting those functions. Inheritence and polymorphism are covered in the Advanced section of this workshop.\n",
    "\n",
    "3. **Communications Protocol:** While the concept of OOP has been slightly altered from this by modern languages such as C and Python, in its original form, OOP objects were not data structures, but groups of functions. Thus while you could communicate with the object by calling functions, you could not learn about its internal state. With Python, you can use and reference your class variables to see your objects internal state, but your main method of communication should still be functions."
   ]
  },
  {
   "cell_type": "markdown",
   "metadata": {},
   "source": [
    "## Section Challenge\n",
    "\n",
    "1. Create a class `Student` with attributes `name`, `year`, `major`, and `course_list`\n",
    "2. Give the class the method `add_course(course)`, which adds the course to the student's course list\n",
    "3. Give the class the method `change_major(major)`, which changes the student's major\n",
    "4. Test out your code by creating a few Student instances with different majors and courses"
   ]
  },
  {
   "cell_type": "code",
   "execution_count": null,
   "metadata": {},
   "outputs": [],
   "source": [
    "def Student:\n",
    "    # your code goes here!)."
   ]
  }
 ],
 "metadata": {
  "kernelspec": {
   "display_name": "Python 3",
   "language": "python",
   "name": "python3"
  },
  "language_info": {
   "codemirror_mode": {
    "name": "ipython",
    "version": 3
   },
   "file_extension": ".py",
   "mimetype": "text/x-python",
   "name": "python",
   "nbconvert_exporter": "python",
   "pygments_lexer": "ipython3",
   "version": "3.8.2"
  }
 },
 "nbformat": 4,
 "nbformat_minor": 2
}
