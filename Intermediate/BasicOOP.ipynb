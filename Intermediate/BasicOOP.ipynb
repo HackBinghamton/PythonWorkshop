{
 "cells": [
  {
   "cell_type": "markdown",
   "metadata": {},
   "source": [
    "# And I OOP! (Intro to Object-Oriented Programming with Python)\n",
    "\n",
    "You might be thinking, \"what the heck is object-oriented programming? That sounds super hard and confusing!\". Or maybe you know all about OOP but thought you only could use Java or C++, not Python.\n",
    "\n",
    "By the end of this section, you will know how to make and use classes in Python and the basics of the Object-Oriented paradigm.\n",
    "\n",
    "Before you dive in, make sure you understand Data Types, Printing, and Functions **//TODO add links**\n",
    "\n",
    "## So, what is Object-Oriented Programming?\n",
    "\n",
    "Object-Oriented Programming (otherwise known as OOP) is a useful (and awesome!) programming paradigm \"which provides a means of structuring programs so that properties and behaviors are bundled into individual objects.\" (https://realpython.com/python3-object-oriented-programming/). These objects usually represent real-life objects which can be modeled with code. Some examples are BankAccount, Jacket, and Animal.\n",
    "\n",
    "## How does it work in Python?\n",
    "\n",
    "Objects are represented in Python by a handy-dandy feature called a *class*. Classes look something like this!"
   ]
  },
  {
   "cell_type": "code",
   "execution_count": null,
   "metadata": {
    "collapsed": true
   },
   "outputs": [],
   "source": [
    "class Dog:\n",
    "    #functions, variables, and other attributes"
   ]
  },
  {
   "cell_type": "markdown",
   "metadata": {},
   "source": [
    "## Let's add more information!\n",
    "\n",
    "We have our Dog class! Great! However, we don't know much about him yet."
   ]
  },
  {
   "cell_type": "code",
   "execution_count": null,
   "metadata": {
    "collapsed": true
   },
   "outputs": [],
   "source": [
    "class Dog:\n",
    "    species = \"mammal\"\n",
    "    is_good_boy = True"
   ]
  },
  {
   "cell_type": "markdown",
   "metadata": {},
   "source": [
    "Now, all instances of our class Dog will be mammals and will be very good pups. However, other attributes might change between instances. Let's make an Initializer function that we can use any time we want to create more Dog objects in our program."
   ]
  },
  {
   "cell_type": "code",
   "execution_count": null,
   "metadata": {
    "collapsed": true
   },
   "outputs": [],
   "source": [
    "class Dog:\n",
    "    species = \"mammal\"\n",
    "    is_good_boy = True\n",
    "    \n",
    "    def __init__(self, n, c):\n",
    "        self.name = n\n",
    "        self.color = c"
   ]
  },
  {
   "cell_type": "markdown",
   "metadata": {},
   "source": [
    "Okay, what's going on here? In this code snippet, we used a special function called the Initializer to define what happens whenever a new Dog object is created. This Initializer function is always called __init__, with two underlines on each side. This is so that Python can understand what you're trying to do!\n",
    "\n",
    "When you're coding, you never have to explicitly call the Initializer function. It's handled whenever you create a new Dog object. In this case, the Initializer sets Dog's **name** and **color** variables to what you, the programmer, want them to be. Let's try it out!"
   ]
  },
  {
   "cell_type": "code",
   "execution_count": null,
   "metadata": {
    "collapsed": true
   },
   "outputs": [],
   "source": [
    "class Dog:\n",
    "    species = \"mammal\"\n",
    "    is_good_dog = True\n",
    "    \n",
    "    def __init__(self, n, c):\n",
    "        self.name = n\n",
    "        self.color = c\n",
    "        \n",
    "george = Dog(\"George\", \"tricolor\")\n",
    "bella = Dog(\"Bella\", \"brown\")"
   ]
  },
  {
   "cell_type": "markdown",
   "metadata": {},
   "source": [
    "Nice! Now we have two Dog instances, george and bella. The __init__ function was called automatically by creating a new Dog object (that was when we wrote **Dog(\"George\", \"tricolor\")** and **Dog(\"Bella\", \"brown\")**).\n",
    "\n",
    "Let's see what attributes these different Dogs have."
   ]
  },
  {
   "cell_type": "code",
   "execution_count": 3,
   "metadata": {
    "collapsed": false
   },
   "outputs": [
    {
     "name": "stdout",
     "output_type": "stream",
     "text": [
      "('George', 'tricolor', 'mammal', True)\n",
      "('Bella', 'brown', 'mammal', True)\n"
     ]
    }
   ],
   "source": [
    "class Dog:\n",
    "    species = \"mammal\"\n",
    "    is_good_dog = True\n",
    "    \n",
    "    def __init__(self, n, c):\n",
    "        self.name = n\n",
    "        self.color = c\n",
    "        \n",
    "george = Dog(\"George\", \"tricolor\")\n",
    "bella = Dog(\"Bella\", \"brown\")\n",
    "print(george.name, george.color, george.species, george.is_good_dog)\n",
    "print(bella.name, bella.color, bella.species, bella.is_good_dog)"
   ]
  },
  {
   "cell_type": "markdown",
   "metadata": {},
   "source": [
    "george and bella have different names and colors, just how we initialized them. And, since they belong to the Dog class, they are both mammals and are both good dogs."
   ]
  },
  {
   "cell_type": "markdown",
   "metadata": {},
   "source": [
    "## Okay, but why does this matter?\n",
    "\n",
    "Object-Oriented Programming is a really useful way to think about code, because it allows you to build your code in a way that models real life. This often allows you to break down complicated ideas into actions. And, with features like inheritance, it makes sure you're keeping your code DRY (Don't Repeat Yourself). If you want to learn more about OOP, check out our workshop on Advanced Object-Oriented Programming! **//TODO add link*"
   ]
  },
  {
   "cell_type": "markdown",
   "metadata": {},
   "source": [
    "## Try it out yourself!\n",
    "\n",
    "Go ahead and try creating an object and different instances of that object. You can add as much information as you want, as well as functions."
   ]
  }
 ],
 "metadata": {
  "kernelspec": {
   "display_name": "Python 2",
   "language": "python",
   "name": "python2"
  },
  "language_info": {
   "codemirror_mode": {
    "name": "ipython",
    "version": 2
   },
   "file_extension": ".py",
   "mimetype": "text/x-python",
   "name": "python",
   "nbconvert_exporter": "python",
   "pygments_lexer": "ipython2",
   "version": "2.7.10"
  }
 },
 "nbformat": 4,
 "nbformat_minor": 2
}
