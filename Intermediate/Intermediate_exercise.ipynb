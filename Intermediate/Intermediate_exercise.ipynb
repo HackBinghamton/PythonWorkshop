{
  "nbformat": 4,
  "nbformat_minor": 0,
  "metadata": {
    "colab": {
      "name": "Intermediate_exercise.ipynb",
      "version": "0.3.2",
      "provenance": []
    },
    "kernelspec": {
      "name": "python3",
      "display_name": "Python 3"
    }
  },
  "cells": [
    {
      "cell_type": "markdown",
      "metadata": {
        "id": "eGrFkyU4k0JL",
        "colab_type": "text"
      },
      "source": [
        "# Intermediate Exercise\n",
        "## What we've covered\n",
        "- Basic OOP\n",
        "- Collections\n",
        "- Comprehensions and Turnary Operations\n",
        "- File input and output\n",
        "- Loops\n",
        "- Recursion\n",
        "- String Manipulation"
      ]
    },
    {
      "cell_type": "markdown",
      "metadata": {
        "id": "7smjkOZYmC3F",
        "colab_type": "text"
      },
      "source": [
        "## Final Exercise\n",
        "### Using your knowledge of these difference topics, it is now up to you to design a digital contact book. Each contact in your contact book should have a designated name, address, phone number, and email address. \n",
        "\n",
        "\n",
        "### **Hint**: Try using what you've learned from Basic OOP and File input and output. Good luck!"
      ]
    },
    {
      "cell_type": "code",
      "metadata": {
        "id": "koNHagAAmTz4",
        "colab_type": "code",
        "colab": {}
      },
      "source": [
        ""
      ],
      "execution_count": 0,
      "outputs": []
    }
  ]
}