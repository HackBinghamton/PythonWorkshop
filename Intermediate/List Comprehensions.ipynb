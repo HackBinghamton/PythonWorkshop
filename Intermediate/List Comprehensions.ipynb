{
 "cells": [
  {
   "cell_type": "markdown",
   "metadata": {},
   "source": [
    "# List Comprehensions\n",
    "\n",
    "Now that you've learned about Lists, you may find yourself wanting to add multiple items to a list quickly. Now normally you can do this with either of the loops that we've gone over, but there's a simpler, more concise way as well called List Comprehensions.\n",
    "\n",
    "List Comprehensions are an easy way to create a list with lots of values in it in one single line of code. Let's say you want to add the numbers 0 through 10 to a list. Instead of doing this with a loop like the following code..."
   ]
  },
  {
   "cell_type": "code",
   "execution_count": null,
   "metadata": {},
   "outputs": [],
   "source": [
    "my_list = []\n",
    "for i in range(10):\n",
    "  my_list.append(i)"
   ]
  },
  {
   "cell_type": "markdown",
   "metadata": {},
   "source": [
    "...we can instead use comprehensions to make our code more streamlined:"
   ]
  },
  {
   "cell_type": "code",
   "execution_count": null,
   "metadata": {},
   "outputs": [],
   "source": [
    "my_list = [i for i in range(10)]"
   ]
  },
  {
   "cell_type": "markdown",
   "metadata": {},
   "source": [
    "This will automatically loop 10 times and add every element \"i\" just like the three lines of code above would."
   ]
  }
 ],
 "metadata": {
  "kernelspec": {
   "display_name": "Python 3",
   "language": "python",
   "name": "python3"
  },
  "language_info": {
   "codemirror_mode": {
    "name": "ipython",
    "version": 3
   },
   "file_extension": ".py",
   "mimetype": "text/x-python",
   "name": "python",
   "nbconvert_exporter": "python",
   "pygments_lexer": "ipython3",
   "version": "3.5.3"
  }
 },
 "nbformat": 4,
 "nbformat_minor": 2
}
