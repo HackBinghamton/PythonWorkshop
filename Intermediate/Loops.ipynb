{
 "cells": [
  {
   "cell_type": "markdown",
   "metadata": {
    "colab_type": "text",
    "id": "vDDUfe0RvQGv"
   },
   "source": [
    "# Loops\n",
    "\n",
    "One of the most important parts of programming is being able to repeat something over and over again without repeating dozens or even hundreds of lines of code. That's where loops come in.\n",
    "\n",
    "There are two types of loops used in most of programming: **For** and **While**\n",
    "\n",
    "## For Loops\n",
    "\n",
    "For loops are used when you know exactly how many times you want your loop to run.\n",
    "\n",
    "For example, if you want to print out the string Hello 10 times, we would use this:"
   ]
  },
  {
   "cell_type": "code",
   "execution_count": null,
   "metadata": {
    "colab": {},
    "colab_type": "code",
    "id": "1xKNgfBqvQGy"
   },
   "outputs": [],
   "source": [
    "for i in range(10):\n",
    "  print(\"Hello\")"
   ]
  },
  {
   "cell_type": "markdown",
   "metadata": {
    "colab_type": "text",
    "id": "Y4jIe699vQG2"
   },
   "source": [
    "There are two important things to note here:\n",
    "\n",
    "1. **i** is our iterating variable. That's a fancy way of saying that i is a variable that changes after every loop. After each loop, i is incremented by 1 until the upper bound is reached.  It's important to remember that i does **not** have to be i, it can be named anything (as long as it's not a key word in Python). \n",
    "\n",
    "2. **range(10)** tells our loop how many times to run. Changing the number in the () changes how many times it will run. \n",
    "\n",
    "Note: the `range()` function runs from 0 to 9, printing \"Hello\" 10 times. \n",
    "\n",
    "Now that we know about these two parts of for loops, let's try to print the numbers 0 through 20:"
   ]
  },
  {
   "cell_type": "code",
   "execution_count": null,
   "metadata": {
    "colab": {},
    "colab_type": "code",
    "id": "7Os0VOwwvQG3",
    "scrolled": false
   },
   "outputs": [],
   "source": [
    "for x in range(21):\n",
    "  print(x)"
   ]
  },
  {
   "cell_type": "markdown",
   "metadata": {
    "colab_type": "text",
    "id": "IBkwfwfSvQG6"
   },
   "source": [
    "Here we changed three things:\n",
    "\n",
    "1. Our iterating variable is called **x** now.\n",
    "\n",
    "2. We're printing out **x** now instead of \"Hello\", so x will start out as the first value in our range, 0, and at the end of every loop it will increase by 1.\n",
    "\n",
    "3. Our range is 21 because we want to print all of the numbers up to 20. Since our loop starts at 0, range(20) would only take us to the number 19. So we have to loop 21 times to get numbers 0 through 20. You can find more information about the range function [here](https://www.w3schools.com/python/ref_func_range.asp)\n",
    "\n",
    "### Exercises\n",
    "\n",
    "Use a `for` loop to print all of the numbers from 0 to 10 raised to the power of 2."
   ]
  },
  {
   "cell_type": "code",
   "execution_count": null,
   "metadata": {},
   "outputs": [],
   "source": [
    "# Your code here"
   ]
  },
  {
   "cell_type": "markdown",
   "metadata": {
    "colab_type": "text",
    "id": "IBkwfwfSvQG6"
   },
   "source": [
    "Use a `for` loop to print all the numbers from 10 to 30 that are divisible by 8\n",
    "HINT: two values in range specify a start and end value"
   ]
  },
  {
   "cell_type": "code",
   "execution_count": null,
   "metadata": {},
   "outputs": [],
   "source": [
    "Use a `for` loop to print all of the numbers from 0 to 10 raised to the power of 2."
   ]
  },
  {
   "cell_type": "code",
   "execution_count": null,
   "metadata": {},
   "outputs": [],
   "source": [
    "# Your code here"
   ]
  },
  {
   "cell_type": "markdown",
   "metadata": {
    "colab_type": "text",
    "id": "IBkwfwfSvQG6"
   },
   "source": [
    "## While Loops\n",
    "\n",
    "While loops are used when we don't know how many times our loop needs to run. Usually, something happens in the loop which tells it when to end.\n",
    "\n",
    "Let's say you want to keep asking a user for input until they enter \"q\" to exit:"
   ]
  },
  {
   "cell_type": "code",
   "execution_count": null,
   "metadata": {
    "colab": {},
    "colab_type": "code",
    "id": "1B2FpepEvQG7"
   },
   "outputs": [],
   "source": [
    "x = \"\"\n",
    "while(x != \"q\"):\n",
    "  x = input(\"Please input something (input q to quit)\")"
   ]
  },
  {
   "cell_type": "markdown",
   "metadata": {
    "colab_type": "text",
    "id": "m9tPEgv9vQG-"
   },
   "source": [
    "While loops rely on one single boolean expression, which is an equation that will evaluate to either True or False. As long as that expression evaluates to True, the loop will continue. Once it evaluates to False, the loop ends.\n",
    "\n",
    "In this case, our boolean expression is `x != \"q\"`. If the user's input, which is stored in our variable x, is not q then the expression will be True. If it is q, the expression will be False and the loop will stop.\n",
    "\n",
    "Each time the loop iterates, the user inputs something and it is stored in x. The loop then checks if their input is q and either loops again or stops.\n",
    "\n",
    "The reason we use a while loop in this situation is that we don't know when the user is going to input q. They could input q before the loop even starts, or they could never input q at all.\n",
    "\n",
    "The most important part of using a while loop is making sure that your boolean expression will at some point be False. If it is always True and never changes, then your loop will be infinite (*a very bad thing*). An example of an infinite loop would be:"
   ]
  },
  {
   "cell_type": "code",
   "execution_count": null,
   "metadata": {
    "colab": {},
    "colab_type": "code",
    "id": "HYPDBFH0vQG_"
   },
   "outputs": [],
   "source": [
    "  while(5 == 5):\n",
    "    print(\"Hello\")"
   ]
  },
  {
   "cell_type": "markdown",
   "metadata": {
    "colab_type": "text",
    "id": "KGwiV8ynvQHC"
   },
   "source": [
    "Since 5 = 5 will always be true, the boolean expression is never false and the loop never ends."
   ]
  },
  {
   "cell_type": "markdown",
   "metadata": {
    "colab_type": "text",
    "id": "gLr5IENovQHD"
   },
   "source": [
    "**Note**: You can simulate a for loop using a while loop by incrementing a varaible within a loop. For example, we can use a while loop to do the same thing as the for loop described above."
   ]
  },
  {
   "cell_type": "code",
   "execution_count": null,
   "metadata": {
    "colab": {},
    "colab_type": "code",
    "id": "tWjKqGwKvQHE"
   },
   "outputs": [],
   "source": [
    "i = 0\n",
    "total = 10\n",
    "while(i < total):\n",
    "    print(\"Hello\")\n",
    "    i += 1"
   ]
  },
  {
   "cell_type": "markdown",
   "metadata": {
    "colab_type": "text",
    "id": "-VmjbREivQHH"
   },
   "source": [
    "### Exercises\n",
    "\n",
    "Use a while loop to print all of the numbers from 0 to 10 raised to the power of 2."
   ]
  },
  {
   "cell_type": "code",
   "execution_count": null,
   "metadata": {},
   "outputs": [],
   "source": [
    "# Your code here"
   ]
  },
  {
   "cell_type": "markdown",
   "metadata": {
    "colab_type": "text",
    "id": "-VmjbREivQHH"
   },
   "source": [
    "Use a while loop to print all odd numbers between 10 and 30."
   ]
  },
  {
   "cell_type": "code",
   "execution_count": null,
   "metadata": {},
   "outputs": [],
   "source": [
    "# Your code here"
   ]
  },
  {
   "cell_type": "markdown",
   "metadata": {
    "colab_type": "text",
    "id": "-VmjbREivQHH"
   },
   "source": [
    "## break and continue statements\n",
    "\n",
    "To change the flow of a normal loop, we'll use `break` and `continue` statements. `break` is used to terminate a loop and the program continues at the statement immediately after the loop and `continue` is used to terminate the current iteration of a loop but continues on to the next iteration.\n",
    "\n",
    "For example, you can use `break` to terminate a loop when you reach a specific point."
   ]
  },
  {
   "cell_type": "code",
   "execution_count": null,
   "metadata": {
    "colab": {},
    "colab_type": "code",
    "id": "IeLAoiLHvQHI"
   },
   "outputs": [],
   "source": [
    "for character in \"string\":\n",
    "    print(character)\n",
    "    if character == \"r\":\n",
    "        print(\"Breaking out of the loop\")\n",
    "        break\n",
    "\n",
    "print(\"The end\")"
   ]
  },
  {
   "cell_type": "markdown",
   "metadata": {
    "colab_type": "text",
    "id": "MK4OJbKHvQHK"
   },
   "source": [
    "You can also use a while loop to break out of an infinite loop. "
   ]
  },
  {
   "cell_type": "code",
   "execution_count": null,
   "metadata": {
    "colab": {},
    "colab_type": "code",
    "id": "cqhgbZzSvQHL"
   },
   "outputs": [],
   "source": [
    "count = 0\n",
    "while True:\n",
    "    print(count)\n",
    "    count += 1\n",
    "    if count >= 3:\n",
    "        break"
   ]
  },
  {
   "cell_type": "markdown",
   "metadata": {
    "colab_type": "text",
    "id": "Z39jBT4PvQHN"
   },
   "source": [
    "The `continue` statement can be used if you want an iteration to end for a specific conditition. For example, the following loop only prints out odd numbers"
   ]
  },
  {
   "cell_type": "code",
   "execution_count": null,
   "metadata": {
    "colab": {},
    "colab_type": "code",
    "id": "TnivAqWrvQHN"
   },
   "outputs": [],
   "source": [
    "for x in range(7):\n",
    "    # Check if x is even\n",
    "    if x % 2 == 0:\n",
    "        continue\n",
    "    print(x)"
   ]
  },
  {
   "cell_type": "markdown",
   "metadata": {
    "colab_type": "text",
    "id": "55A70YFovQHQ"
   },
   "source": [
    "# Exercises\n"
   ]
  },
  {
   "cell_type": "markdown",
   "metadata": {
    "colab_type": "text",
    "id": "vuRSMhd8vQHS"
   },
   "source": [
    "Print all the numbers from 0 to 10 except 4. Hint: use a `continue` statement."
   ]
  },
  {
   "cell_type": "code",
   "execution_count": null,
   "metadata": {
    "colab": {},
    "colab_type": "code",
    "id": "RdnN8_-xvQHS"
   },
   "outputs": [],
   "source": [
    "# Your code here"
   ]
  },
  {
   "cell_type": "markdown",
   "metadata": {
    "colab_type": "text",
    "id": "trXkSS3svQHX"
   },
   "source": [
    "Write a code snippet that prompts a user to input a number `n` and prints the first `n` prime numbers.\n",
    "\n",
    "Some hints:\n",
    "1. You'll need a while loop and a for loop\n",
    "2. Use continue statements to prevent unnecessary computations\n",
    "3. Look up the accumulator pattern if you're stuck on how to keep track of the number of primes you've encountered\n",
    "4. A prime number is a number that is only divisible by 1 and itself"
   ]
  },
  {
   "cell_type": "code",
   "execution_count": null,
   "metadata": {
    "colab": {},
    "colab_type": "code",
    "id": "HciTN4H-vQHY"
   },
   "outputs": [],
   "source": [
    "# Your code here"
   ]
  },
  {
   "cell_type": "markdown",
   "metadata": {
    "colab_type": "text",
    "id": "XeMyhY3wvQHa"
   },
   "source": [
    "Convert the following for loop to a while loop:\n",
    "\n",
    "```python\n",
    "sum = 0\n",
    "\n",
    "for i in range(1, 10):\n",
    "    sum += i\n",
    "```"
   ]
  },
  {
   "cell_type": "code",
   "execution_count": null,
   "metadata": {
    "colab": {},
    "colab_type": "code",
    "id": "slzXi26vvQHa"
   },
   "outputs": [],
   "source": [
    "# Your code here"
   ]
  },
  {
   "cell_type": "markdown",
   "metadata": {
    "colab_type": "text",
    "id": "yN8PBOm8vQHd"
   },
   "source": [
    "Convert the following while loop to a for loop:\n",
    "```python\n",
    "even_sum = 0\n",
    "i = 0\n",
    "\n",
    "while i <= 100:\n",
    "    even_sum += i\n",
    "    i += 2\n",
    "```"
   ]
  },
  {
   "cell_type": "code",
   "execution_count": null,
   "metadata": {
    "colab": {},
    "colab_type": "code",
    "id": "My1Y2RbtvQHe"
   },
   "outputs": [],
   "source": [
    "# Your code here"
   ]
  }
 ],
 "metadata": {
  "colab": {
   "collapsed_sections": [],
   "name": "Loops.ipynb",
   "provenance": []
  },
  "kernelspec": {
   "display_name": "Python 3",
   "language": "python",
   "name": "python3"
  },
  "language_info": {
   "codemirror_mode": {
    "name": "ipython",
    "version": 3
   },
   "file_extension": ".py",
   "mimetype": "text/x-python",
   "name": "python",
   "nbconvert_exporter": "python",
   "pygments_lexer": "ipython3",
   "version": "3.8.2"
  }
 },
 "nbformat": 4,
 "nbformat_minor": 4
}
