{
  "nbformat": 4,
  "nbformat_minor": 0,
  "metadata": {
    "kernelspec": {
      "display_name": "Python 3",
      "language": "python",
      "name": "python3"
    },
    "language_info": {
      "codemirror_mode": {
        "name": "ipython",
        "version": 3
      },
      "file_extension": ".py",
      "mimetype": "text/x-python",
      "name": "python",
      "nbconvert_exporter": "python",
      "pygments_lexer": "ipython3",
      "version": "3.6.8"
    },
    "colab": {
      "name": "Copy of Loops.ipynb",
      "provenance": []
    }
  },
  "cells": [
    {
      "cell_type": "markdown",
      "metadata": {
        "id": "vDDUfe0RvQGv",
        "colab_type": "text"
      },
      "source": [
        "# Loops\n",
        "\n",
        "One of the most important parts of programming is being able to repeat something over and over again without repeating dozens or even hundreds of lines of code. That's where loops come in.\n",
        "\n",
        "There are two types of loops used in most of programming: **For** and **While**\n",
        "\n",
        "## For Loops\n",
        "\n",
        "For loops are used when you know exactly how many times you want your loop to run.\n",
        "\n",
        "For example, if you want to print out the string Hello 10 times, we would use this:"
      ]
    },
    {
      "cell_type": "code",
      "metadata": {
        "id": "1xKNgfBqvQGy",
        "colab_type": "code",
        "colab": {}
      },
      "source": [
        "for i in range(10):\n",
        "  print(\"Hello\")"
      ],
      "execution_count": 0,
      "outputs": []
    },
    {
      "cell_type": "markdown",
      "metadata": {
        "id": "Y4jIe699vQG2",
        "colab_type": "text"
      },
      "source": [
        "There are two important things to note here:\n",
        "\n",
        "1. **i** is our iterating variable. That's a fancy way of saying that i is a variable that changes after every loop. After each loop, i is incremented by 1 until the upper bound is reached.  It's important to remember that i does **not** have to be i, it can be named anything (as long as it's not a key word in Python). \n",
        "\n",
        "2. **range(10)** tells our loop how many times to run. Changing the number in the () changes how many times it will run. \n",
        "\n",
        "Note: the `range()` function runs from 0 to 9, printing \"Hello\" 10 times. \n",
        "\n",
        "Now that we know about these two parts of for loops, let's try to print the numbers 0 through 20:"
      ]
    },
    {
      "cell_type": "code",
      "metadata": {
        "id": "7Os0VOwwvQG3",
        "colab_type": "code",
        "colab": {}
      },
      "source": [
        "for x in range(21):\n",
        "  print(x)"
      ],
      "execution_count": 0,
      "outputs": []
    },
    {
      "cell_type": "markdown",
      "metadata": {
        "id": "IBkwfwfSvQG6",
        "colab_type": "text"
      },
      "source": [
        "Here we changed three things:\n",
        "\n",
        "1. Our iterating variable is called **x** now.\n",
        "\n",
        "2. We're printing out **x** now instead of \"Hello\", so x will start out as the first value in our range, 0, and at the end of every loop it will increase by 1.\n",
        "\n",
        "3. Our range is 21 because we want to print all of the numbers up to 20. Since our loop starts at 0, range(20) would only take us to the number 19. So we have to loop 21 times to get numbers 0 through 20. You can find more information about the range function [here](https://www.w3schools.com/python/ref_func_range.asp)\n",
        "\n",
        "## While Loops\n",
        "\n",
        "While loops are used when we don't know how many times our loop needs to run. Usually, something happens in the loop which tells it when to end.\n",
        "\n",
        "Let's say you want to keep asking a user for input until they enter \"q\" to exit:"
      ]
    },
    {
      "cell_type": "code",
      "metadata": {
        "id": "1B2FpepEvQG7",
        "colab_type": "code",
        "colab": {}
      },
      "source": [
        "x = \"\"\n",
        "while(x != \"q\"):\n",
        "  x = input(\"Please input something (input q to quit)\")"
      ],
      "execution_count": 0,
      "outputs": []
    },
    {
      "cell_type": "markdown",
      "metadata": {
        "id": "m9tPEgv9vQG-",
        "colab_type": "text"
      },
      "source": [
        "While loops rely on one single boolean expression, which is an equation that will evaluate to either True or False. As long as that expression evaluates to True, the loop will continue. Once it evaluates to False, the loop ends.\n",
        "\n",
        "In this case, our boolean expression is `x != \"q\"`. If the user's input, which is stored in our variable x, is not q then the expression will be True. If it is q, the expression will be False and the loop will stop.\n",
        "\n",
        "Each time the loop iterates, the user inputs something and it is stored in x. The loop then checks if their input is q and either loops again or stops.\n",
        "\n",
        "The reason we use a while loop in this situation is that we don't know when the user is going to input q. They could input q before the loop even starts, or they could never input q at all.\n",
        "\n",
        "The most important part of using a while loop is making sure that your boolean expression will at some point be False. If it is always True and never changes, then your loop will be infinite (*a very bad thing*). An example of an infinite loop would be:"
      ]
    },
    {
      "cell_type": "code",
      "metadata": {
        "id": "HYPDBFH0vQG_",
        "colab_type": "code",
        "colab": {}
      },
      "source": [
        "  while(5 == 5):\n",
        "    print(\"Hello\")"
      ],
      "execution_count": 0,
      "outputs": []
    },
    {
      "cell_type": "markdown",
      "metadata": {
        "id": "KGwiV8ynvQHC",
        "colab_type": "text"
      },
      "source": [
        "Since 5 = 5 will always be true, the boolean expression is never false and the loop never ends."
      ]
    },
    {
      "cell_type": "markdown",
      "metadata": {
        "id": "gLr5IENovQHD",
        "colab_type": "text"
      },
      "source": [
        "**Note**: You can simulate a for loop using a while loop by incrementing a varaible within a loop. For example, we can use a while loop to do the same thing as the for loop described above."
      ]
    },
    {
      "cell_type": "code",
      "metadata": {
        "id": "tWjKqGwKvQHE",
        "colab_type": "code",
        "colab": {}
      },
      "source": [
        "i = 0\n",
        "total = 10\n",
        "while(i < total):\n",
        "    print(\"Hello\")\n",
        "    i += 1"
      ],
      "execution_count": 0,
      "outputs": []
    },
    {
      "cell_type": "markdown",
      "metadata": {
        "id": "-VmjbREivQHH",
        "colab_type": "text"
      },
      "source": [
        "## break and continue statements\n",
        "\n",
        "To change the flow of a normal loop, we'll use `break` and `continue` statements. `break` is used to terminate a loop and the program continues at the statement immediately after the loop and `continue` is used to terminate the current iteration of a loop but continues on to the next iteration.\n",
        "\n",
        "For example, you can use `break` to terminate a loop when you reach a specific point."
      ]
    },
    {
      "cell_type": "code",
      "metadata": {
        "id": "IeLAoiLHvQHI",
        "colab_type": "code",
        "colab": {}
      },
      "source": [
        "for character in \"string\":\n",
        "    print(character)\n",
        "    if character == \"r\":\n",
        "        print(\"Breaking out of the loop\")\n",
        "        break\n",
        "\n",
        "print(\"The end\")"
      ],
      "execution_count": 0,
      "outputs": []
    },
    {
      "cell_type": "markdown",
      "metadata": {
        "id": "MK4OJbKHvQHK",
        "colab_type": "text"
      },
      "source": [
        "You can also use a while loop to break out of an infinite loop. "
      ]
    },
    {
      "cell_type": "code",
      "metadata": {
        "id": "cqhgbZzSvQHL",
        "colab_type": "code",
        "colab": {}
      },
      "source": [
        "count = 0\n",
        "while True:\n",
        "    print(count)\n",
        "    count += 1\n",
        "    if count >= 3:\n",
        "        break"
      ],
      "execution_count": 0,
      "outputs": []
    },
    {
      "cell_type": "markdown",
      "metadata": {
        "id": "Z39jBT4PvQHN",
        "colab_type": "text"
      },
      "source": [
        "The `continue` statement can be used if you want an iteration to end for a specific conditition. For example, the following loop only prints out odd numbers"
      ]
    },
    {
      "cell_type": "code",
      "metadata": {
        "id": "TnivAqWrvQHN",
        "colab_type": "code",
        "colab": {}
      },
      "source": [
        "for x in range(7):\n",
        "    # Check if x is even\n",
        "    if x % 2 == 0:\n",
        "        continue\n",
        "    print(x)"
      ],
      "execution_count": 0,
      "outputs": []
    },
    {
      "cell_type": "markdown",
      "metadata": {
        "id": "55A70YFovQHQ",
        "colab_type": "text"
      },
      "source": [
        "# Exercises\n",
        "Use a `for` loop to print all numbers from 10 to 30 that are divisible by 8"
      ]
    },
    {
      "cell_type": "code",
      "metadata": {
        "id": "pyhDf6MTvQHQ",
        "colab_type": "code",
        "colab": {}
      },
      "source": [
        "# Your code here"
      ],
      "execution_count": 0,
      "outputs": []
    },
    {
      "cell_type": "markdown",
      "metadata": {
        "id": "vuRSMhd8vQHS",
        "colab_type": "text"
      },
      "source": [
        "Print all the numbers from 0 to 10 except 4. Hint: use a `continue` statement."
      ]
    },
    {
      "cell_type": "code",
      "metadata": {
        "id": "RdnN8_-xvQHS",
        "colab_type": "code",
        "colab": {}
      },
      "source": [
        "# Your code here"
      ],
      "execution_count": 0,
      "outputs": []
    },
    {
      "cell_type": "markdown",
      "metadata": {
        "id": "trXkSS3svQHX",
        "colab_type": "text"
      },
      "source": [
        "Write a code snippet that prompts a user to input a number `n` and prints the first `n` prime numbers.\n",
        "\n",
        "Some hints:\n",
        "1. You'll need a while loop and a for loop\n",
        "2. Use continue statements to prevent unnecessary computations\n",
        "3. Look up the accumulator pattern if you're stuck on how to keep track of the number of primes you've encountered\n",
        "4. A prime number is a number that is only divisible by 1 and itself"
      ]
    },
    {
      "cell_type": "code",
      "metadata": {
        "id": "HciTN4H-vQHY",
        "colab_type": "code",
        "colab": {}
      },
      "source": [
        "# Your code here"
      ],
      "execution_count": 0,
      "outputs": []
    },
    {
      "cell_type": "markdown",
      "metadata": {
        "id": "XeMyhY3wvQHa",
        "colab_type": "text"
      },
      "source": [
        "Convert the following for loop to a while loop:\n",
        "\n",
        "```python\n",
        "sum = 0\n",
        "\n",
        "for i in range(1, 10):\n",
        "    sum += i\n",
        "```"
      ]
    },
    {
      "cell_type": "code",
      "metadata": {
        "id": "slzXi26vvQHa",
        "colab_type": "code",
        "colab": {}
      },
      "source": [
        "# Your code here"
      ],
      "execution_count": 0,
      "outputs": []
    },
    {
      "cell_type": "markdown",
      "metadata": {
        "id": "yN8PBOm8vQHd",
        "colab_type": "text"
      },
      "source": [
        "Convert the following while loop to a for loop:\n",
        "```python\n",
        "even_sum = 0\n",
        "i = 0\n",
        "\n",
        "while i <= 100:\n",
        "    even_sum += i\n",
        "    i += 2\n",
        "```"
      ]
    },
    {
      "cell_type": "code",
      "metadata": {
        "id": "My1Y2RbtvQHe",
        "colab_type": "code",
        "colab": {}
      },
      "source": [
        "# Your code here"
      ],
      "execution_count": 0,
      "outputs": []
    }
  ]
}