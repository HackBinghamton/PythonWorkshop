{
  "nbformat": 4,
  "nbformat_minor": 0,
  "metadata": {
    "colab": {
      "name": "Solution.ipynb",
      "provenance": []
    },
    "kernelspec": {
      "name": "python3",
      "display_name": "Python 3"
    }
  },
  "cells": [
    {
      "cell_type": "markdown",
      "metadata": {
        "id": "Ba3Jcafb9HJR",
        "colab_type": "text"
      },
      "source": [
        "**Solution**\n",
        "\n",
        "Below is a solution to the leap year exercise."
      ]
    },
    {
      "cell_type": "code",
      "metadata": {
        "id": "dNUiPPrd8z3x",
        "colab_type": "code",
        "colab": {}
      },
      "source": [
        "def leap_year():\n",
        "    year = input(\"What year is it? \")\n",
        "    year = int(year)\n",
        "    if(year % 4 == 0):\n",
        "        print(\"It's a leap year!\")\n",
        "    else:\n",
        "        print(\"It's not a leap year\")\n",
        "\n",
        "leap_year()"
      ],
      "execution_count": 0,
      "outputs": []
    }
  ]
}