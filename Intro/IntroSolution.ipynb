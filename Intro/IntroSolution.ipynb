{
 "cells": [
  {
   "cell_type": "markdown",
   "metadata": {
    "colab_type": "text",
    "id": "Ba3Jcafb9HJR"
   },
   "source": [
    "**Solution**\n",
    "\n",
    "Below is a solution to the leap year exercise."
   ]
  },
  {
   "cell_type": "code",
   "execution_count": null,
   "metadata": {
    "colab": {
     "base_uri": "https://localhost:8080/",
     "height": 34
    },
    "colab_type": "code",
    "id": "dNUiPPrd8z3x",
    "outputId": "86f770b7-89f4-4999-d766-22b371abab39"
   },
   "outputs": [],
   "source": [
    "from datetime import date\n",
    "def leap_year():\n",
    "    year = date.today().year\n",
    "    year = int(year)\n",
    "    if(year % 4 == 0):\n",
    "        print(\"It's a leap year!\")\n",
    "    else:\n",
    "        print(\"It's not a leap year\")\n",
    "\n",
    "leap_year()"
   ]
  }
 ],
 "metadata": {
  "colab": {
   "name": "Solution.ipynb",
   "provenance": []
  },
  "kernelspec": {
   "display_name": "Python 3",
   "language": "python",
   "name": "python3"
  },
  "language_info": {
   "codemirror_mode": {
    "name": "ipython",
    "version": 3
   },
   "file_extension": ".py",
   "mimetype": "text/x-python",
   "name": "python",
   "nbconvert_exporter": "python",
   "pygments_lexer": "ipython3",
   "version": "3.8.5"
  }
 },
 "nbformat": 4,
 "nbformat_minor": 1
}
