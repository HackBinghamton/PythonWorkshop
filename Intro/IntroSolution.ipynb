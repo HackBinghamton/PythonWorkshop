{
  "nbformat": 4,
  "nbformat_minor": 0,
  "metadata": {
    "colab": {
      "name": "Solution.ipynb",
      "provenance": []
    },
    "kernelspec": {
      "name": "python3",
      "display_name": "Python 3"
    }
  },
  "cells": [
    {
      "cell_type": "markdown",
      "metadata": {
        "id": "Ba3Jcafb9HJR",
        "colab_type": "text"
      },
      "source": [
        "**Solution**\n",
        "\n",
        "Below is a solution to the leap year exercise."
      ]
    },
    {
      "cell_type": "code",
      "metadata": {
        "id": "dNUiPPrd8z3x",
        "colab_type": "code",
        "colab": {
          "base_uri": "https://localhost:8080/",
          "height": 34
        },
        "outputId": "86f770b7-89f4-4999-d766-22b371abab39"
      },
      "source": [
        "from datetime import date\n",
        "def leap_year():\n",
        "    year = date.today().year\n",
        "    year = int(year)\n",
        "    if(year % 4 == 0):\n",
        "        print(\"It's a leap year!\")\n",
        "    else:\n",
        "        print(\"It's not a leap year\")\n",
        "\n",
        "leap_year()"
      ],
      "execution_count": 2,
      "outputs": [
        {
          "output_type": "stream",
          "text": [
            "It's a leap year!\n"
          ],
          "name": "stdout"
        }
      ]
    }
  ]
}
