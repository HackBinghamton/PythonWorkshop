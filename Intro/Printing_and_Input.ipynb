{
 "cells": [
  {
   "cell_type": "markdown",
   "metadata": {},
   "source": [
    "# Printing "
   ]
  },
  {
   "cell_type": "markdown",
   "metadata": {},
   "source": [
    "Sometimes, we'll find while we're coding that we want to print information to our screen. This can be for any reason. It can be for the purpose of debugging, or it can be so that the user of our program understands their progress or what to do next! Either way, it we want to print to the *console* (print to the screen), then we'll need to use the `print()` function!\n",
    "\n",
    "Let's look at a quick example!"
   ]
  },
  {
   "cell_type": "code",
   "execution_count": null,
   "metadata": {},
   "outputs": [],
   "source": [
    "name = \"Hackster the Bearcat\"\n",
    "print(name)"
   ]
  },
  {
   "cell_type": "markdown",
   "metadata": {},
   "source": [
    "In our section on Data Types, we learned about variables. In the code above, we saved `\"Hackster the Bearcat\"` into a string called `name`. We *passed* our `name` variable into the print function so that Python could print it to the screen (we'll learn more about functions in an upcoming section!). And the output of the code is exactly what we wanted it to be, the computer printed out `\"Hackster the Bearcat\"`.\n",
    "\n",
    "In between the parentheses of the `print()` function, must put a string for it to work as expected. If we want, we can put the string into a variable and print it. That's how we did it above. Here's an example of printing without storing the string in a variable."
   ]
  },
  {
   "cell_type": "code",
   "execution_count": null,
   "metadata": {},
   "outputs": [],
   "source": [
    "print(\"Hackster the Bearcat\")"
   ]
  },
  {
   "cell_type": "markdown",
   "metadata": {},
   "source": [
    "Because we passed the same string into the `print()` function, the output was the same as the first code snippet! We can do it whichever way makes us the most comfortable, although with time, we'll see that using variables tends to be extremely useful for printing!\n",
    "\n",
    "We can also pass concatenated strings (as talked about in the Data Types section) into the `print()` function. Since the result of concatenating strings is a string, we can concatenate right in between the parentheses! Check it out:"
   ]
  },
  {
   "cell_type": "code",
   "execution_count": null,
   "metadata": {},
   "outputs": [],
   "source": [
    "name = \"Hackster the Bearcat\"\n",
    "job = \" Mascot\"\n",
    "school = \" Binghamton\"\n",
    "\n",
    "print(name + job + school)"
   ]
  },
  {
   "cell_type": "markdown",
   "metadata": {},
   "source": [
    "We can also concatenate string *literals* (strings that haven't been saved in a variable) with variable strings. Doing so within the parentheses means that we can even customize what we print."
   ]
  },
  {
   "cell_type": "code",
   "execution_count": null,
   "metadata": {},
   "outputs": [],
   "source": [
    "name = \"Hackster the Bearcat\"\n",
    "job = \"Mascot\"\n",
    "school = \"Binghamton\"\n",
    "\n",
    "print(\"Hi, I'm \" + name + \"I'm a \" + job + \" at \" + school + \"!\")"
   ]
  },
  {
   "cell_type": "markdown",
   "metadata": {},
   "source": [
    "By concatenating string literals and variables, we were able to make a very custom string, exactly the way we wanted it! We can also print out numbers if we want:"
   ]
  },
  {
   "cell_type": "code",
   "execution_count": null,
   "metadata": {},
   "outputs": [],
   "source": [
    "age = 73\n",
    "\n",
    "print(age)"
   ]
  },
  {
   "cell_type": "markdown",
   "metadata": {},
   "source": [
    "But let's see what happens when we try concatenating our age with another string:"
   ]
  },
  {
   "cell_type": "code",
   "execution_count": null,
   "metadata": {},
   "outputs": [],
   "source": [
    "name = \"Hackster the Bearcat\"\n",
    "age = 73\n",
    "job = \"Mascot\"\n",
    "school = \"Binghamton\"\n",
    "\n",
    "print(name + age)"
   ]
  },
  {
   "cell_type": "markdown",
   "metadata": {},
   "source": [
    "Unfortunately, we get an error. This is because we can't concatenate/add strings with numbers. So we would have to change `age` into a string. We can do this with the the `str()` function. If we pass `age` into the `str()` function, it will return a string, which can be concatenated to another string! Let's try this with our custom string example from before:"
   ]
  },
  {
   "cell_type": "code",
   "execution_count": null,
   "metadata": {},
   "outputs": [],
   "source": [
    "name = \"Hackster the Bearcat\"\n",
    "age = 73\n",
    "job = \"Mascot\"\n",
    "school = \"Binghamton\"\n",
    "\n",
    "print(\"Hi, I'm \" + name + \"I'm a \" + job + \" at \" + school + \" and I'm \" + str(age) + \" years old!\")"
   ]
  },
  {
   "cell_type": "markdown",
   "metadata": {},
   "source": [
    "Whoah! Because we concatenated a string instead of a number, everything worked as expected! Cool! Congrats, you can now print like a pro! The `print()` function has a bunch of other functionalities, but it might be best to learn them after you've gone through the Functions section of this workshop!"
   ]
  },
  {
   "cell_type": "markdown",
   "metadata": {},
   "source": [
    "# Input"
   ]
  },
  {
   "cell_type": "markdown",
   "metadata": {},
   "source": [
    "Sometimes in our code, we want to recieve input from the user, well it's a good thing for us that Python gives us a way to do that! using the `input()` function. Let's give it a try:"
   ]
  },
  {
   "cell_type": "code",
   "execution_count": null,
   "metadata": {},
   "outputs": [],
   "source": [
    "fave_food = input()\n",
    "print(\"Wow, I didn't know you like \" + fave_food + \"!\")"
   ]
  },
  {
   "cell_type": "markdown",
   "metadata": {},
   "source": [
    "The `input()` function will wait for the user to input something and it will store whatever they put. If we take the contents of the input and store it in a variable, we can then print that information out later, as we did in line 2 of the code above.\n",
    "\n",
    "The `input()` function will also accept a string between the parentheses. It will print the string before it starts to wait on the user input. This way we can print a helpful message so the user knows what to put."
   ]
  },
  {
   "cell_type": "code",
   "execution_count": null,
   "metadata": {},
   "outputs": [],
   "source": [
    "fave_food = input(\"What's your favorite food? Enter it here: \")\n",
    "print(\"Wow, I didn't know you like \" + fave_food + \"!\")"
   ]
  },
  {
   "cell_type": "markdown",
   "metadata": {},
   "source": [
    "Now the user will know what to enter into the input field! Using what you now know about data types, variables, strings, printing and input, you can write code to do some pretty cool things."
   ]
  }
 ],
 "metadata": {
  "kernelspec": {
   "display_name": "Python 3",
   "language": "python",
   "name": "python3"
  },
  "language_info": {
   "codemirror_mode": {
    "name": "ipython",
    "version": 3
   },
   "file_extension": ".py",
   "mimetype": "text/x-python",
   "name": "python",
   "nbconvert_exporter": "python",
   "pygments_lexer": "ipython3",
   "version": "3.6.0"
  }
 },
 "nbformat": 4,
 "nbformat_minor": 2
}
