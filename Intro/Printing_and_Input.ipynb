{
  "nbformat": 4,
  "nbformat_minor": 0,
  "metadata": {
    "kernelspec": {
      "display_name": "Python 3",
      "language": "python",
      "name": "python3"
    },
    "language_info": {
      "codemirror_mode": {
        "name": "ipython",
        "version": 3
      },
      "file_extension": ".py",
      "mimetype": "text/x-python",
      "name": "python",
      "nbconvert_exporter": "python",
      "pygments_lexer": "ipython3",
      "version": "3.6.8"
    },
    "colab": {
      "name": "Printing_and_Input.ipynb",
      "provenance": []
    }
  },
  "cells": [
    {
      "cell_type": "markdown",
      "metadata": {
        "id": "CQLQOmVGmkcc",
        "colab_type": "text"
      },
      "source": [
        "# Printing "
      ]
    },
    {
      "cell_type": "markdown",
      "metadata": {
        "id": "2lTDwxXWmkck",
        "colab_type": "text"
      },
      "source": [
        "Sometimes, we'll find while we're coding that we want to print information to our screen. This can be for any reason. It can be for the purpose of debugging, or it can be so that the user of our program understands their progress or what to do next! Either way, if we want to print to the *console* (print to the screen), then we'll need to use the `print()` function!\n",
        "\n",
        "Let's look at a quick example!"
      ]
    },
    {
      "cell_type": "code",
      "metadata": {
        "id": "Q_JCneAumkcq",
        "colab_type": "code",
        "colab": {}
      },
      "source": [
        "name = \"Hackster the Bearcat\"\n",
        "print(name)"
      ],
      "execution_count": null,
      "outputs": []
    },
    {
      "cell_type": "markdown",
      "metadata": {
        "id": "W7tqgJhlmkc0",
        "colab_type": "text"
      },
      "source": [
        "In our section on Data Types, we learned about variables. In the code above, we saved `\"Hackster the Bearcat\"` into a string called `name`. We *passed* our `name` variable into the print function so that Python could print it to the screen (we'll learn more about functions in an upcoming section!). And the output of the code is exactly what we wanted it to be, the computer printed out `\"Hackster the Bearcat\"`.\n",
        "\n",
        "In between the parentheses of the `print()` function, we must put a string for it to work as expected. If we want, we can put the string into a variable and print it. That's how we did it above. Here's an example of printing without storing the string in a variable."
      ]
    },
    {
      "cell_type": "code",
      "metadata": {
        "id": "2pPW69-rmkc1",
        "colab_type": "code",
        "colab": {}
      },
      "source": [
        "print(\"Hackster the Bearcat\")"
      ],
      "execution_count": null,
      "outputs": []
    },
    {
      "cell_type": "markdown",
      "metadata": {
        "id": "lsXVtDySmkc3",
        "colab_type": "text"
      },
      "source": [
        "Because we passed the same string into the `print()` function, the output was the same as the first code snippet! We can do it whichever way makes us the most comfortable, although with time, we'll see that using variables tends to be extremely useful for printing!\n",
        "\n",
        "We can also pass concatenated strings (as talked about in the Data Types section) into the `print()` function. Since the result of concatenating strings is a string, we can concatenate right in between the parentheses! Check it out:"
      ]
    },
    {
      "cell_type": "code",
      "metadata": {
        "id": "U-LaLtIBmkc8",
        "colab_type": "code",
        "colab": {}
      },
      "source": [
        "name = \"Hackster the Bearcat\"\n",
        "job = \" Mascot\"\n",
        "school = \" Binghamton\"\n",
        "\n",
        "print(name + job + school)"
      ],
      "execution_count": null,
      "outputs": []
    },
    {
      "cell_type": "markdown",
      "metadata": {
        "id": "YvZ0n4QWmkdF",
        "colab_type": "text"
      },
      "source": [
        "We can also concatenate string *literals* (strings that haven't been saved in a variable) with variable strings. Doing so within the parentheses means that we can even customize what we print."
      ]
    },
    {
      "cell_type": "code",
      "metadata": {
        "id": "aZnfwQJLmkdF",
        "colab_type": "code",
        "colab": {}
      },
      "source": [
        "name = \"Hackster the Bearcat\"\n",
        "job = \"Mascot\"\n",
        "school = \"Binghamton\"\n",
        "\n",
        "print(\"Hi, I'm \" + name + \"I'm a \" + job + \" at \" + school + \"!\")"
      ],
      "execution_count": null,
      "outputs": []
    },
    {
      "cell_type": "markdown",
      "metadata": {
        "id": "mUojXJrGmkdH",
        "colab_type": "text"
      },
      "source": [
        "By concatenating string literals and variables, we were able to make a very custom string, exactly the way we wanted it! We can also print out numbers if we want:"
      ]
    },
    {
      "cell_type": "code",
      "metadata": {
        "id": "3LLLzx7DmkdH",
        "colab_type": "code",
        "colab": {}
      },
      "source": [
        "age = 73\n",
        "\n",
        "print(age)"
      ],
      "execution_count": null,
      "outputs": []
    },
    {
      "cell_type": "markdown",
      "metadata": {
        "id": "OR5FOhlEmkdJ",
        "colab_type": "text"
      },
      "source": [
        "But let's see what happens when we try concatenating our age with another string:"
      ]
    },
    {
      "cell_type": "code",
      "metadata": {
        "id": "7R15ehmbmkdJ",
        "colab_type": "code",
        "colab": {}
      },
      "source": [
        "name = \"Hackster the Bearcat\"\n",
        "age = 73\n",
        "job = \"Mascot\"\n",
        "school = \"Binghamton\"\n",
        "\n",
        "print(name + age)"
      ],
      "execution_count": null,
      "outputs": []
    },
    {
      "cell_type": "markdown",
      "metadata": {
        "id": "cGeHe_-3mkdK",
        "colab_type": "text"
      },
      "source": [
        "Unfortunately, we get an error. This is because we can't concatenate/add strings with numbers. So we would have to change `age` into a string. We can do this with the the `str()` function. If we pass `age` into the `str()` function, it will return a string, which can be concatenated to another string! Let's try this with our custom string example from before:"
      ]
    },
    {
      "cell_type": "code",
      "metadata": {
        "id": "z2ExccqwmkdL",
        "colab_type": "code",
        "colab": {}
      },
      "source": [
        "name = \"Hackster the Bearcat\"\n",
        "age = 73\n",
        "job = \"Mascot\"\n",
        "school = \"Binghamton\"\n",
        "\n",
        "print(\"Hi, I'm \" + name + \" I'm a \" + job + \" at \" + school + \" and I'm \" + str(age) + \" years old!\")"
      ],
      "execution_count": null,
      "outputs": []
    },
    {
      "cell_type": "markdown",
      "metadata": {
        "id": "ztOAVD4emkdM",
        "colab_type": "text"
      },
      "source": [
        "Whoah! Because we concatenated a string instead of a number, everything worked as expected! Cool! Congrats, you can now print like a pro! The `print()` function has a bunch of other functionalities, but it might be best to learn them after you've gone through the Functions section of this workshop!"
      ]
    },
    {
      "cell_type": "markdown",
      "metadata": {
        "id": "4Re6hjnJ4X7q",
        "colab_type": "text"
      },
      "source": [
        "When using print statements we can also print two statements with a space between them by placing a comma between the two variables we are printing in the print statement. For example, let's say we wanted to print two integers. Let's name one of them `int1` and the other `int2` -- `int1` will be `1` and `int2` will be `2`. Go ahead and run the program below."
      ]
    },
    {
      "cell_type": "code",
      "metadata": {
        "id": "kueQrmTL4ziK",
        "colab_type": "code",
        "colab": {}
      },
      "source": [
        "int1=1\n",
        "int2=2"
      ],
      "execution_count": null,
      "outputs": []
    },
    {
      "cell_type": "markdown",
      "metadata": {
        "id": "C4UO1F7N46va",
        "colab_type": "text"
      },
      "source": [
        "Now, let's see what happens when we try and print using a comma in between the two variables"
      ]
    },
    {
      "cell_type": "code",
      "metadata": {
        "id": "XvehAh5b5CwR",
        "colab_type": "code",
        "colab": {}
      },
      "source": [
        "print(int1, int2)"
      ],
      "execution_count": null,
      "outputs": []
    },
    {
      "cell_type": "markdown",
      "metadata": {
        "id": "vDkjUmpo5caO",
        "colab_type": "text"
      },
      "source": [
        "You can do the same thing with strings and just about any other data type you may want to print!"
      ]
    },
    {
      "cell_type": "code",
      "metadata": {
        "id": "888rwmWn5TGW",
        "colab_type": "code",
        "colab": {}
      },
      "source": [
        "string1 = \"Hello\"\n",
        "string2 = \"World\"\n",
        "print(string1, string2)\n",
        "\n",
        "float1 = 6.7\n",
        "float2 = 6.8\n",
        "print(float1, float2)"
      ],
      "execution_count": null,
      "outputs": []
    },
    {
      "cell_type": "markdown",
      "metadata": {
        "id": "lOTrnJoJukrI",
        "colab_type": "text"
      },
      "source": [
        "#Exercise"
      ]
    },
    {
      "cell_type": "markdown",
      "metadata": {
        "id": "E3eNVnWpuoK8",
        "colab_type": "text"
      },
      "source": [
        "Create the variables `class_name`, `professor`, `number_of_students`, and `location` and set the variables equal to anything you want! (ex: CS110, Steven, 45, LH01). \n",
        "Use these variables to print out: \"I am taking *class_name*  with *professor* in *location*, and there are *number_of_students* students in the class, but I am the best one.\"  (ex: \"I am taking CS110 with Steven in LH01, and there are 45 students in the class, but I am the best one\""
      ]
    },
    {
      "cell_type": "code",
      "metadata": {
        "id": "7nzoWWpozTdP",
        "colab_type": "code",
        "colab": {}
      },
      "source": [
        "#Write code here!\n",
        "\n"
      ],
      "execution_count": null,
      "outputs": []
    },
    {
      "cell_type": "markdown",
      "metadata": {
        "id": "cF4Y46IzmkdN",
        "colab_type": "text"
      },
      "source": [
        "# Input"
      ]
    },
    {
      "cell_type": "markdown",
      "metadata": {
        "id": "v434tlI9mkdO",
        "colab_type": "text"
      },
      "source": [
        "Sometimes in our code, we want to recieve input from the user, well it's a good thing for us that Python gives us a way to do that! Using the `input()` function. Let's give it a try:"
      ]
    },
    {
      "cell_type": "code",
      "metadata": {
        "id": "ukUp54YKmkdQ",
        "colab_type": "code",
        "colab": {}
      },
      "source": [
        "fave_food = input()\n",
        "print(\"Wow, I didn't know you like \" + fave_food + \"!\")"
      ],
      "execution_count": null,
      "outputs": []
    },
    {
      "cell_type": "markdown",
      "metadata": {
        "id": "1ePXRaAjmkdi",
        "colab_type": "text"
      },
      "source": [
        "The `input()` function will wait for the user to input something and it will store whatever they put. If we take the contents of the input and store it in a variable, we can then print that information out later, as we did in line 2 of the code above.\n",
        "\n",
        "The `input()` function can also accept a string between the parentheses. It will print the string before it starts to wait on the user input. This way we can print a helpful message so the user knows what to put."
      ]
    },
    {
      "cell_type": "code",
      "metadata": {
        "id": "gTKslRN6mkdj",
        "colab_type": "code",
        "colab": {}
      },
      "source": [
        "fave_food = input(\"What's your favorite food? Enter it here: \")\n",
        "print(\"Wow, I didn't know you like \" + fave_food + \"!\")"
      ],
      "execution_count": null,
      "outputs": []
    },
    {
      "cell_type": "markdown",
      "metadata": {
        "id": "T-dQLmC3mkdk",
        "colab_type": "text"
      },
      "source": [
        "Now the user will know what to enter into the input field! Using what you now know about data types, variables, strings, printing and input, you can write code to do some pretty cool things."
      ]
    },
    {
      "cell_type": "markdown",
      "metadata": {
        "id": "-ba6ssuozZEu",
        "colab_type": "text"
      },
      "source": [
        "#Exercise"
      ]
    },
    {
      "cell_type": "markdown",
      "metadata": {
        "id": "rIE5cPzdzeXq",
        "colab_type": "text"
      },
      "source": [
        "We will be making a Mad Libs in Python!\n",
        "Using the variable names below, ask the user to input a name, a verb (include \"to\" as in \"to run\"), a noun, an adverb (no shame if you don't know what this is, it's words that describe a verb like slowly, quickly, nicely, etc.), and a location on campus.\n"
      ]
    },
    {
      "cell_type": "code",
      "metadata": {
        "id": "UbEh1lQG1U-A",
        "colab_type": "code",
        "colab": {}
      },
      "source": [
        "#Write code here\n",
        "name = \n",
        "verb = \n",
        "noun = \n",
        "adverb = \n",
        "campus_location = \n",
        "\n",
        "\n",
        "\n",
        "print(name + \" refused \" + verb +  \" in class because his/her/their \" + noun + \" fell apart so they walked \" + adverb + \" to \" + campus_location + \" to think about what Baxter would do in this situation. \")"
      ],
      "execution_count": null,
      "outputs": []
    },
    {
      "cell_type": "markdown",
      "metadata": {
        "id": "gJEMJhQbmkdk",
        "colab_type": "text"
      },
      "source": [
        "## Next section (recommended): [Control Flow](https://colab.research.google.com/github/HackBinghamton/PythonWorkshop/blob/master/Intro/ControlFlow.ipynb)"
      ]
    }
  ]
}