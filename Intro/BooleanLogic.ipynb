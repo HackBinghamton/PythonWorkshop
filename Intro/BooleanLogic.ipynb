{
 "cells": [
  {
   "cell_type": "code",
   "execution_count": 5,
   "metadata": {},
   "outputs": [
    {
     "data": {
      "text/html": [
       "<style>\n",
       "    /* Jupyter */\n",
       "    .rendered_html table,\n",
       "    /* Jupyter Lab*/\n",
       "    div[data-mime-type=\"text-markdown\"] table {\n",
       "        margin-left: 0\n",
       "    }\n",
       "</style>\n"
      ],
      "text/plain": [
       "<IPython.core.display.HTML object>"
      ]
     },
     "metadata": {},
     "output_type": "display_data"
    }
   ],
   "source": [
    "%%html\n",
    "<style>\n",
    "    /* Jupyter */\n",
    "    .rendered_html table,\n",
    "    /* Jupyter Lab*/\n",
    "    div[data-mime-type=\"text-markdown\"] table {\n",
    "        margin-left: 0\n",
    "    }\n",
    "</style>"
   ]
  },
  {
   "cell_type": "markdown",
   "metadata": {},
   "source": [
    "# Boolean Logic"
   ]
  },
  {
   "cell_type": "markdown",
   "metadata": {},
   "source": [
    "## Overview\n",
    "\n",
    "### What You'll Learn\n",
    "In this section, you'll learn\n",
    "1. The main Boolean operations and how to use them in Python\n",
    "2. The main comparison operations and how to use them in Python\n",
    "3. How to use if, elif, and else to create control flow\n",
    "4. How to combine the above topics to create an algorithm in Python\n",
    "\n",
    "### Prerequisites\n",
    "Before starting this section, you should have an understanding of\n",
    "1. Data Types and Variables\n",
    "2. Printing"
   ]
  },
  {
   "cell_type": "markdown",
   "metadata": {},
   "source": [
    "## Introduction\n",
    "Boolean and comparison operations are fundamental concepts in computing. Boolean operations assess the truth value of two things. Comparison operations assess the relationship between two things (e.g. are they equal, less than, etc.) "
   ]
  },
  {
   "cell_type": "markdown",
   "metadata": {},
   "source": [
    "## Boolean Operations"
   ]
  },
  {
   "cell_type": "markdown",
   "metadata": {},
   "source": [
    "### Not\n",
    "\n",
    "| P | NOT P |\n",
    "|---|-------|\n",
    "| T | F     |\n",
    "| F | T     |\n",
    "\n",
    "\n",
    "Here, operand `P` is negated, which means that it becomes the opposite of itself. In other words, if `P` is true, `not P` is false, and if `P` is false, `not P` is true.  "
   ]
  },
  {
   "cell_type": "markdown",
   "metadata": {},
   "source": [
    "### And\n",
    "| P | Q | P and Q |\n",
    "|---|---|---------|\n",
    "| True | True | True       |\n",
    "| True | False | False       |\n",
    "| False | True | False       |\n",
    "| False | False | False       |\n",
    "\n",
    "Here, two operands `P` and `Q` undergo the `and` operation. `P and Q` is only true when `P` and `Q` are both true. If you introduce a third operand `R` to the equation (`P and Q and R`), all three operands would have to be true for this expression to resolve to true.\n",
    "\n",
    "When Python evaluates an expression with several `and` operators, it stops evaluating the expression as soon as one of the sub-expressions resolves to false.\n",
    "\n",
    "Example:\n",
    "P = T, Q = F, R = T\n",
    "\n",
    "(P and Q) and (P and R)\n",
    "\n",
    "        ^ Immediately stops evaluating here - Python doesn't bother to check the rest of the expression."
   ]
  },
  {
   "cell_type": "markdown",
   "metadata": {},
   "source": [
    "### Or\n",
    "| P | Q | P OR Q |\n",
    "|---|---|--------|\n",
    "| T | T | T      |\n",
    "| T | F | T      |\n",
    "| F | T | T      |\n",
    "| F | F | F      |\n",
    "\n",
    "Here, two operands `P` and `Q` undergo the `or` operation. `P or Q` is true whenever `P`, `Q`, or both `P` and `Q` are true. "
   ]
  },
  {
   "cell_type": "markdown",
   "metadata": {},
   "source": [
    "## Comparison Operations"
   ]
  },
  {
   "cell_type": "markdown",
   "metadata": {},
   "source": [
    "### ==\n",
    "\n",
    "| P | Q | P == Q |\n",
    "|---|---|--------|\n",
    "| 1 (int) | 1 (int) | True      |\n",
    "| 1 (int) | 1.0 (float) | True      |\n",
    "| 1 (int) | 1.000000000000000000000001 (float) | True |\n",
    "| 1 (int) | 2 (int) | False      |\n",
    "| 1 (int) | \"1\" (str) | False      |\n",
    "\n"
   ]
  },
  {
   "cell_type": "code",
   "execution_count": null,
   "metadata": {},
   "outputs": [],
   "source": [
    "a = 23\n",
    "\n",
    "if a==87:\n",
    "    print(\"how?\")\n",
    "elif a<16:\n",
    "    print(\"wait...what?\")\n",
    "else:\n",
    "    print(\"it worked!\")"
   ]
  },
  {
   "cell_type": "markdown",
   "metadata": {},
   "source": [
    "This code should print it worked!\n",
    "Can you explain why?"
   ]
  },
  {
   "cell_type": "code",
   "execution_count": null,
   "metadata": {},
   "outputs": [],
   "source": [
    "a = 23\n",
    "if a==87:\n",
    "    print(\"how?\")\n",
    "elif a<16:\n",
    "    print(\"wait...what?\")\n",
    "elif a>5:\n",
    "    print(\"look now.\")\n",
    "else:\n",
    "    print(\"it worked!\")"
   ]
  },
  {
   "cell_type": "markdown",
   "metadata": {},
   "source": [
    "This code should print only look now. Your computer tests each of the statements after an if or elif. When it finds a True statement it completes only the block under it and skips the rest. If you have two \"if\"s in a row, the second \"if\" won't be skipped. Only \"elif\"s or \"else\" get skipped.\n",
    "\n",
    "Many different statements cam be put after an if/elif. An == indicates two statements are equivalent != is the opposite. Other logic symbols include <, <=, >, >=. In python 'and' indicates intersect and 'or' indicates union."
   ]
  },
  {
   "cell_type": "code",
   "execution_count": 3,
   "metadata": {},
   "outputs": [
    {
     "ename": "SyntaxError",
     "evalue": "EOL while scanning string literal (<ipython-input-3-7427d536f655>, line 2)",
     "output_type": "error",
     "traceback": [
      "\u001b[0;36m  File \u001b[0;32m\"<ipython-input-3-7427d536f655>\"\u001b[0;36m, line \u001b[0;32m2\u001b[0m\n\u001b[0;31m    print(\"this should print)\u001b[0m\n\u001b[0m                             ^\u001b[0m\n\u001b[0;31mSyntaxError\u001b[0m\u001b[0;31m:\u001b[0m EOL while scanning string literal\n"
     ]
    }
   ],
   "source": [
    "if 5==5 and 4<=27:\n",
    "    print(\"this should print)\n",
    "\n",
    "if True:\n",
    "    print(\"this should print\")"
   ]
  }
 ],
 "metadata": {
  "kernelspec": {
   "display_name": "Python 3",
   "language": "python",
   "name": "python3"
  },
  "language_info": {
   "codemirror_mode": {
    "name": "ipython",
    "version": 3
   },
   "file_extension": ".py",
   "mimetype": "text/x-python",
   "name": "python",
   "nbconvert_exporter": "python",
   "pygments_lexer": "ipython3",
   "version": "3.6.8"
  }
 },
 "nbformat": 4,
 "nbformat_minor": 2
}
