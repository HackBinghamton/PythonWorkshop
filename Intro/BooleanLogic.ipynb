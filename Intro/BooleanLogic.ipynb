{
 "cells": [
  {
   "cell_type": "markdown",
   "metadata": {},
   "source": [
    "# Boolean Logic\n",
    "As you saw in Functions your python code can respond to conditions.\n",
    "An easy way to do this is with if/else blocks."
   ]
  },
  {
   "cell_type": "code",
   "execution_count": null,
   "metadata": {},
   "outputs": [],
   "source": [
    "a = 23\n",
    "\n",
    "if a==87:\n",
    "    print(\"how?\")\n",
    "elif a<16:\n",
    "    print(\"wait...what?\")\n",
    "else:\n",
    "    print(\"it worked!\")"
   ]
  },
  {
   "cell_type": "markdown",
   "metadata": {},
   "source": [
    "This code should print it worked!\n",
    "Can you explain why?"
   ]
  },
  {
   "cell_type": "code",
   "execution_count": null,
   "metadata": {},
   "outputs": [],
   "source": [
    "a = 23\n",
    "if a==87:\n",
    "    print(\"how?\")\n",
    "elif a<16:\n",
    "    print(\"wait...what?\")\n",
    "elif a>5:\n",
    "    print(\"look now.\")\n",
    "else:\n",
    "    print(\"it worked!\")"
   ]
  },
  {
   "cell_type": "markdown",
   "metadata": {},
   "source": [
    "This code should print only look now. Your computer tests each of the statements after an if or elif. When it finds a True statement it completes only the block under it and skips the rest. If you have two \"if\"s in a row, the second \"if\" won't be skipped. Only \"elif\"s or \"else\" get skipped.\n",
    "\n",
    "Many different statements cam be put after an if/elif. An == indicates two statements are equivalent != is the opposite. Other logic symbols include <, <=, >, >=. In python 'and' indicates intersect and 'or' indicates union."
   ]
  },
  {
   "cell_type": "code",
   "execution_count": null,
   "metadata": {},
   "outputs": [],
   "source": [
    "if 5==5 and 4<=27:\n",
    "    print(\"this should print)\n",
    "\n",
    "if True:\n",
    "    print(\"this should print\")"
   ]
  }
 ],
 "metadata": {
  "kernelspec": {
   "display_name": "Python 3",
   "language": "python",
   "name": "python3"
  },
  "language_info": {
   "codemirror_mode": {
    "name": "ipython",
    "version": 3
   },
   "file_extension": ".py",
   "mimetype": "text/x-python",
   "name": "python",
   "nbconvert_exporter": "python",
   "pygments_lexer": "ipython3",
   "version": "3.6.8"
  }
 },
 "nbformat": 4,
 "nbformat_minor": 2
}
