{
 "cells": [
  {
   "cell_type": "code",
   "execution_count": 5,
   "metadata": {},
   "outputs": [
    {
     "data": {
      "text/html": [
       "<style>\n",
       "    /* Jupyter */\n",
       "    .rendered_html table,\n",
       "    /* Jupyter Lab*/\n",
       "    div[data-mime-type=\"text-markdown\"] table {\n",
       "        margin-left: 0\n",
       "    }\n",
       "</style>\n"
      ],
      "text/plain": [
       "<IPython.core.display.HTML object>"
      ]
     },
     "metadata": {},
     "output_type": "display_data"
    }
   ],
   "source": [
    "%%html\n",
    "<style>\n",
    "    /* Jupyter */\n",
    "    .rendered_html table,\n",
    "    /* Jupyter Lab*/\n",
    "    div[data-mime-type=\"text-markdown\"] table {\n",
    "        margin-left: 0\n",
    "    }\n",
    "</style>"
   ]
  },
  {
   "cell_type": "markdown",
   "metadata": {},
   "source": [
    "# Boolean Logic"
   ]
  },
  {
   "cell_type": "markdown",
   "metadata": {},
   "source": [
    "## Overview\n",
    "\n",
    "### What You'll Learn\n",
    "In this section, you'll learn\n",
    "1. The main Boolean operations and how to use them in Python\n",
    "2. The main comparison operations and how to use them in Python\n",
    "3. How to use if, elif, and else to create control flow\n",
    "4. How to combine the above topics to create an algorithm in Python\n",
    "\n",
    "### Prerequisites\n",
    "Before starting this section, you should have an understanding of\n",
    "1. Data Types and Variables\n",
    "2. Printing"
   ]
  },
  {
   "cell_type": "markdown",
   "metadata": {},
   "source": [
    "## Introduction\n",
    "Boolean and comparison operations are fundamental concepts in computing. Boolean operations assess the truth value of two things. Comparison operations assess the relationship between two things (e.g. are they equal, less than, etc.) "
   ]
  },
  {
   "cell_type": "markdown",
   "metadata": {},
   "source": [
    "## Boolean Operations"
   ]
  },
  {
   "cell_type": "markdown",
   "metadata": {},
   "source": [
    "### Not\n",
    "\n",
    "The `not` operator is used to find the logical opposite of a truth value. It's fairly straightforward - not true resolves to false, not false resolves to true. \n",
    "\n",
    "Here's a truth table demonstrating the `not` operation. A truth table displays the truth value of one or more operands, as well as the corresponding truth value for any operations it contains (the first cell of each column).\n",
    "\n",
    "| P | not P |\n",
    "|---|-------|\n",
    "| True | False     |\n",
    "| False | True     |"
   ]
  },
  {
   "cell_type": "markdown",
   "metadata": {},
   "source": [
    "### And\n",
    "The `and` operation is used to determine if two operands are both true. \n",
    "\n",
    "| P | Q | P and Q |\n",
    "|---|---|---------|\n",
    "| True | True | True       |\n",
    "| True | False | False       |\n",
    "| False | True | False       |\n",
    "| False | False | False       |\n",
    "\n",
    "Here, two operands `P` and `Q` undergo the `and` operation. `P and Q` is only true when `P` and `Q` are both true. If you introduce a third operand `R` to the equation (`P and Q and R`), all three operands would have to be true for this expression to resolve to true.\n",
    "\n",
    "When Python evaluates an expression with several `and` operators, it stops evaluating the expression as soon as one of the operands resolves to false.\n",
    "\n",
    "#### Example:\n",
    "\n",
    "P = True\n",
    "\n",
    "Q = False\n",
    "\n",
    "R = True\n",
    "\n",
    "\n",
    "```(P and Q) and (P and R)        \n",
    "             ^ Immediately stops evaluating here since P and Q is false```\n",
    "             \n",
    "```> False```\n",
    "\n",
    "\n",
    "#### Usage:\n",
    "        \n",
    "Intuitively, the `and` operator in Python is `and`. \n",
    "\n",
    "Here's an example - run it yourself and see what happens!"
   ]
  },
  {
   "cell_type": "code",
   "execution_count": null,
   "metadata": {},
   "outputs": [],
   "source": [
    "x = True\n",
    "y = False\n",
    "z = True\n",
    "\n",
    "print(x and y)\n",
    "print(x and z)\n",
    "print(x and y and z)"
   ]
  },
  {
   "cell_type": "markdown",
   "metadata": {},
   "source": [
    "### Or\n",
    "The `or` operation between two operands is used to determine if at least one of the operands resolves to true.\n",
    "\n",
    "| P | Q | P or Q |\n",
    "|---|---|--------|\n",
    "| True | True | True      |\n",
    "| True | False | True      |\n",
    "| False | True | True      |\n",
    "| False | False | False      |\n",
    "\n",
    "Here, two operands `P` and `Q` undergo the `or` operation. `P or Q` is true whenever `P`, `Q`, or both `P` and `Q` are true. `P or Q` only resolves to false if both `P` and `Q` are false. If you have hundreds of operands and `or` operations, only one operand needs to be true for the expression to be true.\n",
    "\n",
    "When Python evaluates an expression with several `or` operators, it stops evaluating the expression as soon as one of the sub-expressions resolves to true.\n",
    "\n",
    "#### Example:\n",
    "P = True\n",
    "\n",
    "Q = False\n",
    "\n",
    "R = True\n",
    "\n",
    "```(P and Q) or P or R     \n",
    "               ^ Immediately stops evaluating here since P is true```\n",
    "             \n",
    "```> True```\n",
    "\n",
    "#### Usage:\n",
    "Much like `and`, the `or` operator in Python is exactly what you'd expect it to be:"
   ]
  },
  {
   "cell_type": "code",
   "execution_count": null,
   "metadata": {},
   "outputs": [],
   "source": [
    "x = True\n",
    "y = False\n",
    "z = False\n",
    "\n",
    "print(x or y)\n",
    "print(y or z)\n",
    "print(x or y or z)"
   ]
  },
  {
   "cell_type": "markdown",
   "metadata": {},
   "source": [
    "## Comparison Operations"
   ]
  },
  {
   "cell_type": "markdown",
   "metadata": {},
   "source": [
    "### == and !=\n",
    "The `==` and `!=` operators are used to compare two operands for equality and inequality, respectively. Think of `!=` as `not ==`.\n",
    "\n",
    "| P | Q | P == Q | P != Q |\n",
    "|---|---|--------|----|\n",
    "| 1 (int) | 1 (int) | True      | False|\n",
    "| 1 (int) | 1.0 (float) | True      | False|\n",
    "| 1 (int) | 1.000000000000000000000001 (float) | True | False |\n",
    "| \"ABC\" (str) | \"ABC\" (str) | True      | False|\n",
    "| \"ABC\" (str) | \"AC\" (str) | False      | True|\n",
    "| 1 (int) | 2 (int) | False      | True|\n",
    "| 1 (int) | \"1\" (str) | False      | True|\n",
    "\n",
    "Interestingly, 1 seems to be equivalent to 1.000000000000000000000001. **BE VERY AWARE OF THE TYPES OF THE OPERANDS YOU ARE COMPARING**. Floating point numbers are never 100% accurate (they're simply really good estimates), so Python recognizes the two values as equivalent to compensate for this. \n",
    "\n",
    "**TODO** Link to this section\n",
    "\n",
    "To learn more, check out the **== vs. is** section in the advanced portion of the workshop!\n",
    "\n",
    "#### Usage:"
   ]
  },
  {
   "cell_type": "code",
   "execution_count": null,
   "metadata": {},
   "outputs": [],
   "source": [
    "x = 7\n",
    "y = True\n",
    "z = True\n",
    "a = 7\n",
    "b = 8\n",
    "\n",
    "print(x == a, x != a)\n",
    "print(x == 7, x != 7)\n",
    "print(y == z, y != z)\n",
    "print(x == a == b, x != a != b)\n",
    "print(x == y, x != y)"
   ]
  },
  {
   "cell_type": "markdown",
   "metadata": {},
   "source": [
    "### <, >, <=, and >="
   ]
  },
  {
   "cell_type": "markdown",
   "metadata": {},
   "source": [
    "These operators behave exactly how they do in algebra. The `<` operator returns true if the first operand is less than the second operand, while the `<=` operator returns true if the first operand is less than *or equal to* the second. `>` (greater than) and `>=` behave exactly the same, except in the other direction.\n",
    "\n",
    "| P | Q | P < Q | P <= Q |\n",
    "|---|---|--------|----|\n",
    "| 1 (int) | 1 (int) | False      | True|\n",
    "| 1 (int) | 13 (int) | True      | True|\n",
    "| 12 (int) | 4 (int) | False      | False|\n",
    "\n",
    "\n",
    "#### Usage:"
   ]
  },
  {
   "cell_type": "code",
   "execution_count": null,
   "metadata": {},
   "outputs": [],
   "source": [
    "x = 33\n",
    "y = -2\n",
    "z = 9.2\n",
    "\n",
    "print(x < y)\n",
    "print(y < x)\n",
    "print(z >= 9)\n",
    "print(z > 9)"
   ]
  },
  {
   "cell_type": "markdown",
   "metadata": {},
   "source": [
    "## Exercises"
   ]
  },
  {
   "cell_type": "markdown",
   "metadata": {},
   "source": [
    "### Problem 1\n",
    "Write a function that determines if a number is divisible by 3 or divisible by 7. Store the result in `answer`."
   ]
  },
  {
   "cell_type": "code",
   "execution_count": null,
   "metadata": {},
   "outputs": [],
   "source": [
    "def divisible_by_three_or_seven(number):\n",
    "    # IMPLEMENT ME\n",
    "    # Create a new variable called answer\n",
    "    # End the function with return answer (don't worry if you don't know what that means)\n",
    "    \n",
    "    return\n",
    "\n",
    "\n",
    "assert(divisible_by_three_or_seven(21) == True)\n",
    "assert(divisible_by_three_or_seven(16) == False)\n",
    "assert(divisible_by_three_or_seven(3) == True)\n",
    "assert(divisible_by_three_or_seven(7) == True)"
   ]
  },
  {
   "cell_type": "markdown",
   "metadata": {},
   "source": [
    "---\n",
    "## Next section (recommended): Functions"
   ]
  }
 ],
 "metadata": {
  "kernelspec": {
   "display_name": "Python 3",
   "language": "python",
   "name": "python3"
  },
  "language_info": {
   "codemirror_mode": {
    "name": "ipython",
    "version": 3
   },
   "file_extension": ".py",
   "mimetype": "text/x-python",
   "name": "python",
   "nbconvert_exporter": "python",
   "pygments_lexer": "ipython3",
   "version": "3.6.8"
  }
 },
 "nbformat": 4,
 "nbformat_minor": 2
}
