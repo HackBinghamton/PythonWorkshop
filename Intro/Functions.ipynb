{
  "nbformat": 4,
  "nbformat_minor": 0,
  "metadata": {
    "kernelspec": {
      "display_name": "Python 3",
      "language": "python",
      "name": "python3"
    },
    "language_info": {
      "codemirror_mode": {
        "name": "ipython",
        "version": 3
      },
      "file_extension": ".py",
      "mimetype": "text/x-python",
      "name": "python",
      "nbconvert_exporter": "python",
      "pygments_lexer": "ipython3",
      "version": "3.6.8"
    },
    "colab": {
      "name": "Copy of Functions.ipynb",
      "version": "0.3.2",
      "provenance": [],
      "toc_visible": true
    }
  },
  "cells": [
    {
      "cell_type": "markdown",
      "metadata": {
        "id": "_fa8hx_36f6L",
        "colab_type": "text"
      },
      "source": [
        "# Functions\n",
        "In math if we have a function f(x)=x+4, then we compute f(2)=2+4=6. In other words, we have some input(2), and after doing some operations using that input,  we will produce an output(6). Similary, in Python, a function carries out a certain task. Often times the function takes some input to use to eventually produce an output or do something with the input. However, a function doesn't have to take input. There are certain functions that are included in Python such as print. You also have the ability to make your own function. The proper syntax to create a function is \"def\" followed by \"():\", and then the code you want the function to do will be indented.\n"
      ]
    },
    {
      "cell_type": "markdown",
      "metadata": {
        "id": "0bjNApYG-4TO",
        "colab_type": "text"
      },
      "source": [
        "The function f(x)=x+4 would look like this in code if we wanted to print the result. Note that the name \"adder\" could be anything you wanted it to be. "
      ]
    },
    {
      "cell_type": "code",
      "metadata": {
        "id": "_nXkEbpr-DAV",
        "colab_type": "code",
        "colab": {}
      },
      "source": [
        "def adder(x):\n",
        "  print(x+4)\n",
        "\n"
      ],
      "execution_count": 0,
      "outputs": []
    },
    {
      "cell_type": "markdown",
      "metadata": {
        "id": "pcylkC7__bnh",
        "colab_type": "text"
      },
      "source": [
        "Below is an example of a function that doesn't take any input. The function just prints \"probably\" when it is called. "
      ]
    },
    {
      "cell_type": "code",
      "metadata": {
        "id": "dVebmA5a6f6O",
        "colab_type": "code",
        "colab": {}
      },
      "source": [
        "def isTwentySixTooManyCats():\n",
        "  print(\"probably\")"
      ],
      "execution_count": 0,
      "outputs": []
    },
    {
      "cell_type": "markdown",
      "metadata": {
        "id": "agZhaXC_6f6R",
        "colab_type": "text"
      },
      "source": [
        "\n",
        "To use our function we just need to write it's name followed by parenthesis. This will print \"6\" and \"probably\""
      ]
    },
    {
      "cell_type": "code",
      "metadata": {
        "id": "q1tUK7uC6f6S",
        "colab_type": "code",
        "colab": {}
      },
      "source": [
        "adder(2)\n",
        "isTwentySixTooManyCats()"
      ],
      "execution_count": 0,
      "outputs": []
    },
    {
      "cell_type": "markdown",
      "metadata": {
        "id": "jsBmY64pKfeM",
        "colab_type": "text"
      },
      "source": [
        "### Practice: Make the function below print \"Hack and Be You\", and then call the function"
      ]
    },
    {
      "cell_type": "code",
      "metadata": {
        "id": "S6XGousOKw3_",
        "colab_type": "code",
        "colab": {}
      },
      "source": [
        "def printMotto():"
      ],
      "execution_count": 0,
      "outputs": []
    },
    {
      "cell_type": "markdown",
      "metadata": {
        "id": "cYm4Bau_6f6V",
        "colab_type": "text"
      },
      "source": [
        "### Return Statements\n",
        "We can also write functions that have a return statement. A return statement gives the possibility of using what the function outputs later in the program. When we set a variable equal to the call of a function, that variable will equal what the function returns. "
      ]
    },
    {
      "cell_type": "code",
      "metadata": {
        "id": "orE2qcVn6f6W",
        "colab_type": "code",
        "colab": {}
      },
      "source": [
        "def isTwentySevenTooManyCats():\n",
        "  return \"yes\"\n",
        "truth = isTwentySixTooManyCats()"
      ],
      "execution_count": 0,
      "outputs": []
    },
    {
      "cell_type": "markdown",
      "metadata": {
        "id": "YQUmyzyzB2Yc",
        "colab_type": "text"
      },
      "source": [
        "By doing this, truth = \"yes\"(the return value of the function) This doesn't seem that useful here, but it is very useful when you want to use the return value later on. \n",
        "\n",
        "For example, in the \"adder\" function, if we wanted to use the result for some other computations later on, then the function would need to return the sum.\n"
      ]
    },
    {
      "cell_type": "code",
      "metadata": {
        "id": "GTZhHaPNFOXu",
        "colab_type": "code",
        "colab": {
          "base_uri": "https://localhost:8080/",
          "height": 34
        },
        "outputId": "dd9fd030-6772-498a-abef-0ad59a7d9a3e"
      },
      "source": [
        "def adder(x):\n",
        "  return x+4\n",
        "\n",
        "result=adder(6)\n",
        "tripled=result*3\n",
        "print(tripled)\n"
      ],
      "execution_count": 5,
      "outputs": [
        {
          "output_type": "stream",
          "text": [
            "30\n"
          ],
          "name": "stdout"
        }
      ]
    },
    {
      "cell_type": "markdown",
      "metadata": {
        "id": "5PQfKstRFwMa",
        "colab_type": "text"
      },
      "source": [
        "In this case, result = 10 and so tripled = 10*3 = 30. \n",
        "\n",
        "Above you can also see how to call a function that takes input. You just put the value to be used as input in parenthesis. This input is called a parameter. \n",
        "\n",
        "You can also pass in a parameter using a variable. The code below will print the same result as the code above.\n"
      ]
    },
    {
      "cell_type": "code",
      "metadata": {
        "id": "oqB8VolsIRSp",
        "colab_type": "code",
        "colab": {}
      },
      "source": [
        "def adder(x):\n",
        "  return x+4\n",
        "\n",
        "num=6\n",
        "result=adder(num)\n",
        "tripled=result*3\n",
        "print(tripled)"
      ],
      "execution_count": 0,
      "outputs": []
    },
    {
      "cell_type": "markdown",
      "metadata": {
        "id": "s6FPyRjSCakN",
        "colab_type": "text"
      },
      "source": [
        "Changing our cat function from before, instead of automatically returning \"yes\", the number of cats you own can now be used as a parameter to determine if it's too many. Since the function returns \"yes\" for any number over 15, 26 is still too many cats."
      ]
    },
    {
      "cell_type": "code",
      "metadata": {
        "id": "zQGnJZlp6f6f",
        "colab_type": "code",
        "colab": {}
      },
      "source": [
        "def doIHaveTooManyCats(numCats):\n",
        "  if numCats <= 15:\n",
        "    return \"no\"\n",
        "  else:\n",
        "    return \"yes\"\n",
        "  \n",
        "print(doIHaveTooManyCats(3))\n",
        "print(doIHaveTooManyCats(65))\n",
        "\n",
        "myCats = 437\n",
        "\n",
        "print(doIHaveTooManyCats(myCats))"
      ],
      "execution_count": 0,
      "outputs": []
    },
    {
      "cell_type": "markdown",
      "metadata": {
        "id": "Qr1S3Sf_LZ3a",
        "colab_type": "text"
      },
      "source": [
        "### Practice: Write a function amIBroke that takes a parameter of the amount of money in your bank account. If the amount is less than 20, return \"yes, I need a job.\" Otherwise, return \"no, I'm buying everyone Market Place next week\""
      ]
    },
    {
      "cell_type": "code",
      "metadata": {
        "id": "w_kbnrpjMIdL",
        "colab_type": "code",
        "colab": {}
      },
      "source": [
        "#Write function here"
      ],
      "execution_count": 0,
      "outputs": []
    },
    {
      "cell_type": "markdown",
      "metadata": {
        "id": "zRqM7jHc6f6l",
        "colab_type": "text"
      },
      "source": [
        "Functions can also have more than one parameter."
      ]
    },
    {
      "cell_type": "code",
      "metadata": {
        "id": "jsE8D_Rg6f6m",
        "colab_type": "code",
        "colab": {}
      },
      "source": [
        "def doYouThinkIHaveTooManyCats(numCats, yourLimit):\n",
        "  if numCats <= yourLimit:\n",
        "    return \"no, less than \"+str(yourLimit)+\" is fine.\"\n",
        "  else:\n",
        "    return \"yes\"\n",
        "\n",
        "myCatsNow=2\n",
        "myFutureCats=900\n",
        "print(doYouThinkIHaveTooManyCats(myCatsNow, 5))\n",
        "print(doYouThinkIHaveTooManyCats(myFutureCats, 5))"
      ],
      "execution_count": 0,
      "outputs": []
    },
    {
      "cell_type": "markdown",
      "metadata": {
        "id": "XrXiCGs7Mo_0",
        "colab_type": "text"
      },
      "source": [
        "### Practice: Write your own function that takes someone's name and the year they were born as parameters. Have the function print their name and age and return \"legal\" if they're currently above 21, otherwise return \"illegal\". Call the function and save the result in a variable named \"legalStatus\". Then, print the variable. "
      ]
    }
  ]
}