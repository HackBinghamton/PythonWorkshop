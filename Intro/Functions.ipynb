{
 "cells": [
  {
   "cell_type": "markdown",
   "metadata": {},
   "source": [
    "# Functions\n",
    "Python uses functions to repurpose code.\n",
    "The language has many default functions like print, but you can also write your own.\n",
    "To write your own function start with def and the name of your function followed by ():\n",
    "then, indented, write what you want your function to do.\n",
    "for example:"
   ]
  },
  {
   "cell_type": "code",
   "execution_count": 1,
   "metadata": {},
   "outputs": [],
   "source": [
    "def isTwentySixTooManyCats():\n",
    "  print(\"probably\")"
   ]
  },
  {
   "cell_type": "markdown",
   "metadata": {},
   "source": [
    "\n",
    "To use our function we just need to write it's name followed by parenthesis."
   ]
  },
  {
   "cell_type": "code",
   "execution_count": null,
   "metadata": {},
   "outputs": [],
   "source": [
    "isTwentySixTooManyCats()"
   ]
  },
  {
   "cell_type": "markdown",
   "metadata": {},
   "source": [
    "This should print probably.\n",
    "Alternatively if we write this function with a return statement we can set probably to a variable instead."
   ]
  },
  {
   "cell_type": "code",
   "execution_count": null,
   "metadata": {},
   "outputs": [],
   "source": [
    "def isTwentySevenTooManyCats():\n",
    "  return \"yes\""
   ]
  },
  {
   "cell_type": "markdown",
   "metadata": {},
   "source": [
    "Now we can set a new variable to equal the result of the function."
   ]
  },
  {
   "cell_type": "code",
   "execution_count": null,
   "metadata": {},
   "outputs": [],
   "source": [
    "truth = isTwentySixTooManyCats()"
   ]
  },
  {
   "cell_type": "markdown",
   "metadata": {},
   "source": [
    "### Print truth to see if it equals yes (it better or I messed up somehow...)\n",
    "\n",
    "This doesn't seem very useful, but that's because I haven't told you the most important part yet!\n",
    "Your functions can import information--you put how many variables you want in the parenthesis when you write the function"
   ]
  },
  {
   "cell_type": "code",
   "execution_count": null,
   "metadata": {},
   "outputs": [],
   "source": [
    "def doIHaveTooManyCats(numCats):\n",
    "  if numCats <= 15:\n",
    "    return \"no\"\n",
    "  else:\n",
    "    return \"yes\""
   ]
  },
  {
   "cell_type": "markdown",
   "metadata": {},
   "source": [
    "Then when you call the function you put a variable or data in the parenthesis"
   ]
  },
  {
   "cell_type": "code",
   "execution_count": null,
   "metadata": {},
   "outputs": [],
   "source": [
    "print(doIHaveTooManyCats(3))\n",
    "print(doIHaveTooManyCats(65))\n",
    "\n",
    "myCats = 437\n",
    "\n",
    "print(doIHaveTooManyCats(myCats))"
   ]
  },
  {
   "cell_type": "markdown",
   "metadata": {},
   "source": [
    "Your functions can use multiple variables"
   ]
  },
  {
   "cell_type": "code",
   "execution_count": null,
   "metadata": {},
   "outputs": [],
   "source": [
    "def doYouThinkIHaveTooManyCats(numCats, yourLimit):\n",
    "  if numCats <= yourLimit:\n",
    "    return \"no, less than \"+yourLimit+\" is fine.\"\n",
    "  else:\n",
    "    return \"yes\"\n",
    "\n",
    "print(doYouThinkIHaveTooManyCats(myCats, 5))"
   ]
  },
  {
   "cell_type": "markdown",
   "metadata": {},
   "source": [
    "### Write your own function that takes a name and returns a greeting along with that name\n",
    "---\n",
    "#### Next File (Recommended): Boolean Logic"
   ]
  }
 ],
 "metadata": {
  "kernelspec": {
   "display_name": "Python 3",
   "language": "python",
   "name": "python3"
  },
  "language_info": {
   "codemirror_mode": {
    "name": "ipython",
    "version": 3
   },
   "file_extension": ".py",
   "mimetype": "text/x-python",
   "name": "python",
   "nbconvert_exporter": "python",
   "pygments_lexer": "ipython3",
   "version": "3.6.8"
  }
 },
 "nbformat": 4,
 "nbformat_minor": 2
}
