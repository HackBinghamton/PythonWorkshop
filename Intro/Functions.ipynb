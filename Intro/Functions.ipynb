{
 "cells": [	  "nbformat": 4,
  {	  "nbformat_minor": 0,
   "cell_type": "markdown",	  "metadata": {
   "metadata": {	    "colab": {
    "colab_type": "text",	      "name": "Copy of Imports.ipynb",
    "id": "taZsVKmU0vRZ"	      "provenance": []
   },	    },
   "source": [	    "kernelspec": {
    "## Imports\n",	      "display_name": "Python 3",
    "In Python, you can import different modules which are files with code that contain helpful functions that are available for your use. To import a module, at the top of your file write \"import module_name\"\n",	      "language": "python",
    "\n",	      "name": "python3"
    "A specifically useful module to import is \"random.\" By importing random, you can easily make random selections of whatever you want. Instead of having to code a function that makes a random selection, this module has functions that you can use which will make your life much easier. "	    },
   ]	    "language_info": {
      "codemirror_mode": {
        "name": "ipython",
        "version": 2
      },
      "file_extension": ".py",
      "mimetype": "text/x-python",
      "name": "python",
      "nbconvert_exporter": "python",
      "pygments_lexer": "ipython2",
      "version": "2.7.16"
    }
  },	  },
  {	  "cells": [
   "cell_type": "markdown",	    {
   "metadata": {	      "cell_type": "markdown",
    "colab_type": "text",	      "metadata": {
    "id": "Rei42AbFB8ux"	        "colab_type": "text",
   },	        "id": "taZsVKmU0vRZ"
   "source": [	      },
    "Click [here](https://docs.python.org/3/library/random.html) to see all of the functions that the random module offers. To use any of them, you must start with \"random.\" followed by the name of the function you want to use and (). If the function takes any parameters, they would go inside the (). \n",	      "source": [
    "\n",	        "## Imports\n",
    "Below is an example of using the random module to generate a random number"	        "In Python, you can import different modules which are files with code that contain helpful functions that are available for your use. To import a module, at the top of your file write `import module_name`\n",
   ]	        "\n",
  },	        "A specifically useful module to import is `random`. By importing `random`, you can easily make random selections of whatever you want. Instead of coding a function that makes a random selection, this module has functions that you can use which will make your life much easier. "
  {	      ]
   "cell_type": "code",	    },
   "execution_count": 0,	    {
   "metadata": {	      "cell_type": "markdown",
    "colab": {},	      "metadata": {
    "colab_type": "code",	        "colab_type": "text",
    "id": "fNkEjP7VC6VV"	        "id": "Rei42AbFB8ux"
   },	      },
   "outputs": [],	      "source": [
   "source": [	        "Click [here](https://docs.python.org/3/library/random.html) to see all of the functions that the `random` module offers. To use any of them, you must start with `random.` followed by the name of the function you want to use and `()`. If the function takes any parameters, they would go inside the `()`. \n",
    "import random\n",	        "\n",
    "\n",	        "Below is an example of using the `random` module to generate a random number:"
    "# Generate a random number between 10 and 90 \n",	      ]
    "randomNum=random.randrange(10, 91) \n",	    },
    "print(randomNum)\n",	    {
    "\n",	      "cell_type": "code",
    "# Generate a random number between 0 and 15\n",	      "metadata": {
    "randomNum2=random.randrange(16)\n",	        "colab_type": "code",
    "print(randomNum2)"	        "id": "fNkEjP7VC6VV",
   ]	        "colab": {}
  },	      },
  {	      "source": [
   "cell_type": "markdown",	        "import random\n",
   "metadata": {	        "\n",
    "colab_type": "text",	        "# Generate a random number between 10 and 90 \n",
    "id": "yojx3TRZEanO"	        "randomNum=random.randrange(10, 91) \n",
   },	        "print(randomNum)\n",
   "source": [	        "\n",
    "Random can also be useful in randomly choosing an element from a list."	        "# Generate a random number between 0 and 15\n",
   ]	        "randomNum2=random.randrange(16)\n",
  },	        "print(randomNum2)"
  {	      ],
   "cell_type": "code",	      "execution_count": null,
   "execution_count": 0,	      "outputs": []
   "metadata": {	    },
    "colab": {},	    {
    "colab_type": "code",	      "cell_type": "markdown",
    "id": "D8zJF9O1D9Tq"	      "metadata": {
   },	        "colab_type": "text",
   "outputs": [],	        "id": "yojx3TRZEanO"
   "source": [	      },
    "import random\n",	      "source": [
    "fruits=[\"banana\", \"apple\", \"strawberry\", \"kiwi\", \"grapes\"]\n",	        "`random` can also be useful in randomly choosing an element from a list."
    "#randomly choose one of the elements in fruits\n",	      ]
    "print(random.choice(fruits))"	    },
   ]	    {
  },	      "cell_type": "code",
  {	      "metadata": {
   "cell_type": "markdown",	        "colab_type": "code",
   "metadata": {	        "id": "D8zJF9O1D9Tq",
    "colab_type": "text",	        "colab": {}
    "id": "rF5gpxiBG_-d"	      },
   },	      "source": [
   "source": [	        "import random\n",
    "There are countless modules Python has available for you to import. Examples include NumPy, Pygame, Keras, TensorFlow, etc. To look at another example of how to use a module, we will look at the module datetime."	        "fruits=[\"banana\", \"apple\", \"strawberry\", \"kiwi\", \"grapes\"]\n",
   ]	        "#randomly choose one of the elements in fruits\n",
  },	        "print(random.choice(fruits))"
  {	      ],
   "cell_type": "code",	      "execution_count": null,
   "execution_count": 0,	      "outputs": []
   "metadata": {	    },
    "colab": {},	    {
    "colab_type": "code",	      "cell_type": "markdown",
    "id": "8_rSC3OwIiLD"	      "metadata": {
   },	        "colab_type": "text",
   "outputs": [],	        "id": "rF5gpxiBG_-d"
   "source": [	      },
    "import datetime\n",	      "source": [
    "\n",	        "There are countless modules Python has available for you to import. Examples include NumPy, Pygame, Keras, TensorFlow, etc. To look at another example of how to use a module, we will look at the module `datetime`."
    "# Get the current date and time\n",	      ]
    "today=datetime.datetime.now()\n",	    },
    "print(today)\n",	    {
    "\n",	      "cell_type": "code",
    "# The number of the weekday (Monday=0, Sunday=6)\n",	      "metadata": {
    "day = today.weekday()\n",	        "colab_type": "code",
    "print(day)\n"	        "id": "8_rSC3OwIiLD",
   ]	        "colab": {}
  },	      },
  {	      "source": [
   "cell_type": "markdown",	        "import datetime\n",
   "metadata": {	        "\n",
    "colab_type": "text",	        "# Get the current date and time\n",
    "id": "3BVc1wkhK8IR"	        "today=datetime.datetime.now()\n",
   },	        "print(today)\n",
   "source": [	        "\n",
    "It's extremely useful to get to know how to use modules because they provide a lot of functionalities that can end up saving you a lot of time. Play around with random, datetime, or any other  module of your choice and get comfortable with using the different functionalities of it! "	        "# The number of the weekday (Monday=0, Sunday=6)\n",
   ]	        "day = today.weekday()\n",
  },	        "print(day)\n"
  {	      ],
   "cell_type": "markdown",	      "execution_count": null,
   "metadata": {	      "outputs": []
    "colab_type": "text",	    },
    "id": "7sMuOgCmE5w4"	    {
   },	      "cell_type": "markdown",
   "source": [	      "metadata": {
    "### Exercise: Make a list of your favorite meals and randomly generate what you should eat for dinner tonight"	        "colab_type": "text",
   ]	        "id": "3BVc1wkhK8IR"
  },	      },
  {	      "source": [
   "cell_type": "code",	        "It's extremely useful to get to know how to use modules because they provide a lot of functionalities that can end up saving you a lot of time. Play around with `random`, `datetime`, or any other  module of your choice and get comfortable with using the different functionalities of it! "
   "execution_count": 0,	      ]
   "metadata": {	    },
    "colab": {},	    {
    "colab_type": "code",	      "cell_type": "markdown",
    "id": "RGo2k5QRFhx0"	      "metadata": {
   },	        "colab_type": "text",
   "outputs": [],	        "id": "7sMuOgCmE5w4"
   "source": [	      },
    "#Write code here"	      "source": [
   ]	        "### Exercise: Make a list of your favorite meals and randomly generate what you should eat for dinner tonight"
  },	      ]
  {	    },
   "cell_type": "markdown",	    {
   "metadata": {	      "cell_type": "code",
    "colab_type": "text",	      "metadata": {
    "id": "lekclEDf-BwI"	        "colab_type": "code",
   },	        "id": "RGo2k5QRFhx0",
   "source": [	        "colab": {}
    "The most difficult part of importing libraries in Python is acquainting yourself with the commands in the library using the documentation. Let's practice that with the Requests library, a Python library for HTTP requests.\n",	      },
    "In the code block below make a HTTP get request to [the Github public timeline](https://api.github.com/events), using the Request library. This will require an import statement and one line of code that you can find [in the library documentation](https://3.python-requests.org/user/quickstart/#quickstart)."	      "source": [
   ]	        "#Write code here"
  },	      ],
  {	      "execution_count": null,
   "cell_type": "code",	      "outputs": []
   "execution_count": 0,	    },
   "metadata": {	    {
    "colab": {},	      "cell_type": "markdown",
    "colab_type": "code",	      "metadata": {
    "id": "3srG-56D-BwJ"	        "colab_type": "text",
   },	        "id": "h4ARvByTE1Gm"
   "outputs": [],	      },
   "source": [	      "source": [
    "#Write code here"	        "### Exercise: Make a HTTP get request "
   ]	      ]
  }	    },
 ],	    {
 "metadata": {	      "cell_type": "markdown",
  "colab": {	      "metadata": {
   "name": "Copy of Imports.ipynb",	        "colab_type": "text",
   "provenance": []	        "id": "lekclEDf-BwI"
  },	      },
  "kernelspec": {	      "source": [
   "display_name": "Python 3",	        "The most difficult part of importing libraries in Python is acquainting yourself with the commands in the library using the documentation. Let's practice that with the Requests library, a Python library for HTTP requests.\n",
   "language": "python",	        "In the code block below make a HTTP get request to [the Github public timeline](https://api.github.com/events), using the Request library. This will require an import statement and one line of code that you can find [in the library documentation](https://3.python-requests.org/user/quickstart/#quickstart)."
   "name": "python3"	      ]
  },	    },
  "language_info": {	    {
   "codemirror_mode": {	      "cell_type": "code",
    "name": "ipython",	      "metadata": {
    "version": 2	        "colab_type": "code",
   },	        "id": "3srG-56D-BwJ",
   "file_extension": ".py",	        "colab": {}
   "mimetype": "text/x-python",	      },
   "name": "python",	      "source": [
   "nbconvert_exporter": "python",	        "#Write code here"
   "pygments_lexer": "ipython2",	      ],
   "version": "2.7.16"	      "execution_count": null,
  }	      "outputs": []
 },	    }
 "nbformat": 4,	  ]
 "nbformat_minor": 1	} 
