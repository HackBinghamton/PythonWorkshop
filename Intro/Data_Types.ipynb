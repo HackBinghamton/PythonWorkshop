{
 "cells": [
  {
   "cell_type": "markdown",
   "metadata": {},
   "source": [
    "# Data Types"
   ]
  },
  {
   "cell_type": "markdown",
   "metadata": {},
   "source": [
    "At it's core, programming is the art of changing data, that's it! In python (and programming in general), every operation that you do will involve data types in some way. So it's going to be very useful to have at least a basic understanding of data types."
   ]
  },
  {
   "cell_type": "markdown",
   "metadata": {},
   "source": [
    "# But What Is a Data Type?"
   ]
  },
  {
   "cell_type": "markdown",
   "metadata": {},
   "source": [
    "Put simply a data type is just a piece of information. It's nothing different from you would write on a piece of paper or put into a text message. There are different types of data, and most of them are types that you're already familiar with. Let's go through them!\n",
    "\n"
   ]
  },
  {
   "cell_type": "markdown",
   "metadata": {},
   "source": [
    "#### Data Types\n",
    "\n",
    "*Integers* - Just like integers in math class, these are whole numbers (no decimal points), like `1`, or `-4`, or `126`\n",
    "\n",
    "*Floating Point Numbers* - These are numbers that that do have decimal points, like `3.0`, `-6.6`, or `6738.01`\n",
    "\n",
    "*Characters* - This is one single symbol. Basically it's any key that you can type on a keyboard. Like `'a'` or `'1'`\n",
    "\n",
    "*Strings* - This is collection characters all put together. An example is `'cat'`, which is a collection `'c'`, `'a'`, and `'t'` put together into one\n",
    "\n",
    "There are plenty of other data types, these are just a few. In the Object Oriented Programing section of this workshop, you'll learn about making your own special data types as well!"
   ]
  },
  {
   "cell_type": "markdown",
   "metadata": {},
   "source": [
    "# How Do I Access/Use These Data Types?"
   ]
  },
  {
   "cell_type": "markdown",
   "metadata": {},
   "source": [
    "The key to unlocking the power of programming is taking data types and storing them in *variables*. A variable is just a name that you give to a piece of data so that you can access it and make changes to it. Think of it as a bucket, you give the bucket a name and place your data inside of it. When you want to access your data, you look into the bucket to see it. \n",
    "\n",
    "If we were to always call our data by its *literal* name, we risk confusion when we change that data. Imagine having an integer with a value of `7`. We could simply call it `7`, but if we change that number to `8`, things can get very confusing very fast.\n",
    "\n",
    "Instead we use variables! This way, even when the data changes, we access it by the same name. That's why these buckets are called \"variables\"! The data in them is subject to change (or *vary*), but we can always access it from the name we gave it. Be sure to choose a name that won't cause any confusion, a bad variable name can make your program very hard to understand.\n",
    "\n",
    "We place our data in variables with the `=` sign! Look below to see how it's done:\n",
    "\n",
    "`myVar = 6`\n",
    "\n",
    "In the code above we created a variable named `myVar` and put the integer `6` in it!\n",
    "\n",
    "Now that we can store our data, let's get into the fun stuff: operations!"
   ]
  },
  {
   "cell_type": "markdown",
   "metadata": {},
   "source": [
    "# What Can I Do With These Data Types?"
   ]
  },
  {
   "cell_type": "markdown",
   "metadata": {},
   "source": [
    "As mentioned before, everything you'll do in your code is going to involve data types in one way or another. Let's dive into some examples of what we can and can't do.\n",
    "\n",
    "#### Numbers (Integers and Floats)\n",
    "We can do mathematical operations on numbers:"
   ]
  },
  {
   "cell_type": "code",
   "execution_count": 11,
   "metadata": {},
   "outputs": [],
   "source": [
    "nuggets = 7\n",
    "tenders = 4\n",
    "piecesOfFood = nuggets + tenders"
   ]
  },
  {
   "cell_type": "markdown",
   "metadata": {},
   "source": [
    "In the code above, we created two variables that hold the amounts of `nuggets` and `tenders` that we currently have. `piecesOfFood` is the sum of those two integers. The simple code below will run to show how many pieces of food we have in total."
   ]
  },
  {
   "cell_type": "code",
   "execution_count": 12,
   "metadata": {},
   "outputs": [
    {
     "data": {
      "text/plain": [
       "11"
      ]
     },
     "execution_count": 12,
     "metadata": {},
     "output_type": "execute_result"
    }
   ],
   "source": [
    "piecesOfFood"
   ]
  },
  {
   "cell_type": "markdown",
   "metadata": {},
   "source": [
    "But what if we started eating some of our nuggets and tenders and only had portions of each one left? We could use floating point numbers (or \"floats\" for short) to show our total number of food pieces to a greater degree of accuracy. Let's try that out."
   ]
  },
  {
   "cell_type": "code",
   "execution_count": 13,
   "metadata": {},
   "outputs": [],
   "source": [
    "nuggets = 7.7\n",
    "tenders = 4.1\n",
    "piecesOfFood = nuggets + tenders"
   ]
  },
  {
   "cell_type": "markdown",
   "metadata": {},
   "source": [
    "In the above code, we've used floats to make our numbers more accurate. The code below will run to show the new total of food pieces we have"
   ]
  },
  {
   "cell_type": "code",
   "execution_count": 14,
   "metadata": {},
   "outputs": [
    {
     "data": {
      "text/plain": [
       "11.8"
      ]
     },
     "execution_count": 14,
     "metadata": {},
     "output_type": "execute_result"
    }
   ],
   "source": [
    "piecesOfFood"
   ]
  },
  {
   "cell_type": "markdown",
   "metadata": {},
   "source": [
    "Those sure are a lot of nuggets/tenders!"
   ]
  },
  {
   "cell_type": "markdown",
   "metadata": {},
   "source": [
    "We can also do other math operations on numbers as well! \n",
    "\n",
    "We can subtract:\n",
    "\n",
    "`donuts = 12 - 2 # this will equal 10!`\n",
    "\n",
    "We can multiply:\n",
    "\n",
    "`fish_sticks = 10 * 2 # this will equal 20!`\n",
    "\n",
    "We can divide:\n",
    "\n",
    "`hot_pockets = 60 / 6 # this will equal 10!`\n",
    "\n",
    "`ham_sandwhiches = 25 // 10 # this will equal 2 (integer division -- see the note below!)`\n",
    "\n",
    "Note About Division: when you divide numbers in Python, the result will always be a float to ensure the accuracy of the quotient (since division sometimes results in floating point or decimal numbers). If you want to be sure that you'll get an ineger when you divide you can use Python's *integer division* feature. To use it, replace the `/` with `//` and the result will always be an integer (as shown in the integer division example above). But beware, Python will not round up, it will simply remove the decimal point and use the whole number that remains.\n",
    "\n",
    "We can even use exponents!:\n",
    "\n",
    "`frozen_pizzas = 2 ** 2 # this will equal 2^2, which equals 4!`\n",
    "\n",
    "We can find remainders with modulo:\n",
    "\n",
    "`beef_patties = 12 % 5 # this will equal 2, which is the remainder we'll find if we divide 12 by 5!`\n",
    "\n",
    "Note About Modulo: modulo seems like a scary operator, but it's not. It can actually be pretty useful. All it does is compute the remainder that's left over when you divide two numbers. When the two numbers you divide are multiples of each other (say `3` and `6`, for example), the remainder is `0`. This means that modulo is super useful for finding out if numbers are multiples of each other. The most common example is checking to see if a number is even. To be even our number must be divisible by `2`, in other words the number has to be a multiple of `2`. So to find out if a number is even, all we have to do is check if our number modulo `2` equals `0`. For instance, `4 % 2` will equal `0`, therefore `4` is an even number! Meanwhile `7 % 2` will equal `1`, which is not `0`, and therefore `7` is not even!"
   ]
  },
  {
   "cell_type": "markdown",
   "metadata": {},
   "source": [
    "#### Strings\n",
    "\n",
    "Let's now take a look at the types of operations we can do on strings!\n",
    "\n",
    "We can actually \"add\" strings together, but this isn't really math, it's just a shortcut for *concatenation*. Concatenation is just a fancy computer science word for something very simple (computer scientists love fancy words for simple concepts, it makes us feel smart). When you take one string and stick it to the end of another, you're concatenating! \n",
    "\n",
    "For example, let's say we have one string that says `\"Hack\"` and another one that says `\" and be you!\"`, we can take the second one and add it to the end of the first one. This will make the string `\"Hack and be you!\"`. Congratulations, you've just concatenated! Let's do this example in code"
   ]
  },
  {
   "cell_type": "code",
   "execution_count": 16,
   "metadata": {},
   "outputs": [],
   "source": [
    "string1 = \"Hack\"\n",
    "string2 = \" and be you!\"\n",
    "best_motto_ever = string1 + string2"
   ]
  },
  {
   "cell_type": "markdown",
   "metadata": {},
   "source": [
    "The code above will produce a concatenation of `string1` and `string2`! The code below will run to show exactly what that concatenation is."
   ]
  },
  {
   "cell_type": "code",
   "execution_count": 27,
   "metadata": {},
   "outputs": [
    {
     "data": {
      "text/plain": [
       "'Hack and be you!'"
      ]
     },
     "execution_count": 27,
     "metadata": {},
     "output_type": "execute_result"
    }
   ],
   "source": [
    "best_motto_ever"
   ]
  },
  {
   "cell_type": "markdown",
   "metadata": {},
   "source": [
    "Concatenation is just one operation that we can do on strings there are so many more! In the intermediate section, we'll cover even more ways to manipulate strings!"
   ]
  },
  {
   "cell_type": "markdown",
   "metadata": {},
   "source": [
    "Congrats! You've now had a basic introduction to data types! You're doing awesome!"
   ]
  }
 ],
 "metadata": {
  "kernelspec": {
   "display_name": "Python 3",
   "language": "python",
   "name": "python3"
  },
  "language_info": {
   "codemirror_mode": {
    "name": "ipython",
    "version": 3
   },
   "file_extension": ".py",
   "mimetype": "text/x-python",
   "name": "python",
   "nbconvert_exporter": "python",
   "pygments_lexer": "ipython3",
   "version": "3.6.0"
  }
 },
 "nbformat": 4,
 "nbformat_minor": 2
}
