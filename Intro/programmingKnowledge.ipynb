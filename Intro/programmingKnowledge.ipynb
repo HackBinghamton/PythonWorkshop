{
  "nbformat": 4,
  "nbformat_minor": 0,
  "metadata": {
    "colab": {
      "name": "programmingKnowledge.ipynb",
      "provenance": []
    },
    "kernelspec": {
      "name": "python3",
      "display_name": "Python 3"
    }
  },
  "cells": [
    {
      "cell_type": "markdown",
      "metadata": {
        "id": "ksOfDsP9bPqR",
        "colab_type": "text"
      },
      "source": [
        "# Starter Guide to Python with Previous Programming Knowledge\n",
        "\n",
        "**What you'll learn**\n",
        "\n",
        "In this section, you'll learn\n",
        "\n",
        " 1. Data types and variable\n",
        " 2. Printing and input\n",
        " 3. Control flow\n",
        " 4. Functions\n",
        " 5. Imports\n",
        "\n",
        "**Prerequisites**\n",
        "\n",
        "Knowledge of the five elements above in any language\n",
        "\n",
        "**Introduction**\n",
        "\n",
        "If you have previous programming experience, this section will be a quick guide to the basics in Python.\n"
      ]
    },
    {
      "cell_type": "markdown",
      "metadata": {
        "id": "P5OfkHv-bSBx",
        "colab_type": "text"
      },
      "source": [
        "## Data Types and Variables\n",
        "Declaring variables is not necessary in Python. This is how to use the basic data types:"
      ]
    },
    {
      "cell_type": "code",
      "metadata": {
        "id": "NuWx6a-DbS4L",
        "colab_type": "code",
        "colab": {}
      },
      "source": [
        "x = 1 #integer\n",
        "y = 3.14 #float\n",
        "hi = \"Hello World!\" #string\n",
        "kateSmells = True #bool"
      ],
      "execution_count": null,
      "outputs": []
    },
    {
      "cell_type": "markdown",
      "metadata": {
        "id": "y8Cu8MQVcqyh",
        "colab_type": "text"
      },
      "source": [
        "Basic math operations in Python work the same as other common languages. Some important things to note are shown below:"
      ]
    },
    {
      "cell_type": "code",
      "metadata": {
        "id": "L5gdKioicryi",
        "colab_type": "code",
        "colab": {}
      },
      "source": [
        "print(10/3) #result is a float\n",
        "print(10//3) #result is an integer\n",
        "print(2**3) #2^3"
      ],
      "execution_count": null,
      "outputs": []
    },
    {
      "cell_type": "markdown",
      "metadata": {
        "id": "yqrlvKGadAHQ",
        "colab_type": "text"
      },
      "source": [
        "## Printing and Input\n",
        "One important difference in Python print statements is there is always a new line character at the end. "
      ]
    },
    {
      "cell_type": "code",
      "metadata": {
        "id": "DykHG5ZHdEGG",
        "colab_type": "code",
        "colab": {}
      },
      "source": [
        "print(\"Hello\")\n",
        "print(\"World\")"
      ],
      "execution_count": null,
      "outputs": []
    },
    {
      "cell_type": "markdown",
      "metadata": {
        "id": "cpWc4n_wdKB_",
        "colab_type": "text"
      },
      "source": [
        "You can print multiple things in one print statement by using '+'."
      ]
    },
    {
      "cell_type": "code",
      "metadata": {
        "id": "m_i3jBT-dL2d",
        "colab_type": "code",
        "colab": {}
      },
      "source": [
        "pizza = \"Yo\"\n",
        "print(pizza + \" HackBU is lit\")"
      ],
      "execution_count": null,
      "outputs": []
    },
    {
      "cell_type": "markdown",
      "metadata": {
        "id": "mJp508wxdeIC",
        "colab_type": "text"
      },
      "source": [
        "You can not concatenate a string and a number. You need to cast the number to a string in this case."
      ]
    },
    {
      "cell_type": "code",
      "metadata": {
        "id": "Dt2k4pCLdevT",
        "colab_type": "code",
        "colab": {}
      },
      "source": [
        "num = 3\n",
        "print(\"This is HackBU workshop number \" + str(num))"
      ],
      "execution_count": null,
      "outputs": []
    },
    {
      "cell_type": "markdown",
      "metadata": {
        "id": "qfp28GLadr5n",
        "colab_type": "text"
      },
      "source": [
        "Input is taken using input(). If there is a string passed to the input function, it is printed to the screen. "
      ]
    },
    {
      "cell_type": "code",
      "metadata": {
        "id": "S2xjC1ZpdslW",
        "colab_type": "code",
        "colab": {}
      },
      "source": [
        "fav_color = input(\"What is your favorite color?\")\n",
        "print(fav_color)"
      ],
      "execution_count": null,
      "outputs": []
    },
    {
      "cell_type": "markdown",
      "metadata": {
        "id": "oNSIwO9qgpC_",
        "colab_type": "text"
      },
      "source": [
        "The input function always returns a string so if you want to use the value as another data type, you must cast it."
      ]
    },
    {
      "cell_type": "code",
      "metadata": {
        "id": "8Dn_xw_5gxk4",
        "colab_type": "code",
        "colab": {}
      },
      "source": [
        "lucky_number = int(input(\"What is your lucky number?\"))\n",
        "print(lucky_number + 123)"
      ],
      "execution_count": null,
      "outputs": []
    },
    {
      "cell_type": "markdown",
      "metadata": {
        "id": "tAPU_VD6d2qt",
        "colab_type": "text"
      },
      "source": [
        "## Control Flow\n",
        "Below is a table of basic Python operators. \n",
        "\n",
        "|Operator|Python Implementation|\n",
        "|-----|-----|\n",
        "|equal to|==|\n",
        "|not equal to | !=|\n",
        "|less than | <|\n",
        "|less than or equal to| <=|\n",
        "|greater than| >|\n",
        "|greater than or equal to|>=|\n",
        "| not | not|\n",
        "| and | and|\n",
        "| or | or|\n",
        "\n"
      ]
    },
    {
      "cell_type": "markdown",
      "metadata": {
        "id": "h3BeNlwHer56",
        "colab_type": "text"
      },
      "source": [
        "Conditional statements in Python have the following syntax:"
      ]
    },
    {
      "cell_type": "code",
      "metadata": {
        "id": "xFX1sCqtd3gw",
        "colab_type": "code",
        "colab": {}
      },
      "source": [
        "x = int(input(\"Enter number\"))\n",
        "if(x > 0):\n",
        "  print(\"x is positive\")\n",
        "elif(x < 0): #an else if statement\n",
        "  print(\"x is negative\")\n",
        "else:\n",
        "  print(\"x is 0\")"
      ],
      "execution_count": null,
      "outputs": []
    },
    {
      "cell_type": "markdown",
      "metadata": {
        "id": "2H77mUKMfLSt",
        "colab_type": "text"
      },
      "source": [
        "## Functions\n",
        "A function is defined in the following way:"
      ]
    },
    {
      "cell_type": "code",
      "metadata": {
        "id": "oFiO8SuYfL7Y",
        "colab_type": "code",
        "colab": {}
      },
      "source": [
        "def does_kate_smell():\n",
        "  print(\"Yes\")\n",
        "  \n",
        "#function call\n",
        "does_kate_smell()"
      ],
      "execution_count": null,
      "outputs": []
    },
    {
      "cell_type": "markdown",
      "metadata": {
        "id": "a2OJfKXBfQ0A",
        "colab_type": "text"
      },
      "source": [
        "If a function has parameters, only the variable name is required. We do not need to specify the type of the parameter like some other languages require."
      ]
    },
    {
      "cell_type": "code",
      "metadata": {
        "id": "7PxYyOdxfRTp",
        "colab_type": "code",
        "colab": {}
      },
      "source": [
        "def add_four(x):\n",
        "  print(x + 4)\n",
        "  \n",
        "add_four(5)"
      ],
      "execution_count": null,
      "outputs": []
    },
    {
      "cell_type": "markdown",
      "metadata": {
        "id": "HMGRDAmpfadm",
        "colab_type": "text"
      },
      "source": [
        "Return statements consist of simply the word \"return\" and whatever you are returning."
      ]
    },
    {
      "cell_type": "code",
      "metadata": {
        "id": "UNjyzC35fcaV",
        "colab_type": "code",
        "colab": {}
      },
      "source": [
        "def subtract_four(x):\n",
        "  return x - 4\n",
        "\n",
        "subtract_four(5)"
      ],
      "execution_count": null,
      "outputs": []
    },
    {
      "cell_type": "markdown",
      "metadata": {
        "id": "jj5dLMQdfjvX",
        "colab_type": "text"
      },
      "source": [
        "## Imports\n",
        "When you import a module in Python, it appears at the top of your file. To use a function in a library, use the library name followed by '.', then the function name. For example, if you included the random library to generate a random number it would look like this:"
      ]
    },
    {
      "cell_type": "code",
      "metadata": {
        "id": "6ZLS6LHDfkPD",
        "colab_type": "code",
        "colab": {}
      },
      "source": [
        "import random\n",
        "\n",
        "print(random.randrange(0,100))"
      ],
      "execution_count": null,
      "outputs": []
    }
  ]
}