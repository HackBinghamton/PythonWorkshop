{
 "cells": [
  {
   "cell_type": "markdown",
   "metadata": {
    "colab_type": "text",
    "id": "taZsVKmU0vRZ"
   },
   "source": [
    "## Imports\n",
    "In Python you can import different modules which are basically files with code that contain potentially helpful functions that are available for your use. To import a mpodule, at the top of your file write \"import module_name\"\n",
    "\n",
    "A specifically useful module to import is \"random.\" By importing random, you can easily make random selections of whatever you want. Instead of having to code a function that makes a random selection, this module has functions that you can use which will make your life much easier. "
   ]
  },
  {
   "cell_type": "markdown",
   "metadata": {
    "colab_type": "text",
    "id": "Rei42AbFB8ux"
   },
   "source": [
    "Click [here](https://docs.python.org/3/library/random.html) to see all of the functions that the random module offers. To use any of them, you must start with \"random.\" followed by the name of the function you want to use and (). If the function takes any parameters, they would go inside the (). \n",
    "\n",
    "Below is an example of using the random module to generate a random number"
   ]
  },
  {
   "cell_type": "code",
   "execution_count": 0,
   "metadata": {
    "colab": {},
    "colab_type": "code",
    "id": "fNkEjP7VC6VV"
   },
   "outputs": [],
   "source": [
    "import random\n",
    "\n",
    "#generate a random number between 10 and 90 \n",
    "randomNum=random.randrange(10, 91) \n",
    "print(randomNum)\n",
    "\n",
    "#generate a random number between 0 and 15\n",
    "randomNum2=random.randrange(16)\n",
    "print(randomNum2)"
   ]
  },
  {
   "cell_type": "markdown",
   "metadata": {
    "colab_type": "text",
    "id": "yojx3TRZEanO"
   },
   "source": [
    "Random can also be useful in randomly choosing an element from a list."
   ]
  },
  {
   "cell_type": "code",
   "execution_count": 0,
   "metadata": {
    "colab": {},
    "colab_type": "code",
    "id": "D8zJF9O1D9Tq"
   },
   "outputs": [],
   "source": [
    "import random\n",
    "fruits=[\"banana\", \"apple\", \"strawberry\", \"kiwi\", \"grapes\"]\n",
    "#randomly choose one of the elements in fruits\n",
    "print(random.choice(fruits))"
   ]
  },
  {
   "cell_type": "markdown",
   "metadata": {
    "colab_type": "text",
    "id": "7sMuOgCmE5w4"
   },
   "source": [
    "### Practice: Make a list of your favorite meals and randomly generate what you should eat for dinner tonight"
   ]
  },
  {
   "cell_type": "code",
   "execution_count": 0,
   "metadata": {
    "colab": {},
    "colab_type": "code",
    "id": "RGo2k5QRFhx0"
   },
   "outputs": [],
   "source": [
    "#Write code here"
   ]
  },
  {
   "cell_type": "markdown",
   "metadata": {
    "colab_type": "text",
    "id": "rF5gpxiBG_-d"
   },
   "source": [
    "There are countless modules Python has available for you to import. Examples include NumPy, Pygame, Keras, TensorFlow, etc. To look at another example of how to use a module, we will look at the module datetime."
   ]
  },
  {
   "cell_type": "code",
   "execution_count": 0,
   "metadata": {
    "colab": {},
    "colab_type": "code",
    "id": "8_rSC3OwIiLD"
   },
   "outputs": [],
   "source": [
    "import datetime\n",
    "\n",
    "#get the current date and time\n",
    "today=datetime.datetime.now()\n",
    "print(today)\n",
    "\n",
    "#the number of the weekday (Monday=0, Sunday=6)\n",
    "day = today.weekday()\n",
    "print(day)\n"
   ]
  },
  {
   "cell_type": "markdown",
   "metadata": {
    "colab_type": "text",
    "id": "3BVc1wkhK8IR"
   },
   "source": [
    "It's extremely useful to get to know how to use modules because they provide a lot of functionalities that can end up saving you a lot of time. Play around with random, datetime, or any other  module of your choice and get comfortable with using the different functionalities of it! "
   ]
  }
 ],
 "metadata": {
  "colab": {
   "name": "Imports.ipynb",
   "provenance": [],
   "version": "0.3.2"
  },
  "kernelspec": {
   "display_name": "Python 3",
   "language": "python",
   "name": "python3"
  },
  "language_info": {
   "codemirror_mode": {
    "name": "ipython",
    "version": 3
   },
   "file_extension": ".py",
   "mimetype": "text/x-python",
   "name": "python",
   "nbconvert_exporter": "python",
   "pygments_lexer": "ipython3",
   "version": "3.6.8"
  }
 },
 "nbformat": 4,
 "nbformat_minor": 1
}
