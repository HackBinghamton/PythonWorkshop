{
 "cells": [
  {
   "cell_type": "markdown",
   "metadata": {
    "colab_type": "text",
    "id": "ksOfDsP9bPqR"
   },
   "source": [
    "# Starter Guide to Python for Previous Java Knowledge\n",
    "\n",
    "**What you'll learn**\n",
    "\n",
    "In this section, you'll learn\n",
    "\n",
    " 1. Data types and variable\n",
    " 2. Printing and input\n",
    " 3. Control flow\n",
    " 4. Functions\n",
    " 5. Imports\n",
    "\n",
    "**Prerequisites**\n",
    "\n",
    "Knowledge of the five elements above in Java.\n",
    "\n",
    "**Introduction**\n",
    "\n",
    "If you have previous programming experience (in Java), this section will be a quick guide to the basics in Python.\n"
   ]
  },
  {
   "cell_type": "markdown",
   "metadata": {
    "colab_type": "text",
    "id": "P5OfkHv-bSBx"
   },
   "source": [
    "## Data Types and Variables\n",
    "Declaring variables is not necessary in Python. This is how to use the basic data types:"
   ]
  },
  {
   "cell_type": "code",
   "execution_count": 0,
   "metadata": {
    "colab": {},
    "colab_type": "code",
    "id": "NuWx6a-DbS4L"
   },
   "outputs": [],
   "source": [
    "x = 1 #integer\n",
    "y = 3.14 #float\n",
    "hi = \"Hello World!\" #string\n",
    "kateSmells = True #bool"
   ]
  },
  {
   "cell_type": "markdown",
   "metadata": {
    "colab_type": "text",
    "id": "y8Cu8MQVcqyh"
   },
   "source": [
    "Basic math operations in Python work the same as Java. Some important things to note are shown below:"
   ]
  },
  {
   "cell_type": "code",
   "execution_count": 0,
   "metadata": {
    "colab": {},
    "colab_type": "code",
    "id": "L5gdKioicryi"
   },
   "outputs": [],
   "source": [
    "print(10/3) #result is a float\n",
    "print(10//3) #result is an integer\n",
    "print(2**3) #2^3"
   ]
  },
  {
   "cell_type": "markdown",
   "metadata": {
    "colab_type": "text",
    "id": "yqrlvKGadAHQ"
   },
   "source": [
    "## Printing and Input\n",
    "One important difference in Python print statements is there is always a new line character at the end. "
   ]
  },
  {
   "cell_type": "code",
   "execution_count": 0,
   "metadata": {
    "colab": {},
    "colab_type": "code",
    "id": "DykHG5ZHdEGG"
   },
   "outputs": [],
   "source": [
    "print(\"Hello\")\n",
    "print(\"World\")"
   ]
  },
  {
   "cell_type": "markdown",
   "metadata": {
    "colab_type": "text",
    "id": "cpWc4n_wdKB_"
   },
   "source": [
    "You can print multiple things in one print statement by using '+'."
   ]
  },
  {
   "cell_type": "code",
   "execution_count": 0,
   "metadata": {
    "colab": {},
    "colab_type": "code",
    "id": "m_i3jBT-dL2d"
   },
   "outputs": [],
   "source": [
    "pizza = \"Yo\"\n",
    "print(pizza + \" HackBU is lit\")"
   ]
  },
  {
   "cell_type": "markdown",
   "metadata": {
    "colab_type": "text",
    "id": "mJp508wxdeIC"
   },
   "source": [
    "You can not concatenate a string and a number. You need to cast the number to a string in this case."
   ]
  },
  {
   "cell_type": "code",
   "execution_count": 0,
   "metadata": {
    "colab": {},
    "colab_type": "code",
    "id": "Dt2k4pCLdevT"
   },
   "outputs": [],
   "source": [
    "num = 3\n",
    "print(\"This is HackBU workshop number \" + str(num))"
   ]
  },
  {
   "cell_type": "markdown",
   "metadata": {
    "colab_type": "text",
    "id": "qfp28GLadr5n"
   },
   "source": [
    "Input is taken using input(). If there is a string passed to the input function, it is printed to the screen. "
   ]
  },
  {
   "cell_type": "code",
   "execution_count": 0,
   "metadata": {
    "colab": {},
    "colab_type": "code",
    "id": "S2xjC1ZpdslW"
   },
   "outputs": [],
   "source": [
    "fav_color = input(\"What is your favorite color?\")\n",
    "print(fav_color)"
   ]
  },
  {
   "cell_type": "markdown",
   "metadata": {
    "colab_type": "text",
    "id": "oNSIwO9qgpC_"
   },
   "source": [
    "The input function always returns a string so if you want to use the value as another data type, you must cast it."
   ]
  },
  {
   "cell_type": "code",
   "execution_count": 0,
   "metadata": {
    "colab": {},
    "colab_type": "code",
    "id": "8Dn_xw_5gxk4"
   },
   "outputs": [],
   "source": [
    "lucky_number = int(input(\"What is your lucky number?\"))\n",
    "print(lucky_number + 123)"
   ]
  },
  {
   "cell_type": "markdown",
   "metadata": {
    "colab_type": "text",
    "id": "tAPU_VD6d2qt"
   },
   "source": [
    "## Control Flow\n",
    "Below is a table of basic Python operators. \n",
    "\n",
    "|Operator|Python Implementation|\n",
    "|-----|-----|\n",
    "|equal to|==|\n",
    "|not equal to | !=|\n",
    "|less than | <|\n",
    "|less than or equal to| <=|\n",
    "|greater than| >|\n",
    "|greater than or equal to|>=|\n",
    "| not | not|\n",
    "| and | and|\n",
    "| or | or|\n",
    "\n"
   ]
  },
  {
   "cell_type": "markdown",
   "metadata": {
    "colab_type": "text",
    "id": "h3BeNlwHer56"
   },
   "source": [
    "Conditional statements in Python have the following syntax:"
   ]
  },
  {
   "cell_type": "code",
   "execution_count": 0,
   "metadata": {
    "colab": {},
    "colab_type": "code",
    "id": "xFX1sCqtd3gw"
   },
   "outputs": [],
   "source": [
    "x = int(input(\"Enter number\"))\n",
    "if(x > 0):\n",
    "  print(\"x is positive\")\n",
    "elif(x < 0): #similar to else if statements in Java\n",
    "  print(\"x is negative\")\n",
    "else:\n",
    "  print(\"x is 0\")"
   ]
  },
  {
   "cell_type": "markdown",
   "metadata": {
    "colab_type": "text",
    "id": "2H77mUKMfLSt"
   },
   "source": [
    "## Functions\n",
    "A function is defined in the following way:"
   ]
  },
  {
   "cell_type": "code",
   "execution_count": 0,
   "metadata": {
    "colab": {},
    "colab_type": "code",
    "id": "oFiO8SuYfL7Y"
   },
   "outputs": [],
   "source": [
    "def does_kate_smell():\n",
    "  print(\"Yes\")\n",
    "  \n",
    "#function call\n",
    "does_kate_smell()"
   ]
  },
  {
   "cell_type": "markdown",
   "metadata": {
    "colab_type": "text",
    "id": "a2OJfKXBfQ0A"
   },
   "source": [
    "If a function has parameters, only the variable name is required. We do not need to specify the type."
   ]
  },
  {
   "cell_type": "code",
   "execution_count": 0,
   "metadata": {
    "colab": {},
    "colab_type": "code",
    "id": "7PxYyOdxfRTp"
   },
   "outputs": [],
   "source": [
    "def add_four(x):\n",
    "  print(x + 4)\n",
    "  \n",
    "add_four(5)"
   ]
  },
  {
   "cell_type": "markdown",
   "metadata": {
    "colab_type": "text",
    "id": "HMGRDAmpfadm"
   },
   "source": [
    "Return statements consist of simply the word \"return\" and whatever you are returning."
   ]
  },
  {
   "cell_type": "code",
   "execution_count": 0,
   "metadata": {
    "colab": {},
    "colab_type": "code",
    "id": "UNjyzC35fcaV"
   },
   "outputs": [],
   "source": [
    "def subtract_four(x):\n",
    "  return x - 4\n",
    "\n",
    "subtract_four(5)"
   ]
  },
  {
   "cell_type": "markdown",
   "metadata": {
    "colab_type": "text",
    "id": "jj5dLMQdfjvX"
   },
   "source": [
    "## Imports\n",
    "Importing a module in Python is similar to Java. It appears at the top of your file. To use a function in a library, use the library name followed by '.', then the function name. For example, if you included the random library to generate a random number it would look like this:"
   ]
  },
  {
   "cell_type": "code",
   "execution_count": 0,
   "metadata": {
    "colab": {},
    "colab_type": "code",
    "id": "6ZLS6LHDfkPD"
   },
   "outputs": [],
   "source": [
    "import random\n",
    "\n",
    "print(random.randrange(0,100))"
   ]
  }
 ],
 "metadata": {
  "colab": {
   "name": "javaKnowledge.ipynb",
   "provenance": []
  },
  "kernelspec": {
   "display_name": "Python 3",
   "language": "python",
   "name": "python3"
  },
  "language_info": {
   "codemirror_mode": {
    "name": "ipython",
    "version": 3
   },
   "file_extension": ".py",
   "mimetype": "text/x-python",
   "name": "python",
   "nbconvert_exporter": "python",
   "pygments_lexer": "ipython3",
   "version": "3.8.5"
  }
 },
 "nbformat": 4,
 "nbformat_minor": 1
}
