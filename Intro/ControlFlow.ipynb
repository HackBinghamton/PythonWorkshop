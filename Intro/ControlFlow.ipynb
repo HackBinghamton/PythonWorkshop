{
 "cells": [
  {
   "cell_type": "markdown",
   "metadata": {},
   "source": [
    "# Control Flow"
   ]
  },
  {
   "cell_type": "markdown",
   "metadata": {},
   "source": [
    "## Overview\n",
    "\n",
    "### What You'll Learn\n",
    "In this section, you'll learn\n",
    "1. The main Boolean operations and how to use them in Python\n",
    "2. The main comparison operations and how to use them in Python\n",
    "3. How to use if, elif, and else to create control flow\n",
    "4. How to combine the above topics to create an algorithm in Python\n",
    "\n",
    "### Prerequisites\n",
    "Before starting this section, you should have an understanding of\n",
    "1. Data Types and Variables\n",
    "2. Printing\n",
    "\n",
    "### Introduction\n",
    "Boolean and comparison operations are fundamental concepts in computing. Boolean operations assess the truth value of two things. Comparison operations assess the relationship between two things (e.g. are they equal, less than, etc.) "
   ]
  },
  {
   "cell_type": "markdown",
   "metadata": {},
   "source": [
    "---"
   ]
  },
  {
   "cell_type": "markdown",
   "metadata": {},
   "source": [
    "## Boolean Operations"
   ]
  },
  {
   "cell_type": "markdown",
   "metadata": {},
   "source": [
    "### Not\n",
    "\n",
    "The `not` operator is used to find the logical opposite of a truth value. It's fairly straightforward - not true resolves to false, not false resolves to true. \n",
    "\n",
    "Here's a truth table demonstrating the `not` operation. A truth table displays the truth value of one or more operands, as well as the corresponding truth value for any operations it contains (the first cell of each column).\n",
    "\n",
    "| P | not P |\n",
    "|---|-------|\n",
    "| True | False     |\n",
    "| False | True     |"
   ]
  },
  {
   "cell_type": "markdown",
   "metadata": {},
   "source": [
    "### And\n",
    "The `and` operation is used to determine if two operands are both true. \n",
    "\n",
    "| P | Q | P and Q |\n",
    "|---|---|---------|\n",
    "| True | True | True       |\n",
    "| True | False | False       |\n",
    "| False | True | False       |\n",
    "| False | False | False       |\n",
    "\n",
    "Here, two operands `P` and `Q` undergo the `and` operation. `P and Q` is only true when `P` and `Q` are both true. If you introduce a third operand `R` to the equation (`P and Q and R`), all three operands would have to be true for this expression to resolve to true.\n",
    "\n",
    "When Python evaluates an expression with several `and` operators, it stops evaluating the expression as soon as one of the operands resolves to false.\n",
    "\n",
    "#### Example:\n",
    "\n",
    "P = True\n",
    "\n",
    "Q = False\n",
    "\n",
    "R = True\n",
    "\n",
    "\n",
    "```(P and Q) and (P and R)        \n",
    "             ^ Immediately stops evaluating here since P and Q is false```\n",
    "             \n",
    "```> False```\n",
    "\n",
    "\n",
    "#### Usage:\n",
    "        \n",
    "Intuitively, the `and` operator in Python is `and`. \n",
    "\n",
    "Here's an example - run it yourself and see what happens!"
   ]
  },
  {
   "cell_type": "code",
   "execution_count": null,
   "metadata": {},
   "outputs": [],
   "source": [
    "x = True\n",
    "y = False\n",
    "z = True\n",
    "\n",
    "print(x and y)\n",
    "print(x and z)\n",
    "print(x and y and z)"
   ]
  },
  {
   "cell_type": "markdown",
   "metadata": {},
   "source": [
    "### Or\n",
    "The `or` operation between two operands is used to determine if at least one of the operands resolves to true.\n",
    "\n",
    "| P | Q | P or Q |\n",
    "|---|---|--------|\n",
    "| True | True | True      |\n",
    "| True | False | True      |\n",
    "| False | True | True      |\n",
    "| False | False | False      |\n",
    "\n",
    "Here, two operands `P` and `Q` undergo the `or` operation. `P or Q` is true whenever `P`, `Q`, or both `P` and `Q` are true. `P or Q` only resolves to false if both `P` and `Q` are false. If you have hundreds of operands and `or` operations, only one operand needs to be true for the expression to be true.\n",
    "\n",
    "When Python evaluates an expression with several `or` operators, it stops evaluating the expression as soon as one of the sub-expressions resolves to true.\n",
    "\n",
    "#### Example:\n",
    "P = True\n",
    "\n",
    "Q = False\n",
    "\n",
    "R = True\n",
    "\n",
    "```(P and Q) or P or R     \n",
    "               ^ Immediately stops evaluating here since P is true```\n",
    "             \n",
    "```> True```\n",
    "\n",
    "#### Usage:\n",
    "Much like `and`, the `or` operator in Python is exactly what you'd expect it to be:"
   ]
  },
  {
   "cell_type": "code",
   "execution_count": null,
   "metadata": {},
   "outputs": [],
   "source": [
    "x = True\n",
    "y = False\n",
    "z = False\n",
    "\n",
    "print(x or y)\n",
    "print(y or z)\n",
    "print(x or y or z)"
   ]
  },
  {
   "cell_type": "markdown",
   "metadata": {},
   "source": [
    "---"
   ]
  },
  {
   "cell_type": "markdown",
   "metadata": {},
   "source": [
    "## Comparison Operations"
   ]
  },
  {
   "cell_type": "markdown",
   "metadata": {},
   "source": [
    "### == and !=\n",
    "The `==` and `!=` operators are used to compare two operands for equality and inequality, respectively. Think of `!=` as `not ==`.\n",
    "\n",
    "| P | Q | P == Q | P != Q |\n",
    "|---|---|--------|----|\n",
    "| 1 (int) | 1 (int) | True      | False|\n",
    "| 1 (int) | 1.0 (float) | True      | False|\n",
    "| 1 (int) | 1.000000000000000000000001 (float) | True | False |\n",
    "| \"ABC\" (str) | \"ABC\" (str) | True      | False|\n",
    "| \"ABC\" (str) | \"AC\" (str) | False      | True|\n",
    "| 1 (int) | 2 (int) | False      | True|\n",
    "| 1 (int) | \"1\" (str) | False      | True|\n",
    "\n",
    "Interestingly, 1 seems to be equivalent to 1.000000000000000000000001. **BE VERY AWARE OF THE TYPES OF THE OPERANDS YOU ARE COMPARING**. Floating point numbers are never 100% accurate (they're simply really good estimates), so Python recognizes the two values as equivalent to compensate for this. \n",
    "\n",
    "**TODO** Link to this section\n",
    "\n",
    "To learn more, check out the **== vs. is** section in the advanced portion of the workshop!\n",
    "\n",
    "#### Usage:"
   ]
  },
  {
   "cell_type": "code",
   "execution_count": null,
   "metadata": {},
   "outputs": [],
   "source": [
    "x = 7\n",
    "y = True\n",
    "z = True\n",
    "a = 7\n",
    "b = 8\n",
    "\n",
    "print(x == a, x != a)\n",
    "print(x == 7, x != 7)\n",
    "print(y == z, y != z)\n",
    "print(x == a == b, x != a != b)\n",
    "print(x == y, x != y)"
   ]
  },
  {
   "cell_type": "markdown",
   "metadata": {},
   "source": [
    "### <, >, <=, and >="
   ]
  },
  {
   "cell_type": "markdown",
   "metadata": {},
   "source": [
    "These operators behave exactly how they do in algebra. The `<` operator returns true if the first operand is less than the second operand, while the `<=` operator returns true if the first operand is less than *or equal to* the second. `>` (greater than) and `>=` behave exactly the same, except in the other direction.\n",
    "\n",
    "| P | Q | P < Q | P <= Q |\n",
    "|---|---|--------|----|\n",
    "| 1 (int) | 1 (int) | False      | True|\n",
    "| 1 (int) | 13 (int) | True      | True|\n",
    "| 12 (int) | 4 (int) | False      | False|\n",
    "\n",
    "\n",
    "#### Usage:"
   ]
  },
  {
   "cell_type": "code",
   "execution_count": null,
   "metadata": {},
   "outputs": [],
   "source": [
    "x = 33\n",
    "y = -2\n",
    "z = 9.2\n",
    "\n",
    "print(x < y)\n",
    "print(y < x)\n",
    "print(z >= 9)\n",
    "print(z > 9)"
   ]
  },
  {
   "cell_type": "markdown",
   "metadata": {},
   "source": [
    "---"
   ]
  },
  {
   "cell_type": "markdown",
   "metadata": {},
   "source": [
    "## Conditionals"
   ]
  },
  {
   "cell_type": "markdown",
   "metadata": {},
   "source": [
    "### If Statements\n",
    "If statements are used to limit the execution of a block of code to specific cases. In other words, we can use if statements to make sure a portion of our code only runs when a certain condition is met. \n",
    "\n",
    "To limit a piece of code to only run in certain cases, write an if statement and its condition and indent the piece of code one level. \n",
    "\n",
    "Take this code, for instance:\n",
    "\n",
    "```python\n",
    "y = 11\n",
    "\n",
    "if y < 22:\n",
    "    print(\"y is less than 22\")\n",
    "```\n",
    "\n",
    "This code will print \"y is less than 22\" because 11 < 22. If y were 45, this code will not print anything, since 45 > 22.\n",
    "\n",
    "Try it out!"
   ]
  },
  {
   "cell_type": "code",
   "execution_count": null,
   "metadata": {},
   "outputs": [],
   "source": [
    "# Try it yourself - tinker with the value stored in x to make it print different things!\n",
    "x = 1\n",
    "\n",
    "if x == 1:\n",
    "    print(\"Hello world!\")\n",
    "    \n",
    "if x == 2:\n",
    "    print(\"foo\")\n",
    "    \n",
    "if x > 2:\n",
    "    print(\"bar\")"
   ]
  },
  {
   "cell_type": "markdown",
   "metadata": {},
   "source": [
    "### Else Statements\n",
    "We can add an else statement to an existing if statement to create an if/else block. Code within an else block only runs if its corresponding if block is not executed.\n",
    "\n",
    "If we add an else block to the code from the previous section:\n",
    "```python\n",
    "y = 11\n",
    "\n",
    "if y < 22:\n",
    "    print(\"y is less than 22\")\n",
    "    \n",
    "else:\n",
    "    print(\"y is greater than or equal to 22\")\n",
    "```\n",
    "\"y is less than 22\" will still print out because 11 < 22. However, if we change `y` to equal 45, this code will now print \"y is greater than or equal to 22\".\n",
    "\n",
    "Try it out!"
   ]
  },
  {
   "cell_type": "code",
   "execution_count": null,
   "metadata": {},
   "outputs": [],
   "source": [
    "# Try it yourself - tinker with the value stored in x to make this code print different things!\n",
    "x = 1\n",
    "\n",
    "if x < 3:\n",
    "    print(x)\n",
    "    \n",
    "else:\n",
    "    print(x ** 2)"
   ]
  },
  {
   "cell_type": "markdown",
   "metadata": {},
   "source": [
    "### Elif Statements\n",
    "Lastly, we have the elif statement, which is short for else if. As the name implies, the elif statement is an else statement that is only invoked if a certain condition is met. We can use elif statements to create if/elif/else blocks such as the one below:\n",
    "\n",
    "If you have an if/elif/else block, only one of the conditions will be met. \n",
    "\n",
    "If the `if` condition is met, the `elif` case and the `else` case will **NOT** be executed.\n",
    "\n",
    "If the `if` condition is not met and one of the `elif` conditions is met, any remaining `elif` cases and the `else` case will **NOT** be executed.\n",
    "\n",
    "If the `if` condition is not met and none of the `elif` conditions are met, the `else` case will be executed.\n",
    "\n",
    "Try it:\n"
   ]
  },
  {
   "cell_type": "code",
   "execution_count": null,
   "metadata": {},
   "outputs": [],
   "source": [
    "temperature = 100\n",
    "\n",
    "# If the temperature is less than 20, print \"It's brick\"\n",
    "if temperature < 20:\n",
    "    print(\"It's brick\")\n",
    "\n",
    "# Otherwise, if 20 <= temperature < 60, print \"It's pretty cold\"\n",
    "elif temperature >= 20 and temperature < 60:\n",
    "    print(\"It's pretty cold\")\n",
    "\n",
    "# Otherwise, if 60 <= temperature < 72, print \"Ideal\"\n",
    "elif temperature >= 60 and temperature < 72:\n",
    "    print(\"Ideal\")\n",
    "\n",
    "# Otherwise, if 72 <= temperature < 90, print \"It's pretty hot\"\n",
    "elif temperature >= 72 and temperature < 90:\n",
    "    print(\"It's pretty hot\")\n",
    "\n",
    "# If none of the above conditions were met, it's more than 90 degrees out, which is too damn hot\n",
    "else:\n",
    "    print(\"Fuck that\")"
   ]
  },
  {
   "cell_type": "markdown",
   "metadata": {},
   "source": [
    "---"
   ]
  },
  {
   "cell_type": "markdown",
   "metadata": {},
   "source": [
    "## Exercises"
   ]
  },
  {
   "cell_type": "markdown",
   "metadata": {},
   "source": [
    "### Problem 1\n",
    "Write a function that determines if a number is divisible by 3 or divisible by 7. "
   ]
  },
  {
   "cell_type": "code",
   "execution_count": null,
   "metadata": {},
   "outputs": [],
   "source": [
    "def divisible_by_three_or_seven(number):\n",
    "    # You can accomplish with a one line expression using booleans and conditionals.\n",
    "    # Replace \"REPLACE ME WITH YOUR ANSWER\" with your expression!\n",
    "    \n",
    "    return \"REPLACE ME WITH YOUR ANSWER\"\n",
    "\n",
    "\n",
    "\n",
    "\n",
    "\n",
    "# These are test cases. If your code is correct, you'll see \"You passed all the test cases!\". If something's wrong,\n",
    "# you'll get an explanation for the test case you failed.\n",
    "assert divisible_by_three_or_seven(21) == True, \"Wrong answer - 21 is divisible by 3 and 7\"\n",
    "assert divisible_by_three_or_seven(16) == False, \"Wrong answer - 16 is not divisible by 3 or 7\"\n",
    "assert divisible_by_three_or_seven(3) == True, \"Wrong answer - 3 is divisible by 3\"\n",
    "assert divisible_by_three_or_seven(7) == True, \"Wrong answer - 7 is divisible by 7\"\n",
    "print(\"You passed all the test cases!\")"
   ]
  },
  {
   "cell_type": "markdown",
   "metadata": {},
   "source": [
    "### Problem 2\n",
    "Complete the code. `is_even()` should return True only when `number` is even. `is_odd()` should return True only when `number` is odd."
   ]
  },
  {
   "cell_type": "code",
   "execution_count": 11,
   "metadata": {},
   "outputs": [],
   "source": [
    "def is_even(number):\n",
    "    # You can accomplish with a one line expression using booleans and conditionals.\n",
    "    # Replace \"REPLACE ME WITH YOUR ANSWER\" with your expression!\n",
    "    \n",
    "    return number % 2 == 0\n",
    "\n",
    "\n",
    "def is_odd(number):\n",
    "    # You can accomplish with a one line expression using booleans and conditionals.\n",
    "    # Replace \"REPLACE ME WITH YOUR ANSWER\" with your expression!\n",
    "    \n",
    "    return number % 2 == 1\n",
    "\n",
    "\n",
    "\n",
    "\n",
    "\n",
    "# These are test cases. If your code is correct, you'll see \"You passed all the test cases!\". If something's wrong,\n",
    "# you'll get an explanation for the test case you failed.\n",
    "assert is_even(2) == True, \"Wrong answer - 2 is even\"\n",
    "assert is_even(7) == False, \"Wrong answer - 7 is odd\"\n",
    "assert is_even(0) == True, \"Wrong answer - 0 is even\"\n",
    "assert is_odd(2) == False, \"Wrong answer - 2 is even\"\n",
    "assert is_odd(7) == True, \"Wrong answer - 7 is odd\"\n",
    "assert is_odd(0) == False, \"Wrong answer - 0 is even\"\n",
    "print(\"You passed all the test cases!\")"
   ]
  },
  {
   "cell_type": "markdown",
   "metadata": {},
   "source": [
    "### Problem 3\n",
    "Complete the code. Your code should satisfy the following conditions:\n",
    "1. If the age is 0-12, your code should return \"Child\".\n",
    "2. If the age is 13-19, your code should return \"Teenager\".\n",
    "3. If the age is 20 or more, your code should return \"Adult\".\n",
    "4. Otherwise, the user has passed invalid input and your code should return \"Bad Input\"."
   ]
  },
  {
   "cell_type": "code",
   "execution_count": null,
   "metadata": {},
   "outputs": [],
   "source": [
    "def classify_age(age):\n",
    "    return \"IMPLEMENT THIS FUNCTION\"\n",
    "\n",
    "\n",
    "\n",
    "\n",
    "\n",
    "\n",
    "# These are test cases. If your code is correct, you'll see \"You passed all the test cases!\". If something's wrong,\n",
    "# you'll get an explanation for the test case you failed.\n",
    "assert classify_age(0) == \"Child\", \"Wrong answer - 0 years old -> Child\"\n",
    "assert classify_age(7) == \"Child\", \"Wrong answer - 7 years old -> Child\"\n",
    "assert classify_age(13) == \"Teenager\", \"Wrong answer - 13 years old -> Teenager\"\n",
    "assert classify_age(22) == \"Adult\", \"Wrong answer - 22 years old -> Adult\"\n",
    "assert classify_age(-12) == \"Bad Input\", \"Wrong answer - People can't be negative years old\"\n",
    "\n",
    "print(\"You passed all the test cases!\")"
   ]
  },
  {
   "cell_type": "markdown",
   "metadata": {},
   "source": [
    "---\n",
    "## Next section (recommended): Functions"
   ]
  }
 ],
 "metadata": {
  "kernelspec": {
   "display_name": "Python 3",
   "language": "python",
   "name": "python3"
  },
  "language_info": {
   "codemirror_mode": {
    "name": "ipython",
    "version": 3
   },
   "file_extension": ".py",
   "mimetype": "text/x-python",
   "name": "python",
   "nbconvert_exporter": "python",
   "pygments_lexer": "ipython3",
   "version": "3.6.8"
  }
 },
 "nbformat": 4,
 "nbformat_minor": 2
}
