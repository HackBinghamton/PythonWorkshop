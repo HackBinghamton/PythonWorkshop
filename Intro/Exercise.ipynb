{
  "nbformat": 4,
  "nbformat_minor": 0,
  "metadata": {
    "colab": {
      "name": "Exercise.ipynb",
      "version": "0.3.2",
      "provenance": [],
      "collapsed_sections": []
    },
    "kernelspec": {
      "name": "python3",
      "display_name": "Python 3"
    }
  },
  "cells": [
    {
      "cell_type": "markdown",
      "metadata": {
        "id": "kUSjFuEoe9FP",
        "colab_type": "text"
      },
      "source": [
        "## Exercise\n",
        "We will use what we learned in the intro section of this workshop to write a function that tells the user whether or not it is a leap year. \n",
        "\n",
        "**Game plan**\n",
        "\n",
        "We will divide this into three parts.\n",
        " 1. Ask the user what year it is. Save the answer in a variable as an int.\n",
        " 2. Use an if statement to determine if it is a leap year.\n",
        " 3. Print the answer.\n",
        "\n",
        "Note: if you scroll too far there will be spoilers.\n",
        "\n",
        "If you think you can do this on your own, try here! If not, keep reading!"
      ]
    },
    {
      "cell_type": "code",
      "metadata": {
        "id": "AqjSwYyvfGsR",
        "colab_type": "code",
        "colab": {}
      },
      "source": [
        "def leapYear():\n",
        "\n",
        "leapYear()"
      ],
      "execution_count": 0,
      "outputs": []
    },
    {
      "cell_type": "markdown",
      "metadata": {
        "id": "ZbKuOgKAfPdD",
        "colab_type": "text"
      },
      "source": [
        "**Part 1: Ask the user what year it is. Save the answer in a variable as an int.**\n",
        "\n",
        "The function leapYear() is defined for you below. To start, we need to know what year it is. We need to take input from the user. This can be saved in a variable. Remember that input is returned as a string. This means we need to convert the variable to an int so we can do math operations on it.\n",
        "\n",
        "Write the code to take input and save it as an int below."
      ]
    },
    {
      "cell_type": "code",
      "metadata": {
        "id": "IrJnmidofUl_",
        "colab_type": "code",
        "colab": {}
      },
      "source": [
        "def leapYear():\n",
        "  #take input and save it in a variable\n",
        "  #convert to int\n",
        "leapYear()"
      ],
      "execution_count": 0,
      "outputs": []
    },
    {
      "cell_type": "markdown",
      "metadata": {
        "id": "bLbZA9ZafX70",
        "colab_type": "text"
      },
      "source": [
        "**Part 2: Use an if statement to determine if it is a leap year.**\n",
        "\n",
        "Now that we know what year it is, we can decide if it is a leap year. Hint: leap years are divisible by 4. We can use the modulo operator for this. \n",
        "\n",
        "Write an if statement to determine if it is a leap year. You will also need an else statement for when it is not a leap year."
      ]
    },
    {
      "cell_type": "code",
      "metadata": {
        "id": "r_lqIYstfh9c",
        "colab_type": "code",
        "colab": {}
      },
      "source": [
        "def leapYear():\n",
        "    year = input(\"What year is it? \")\n",
        "    year = int(year)\n",
        "    #write if statement\n",
        "    #write else statement\n",
        "leapYear()"
      ],
      "execution_count": 0,
      "outputs": []
    },
    {
      "cell_type": "markdown",
      "metadata": {
        "id": "HHqsf4jafoQn",
        "colab_type": "text"
      },
      "source": [
        "**Part 3: Print the answer.**\n",
        "\n",
        "Next we need to write the code belonging in the if statement. We want to print to the console to tell the user if it is a leap year.\n",
        "\n",
        "Write print statements to tell the user if it is a leap year or not."
      ]
    },
    {
      "cell_type": "code",
      "metadata": {
        "id": "70C7mm4wfsBe",
        "colab_type": "code",
        "colab": {}
      },
      "source": [
        "def leapYear():\n",
        "    year = input(\"What year is it? \")\n",
        "    year = int(year)\n",
        "    if(year % 4 == 0):\n",
        "      #use print statement to say it is a leap year\n",
        "    else:\n",
        "      #use print statement to say it is not a leap year\n",
        "      \n",
        "leapYear()"
      ],
      "execution_count": 0,
      "outputs": []
    },
    {
      "cell_type": "markdown",
      "metadata": {
        "id": "4kSj7CsngQ00",
        "colab_type": "text"
      },
      "source": [
        "**Solution**\n",
        "\n",
        "Below is a solution to this exercise."
      ]
    },
    {
      "cell_type": "code",
      "metadata": {
        "id": "qOAQ4izHgTZl",
        "colab_type": "code",
        "colab": {}
      },
      "source": [
        "def leapYear():\n",
        "    year = input(\"What year is it? \")\n",
        "    year = int(year)\n",
        "    if(year % 4 == 0):\n",
        "        print(\"It's a leap year!\")\n",
        "    else:\n",
        "        print(\"It's not a leap year\")\n",
        "\n",
        "leapYear()\n"
      ],
      "execution_count": 0,
      "outputs": []
    }
  ]
}