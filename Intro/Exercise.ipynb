{
  "nbformat": 4,
  "nbformat_minor": 0,
  "metadata": {
    "colab": {
      "name": "Copy of Exercise.ipynb",
      "provenance": [],
      "collapsed_sections": []
    },
    "kernelspec": {
      "display_name": "Python 3",
      "language": "python",
      "name": "python3"
    },
    "language_info": {
      "codemirror_mode": {
        "name": "ipython",
        "version": 3
      },
      "file_extension": ".py",
      "mimetype": "text/x-python",
      "name": "python",
      "nbconvert_exporter": "python",
      "pygments_lexer": "ipython3",
      "version": "3.5.3"
    }
  },
  "cells": [
    {
      "cell_type": "markdown",
      "metadata": {
        "colab_type": "text",
        "id": "kUSjFuEoe9FP"
      },
      "source": [
        "## Exercise\n",
        "\n",
        "**Prerequisites**\n",
        "\n",
        "1. Data types and variable\n",
        "2. Printing and input\n",
        "3. Control flow\n",
        "4. Functions\n",
        "\n",
        "**Problem**\n",
        "\n",
        "We will use what we learned in the intro section of this workshop to write a function that tells the user whether or not it is a leap year. \n",
        "\n",
        "**Game plan**\n",
        "\n",
        "We will divide this into three parts.\n",
        " 1. Get the current year\n",
        " 2. Use an if statement to determine if it is a leap year.\n",
        " 3. Print the answer.\n",
        "\n",
        "Note: if you scroll too far there will be spoilers.\n",
        "\n",
        "If you think you can do this on your own, try here! If not, keep reading!"
      ]
    },
    {
      "cell_type": "code",
      "metadata": {
        "colab_type": "code",
        "id": "AqjSwYyvfGsR",
        "colab": {
          "base_uri": "https://localhost:8080/",
          "height": 129
        },
        "outputId": "78355974-f667-4ce8-a6c2-419a64317cbb"
      },
      "source": [
        "def leap_year():\n",
        "    # Your code here, if you'd like!\n",
        "\n",
        "leap_year()"
      ],
      "execution_count": 6,
      "outputs": [
        {
          "output_type": "error",
          "ename": "IndentationError",
          "evalue": "ignored",
          "traceback": [
            "\u001b[0;36m  File \u001b[0;32m\"<ipython-input-6-1f7d7c7eddf2>\"\u001b[0;36m, line \u001b[0;32m4\u001b[0m\n\u001b[0;31m    leap_year()\u001b[0m\n\u001b[0m            ^\u001b[0m\n\u001b[0;31mIndentationError\u001b[0m\u001b[0;31m:\u001b[0m expected an indented block\n"
          ]
        }
      ]
    },
    {
      "cell_type": "markdown",
      "metadata": {
        "colab_type": "text",
        "id": "ZbKuOgKAfPdD"
      },
      "source": [
        "**Part 1: Ask the user what year it is. Save the answer in a variable as an int.**\n",
        "\n",
        "The function leap_year() is defined for you below. To start, we need to know what year it is. We need to utilize the datetime module. You will need to import date from the datetime module before you write your function. This can then be saved in a variable. Remember that input is returned as a string. This means we need to convert the variable to an int so we can do math operations on it.\n",
        "\n",
        "Write the code to take input and save it as an int below."
      ]
    },
    {
      "cell_type": "code",
      "metadata": {
        "colab_type": "code",
        "id": "IrJnmidofUl_",
        "colab": {}
      },
      "source": [
        "def leap_year():\n",
        "  # Take input and save it in a variable\n",
        "  # Convert to int\n",
        "leap_year()"
      ],
      "execution_count": null,
      "outputs": []
    },
    {
      "cell_type": "markdown",
      "metadata": {
        "colab_type": "text",
        "id": "bLbZA9ZafX70"
      },
      "source": [
        "**Part 2: Use an if statement to determine if it is a leap year.**\n",
        "\n",
        "Now that we know what year it is, we can decide if it is a leap year. Hint: leap years are divisible by 4. We can use the modulo operator for this. \n",
        "\n",
        "Write an if statement to determine if it is a leap year. You will also need an else statement for when it is not a leap year."
      ]
    },
    {
      "cell_type": "code",
      "metadata": {
        "colab_type": "code",
        "id": "r_lqIYstfh9c",
        "colab": {}
      },
      "source": [
        "from datetime import date\n",
        "def leap_year():\n",
        "    year = date.today().year\n",
        "    year = int(year)\n",
        "    # Write if statement\n",
        "    # Write else statement\n",
        "leap_year()"
      ],
      "execution_count": 8,
      "outputs": []
    },
    {
      "cell_type": "markdown",
      "metadata": {
        "colab_type": "text",
        "id": "HHqsf4jafoQn"
      },
      "source": [
        "**Part 3: Print the answer.**\n",
        "\n",
        "Next we need to write the code belonging in the if statement. We want to print to the console to tell the user if it is a leap year.\n",
        "\n",
        "Write print statements to tell the user if it is a leap year or not."
      ]
    },
    {
      "cell_type": "code",
      "metadata": {
        "colab_type": "code",
        "id": "70C7mm4wfsBe",
        "colab": {
          "base_uri": "https://localhost:8080/",
          "height": 129
        },
        "outputId": "2ac11c0d-c3cc-4ceb-ef28-cda2fbf96e42"
      },
      "source": [
        "from datetime import date\n",
        "def leap_year():\n",
        "    year = date.today().year\n",
        "    year = int(year)\n",
        "    if(year % 4 == 0):\n",
        "        # Use print statement to say it is a leap year\n",
        "    else:\n",
        "        # Use print statement to say it is not a leap year\n",
        "      \n",
        "leap_year()"
      ],
      "execution_count": 9,
      "outputs": [
        {
          "output_type": "error",
          "ename": "IndentationError",
          "evalue": "ignored",
          "traceback": [
            "\u001b[0;36m  File \u001b[0;32m\"<ipython-input-9-ae06e89ac826>\"\u001b[0;36m, line \u001b[0;32m6\u001b[0m\n\u001b[0;31m    else:\u001b[0m\n\u001b[0m       ^\u001b[0m\n\u001b[0;31mIndentationError\u001b[0m\u001b[0;31m:\u001b[0m expected an indented block\n"
          ]
        }
      ]
    },
    {
      "cell_type": "markdown",
      "metadata": {
        "colab_type": "text",
        "id": "4kSj7CsngQ00"
      },
      "source": [
        "**Solution**\n",
        "\n",
        "Check out the solution [here](https://colab.research.google.com/github/HackBinghamton/PythonWorkshop/blob/master/Intro/IntroSolution.ipynb)!"
      ]
    }
  ]
}
