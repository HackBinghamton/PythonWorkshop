{
  "nbformat": 4,
  "nbformat_minor": 0,
  "metadata": {
    "colab": {
      "name": "DataTypesAndVariables.ipynb",
      "provenance": []
    },
    "kernelspec": {
      "display_name": "Python 3",
      "language": "python",
      "name": "python3"
    },
    "language_info": {
      "codemirror_mode": {
        "name": "ipython",
        "version": 3
      },
      "file_extension": ".py",
      "mimetype": "text/x-python",
      "name": "python",
      "nbconvert_exporter": "python",
      "pygments_lexer": "ipython3",
      "version": "3.7.3"
    }
  },
  "cells": [
    {
      "cell_type": "markdown",
      "metadata": {
        "colab_type": "text",
        "id": "WL4joUprvpuA"
      },
      "source": [
        "# Data Types"
      ]
    },
    {
      "cell_type": "markdown",
      "metadata": {
        "id": "rYUx1hEk_xuj",
        "colab_type": "text"
      },
      "source": [
        "## Overview\n",
        "\n",
        "### What You'll Learn\n",
        "In this section, you'll learn\n",
        "1. The main Boolean operations and how to use them in Python\n",
        "2. The main comparison operations and how to use them in Python\n",
        "3. How to use if, elif, and else to create control flow\n",
        "4. How to combine the above topics to create an algorithm in Python\n",
        "\n",
        "### Prerequisites\n",
        "Before starting this section, you should have an understanding of\n",
        "1. Data Types and Variables\n",
        "2. Printing\n",
        "\n",
        "### Introduction\n",
        "Boolean and comparison operations are fundamental concepts in computing. Boolean operations assess the truth value of two things. Comparison operations assess the relationship between two things (e.g. are they equal, less than, etc.). Boolean variables can either be set to true or false."
      ]
    },
    {
      "cell_type": "markdown",
      "metadata": {
        "colab_type": "text",
        "id": "r8svJ5gQvpuD"
      },
      "source": [
        "A lot of programming has to do with changing data. In Python (and programming in general), every operation that you do will involve data types in some way. So it's going to be very useful to have at least a basic understanding of data types."
      ]
    },
    {
      "cell_type": "markdown",
      "metadata": {
        "colab_type": "text",
        "id": "KKas-rkJvpuF"
      },
      "source": [
        "# But What Is a Data Type?"
      ]
    },
    {
      "cell_type": "markdown",
      "metadata": {
        "colab_type": "text",
        "id": "VKJrXj9DvpuG"
      },
      "source": [
        "Put simply, a data type is just a piece of information. It's nothing different from what you would write on a piece of paper or put into a text message. There are different types of data, and most of them are of types that you're already familiar with. Let's go through them!"
      ]
    },
    {
      "cell_type": "markdown",
      "metadata": {
        "colab_type": "text",
        "id": "daDFEpFfvpuI"
      },
      "source": [
        "#### Data Types\n",
        "\n",
        "*Integers* - Just like integers in math class, these are whole numbers (no decimal points), like `1`, or `-4`, or `126`\n",
        "\n",
        "*Floating Point Numbers* - These are numbers that have decimal points, like `3.0`, `-6.6`, or `6738.01`\n",
        "\n",
        "*Characters* - This is one single symbol. Basically it's any key that you can type on a keyboard. Like `'a'` or `'1'`\n",
        "\n",
        "*Strings* - This is a collection of characters all put together. For example, `'cat'` is a collection `'c'`, `'a'`, and `'t'` put together into one piece of data. **Note:** You can feel free to use either the single quote `'` or double quote `\"` in Python -- there's no real difference!\n",
        "\n",
        "There are plenty of other data types, these are just a few. In the Object Oriented Programing section of this workshop, you'll learn about making your own special data types as well!"
      ]
    },
    {
      "cell_type": "markdown",
      "metadata": {
        "colab_type": "text",
        "id": "J-hSgLQLvpuM"
      },
      "source": [
        "# How Do I Access/Use These Data Types?"
      ]
    },
    {
      "cell_type": "markdown",
      "metadata": {
        "colab_type": "text",
        "id": "epk_6cEZvpuN"
      },
      "source": [
        "One key to unlocking the power of programming is taking data types and storing them in *variables*."
      ]
    },
    {
      "cell_type": "markdown",
      "metadata": {
        "colab_type": "text",
        "id": "OxdKMMPDvpuO"
      },
      "source": [
        "# Variables\n",
        "A variable is just a name that you give to a piece of data so that you can access it and make changes to it. Think of it as a bucket, you give the bucket a name and place your data inside of it. When you want to access your data, you look into the bucket with that name to see it. \n",
        "\n",
        "If we were to always call our data by its *literal* name, we risk confusion when we change that data. Imagine having an integer with a value of `7`. We could simply call it `7`, but if we change that number to `8`, things can get very confusing very fast.\n",
        "\n",
        "Instead we use variables! This way, even when the data changes, we access it by the same name. That's why these buckets are called \"variables\"! The data in them is subject to change (or *vary*), but we can always access it from the name we gave it. Be sure to choose a name that won't cause any confusion, a bad variable name can make your program very hard to understand.\n",
        "\n",
        "We place our data in variables with the `=` sign! Look below to see how it's done:\n",
        "\n",
        "`myVar = 6`\n",
        "\n",
        "In the code above we created a variable named `myVar` and put the integer `6` in it!\n",
        "\n",
        "Now that we can store our data, let's get into the fun stuff: operations!"
      ]
    },
    {
      "cell_type": "markdown",
      "metadata": {
        "colab_type": "text",
        "id": "mGA6RzlTvpuP"
      },
      "source": [
        "# What Can I Do With These Data Types?"
      ]
    },
    {
      "cell_type": "markdown",
      "metadata": {
        "colab_type": "text",
        "id": "3nC5zu_OvpuQ"
      },
      "source": [
        "As mentioned before, everything you'll do in your code is going to involve data types in one way or another. Let's dive into some examples of what we can and can't do.\n",
        "\n",
        "#### Numbers (Integers and Floats)\n",
        "We can do mathematical operations on numbers:"
      ]
    },
    {
      "cell_type": "code",
      "metadata": {
        "colab_type": "code",
        "id": "ZQloGrL3vpuR",
        "colab": {}
      },
      "source": [
        "nuggets = 7\n",
        "tenders = 4\n",
        "pieces_of_Food = nuggets + tenders"
      ],
      "execution_count": null,
      "outputs": []
    },
    {
      "cell_type": "markdown",
      "metadata": {
        "colab_type": "text",
        "id": "ep-qHWDJvpuV"
      },
      "source": [
        "In the code above, we created two variables that hold the amounts of `nuggets` and `tenders` that we currently have. `piecesOfFood` is the sum of those two integers. The simple code below will run to show how many pieces of food we have in total."
      ]
    },
    {
      "cell_type": "code",
      "metadata": {
        "colab_type": "code",
        "id": "x-8zSjzVvpuX",
        "colab": {}
      },
      "source": [
        "pieces_of_food"
      ],
      "execution_count": null,
      "outputs": []
    },
    {
      "cell_type": "markdown",
      "metadata": {
        "colab_type": "text",
        "id": "jIf5VZdFvpuc"
      },
      "source": [
        "But what if we started eating some of our nuggets and tenders and only had portions of each one left? We could use floating point numbers (or \"floats\" for short) to show our total number of food pieces to a greater degree of accuracy. Let's try that out."
      ]
    },
    {
      "cell_type": "code",
      "metadata": {
        "colab_type": "code",
        "id": "BwOT6_yuvpue",
        "colab": {}
      },
      "source": [
        "nuggets = 7.7\n",
        "tenders = 4.1\n",
        "pieces_of_food = nuggets + tenders"
      ],
      "execution_count": null,
      "outputs": []
    },
    {
      "cell_type": "markdown",
      "metadata": {
        "colab_type": "text",
        "id": "yiIshBKtvpug"
      },
      "source": [
        "In the above code, we've used floats to make our numbers more accurate. The code below will run to show the new total of food pieces we have"
      ]
    },
    {
      "cell_type": "code",
      "metadata": {
        "colab_type": "code",
        "id": "fVJF6dOvvpuh",
        "colab": {}
      },
      "source": [
        "pieces_of_food"
      ],
      "execution_count": null,
      "outputs": []
    },
    {
      "cell_type": "markdown",
      "metadata": {
        "colab_type": "text",
        "id": "kU37icrdvpuj"
      },
      "source": [
        "Those sure are a lot of nuggets and tenders!"
      ]
    },
    {
      "cell_type": "markdown",
      "metadata": {
        "colab_type": "text",
        "id": "3vZeaQnNvpuj"
      },
      "source": [
        "We can also do other math operations on numbers as well! \n",
        "\n",
        "We can subtract:\n",
        "\n",
        "`donuts = 12 - 2`\n",
        "\n",
        "We can multiply:\n",
        "\n",
        "`fish_sticks = 10 * 2`\n",
        "\n",
        "We can divide (with remainders):\n",
        "\n",
        "`hot_pockets = 60 / 6`\n",
        "\n",
        "We can divide (without remainders):\n",
        "\n",
        "`ham_sandwiches = 25 // 10`\n",
        "\n",
        "_**Note About Division:**_ \n",
        "When you divide numbers in Python with `/`, the result will always be a float (since division sometimes results in floating point or decimal numbers).\n",
        "If you want to ensure that you'll get an integer when you divide you can use Python's *integer division* feature. To use it, replace the `/` with `//` and the result will always be an integer. But beware, **Python will not round up**, it will simply remove the decimal point and use the whole number that remains.\n",
        "\n",
        "We can even use exponents!:\n",
        "\n",
        "`frozen_pizzas = 2 ** 2`\n",
        "\n",
        "We can find remainders with modulo:\n",
        "\n",
        "`beef_patties = 12 % 5`\n",
        "\n",
        "_**Note About Modulo:**_ Modulo seems like a scary operator, but it's not. It can actually be pretty useful. All it does is compute the remainder that's left over when you divide two numbers. When the two numbers you divide are multiples of each other (say `3` and `6`, for example), the remainder is `0`. This means that modulo is super useful for finding out if numbers are multiples of each other. The most common example is checking to see if a number is even. To be even our number must be divisible by `2`, in other words the number has to be a multiple of `2`. So to find out if a number is even, all we have to do is check if our number modulo `2` equals `0`. For instance, `4 % 2` will equal `0`, therefore `4` is an even number! Meanwhile `7 % 2` will equal `1`, which is not `0`, and therefore `7` is not even!"
      ]
    },
    {
      "cell_type": "markdown",
      "metadata": {
        "colab_type": "text",
        "id": "YaPEOfA8vpuk"
      },
      "source": [
        "#### Strings\n",
        "\n",
        "Let's now take a look at the types of operations we can do on strings!\n",
        "\n",
        "We can actually \"add\" strings together, but this isn't really math, it's just a shortcut for *concatenation*. Concatenation is just a fancy computer science word for something very simple (computer scientists love fancy words for simple concepts, it makes us feel smart). When you take one string and stick it to the end of another, you're concatenating!\n",
        "\n",
        "For example, let's say we have one string that says `\"Hack\"` and another one that says `\" and be you!\"`, we can take the second one and add it to the end of the first one. This will make the string `\"Hack and be you!\"`. Congratulations, you've just concatenated! Let's do this example in code"
      ]
    },
    {
      "cell_type": "code",
      "metadata": {
        "colab_type": "code",
        "id": "nLcHwDjWvpuk",
        "colab": {}
      },
      "source": [
        "string1 = \"Hack\"\n",
        "string2 = \" and be you!\"\n",
        "best_motto_ever = string1 + string2"
      ],
      "execution_count": null,
      "outputs": []
    },
    {
      "cell_type": "markdown",
      "metadata": {
        "colab_type": "text",
        "id": "0qfpFEJJvpum"
      },
      "source": [
        "The code above will produce a concatenation of `string1` and `string2`! The code below will run to show exactly what that concatenation is."
      ]
    },
    {
      "cell_type": "code",
      "metadata": {
        "colab_type": "code",
        "id": "pIm_wZc-vpum",
        "colab": {}
      },
      "source": [
        "best_motto_ever"
      ],
      "execution_count": null,
      "outputs": []
    },
    {
      "cell_type": "markdown",
      "metadata": {
        "colab_type": "text",
        "id": "411xe-_Gvpup"
      },
      "source": [
        "Concatenation is just one operation that we can do on strings there are so many more. In the intermediate section, we'll cover even more ways to manipulate strings!"
      ]
    },
    {
      "cell_type": "markdown",
      "metadata": {
        "colab_type": "text",
        "id": "OlC0VlThvpuq"
      },
      "source": [
        "Congrats! You've now had a basic introduction to data types! You're doing awesome!\n",
        "\n",
        "[//]: # (You've found the hidden comment! The keyword is \"recursively enumerable\")"
      ]
    },
    {
      "cell_type": "markdown",
      "metadata": {
        "id": "UiYFV6nw6v0q",
        "colab_type": "text"
      },
      "source": [
        "#Comments"
      ]
    },
    {
      "cell_type": "markdown",
      "metadata": {
        "id": "sl_T6vya6Qyt",
        "colab_type": "text"
      },
      "source": [
        "Before we move on, we will quickly introduce comments. Sometimes, you may want to leave a note next to some code to help you remember something about the code, or to help others that are looking at your code understand what's going on. \n",
        "\n"
      ]
    },
    {
      "cell_type": "markdown",
      "metadata": {
        "id": "Yf3l8ap_60w-",
        "colab_type": "text"
      },
      "source": [
        "This is very easy to do! In python, you just put a `#` before your comment, and whatever comes after the `#` on the same line is ignored when the program is run. This helps a lot to document code. For example, in the code below, the lines  `#This is an example of printing a string` and `#This concatenates two strings` are ignored do not affect the output of the program at all, but they help to explain the code underneath. "
      ]
    },
    {
      "cell_type": "code",
      "metadata": {
        "id": "qgfWHj_d7khS",
        "colab_type": "code",
        "colab": {}
      },
      "source": [
        "#This is an example of printing a string\n",
        "print(\"hello world\")\n",
        "\n",
        "#This concatenates two strings\n",
        "school = \"Binghamton\" + \"University\""
      ],
      "execution_count": null,
      "outputs": []
    },
    {
      "cell_type": "markdown",
      "metadata": {
        "id": "OkI11SyO8nCb",
        "colab_type": "text"
      },
      "source": [
        "Comments can also be useful when you don't want certain code to run, but you don't want to delete it. You can just comment out code that you want to be ignored!"
      ]
    },
    {
      "cell_type": "code",
      "metadata": {
        "id": "jnbeRSr88085",
        "colab_type": "code",
        "colab": {}
      },
      "source": [
        "#print(\"this won't print because it's commented out\")\n",
        "#ignored = \"why am i being ignored :(\"\n",
        "print(\"hi\")\n",
        "print(ignored)  #This causes an error because \"ignored\" is only declared in a comment, so it doesn't exist in the program(comment it out to get rid of the error!)"
      ],
      "execution_count": null,
      "outputs": []
    },
    {
      "cell_type": "markdown",
      "metadata": {
        "id": "giYvXWEk_FaI",
        "colab_type": "text"
      },
      "source": [
        "#Counting in Programming"
      ]
    },
    {
      "cell_type": "markdown",
      "metadata": {
        "id": "20ro2NRn-QjJ",
        "colab_type": "text"
      },
      "source": [
        "Another quick thing to note is that in programming, zero matters! Counting starts at 0, not 1. So, if we have a list: <br> cat, dog, mouse, elephant, giraffe <br>\n",
        "we would say that 'cat' is at the 0th position, or index, and 'giraffe' is at the 4th position or index. \n",
        "\n",
        "So instead of counting 1,2,3,4,5,6,7,9,... start thinking to include 0 in the count and count as 0,1,2,3,4,5,6,7,8,9,..."
      ]
    },
    {
      "cell_type": "markdown",
      "metadata": {
        "colab_type": "text",
        "id": "GJVZsqoVvpur"
      },
      "source": [
        "## Next section (recommended): [Printing and Input](https://colab.research.google.com/github/HackBinghamton/PythonWorkshop/blob/master/Intro/Printing_and_Input.ipynb)"
      ]
    }
  ]
}
