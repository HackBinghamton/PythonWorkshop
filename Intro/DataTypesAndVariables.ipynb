{
 "cells": [
  {
   "cell_type": "markdown",
   "metadata": {},
   "source": [
    "# Basic Data Types\n",
    "We’ll start off with the three basic data types in Python — ints, floats, and strings."
   ]
  },
  {
   "cell_type": "markdown",
   "metadata": {},
   "source": [
    "## Ints\n",
    "An int (short for integer) is simply any whole number.\n",
    "\n",
    "**Examples**\n",
    "* 22\n",
    "* 0\n",
    "* -11"
   ]
  },
  {
   "cell_type": "markdown",
   "metadata": {},
   "source": [
    "## Floats\n",
    "A float (short for floating point number) is the decimal representation of a number.\n",
    "\n",
    "**Examples**\n",
    "* 0.7777\n",
    "* 2.0\n",
    "* -3.4342342"
   ]
  },
  {
   "cell_type": "markdown",
   "metadata": {},
   "source": [
    "Python can do many interesting things with ints and floats. Open up your terminal and type `python` (`python3` if using Mac OS X or Linux). From there, you will see your Python version number and you will be able to enter text. Let’s code!\n",
    "\n",
    "First, type in `11 + 7` and hit enter. You’ll see that the Python interpreter has replied with 18, which is the result of adding the two numbers together."
   ]
  },
  {
   "cell_type": "markdown",
   "metadata": {},
   "source": [
    "### Try out the following examples!\n",
    "1. What will happen if you do\n",
    "    1. `8 % 2`\n",
    "    2. `8 % 7`\n",
    "    3. `17 / 2`\n",
    "    4. `17 // 2`\n",
    "    5. `17 * 2`\n",
    "\n",
    "\n",
    "2. Replace the `?` with the relevant operator to make the equations correct\n",
    "    1. `9 ? 4 = 1`\n",
    "\n",
    "---\n",
    "#### Next Section (Recommended): Input"
   ]
  }
 ],
 "metadata": {
  "kernelspec": {
   "display_name": "Python 3",
   "language": "python",
   "name": "python3"
  },
  "language_info": {
   "codemirror_mode": {
    "name": "ipython",
    "version": 3
   },
   "file_extension": ".py",
   "mimetype": "text/x-python",
   "name": "python",
   "nbconvert_exporter": "python",
   "pygments_lexer": "ipython3",
   "version": "3.6.8"
  }
 },
 "nbformat": 4,
 "nbformat_minor": 2
}
