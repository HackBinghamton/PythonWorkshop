{
 "cells": [
  {
   "cell_type": "markdown",
   "metadata": {
    "colab_type": "text",
    "id": "_fa8hx_36f6L"
   },
   "source": [
    "# Functions\n",
    "In math if we have a function f(x)=x+4, then we compute f(2)=2+4=6. In other words, we have some input(2), and after doing some operations using that input,  we will produce an output(6). Similary, in Python, a function carries out a certain task. Often times the function takes some input to use to eventually produce an output or do something with the input. However, a function doesn't have to take input. There are certain functions that are included in Python such as print. You also have the ability to make your own function. The proper syntax to create a function is \"def\" followed by \"():\", and then the code you want the function to do will be indented.\n"
   ]
  },
  {
   "cell_type": "markdown",
   "metadata": {
    "colab_type": "text",
    "id": "0bjNApYG-4TO"
   },
   "source": [
    "The function f(x)=x+4 would look like this in code if we wanted to print the result. Note that the name \"adder\" could be anything you wanted it to be. "
   ]
  },
  {
   "cell_type": "code",
   "execution_count": 0,
   "metadata": {
    "colab": {},
    "colab_type": "code",
    "id": "_nXkEbpr-DAV"
   },
   "outputs": [],
   "source": [
    "def adder(x):\n",
    "  print(x+4)\n",
    "\n"
   ]
  },
  {
   "cell_type": "markdown",
   "metadata": {
    "colab_type": "text",
    "id": "pcylkC7__bnh"
   },
   "source": [
    "Below is an example of a function that doesn't take any input. The function just prints \"probably\" when it is called. "
   ]
  },
  {
   "cell_type": "code",
   "execution_count": 0,
   "metadata": {
    "colab": {},
    "colab_type": "code",
    "id": "dVebmA5a6f6O"
   },
   "outputs": [],
   "source": [
    "def isTwentySixTooManyCats():\n",
    "  print(\"probably\")"
   ]
  },
  {
   "cell_type": "markdown",
   "metadata": {
    "colab_type": "text",
    "id": "agZhaXC_6f6R"
   },
   "source": [
    "\n",
    "To use our function we just need to write it's name followed by parenthesis. This will print \"6\" and \"probably\""
   ]
  },
  {
   "cell_type": "code",
   "execution_count": 0,
   "metadata": {
    "colab": {},
    "colab_type": "code",
    "id": "q1tUK7uC6f6S"
   },
   "outputs": [],
   "source": [
    "adder(2)\n",
    "isTwentySixTooManyCats()"
   ]
  },
  {
   "cell_type": "markdown",
   "metadata": {
    "colab_type": "text",
    "id": "jsBmY64pKfeM"
   },
   "source": [
    "### Practice: Make the function below print \"Hack and Be You\", and then call the function"
   ]
  },
  {
   "cell_type": "code",
   "execution_count": 0,
   "metadata": {
    "colab": {},
    "colab_type": "code",
    "id": "S6XGousOKw3_"
   },
   "outputs": [],
   "source": [
    "def printMotto():"
   ]
  },
  {
   "cell_type": "markdown",
   "metadata": {
    "colab_type": "text",
    "id": "cYm4Bau_6f6V"
   },
   "source": [
    "### Return Statements\n",
    "We can also write functions that have a return statement. A return statement gives the possibility of using what the function outputs later in the program. When we set a variable equal to the call of a function, that variable will equal what the function returns. "
   ]
  },
  {
   "cell_type": "code",
   "execution_count": 0,
   "metadata": {
    "colab": {},
    "colab_type": "code",
    "id": "orE2qcVn6f6W"
   },
   "outputs": [],
   "source": [
    "def isTwentySevenTooManyCats():\n",
    "  return \"yes\"\n",
    "truth = isTwentySixTooManyCats()"
   ]
  },
  {
   "cell_type": "markdown",
   "metadata": {
    "colab_type": "text",
    "id": "YQUmyzyzB2Yc"
   },
   "source": [
    "By doing this, truth = \"yes\"(the return value of the function) This doesn't seem that useful here, but it is very useful when you want to use the return value later on. \n",
    "\n",
    "For example, in the \"adder\" function, if we wanted to use the result for some other computations later on, then the function would need to return the sum.\n"
   ]
  },
  {
   "cell_type": "code",
   "execution_count": 5,
   "metadata": {
    "colab": {
     "base_uri": "https://localhost:8080/",
     "height": 34
    },
    "colab_type": "code",
    "id": "GTZhHaPNFOXu",
    "outputId": "dd9fd030-6772-498a-abef-0ad59a7d9a3e"
   },
   "outputs": [
    {
     "name": "stdout",
     "output_type": "stream",
     "text": [
      "30\n"
     ]
    }
   ],
   "source": [
    "def adder(x):\n",
    "  return x+4\n",
    "\n",
    "result=adder(6)\n",
    "tripled=result*3\n",
    "print(tripled)\n"
   ]
  },
  {
   "cell_type": "markdown",
   "metadata": {
    "colab_type": "text",
    "id": "5PQfKstRFwMa"
   },
   "source": [
    "In this case, result = 10 and so tripled = 10*3 = 30. \n",
    "\n",
    "Above you can also see how to call a function that takes input. You just put the value to be used as input in parenthesis. This input is called a parameter. \n",
    "\n",
    "You can also pass in a parameter using a variable. The code below will print the same result as the code above.\n"
   ]
  },
  {
   "cell_type": "code",
   "execution_count": 0,
   "metadata": {
    "colab": {},
    "colab_type": "code",
    "id": "oqB8VolsIRSp"
   },
   "outputs": [],
   "source": [
    "def adder(x):\n",
    "  return x+4\n",
    "\n",
    "num=6\n",
    "result=adder(num)\n",
    "tripled=result*3\n",
    "print(tripled)"
   ]
  },
  {
   "cell_type": "markdown",
   "metadata": {
    "colab_type": "text",
    "id": "s6FPyRjSCakN"
   },
   "source": [
    "Changing our cat function from before, instead of automatically returning \"yes\", the number of cats you own can now be used as a parameter to determine if it's too many. Since the function returns \"yes\" for any number over 15, 26 is still too many cats."
   ]
  },
  {
   "cell_type": "code",
   "execution_count": 0,
   "metadata": {
    "colab": {},
    "colab_type": "code",
    "id": "zQGnJZlp6f6f"
   },
   "outputs": [],
   "source": [
    "def doIHaveTooManyCats(numCats):\n",
    "  if numCats <= 15:\n",
    "    return \"no\"\n",
    "  else:\n",
    "    return \"yes\"\n",
    "  \n",
    "print(doIHaveTooManyCats(3))\n",
    "print(doIHaveTooManyCats(65))\n",
    "\n",
    "myCats = 437\n",
    "\n",
    "print(doIHaveTooManyCats(myCats))"
   ]
  },
  {
   "cell_type": "markdown",
   "metadata": {
    "colab_type": "text",
    "id": "Qr1S3Sf_LZ3a"
   },
   "source": [
    "### Practice: Write a function amIBroke that takes a parameter of the amount of money in your bank account. If the amount is less than 20, return \"yes, I need a job.\" Otherwise, return \"no, I'm buying everyone Market Place next week\""
   ]
  },
  {
   "cell_type": "code",
   "execution_count": 0,
   "metadata": {
    "colab": {},
    "colab_type": "code",
    "id": "w_kbnrpjMIdL"
   },
   "outputs": [],
   "source": [
    "#Write function here"
   ]
  },
  {
   "cell_type": "markdown",
   "metadata": {
    "colab_type": "text",
    "id": "zRqM7jHc6f6l"
   },
   "source": [
    "Functions can also have more than one parameter."
   ]
  },
  {
   "cell_type": "code",
   "execution_count": 0,
   "metadata": {
    "colab": {},
    "colab_type": "code",
    "id": "jsE8D_Rg6f6m"
   },
   "outputs": [],
   "source": [
    "def doYouThinkIHaveTooManyCats(numCats, yourLimit):\n",
    "  if numCats <= yourLimit:\n",
    "    return \"no, less than \"+str(yourLimit)+\" is fine.\"\n",
    "  else:\n",
    "    return \"yes\"\n",
    "\n",
    "myCatsNow=2\n",
    "myFutureCats=900\n",
    "print(doYouThinkIHaveTooManyCats(myCatsNow, 5))\n",
    "print(doYouThinkIHaveTooManyCats(myFutureCats, 5))"
   ]
  },
  {
   "cell_type": "markdown",
   "metadata": {
    "colab_type": "text",
    "id": "XrXiCGs7Mo_0"
   },
   "source": [
    "### Practice: Write your own function that takes someone's name and the year they were born as parameters. Have the function print their name and age and return \"legal\" if they're currently above 21, otherwise return \"illegal\". Call the function and save the result in a variable named \"legalStatus\". Then, print the variable. "
   ]
  },
  {
   "cell_type": "code",
   "execution_count": null,
   "metadata": {},
   "outputs": [],
   "source": []
  },
  {
   "cell_type": "markdown",
   "metadata": {},
   "source": [
    "## Next section (recommended): [Imports](https://colab.research.google.com/github/HackBinghamton/PythonWorkshop/blob/master/Intro/Imports.ipynb)"
   ]
  }
 ],
 "metadata": {
  "colab": {
   "name": "Copy of Functions.ipynb",
   "provenance": [],
   "toc_visible": true,
   "version": "0.3.2"
  },
  "kernelspec": {
   "display_name": "Python 3",
   "language": "python",
   "name": "python3"
  },
  "language_info": {
   "codemirror_mode": {
    "name": "ipython",
    "version": 3
   },
   "file_extension": ".py",
   "mimetype": "text/x-python",
   "name": "python",
   "nbconvert_exporter": "python",
   "pygments_lexer": "ipython3",
   "version": "3.6.8"
  }
 },
 "nbformat": 4,
 "nbformat_minor": 1
}
